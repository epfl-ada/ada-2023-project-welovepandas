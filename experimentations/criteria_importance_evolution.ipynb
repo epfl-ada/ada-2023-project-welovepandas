{
 "cells": [
  {
   "cell_type": "code",
   "execution_count": 1,
   "metadata": {},
   "outputs": [],
   "source": [
    "import matplotlib.pyplot as plt\n",
    "import numpy as np\n",
    "import re\n",
    "import wordcloud\n",
    "import spacy\n",
    "nlp = spacy.load('en_core_web_sm')\n",
    "import pandas as pd\n",
    "import datetime\n",
    "from tqdm import tqdm\n",
    "\n",
    "from load_reviews import load_reviews"
   ]
  },
  {
   "cell_type": "code",
   "execution_count": 2,
   "metadata": {},
   "outputs": [],
   "source": [
    "def map_range(x, x1, x2, y1, y2):\n",
    "    return y1 + (x - x1) * (y2 - y1) / (x2 - x1)"
   ]
  },
  {
   "cell_type": "code",
   "execution_count": 3,
   "metadata": {},
   "outputs": [
    {
     "name": "stdout",
     "output_type": "stream",
     "text": [
      "Loading reviews from ../dataset/BeerAdvocate/reviews.txt\n",
      "Number of lines: None\n"
     ]
    },
    {
     "name": "stderr",
     "output_type": "stream",
     "text": [
      "1699998it [00:01, 1146362.89it/s]\n"
     ]
    },
    {
     "name": "stdout",
     "output_type": "stream",
     "text": [
      "Loading reviews from ../dataset/RateBeer/ratings.txt\n",
      "Number of lines: None\n"
     ]
    },
    {
     "name": "stderr",
     "output_type": "stream",
     "text": [
      "1699998it [00:01, 1184050.13it/s]\n"
     ]
    }
   ],
   "source": [
    "reviews_ba = load_reviews(\"../dataset/BeerAdvocate/reviews.txt\", max_entries=100000).dropna()\n",
    "reviews_rb = load_reviews(\"../dataset/RateBeer/ratings.txt\", max_entries=100000).dropna()\n",
    "\n",
    "reviews_rb['overall'] = reviews_rb['overall'] / 4\n",
    "reviews_rb['appearance'] = map_range(reviews_rb['appearance'].values, reviews_rb['appearance'].min(), reviews_rb['appearance'].max(), 0, 5)\n",
    "reviews_rb['aroma'] = map_range(reviews_rb['aroma'].values, reviews_rb['aroma'].min(), reviews_rb['aroma'].max(), 0, 5)\n",
    "reviews_rb['palate'] = map_range(reviews_rb['palate'].values, reviews_rb['palate'].min(), reviews_rb['palate'].max(), 0, 5)\n",
    "reviews_rb['taste'] = map_range(reviews_rb['taste'].values, reviews_rb['taste'].min(), reviews_rb['taste'].max(), 0, 5)\n",
    "\n",
    "# reviews = pd.concat([reviews_ba, reviews_rb], ignore_index=True)\n",
    "reviews = reviews_ba\n",
    "reviews = reviews.dropna()"
   ]
  },
  {
   "cell_type": "code",
   "execution_count": 4,
   "metadata": {},
   "outputs": [
    {
     "data": {
      "text/html": [
       "<div>\n",
       "<style scoped>\n",
       "    .dataframe tbody tr th:only-of-type {\n",
       "        vertical-align: middle;\n",
       "    }\n",
       "\n",
       "    .dataframe tbody tr th {\n",
       "        vertical-align: top;\n",
       "    }\n",
       "\n",
       "    .dataframe thead th {\n",
       "        text-align: right;\n",
       "    }\n",
       "</style>\n",
       "<table border=\"1\" class=\"dataframe\">\n",
       "  <thead>\n",
       "    <tr style=\"text-align: right;\">\n",
       "      <th></th>\n",
       "      <th>beer_id</th>\n",
       "      <th>user_id</th>\n",
       "      <th>date</th>\n",
       "      <th>appearance</th>\n",
       "      <th>abv</th>\n",
       "      <th>aroma</th>\n",
       "      <th>palate</th>\n",
       "      <th>taste</th>\n",
       "      <th>overall</th>\n",
       "      <th>rating</th>\n",
       "      <th>text</th>\n",
       "    </tr>\n",
       "  </thead>\n",
       "  <tbody>\n",
       "    <tr>\n",
       "      <th>26684</th>\n",
       "      <td>305</td>\n",
       "      <td>beeradvocate.1</td>\n",
       "      <td>8.880588e+08</td>\n",
       "      <td>4.0</td>\n",
       "      <td>4.5</td>\n",
       "      <td>4.00</td>\n",
       "      <td>3.50</td>\n",
       "      <td>4.00</td>\n",
       "      <td>4.00</td>\n",
       "      <td>3.95</td>\n",
       "      <td>Presentation: 12oz. clear bottle (wide w/thin ...</td>\n",
       "    </tr>\n",
       "    <tr>\n",
       "      <th>68137</th>\n",
       "      <td>19</td>\n",
       "      <td>todd.2</td>\n",
       "      <td>8.889228e+08</td>\n",
       "      <td>5.0</td>\n",
       "      <td>4.9</td>\n",
       "      <td>4.50</td>\n",
       "      <td>5.00</td>\n",
       "      <td>4.50</td>\n",
       "      <td>4.00</td>\n",
       "      <td>4.48</td>\n",
       "      <td>Presentation: Highly prestigious looking label...</td>\n",
       "    </tr>\n",
       "    <tr>\n",
       "      <th>16497</th>\n",
       "      <td>79</td>\n",
       "      <td>beeradvocate.1</td>\n",
       "      <td>8.907372e+08</td>\n",
       "      <td>4.0</td>\n",
       "      <td>6.5</td>\n",
       "      <td>4.00</td>\n",
       "      <td>4.50</td>\n",
       "      <td>4.50</td>\n",
       "      <td>4.50</td>\n",
       "      <td>4.35</td>\n",
       "      <td>Presentation: Impressive wide 500ml brown bott...</td>\n",
       "    </tr>\n",
       "    <tr>\n",
       "      <th>26475</th>\n",
       "      <td>304</td>\n",
       "      <td>beeradvocate.1</td>\n",
       "      <td>8.921160e+08</td>\n",
       "      <td>4.5</td>\n",
       "      <td>4.8</td>\n",
       "      <td>4.00</td>\n",
       "      <td>4.00</td>\n",
       "      <td>4.00</td>\n",
       "      <td>4.00</td>\n",
       "      <td>4.03</td>\n",
       "      <td>Presentation: 12oz. clear bottle (wide w/thin ...</td>\n",
       "    </tr>\n",
       "    <tr>\n",
       "      <th>26396</th>\n",
       "      <td>302</td>\n",
       "      <td>beeradvocate.1</td>\n",
       "      <td>8.933256e+08</td>\n",
       "      <td>3.5</td>\n",
       "      <td>4.5</td>\n",
       "      <td>3.50</td>\n",
       "      <td>3.00</td>\n",
       "      <td>4.00</td>\n",
       "      <td>3.50</td>\n",
       "      <td>3.65</td>\n",
       "      <td>Presentation: 12oz. clear bottle (wide w/thin ...</td>\n",
       "    </tr>\n",
       "    <tr>\n",
       "      <th>...</th>\n",
       "      <td>...</td>\n",
       "      <td>...</td>\n",
       "      <td>...</td>\n",
       "      <td>...</td>\n",
       "      <td>...</td>\n",
       "      <td>...</td>\n",
       "      <td>...</td>\n",
       "      <td>...</td>\n",
       "      <td>...</td>\n",
       "      <td>...</td>\n",
       "      <td>...</td>\n",
       "    </tr>\n",
       "    <tr>\n",
       "      <th>82020</th>\n",
       "      <td>108464</td>\n",
       "      <td>vinicole.65585</td>\n",
       "      <td>1.500890e+09</td>\n",
       "      <td>4.0</td>\n",
       "      <td>3.6</td>\n",
       "      <td>4.00</td>\n",
       "      <td>3.25</td>\n",
       "      <td>3.75</td>\n",
       "      <td>3.75</td>\n",
       "      <td>3.78</td>\n",
       "      <td>Gravity - Brackley Beer Festival 2017.Labelled...</td>\n",
       "    </tr>\n",
       "    <tr>\n",
       "      <th>2614</th>\n",
       "      <td>47581</td>\n",
       "      <td>the_kriek_freak.848244</td>\n",
       "      <td>1.500890e+09</td>\n",
       "      <td>4.0</td>\n",
       "      <td>8.0</td>\n",
       "      <td>4.25</td>\n",
       "      <td>4.50</td>\n",
       "      <td>4.75</td>\n",
       "      <td>4.50</td>\n",
       "      <td>4.51</td>\n",
       "      <td>This is one insanely tasty beer. It pours jet ...</td>\n",
       "    </tr>\n",
       "    <tr>\n",
       "      <th>80382</th>\n",
       "      <td>811</td>\n",
       "      <td>emh73.1043324</td>\n",
       "      <td>1.500890e+09</td>\n",
       "      <td>4.0</td>\n",
       "      <td>5.1</td>\n",
       "      <td>3.25</td>\n",
       "      <td>3.00</td>\n",
       "      <td>3.50</td>\n",
       "      <td>3.25</td>\n",
       "      <td>3.37</td>\n",
       "      <td>Pours a clear Amber with a one inch white head...</td>\n",
       "    </tr>\n",
       "    <tr>\n",
       "      <th>44673</th>\n",
       "      <td>218932</td>\n",
       "      <td>jazzyjeff13.522501</td>\n",
       "      <td>1.500890e+09</td>\n",
       "      <td>3.5</td>\n",
       "      <td>6.2</td>\n",
       "      <td>3.50</td>\n",
       "      <td>3.50</td>\n",
       "      <td>3.50</td>\n",
       "      <td>3.25</td>\n",
       "      <td>3.45</td>\n",
       "      <td>A 330ml bottle with a BB of Nov 2017. Purchase...</td>\n",
       "    </tr>\n",
       "    <tr>\n",
       "      <th>39948</th>\n",
       "      <td>47486</td>\n",
       "      <td>nerofiddled.526</td>\n",
       "      <td>1.500977e+09</td>\n",
       "      <td>4.0</td>\n",
       "      <td>5.1</td>\n",
       "      <td>4.25</td>\n",
       "      <td>4.00</td>\n",
       "      <td>4.25</td>\n",
       "      <td>4.50</td>\n",
       "      <td>4.26</td>\n",
       "      <td>Samuel Smith's Brewery &amp;quot;Samuel Smith's Or...</td>\n",
       "    </tr>\n",
       "  </tbody>\n",
       "</table>\n",
       "<p>98569 rows × 11 columns</p>\n",
       "</div>"
      ],
      "text/plain": [
       "       beer_id                 user_id          date  appearance  abv  aroma  \\\n",
       "26684      305          beeradvocate.1  8.880588e+08         4.0  4.5   4.00   \n",
       "68137       19                  todd.2  8.889228e+08         5.0  4.9   4.50   \n",
       "16497       79          beeradvocate.1  8.907372e+08         4.0  6.5   4.00   \n",
       "26475      304          beeradvocate.1  8.921160e+08         4.5  4.8   4.00   \n",
       "26396      302          beeradvocate.1  8.933256e+08         3.5  4.5   3.50   \n",
       "...        ...                     ...           ...         ...  ...    ...   \n",
       "82020   108464          vinicole.65585  1.500890e+09         4.0  3.6   4.00   \n",
       "2614     47581  the_kriek_freak.848244  1.500890e+09         4.0  8.0   4.25   \n",
       "80382      811           emh73.1043324  1.500890e+09         4.0  5.1   3.25   \n",
       "44673   218932      jazzyjeff13.522501  1.500890e+09         3.5  6.2   3.50   \n",
       "39948    47486         nerofiddled.526  1.500977e+09         4.0  5.1   4.25   \n",
       "\n",
       "       palate  taste  overall  rating  \\\n",
       "26684    3.50   4.00     4.00    3.95   \n",
       "68137    5.00   4.50     4.00    4.48   \n",
       "16497    4.50   4.50     4.50    4.35   \n",
       "26475    4.00   4.00     4.00    4.03   \n",
       "26396    3.00   4.00     3.50    3.65   \n",
       "...       ...    ...      ...     ...   \n",
       "82020    3.25   3.75     3.75    3.78   \n",
       "2614     4.50   4.75     4.50    4.51   \n",
       "80382    3.00   3.50     3.25    3.37   \n",
       "44673    3.50   3.50     3.25    3.45   \n",
       "39948    4.00   4.25     4.50    4.26   \n",
       "\n",
       "                                                    text  \n",
       "26684  Presentation: 12oz. clear bottle (wide w/thin ...  \n",
       "68137  Presentation: Highly prestigious looking label...  \n",
       "16497  Presentation: Impressive wide 500ml brown bott...  \n",
       "26475  Presentation: 12oz. clear bottle (wide w/thin ...  \n",
       "26396  Presentation: 12oz. clear bottle (wide w/thin ...  \n",
       "...                                                  ...  \n",
       "82020  Gravity - Brackley Beer Festival 2017.Labelled...  \n",
       "2614   This is one insanely tasty beer. It pours jet ...  \n",
       "80382  Pours a clear Amber with a one inch white head...  \n",
       "44673  A 330ml bottle with a BB of Nov 2017. Purchase...  \n",
       "39948  Samuel Smith's Brewery &quot;Samuel Smith's Or...  \n",
       "\n",
       "[98569 rows x 11 columns]"
      ]
     },
     "execution_count": 4,
     "metadata": {},
     "output_type": "execute_result"
    }
   ],
   "source": [
    "reviews"
   ]
  },
  {
   "cell_type": "code",
   "execution_count": 11,
   "metadata": {},
   "outputs": [
    {
     "data": {
      "text/plain": [
       "<matplotlib.collections.PathCollection at 0x1699adc4410>"
      ]
     },
     "execution_count": 11,
     "metadata": {},
     "output_type": "execute_result"
    },
    {
     "data": {
      "image/png": "[encoded data removed]",
      "text/plain": [
       "<Figure size 640x480 with 1 Axes>"
      ]
     },
     "metadata": {},
     "output_type": "display_data"
    }
   ],
   "source": [
    "plt.hist2d(reviews['abv'].values, reviews['overall'].values, bins=np.linspace(0, 5, 21), cmap='turbo')\n",
    "plt.scatter(reviews['abv'].values, reviews['overall'].values, s=50, alpha=0.01, c='black')"
   ]
  },
  {
   "cell_type": "code",
   "execution_count": 8,
   "metadata": {},
   "outputs": [
    {
     "data": {
      "text/plain": [
       "0.01"
      ]
     },
     "execution_count": 8,
     "metadata": {},
     "output_type": "execute_result"
    }
   ],
   "source": [
    "reviews[\"abv\"].min()"
   ]
  },
  {
   "cell_type": "code",
   "execution_count": null,
   "metadata": {},
   "outputs": [],
   "source": []
  }
 ],
 "metadata": {
  "kernelspec": {
   "display_name": "Python 3",
   "language": "python",
   "name": "python3"
  },
  "language_info": {
   "codemirror_mode": {
    "name": "ipython",
    "version": 3
   },
   "file_extension": ".py",
   "mimetype": "text/x-python",
   "name": "python",
   "nbconvert_exporter": "python",
   "pygments_lexer": "ipython3",
   "version": "3.11.6"
  }
 },
 "nbformat": 4,
 "nbformat_minor": 2
}
