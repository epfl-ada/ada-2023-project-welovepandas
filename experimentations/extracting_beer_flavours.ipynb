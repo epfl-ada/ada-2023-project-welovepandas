{
 "cells": [
  {
   "cell_type": "code",
   "execution_count": 1,
   "metadata": {},
   "outputs": [],
   "source": [
    "import spacy\n",
    "nlp = spacy.load(\"en_core_web_sm\")\n",
    "\n",
    "from load_reviews import load_reviews"
   ]
  },
  {
   "cell_type": "code",
   "execution_count": 2,
   "metadata": {},
   "outputs": [
    {
     "name": "stdout",
     "output_type": "stream",
     "text": [
      "Loading reviews from ../dataset/RateBeer/reviews.txt\n",
      "Number of lines: 121075258\n"
     ]
    },
    {
     "name": "stderr",
     "output_type": "stream",
     "text": [
      "  0%|          | 1698/121075258 [00:00<10:59, 183521.74it/s]\n"
     ]
    }
   ],
   "source": [
    "reviews = load_reviews(path='../dataset/RateBeer/reviews.txt', max_entries=100)"
   ]
  },
  {
   "cell_type": "code",
   "execution_count": 9,
   "metadata": {},
   "outputs": [
    {
     "data": {
      "text/html": [
       "<div>\n",
       "<style scoped>\n",
       "    .dataframe tbody tr th:only-of-type {\n",
       "        vertical-align: middle;\n",
       "    }\n",
       "\n",
       "    .dataframe tbody tr th {\n",
       "        vertical-align: top;\n",
       "    }\n",
       "\n",
       "    .dataframe thead th {\n",
       "        text-align: right;\n",
       "    }\n",
       "</style>\n",
       "<table border=\"1\" class=\"dataframe\">\n",
       "  <thead>\n",
       "    <tr style=\"text-align: right;\">\n",
       "      <th></th>\n",
       "      <th>beer_id</th>\n",
       "      <th>user_id</th>\n",
       "      <th>date</th>\n",
       "      <th>overall</th>\n",
       "      <th>rating</th>\n",
       "      <th>text</th>\n",
       "    </tr>\n",
       "  </thead>\n",
       "  <tbody>\n",
       "    <tr>\n",
       "      <th>37</th>\n",
       "      <td>19445</td>\n",
       "      <td>3806</td>\n",
       "      <td>1.088158e+09</td>\n",
       "      <td>3.0</td>\n",
       "      <td>1.1</td>\n",
       "      <td>Yellow body with a densely formed head, dissip...</td>\n",
       "    </tr>\n",
       "    <tr>\n",
       "      <th>36</th>\n",
       "      <td>19445</td>\n",
       "      <td>69327</td>\n",
       "      <td>1.202468e+09</td>\n",
       "      <td>20.0</td>\n",
       "      <td>4.8</td>\n",
       "      <td>I nreally think that people that put comments ...</td>\n",
       "    </tr>\n",
       "    <tr>\n",
       "      <th>34</th>\n",
       "      <td>19445</td>\n",
       "      <td>6974</td>\n",
       "      <td>1.203851e+09</td>\n",
       "      <td>5.0</td>\n",
       "      <td>1.3</td>\n",
       "      <td>Bottled, courtesy of omhper. Pale golden with ...</td>\n",
       "    </tr>\n",
       "    <tr>\n",
       "      <th>33</th>\n",
       "      <td>19445</td>\n",
       "      <td>19328</td>\n",
       "      <td>1.204024e+09</td>\n",
       "      <td>5.0</td>\n",
       "      <td>1.5</td>\n",
       "      <td>Bottled (thanks omhper!). Yellowish golden col...</td>\n",
       "    </tr>\n",
       "    <tr>\n",
       "      <th>32</th>\n",
       "      <td>19445</td>\n",
       "      <td>6517</td>\n",
       "      <td>1.204196e+09</td>\n",
       "      <td>6.0</td>\n",
       "      <td>1.4</td>\n",
       "      <td>Bottled. Thx omhper! Pale golden colour with l...</td>\n",
       "    </tr>\n",
       "    <tr>\n",
       "      <th>...</th>\n",
       "      <td>...</td>\n",
       "      <td>...</td>\n",
       "      <td>...</td>\n",
       "      <td>...</td>\n",
       "      <td>...</td>\n",
       "      <td>...</td>\n",
       "    </tr>\n",
       "    <tr>\n",
       "      <th>85</th>\n",
       "      <td>526629</td>\n",
       "      <td>178977</td>\n",
       "      <td>1.498558e+09</td>\n",
       "      <td>13.0</td>\n",
       "      <td>3.1</td>\n",
       "      <td>Keg at ushers. Pours golden orange, nose is bi...</td>\n",
       "    </tr>\n",
       "    <tr>\n",
       "      <th>68</th>\n",
       "      <td>526627</td>\n",
       "      <td>178977</td>\n",
       "      <td>1.498558e+09</td>\n",
       "      <td>15.0</td>\n",
       "      <td>3.7</td>\n",
       "      <td>Keg at ushers. Pours golden amber, nose is gra...</td>\n",
       "    </tr>\n",
       "    <tr>\n",
       "      <th>84</th>\n",
       "      <td>526629</td>\n",
       "      <td>36509</td>\n",
       "      <td>1.499162e+09</td>\n",
       "      <td>12.0</td>\n",
       "      <td>3.0</td>\n",
       "      <td>3Keg at the ushers ...Golden yellow.. Thin whi...</td>\n",
       "    </tr>\n",
       "    <tr>\n",
       "      <th>86</th>\n",
       "      <td>526630</td>\n",
       "      <td>36509</td>\n",
       "      <td>1.500026e+09</td>\n",
       "      <td>14.0</td>\n",
       "      <td>3.3</td>\n",
       "      <td>Keg at ushers... Hazy amber... Thin white laci...</td>\n",
       "    </tr>\n",
       "    <tr>\n",
       "      <th>64</th>\n",
       "      <td>532818</td>\n",
       "      <td>178977</td>\n",
       "      <td>1.500113e+09</td>\n",
       "      <td>15.0</td>\n",
       "      <td>3.7</td>\n",
       "      <td>Bottle at home. Pours deep orange, nose is ras...</td>\n",
       "    </tr>\n",
       "  </tbody>\n",
       "</table>\n",
       "<p>100 rows × 6 columns</p>\n",
       "</div>"
      ],
      "text/plain": [
       "    beer_id user_id          date  overall  rating  \\\n",
       "37    19445    3806  1.088158e+09      3.0     1.1   \n",
       "36    19445   69327  1.202468e+09     20.0     4.8   \n",
       "34    19445    6974  1.203851e+09      5.0     1.3   \n",
       "33    19445   19328  1.204024e+09      5.0     1.5   \n",
       "32    19445    6517  1.204196e+09      6.0     1.4   \n",
       "..      ...     ...           ...      ...     ...   \n",
       "85   526629  178977  1.498558e+09     13.0     3.1   \n",
       "68   526627  178977  1.498558e+09     15.0     3.7   \n",
       "84   526629   36509  1.499162e+09     12.0     3.0   \n",
       "86   526630   36509  1.500026e+09     14.0     3.3   \n",
       "64   532818  178977  1.500113e+09     15.0     3.7   \n",
       "\n",
       "                                                 text  \n",
       "37  Yellow body with a densely formed head, dissip...  \n",
       "36  I nreally think that people that put comments ...  \n",
       "34  Bottled, courtesy of omhper. Pale golden with ...  \n",
       "33  Bottled (thanks omhper!). Yellowish golden col...  \n",
       "32  Bottled. Thx omhper! Pale golden colour with l...  \n",
       "..                                                ...  \n",
       "85  Keg at ushers. Pours golden orange, nose is bi...  \n",
       "68  Keg at ushers. Pours golden amber, nose is gra...  \n",
       "84  3Keg at the ushers ...Golden yellow.. Thin whi...  \n",
       "86  Keg at ushers... Hazy amber... Thin white laci...  \n",
       "64  Bottle at home. Pours deep orange, nose is ras...  \n",
       "\n",
       "[100 rows x 6 columns]"
      ]
     },
     "metadata": {},
     "output_type": "display_data"
    }
   ],
   "source": [
    "display(reviews)"
   ]
  },
  {
   "cell_type": "code",
   "execution_count": 16,
   "metadata": {},
   "outputs": [
    {
     "data": {
      "text/plain": [
       "'Bottle at Craigs. Pours hazy pale yellow with no head. Aromas of salty citrus, lemon. Taste is salty, big lemon, thin finish.'"
      ]
     },
     "execution_count": 16,
     "metadata": {},
     "output_type": "execute_result"
    }
   ],
   "source": [
    "reviews[\"text\"][99]"
   ]
  },
  {
   "cell_type": "code",
   "execution_count": 8,
   "metadata": {},
   "outputs": [
    {
     "name": "stdout",
     "output_type": "stream",
     "text": [
      "Predicted Sentiment: negative\n"
     ]
    }
   ],
   "source": [
    "import spacy\n",
    "from sklearn.svm import LinearSVC\n",
    "from sklearn.feature_extraction.text import TfidfVectorizer\n",
    "\n",
    "# Load the spaCy model\n",
    "nlp = spacy.load(\"en_core_web_sm\")\n",
    "\n",
    "# Example text\n",
    "text = \"Bottle at Craigs. Pours hazy pale yellow with no head. Aromas of salty citrus, lemon. Taste is salty, big lemon, thin finish.\"\n",
    "\n",
    "# Preprocess the text using spaCy\n",
    "doc = nlp(text)\n",
    "\n",
    "# Perform sentiment analysis using a simple classifier\n",
    "# Training data - you would typically have a labeled dataset for training\n",
    "train_texts = reviews[\"text\"][98]\n",
    "train_labels = [\"positive\", \"negative\"]\n",
    "\n",
    "# Vectorize the text\n",
    "vectorizer = TfidfVectorizer()\n",
    "X_train = vectorizer.fit_transform(train_texts)\n",
    "\n",
    "# Train a simple linear support vector machine (SVM) classifier\n",
    "classifier = LinearSVC()\n",
    "classifier.fit(X_train, train_labels)\n",
    "\n",
    "# Vectorize the example text\n",
    "X_text = vectorizer.transform([text])\n",
    "\n",
    "# Predict the sentiment\n",
    "predicted_label = classifier.predict(X_text)\n",
    "\n",
    "# Print the result\n",
    "print(\"Predicted Sentiment:\", predicted_label[0])\n"
   ]
  },
  {
   "cell_type": "code",
   "execution_count": null,
   "metadata": {},
   "outputs": [],
   "source": []
  }
 ],
 "metadata": {
  "kernelspec": {
   "display_name": "base",
   "language": "python",
   "name": "python3"
  },
  "language_info": {
   "codemirror_mode": {
    "name": "ipython",
    "version": 3
   },
   "file_extension": ".py",
   "mimetype": "text/x-python",
   "name": "python",
   "nbconvert_exporter": "python",
   "pygments_lexer": "ipython3",
   "version": "3.9.13"
  }
 },
 "nbformat": 4,
 "nbformat_minor": 2
}
