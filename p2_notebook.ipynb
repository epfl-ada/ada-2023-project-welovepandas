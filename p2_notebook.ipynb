{
 "cells": [
  {
   "cell_type": "markdown",
   "source": [
    "# Project Milestone 2 Notebook\n",
    "## Evolution of beer preferences between 2001 and 2017.\n",
    "## Have beer style preferences evolved similarly across different cultures and countries?\n",
    "### Sub Questions:\n",
    "- Have Americans faced the same preference evolution as Europeans?\n",
    "- How have sensory attributes (appearance, aroma, palate) of beers influenced user ratings and preferences over time?\n",
    "- Can we see an evolution linked to the ABV?\n",
    "- What are the major trends in beer preferences over the last 17 years?"
   ],
   "metadata": {
    "collapsed": false
   },
   "id": "c633bbc9eed26334"
  },
  {
   "cell_type": "markdown",
   "source": [
    "## 0. Imports and global variables"
   ],
   "metadata": {
    "collapsed": false
   },
   "id": "1aaaef728f5cbc61"
  },
  {
   "cell_type": "code",
   "execution_count": 1,
   "outputs": [],
   "source": [
    "from load_data import load_data"
   ],
   "metadata": {
    "collapsed": false,
    "ExecuteTime": {
     "end_time": "2023-11-14T18:34:29.415303800Z",
     "start_time": "2023-11-14T18:34:28.562018700Z"
    }
   },
   "id": "fd335edd10b294d1"
  },
  {
   "cell_type": "markdown",
   "source": [
    "## 2. How have sensory attributes (appearance, aroma, palate) of beers influenced user ratings and preferences over time?\n",
    "Load the relevant data:"
   ],
   "metadata": {
    "collapsed": false
   },
   "id": "a43918bb26080d85"
  },
  {
   "cell_type": "markdown",
   "source": [],
   "metadata": {
    "collapsed": false
   },
   "id": "76e48537037eb611"
  },
  {
   "cell_type": "code",
   "execution_count": 2,
   "outputs": [
    {
     "name": "stdout",
     "output_type": "stream",
     "text": [
      "Loading data from:  ../data/RateBeer/ratings.txt.gz\n"
     ]
    },
    {
     "name": "stderr",
     "output_type": "stream",
     "text": [
      "121075258it [02:11, 921366.38it/s]\n"
     ]
    },
    {
     "name": "stdout",
     "output_type": "stream",
     "text": [
      "        user_id beer_id        date appearance aroma palate taste overall  \\\n",
      "0        175852  410549  1461664800          2     4      2     4       8   \n",
      "1        442761  105273  1487329200          2     3      2     4       8   \n",
      "2        288889  105273  1466762400          3     3      2     3       5   \n",
      "3        250510  105273  1451646000          4     3      1     2       5   \n",
      "4        122778  105273  1445594400          2     4      2     4       7   \n",
      "...         ...     ...         ...        ...   ...    ...   ...     ...   \n",
      "7122069   83882  220897  1411034400          3     6      2     5      10   \n",
      "7122070   10233  220897  1385895600          2     5      2     6      10   \n",
      "7122071  257161  220898  1415098800          3     4      2     5       9   \n",
      "7122072   83882  220898  1410861600          3     5      1     4       6   \n",
      "7122073   10233  220898  1385895600          4     4      2     4       8   \n",
      "\n",
      "        rating  \n",
      "0         2.00  \n",
      "1         1.90  \n",
      "2         1.60  \n",
      "3         1.50  \n",
      "4         1.90  \n",
      "...        ...  \n",
      "7122069   2.60  \n",
      "7122070   2.50  \n",
      "7122071   2.30  \n",
      "7122072   1.90  \n",
      "7122073   2.20  \n",
      "\n",
      "[7122074 rows x 9 columns]\n"
     ]
    }
   ],
   "source": [
    "df = load_data(\"./data/RateBeer/ratings.txt.gz\", [\"user_id\", \"beer_id\", \"date\", \"appearance\", \"aroma\", \"palate\", \"taste\", \"overall\", \"rating\"])"
   ],
   "metadata": {
    "collapsed": false,
    "ExecuteTime": {
     "end_time": "2023-11-14T18:36:47.362874800Z",
     "start_time": "2023-11-14T18:34:29.418703300Z"
    }
   },
   "id": "ffd4e556623d1ca1"
  },
  {
   "cell_type": "code",
   "execution_count": 3,
   "outputs": [
    {
     "name": "stdout",
     "output_type": "stream",
     "text": [
      "  user_id beer_id        date appearance aroma palate taste overall rating\n",
      "0  175852  410549  1461664800          2     4      2     4       8   2.00\n",
      "1  442761  105273  1487329200          2     3      2     4       8   1.90\n",
      "2  288889  105273  1466762400          3     3      2     3       5   1.60\n",
      "3  250510  105273  1451646000          4     3      1     2       5   1.50\n",
      "4  122778  105273  1445594400          2     4      2     4       7   1.90\n"
     ]
    }
   ],
   "source": [
    "print(df.head())"
   ],
   "metadata": {
    "collapsed": false,
    "ExecuteTime": {
     "end_time": "2023-11-14T18:36:47.376975200Z",
     "start_time": "2023-11-14T18:36:47.360718700Z"
    }
   },
   "id": "d5f332eb9bdf0eb6"
  },
  {
   "cell_type": "code",
   "execution_count": 3,
   "outputs": [],
   "source": [],
   "metadata": {
    "collapsed": false,
    "ExecuteTime": {
     "end_time": "2023-11-14T18:36:47.413372800Z",
     "start_time": "2023-11-14T18:36:47.376975200Z"
    }
   },
   "id": "40b0e82c19ce70ae"
  }
 ],
 "metadata": {
  "kernelspec": {
   "display_name": "Python 3",
   "language": "python",
   "name": "python3"
  },
  "language_info": {
   "codemirror_mode": {
    "name": "ipython",
    "version": 2
   },
   "file_extension": ".py",
   "mimetype": "text/x-python",
   "name": "python",
   "nbconvert_exporter": "python",
   "pygments_lexer": "ipython2",
   "version": "2.7.6"
  }
 },
 "nbformat": 4,
 "nbformat_minor": 5
}
