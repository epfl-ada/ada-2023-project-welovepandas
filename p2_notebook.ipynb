{
 "cells": [
  {
   "cell_type": "markdown",
   "source": [
    "# Project Milestone 2 Notebook\n",
    "## Do Americans prefer beers with a higher alcohol content (ABV) than Europeans?\n",
    "- Is it linked to the beer style? Do they generally prefer beer styles that have a higher ABV? (Grouping + micro/macro averages)\n",
    "- Has it evolved between 2000 and 2017? (Time series analysis + maybe regression)\n",
    "- Can we map American States to European countries? (Graph/network algorithms)"
   ],
   "metadata": {
    "collapsed": false
   },
   "id": "c633bbc9eed26334"
  },
  {
   "cell_type": "markdown",
   "source": [
    "## 0. Imports and global variables"
   ],
   "metadata": {
    "collapsed": false
   },
   "id": "1aaaef728f5cbc61"
  },
  {
   "cell_type": "code",
   "execution_count": 283,
   "outputs": [],
   "source": [
    "import pandas as pd\n",
    "import matplotlib.pyplot as plt\n",
    "import seaborn as sns\n",
    "from load_data import load_gzip_txt_data"
   ],
   "metadata": {
    "collapsed": false,
    "ExecuteTime": {
     "end_time": "2023-11-16T02:44:57.062552300Z",
     "start_time": "2023-11-16T02:44:56.985737200Z"
    }
   },
   "id": "fd335edd10b294d1"
  },
  {
   "cell_type": "markdown",
   "source": [
    "## 1. Preprocessing of the data:"
   ],
   "metadata": {
    "collapsed": false
   },
   "id": "8077249376adfff"
  },
  {
   "cell_type": "markdown",
   "source": [
    "#### 1.0 Split users between North America and Europe:"
   ],
   "metadata": {
    "collapsed": false
   },
   "id": "64fd786cec3ccf58"
  },
  {
   "cell_type": "markdown",
   "source": [
    "Define European countries:"
   ],
   "metadata": {
    "collapsed": false
   },
   "id": "d3fe742c3bc98da3"
  },
  {
   "cell_type": "code",
   "execution_count": 284,
   "outputs": [],
   "source": [
    "european_countries = [\n",
    "    \"Albania\", \"Andorra\", \"Armenia\", \"Austria\", \"Azerbaijan\", \"Belarus\",\n",
    "    \"Belgium\", \"Bosnia and Herzegovina\", \"Bulgaria\", \"Croatia\", \"Cyprus\",\n",
    "    \"Czech Republic\", \"Denmark\", \"England\", \"Estonia\", \"Finland\", \"France\", \"Georgia\",\n",
    "    \"Germany\", \"Gibraltar\", \"Greece\", \"Hungary\", \"Iceland\", \"Ireland\", \"Italy\", \"Jersey\", \"Kazakhstan\",\n",
    "    \"Kosovo\", \"Latvia\", \"Liechtenstein\", \"Lithuania\", \"Luxembourg\", \"Malta\",\n",
    "    \"Moldova\", \"Monaco\", \"Montenegro\", \"Netherlands\", \"Northern Ireland\", \"Macedonia\",\n",
    "    \"Norway\", \"Poland\", \"Portugal\", \"Romania\", \"Russia\", \"San Marino\", \"Scotland\", \"Serbia\",\n",
    "    \"Slovakia\", \"Slovak Republic\", \"Slovenia\", \"Spain\", \"Sweden\", \"Switzerland\", \"Turkey\",\n",
    "    \"Ukraine\", \"Vatican City\", \"Wales\"\n",
    "]\n",
    "\n",
    "# /!\\ Slovakia in RateBeer and Slovak Republic in BeerAdvocate /!\\"
   ],
   "metadata": {
    "collapsed": false,
    "ExecuteTime": {
     "end_time": "2023-11-16T02:44:57.138828300Z",
     "start_time": "2023-11-16T02:44:57.003678300Z"
    }
   },
   "id": "180de183d41049d9"
  },
  {
   "cell_type": "markdown",
   "source": [
    "Load users files and classify if European, North American or neither:"
   ],
   "metadata": {
    "collapsed": false
   },
   "id": "82d406e1852ac73e"
  },
  {
   "cell_type": "code",
   "execution_count": 285,
   "outputs": [
    {
     "name": "stdout",
     "output_type": "stream",
     "text": [
      "BeerAdvocate\n"
     ]
    },
    {
     "data": {
      "text/plain": "                      user_id                   location eu_na\n0              nmann08.184925  United States, Washington    NA\n1          stjamesgate.163714    United States, New York    NA\n2               mdagnew.19527           Northern Ireland    EU\n3       helloloser12345.10867           Northern Ireland    EU\n4             cypressbob.3708           Northern Ireland    EU\n...                       ...                        ...   ...\n153698       eturchick.374415  United States, California    NA\n153699         everman.532342  United States, California    NA\n153700      justin0001.352175  United States, California    NA\n153702          joetex.800347  United States, California    NA\n153703      alexmatt86.313751  United States, California    NA\n\n[122425 rows x 3 columns]",
      "text/html": "<div>\n<style scoped>\n    .dataframe tbody tr th:only-of-type {\n        vertical-align: middle;\n    }\n\n    .dataframe tbody tr th {\n        vertical-align: top;\n    }\n\n    .dataframe thead th {\n        text-align: right;\n    }\n</style>\n<table border=\"1\" class=\"dataframe\">\n  <thead>\n    <tr style=\"text-align: right;\">\n      <th></th>\n      <th>user_id</th>\n      <th>location</th>\n      <th>eu_na</th>\n    </tr>\n  </thead>\n  <tbody>\n    <tr>\n      <th>0</th>\n      <td>nmann08.184925</td>\n      <td>United States, Washington</td>\n      <td>NA</td>\n    </tr>\n    <tr>\n      <th>1</th>\n      <td>stjamesgate.163714</td>\n      <td>United States, New York</td>\n      <td>NA</td>\n    </tr>\n    <tr>\n      <th>2</th>\n      <td>mdagnew.19527</td>\n      <td>Northern Ireland</td>\n      <td>EU</td>\n    </tr>\n    <tr>\n      <th>3</th>\n      <td>helloloser12345.10867</td>\n      <td>Northern Ireland</td>\n      <td>EU</td>\n    </tr>\n    <tr>\n      <th>4</th>\n      <td>cypressbob.3708</td>\n      <td>Northern Ireland</td>\n      <td>EU</td>\n    </tr>\n    <tr>\n      <th>...</th>\n      <td>...</td>\n      <td>...</td>\n      <td>...</td>\n    </tr>\n    <tr>\n      <th>153698</th>\n      <td>eturchick.374415</td>\n      <td>United States, California</td>\n      <td>NA</td>\n    </tr>\n    <tr>\n      <th>153699</th>\n      <td>everman.532342</td>\n      <td>United States, California</td>\n      <td>NA</td>\n    </tr>\n    <tr>\n      <th>153700</th>\n      <td>justin0001.352175</td>\n      <td>United States, California</td>\n      <td>NA</td>\n    </tr>\n    <tr>\n      <th>153702</th>\n      <td>joetex.800347</td>\n      <td>United States, California</td>\n      <td>NA</td>\n    </tr>\n    <tr>\n      <th>153703</th>\n      <td>alexmatt86.313751</td>\n      <td>United States, California</td>\n      <td>NA</td>\n    </tr>\n  </tbody>\n</table>\n<p>122425 rows × 3 columns</p>\n</div>"
     },
     "metadata": {},
     "output_type": "display_data"
    },
    {
     "name": "stdout",
     "output_type": "stream",
     "text": [
      "RateBeer\n"
     ]
    },
    {
     "data": {
      "text/plain": "       user_id                 location eu_na\n0       175852                   Poland    EU\n1       442761                    Spain    EU\n2       288889                   Poland    EU\n3       250510                    Spain    EU\n4       122778                  Germany    EU\n...        ...                      ...   ...\n70167   181614                   Norway    EU\n70169   134893                  England    EU\n70170   327816                  Belgium    EU\n70172    82020                 Slovenia    EU\n70173    48123  United States, Virginia    NA\n\n[50592 rows x 3 columns]",
      "text/html": "<div>\n<style scoped>\n    .dataframe tbody tr th:only-of-type {\n        vertical-align: middle;\n    }\n\n    .dataframe tbody tr th {\n        vertical-align: top;\n    }\n\n    .dataframe thead th {\n        text-align: right;\n    }\n</style>\n<table border=\"1\" class=\"dataframe\">\n  <thead>\n    <tr style=\"text-align: right;\">\n      <th></th>\n      <th>user_id</th>\n      <th>location</th>\n      <th>eu_na</th>\n    </tr>\n  </thead>\n  <tbody>\n    <tr>\n      <th>0</th>\n      <td>175852</td>\n      <td>Poland</td>\n      <td>EU</td>\n    </tr>\n    <tr>\n      <th>1</th>\n      <td>442761</td>\n      <td>Spain</td>\n      <td>EU</td>\n    </tr>\n    <tr>\n      <th>2</th>\n      <td>288889</td>\n      <td>Poland</td>\n      <td>EU</td>\n    </tr>\n    <tr>\n      <th>3</th>\n      <td>250510</td>\n      <td>Spain</td>\n      <td>EU</td>\n    </tr>\n    <tr>\n      <th>4</th>\n      <td>122778</td>\n      <td>Germany</td>\n      <td>EU</td>\n    </tr>\n    <tr>\n      <th>...</th>\n      <td>...</td>\n      <td>...</td>\n      <td>...</td>\n    </tr>\n    <tr>\n      <th>70167</th>\n      <td>181614</td>\n      <td>Norway</td>\n      <td>EU</td>\n    </tr>\n    <tr>\n      <th>70169</th>\n      <td>134893</td>\n      <td>England</td>\n      <td>EU</td>\n    </tr>\n    <tr>\n      <th>70170</th>\n      <td>327816</td>\n      <td>Belgium</td>\n      <td>EU</td>\n    </tr>\n    <tr>\n      <th>70172</th>\n      <td>82020</td>\n      <td>Slovenia</td>\n      <td>EU</td>\n    </tr>\n    <tr>\n      <th>70173</th>\n      <td>48123</td>\n      <td>United States, Virginia</td>\n      <td>NA</td>\n    </tr>\n  </tbody>\n</table>\n<p>50592 rows × 3 columns</p>\n</div>"
     },
     "metadata": {},
     "output_type": "display_data"
    }
   ],
   "source": [
    "def get_na_or_eu(row):\n",
    "    \"\"\"\n",
    "    In a Dataframe with a column \"location\", returns whether the location \n",
    "    is in Europe or North America.\n",
    "    \n",
    "    :param row: pandas.Dataframe row with an attribute \"location\".\n",
    "    :return: str, can be \"NA\", \"EU\" or \"Other\".\n",
    "    \"\"\"\n",
    "    location = row['location']\n",
    "    if location in european_countries:\n",
    "        return 'EU'\n",
    "    elif (location == 'Canada') or (\"United States\" in str(location)):\n",
    "        return 'NA'\n",
    "    else:\n",
    "        return 'Other'\n",
    "\n",
    "\n",
    "ba_users_df = (pd.read_csv(\"./data/BeerAdvocate/users.csv\").drop(\n",
    "    columns=['nbr_ratings', 'nbr_reviews', 'user_name', 'joined'])\n",
    "               .dropna())\n",
    "ba_users_df['eu_na'] = ba_users_df.apply(get_na_or_eu, axis=1)\n",
    "\n",
    "rb_users_df = (pd.read_csv(\"./data/RateBeer/users.csv\").drop(\n",
    "    columns=['nbr_ratings', 'user_name', 'joined'])\n",
    "               .dropna())\n",
    "rb_users_df['eu_na'] = rb_users_df.apply(get_na_or_eu, axis=1)\n",
    "\n",
    "print(\"BeerAdvocate:\")\n",
    "display(ba_users_df)\n",
    "print(\"RateBeer:\")\n",
    "display(rb_users_df)"
   ],
   "metadata": {
    "collapsed": false,
    "ExecuteTime": {
     "end_time": "2023-11-16T02:44:58.620882100Z",
     "start_time": "2023-11-16T02:44:57.018307100Z"
    }
   },
   "id": "af29ab194f5c7943"
  },
  {
   "cell_type": "markdown",
   "source": [
    "Let's analyze the repartition of NA/EU/Other users:"
   ],
   "metadata": {
    "collapsed": false
   },
   "id": "6d2fa7ab6edaa746"
  },
  {
   "cell_type": "code",
   "execution_count": 286,
   "outputs": [
    {
     "name": "stdout",
     "output_type": "stream",
     "text": [
      "BeerAdvocate:\n"
     ]
    },
    {
     "data": {
      "text/plain": "eu_na\nNA       116547\nEU         3944\nOther      1934\nName: count, dtype: int64"
     },
     "metadata": {},
     "output_type": "display_data"
    },
    {
     "name": "stdout",
     "output_type": "stream",
     "text": [
      "\n",
      "RateBeer:\n"
     ]
    },
    {
     "data": {
      "text/plain": "eu_na\nNA       30110\nEU       16156\nOther     4326\nName: count, dtype: int64"
     },
     "metadata": {},
     "output_type": "display_data"
    }
   ],
   "source": [
    "print(\"BeerAdvocate:\")\n",
    "display(ba_users_df['eu_na'].value_counts())\n",
    "print(\"RateBeer:\")\n",
    "display(rb_users_df['eu_na'].value_counts())"
   ],
   "metadata": {
    "collapsed": false,
    "ExecuteTime": {
     "end_time": "2023-11-16T02:44:58.769139300Z",
     "start_time": "2023-11-16T02:44:58.623585900Z"
    }
   },
   "id": "484f1a6634dc35e6"
  },
  {
   "cell_type": "markdown",
   "source": [
    "Clearly, the vast majority of users comes from North America, followed by Europe especially in the BeerAdvocate dataset. In the following analysis, we will only consider NA and EU users.\n"
   ],
   "metadata": {
    "collapsed": false
   },
   "id": "5a966673de0e683c"
  },
  {
   "cell_type": "code",
   "execution_count": 287,
   "outputs": [],
   "source": [
    "ba_users_df = ba_users_df.query(\"eu_na != 'Other'\")\n",
    "rb_users_df = rb_users_df.query(\"eu_na != 'Other'\")"
   ],
   "metadata": {
    "collapsed": false,
    "ExecuteTime": {
     "end_time": "2023-11-16T02:44:58.770142300Z",
     "start_time": "2023-11-16T02:44:58.652213600Z"
    }
   },
   "id": "a4ca6f1aca30e17b"
  },
  {
   "cell_type": "markdown",
   "source": [
    "#### 1.1 Load the ratings:"
   ],
   "metadata": {
    "collapsed": false
   },
   "id": "b5a792470d6fd72b"
  },
  {
   "cell_type": "markdown",
   "source": [
    "Load the ratings files:"
   ],
   "metadata": {
    "collapsed": false
   },
   "id": "76e48537037eb611"
  },
  {
   "cell_type": "code",
   "execution_count": 288,
   "outputs": [
    {
     "name": "stdout",
     "output_type": "stream",
     "text": [
      "Loading data from:  ./data/BeerAdvocate/ratings.txt.gz\n"
     ]
    },
    {
     "name": "stderr",
     "output_type": "stream",
     "text": [
      "1799996it [00:02, 780436.58it/s]\n"
     ]
    },
    {
     "name": "stdout",
     "output_type": "stream",
     "text": [
      "Loading data from:  ./data/RateBeer/ratings.txt.gz\n"
     ]
    },
    {
     "name": "stderr",
     "output_type": "stream",
     "text": [
      "1699997it [00:02, 784358.67it/s]\n"
     ]
    }
   ],
   "source": [
    "ba_ratings_df = load_gzip_txt_data(\"./data/BeerAdvocate/ratings.txt.gz\",\n",
    "                                   [\"user_id\", \"date\", \"abv\", \"style\", \"rating\", \"appearance\", \"aroma\", \"palate\",\n",
    "                                    \"taste\", \"overall\"],\n",
    "                                   max_entries=100000)\n",
    "rb_ratings_df = load_gzip_txt_data(\"./data/RateBeer/ratings.txt.gz\",\n",
    "                                   [\"user_id\", \"date\", \"abv\", \"style\", \"rating\", \"appearance\", \"aroma\", \"palate\",\n",
    "                                    \"taste\", \"overall\"],\n",
    "                                   max_entries=100000)"
   ],
   "metadata": {
    "collapsed": false,
    "ExecuteTime": {
     "end_time": "2023-11-16T02:45:03.523918600Z",
     "start_time": "2023-11-16T02:44:58.684674400Z"
    }
   },
   "id": "ffd4e556623d1ca1"
  },
  {
   "cell_type": "markdown",
   "source": [
    "Cast the columns to meaningful types:"
   ],
   "metadata": {
    "collapsed": false
   },
   "id": "d2378ded81ec1d38"
  },
  {
   "cell_type": "code",
   "execution_count": 289,
   "outputs": [],
   "source": [
    "ba_ratings_df = ba_ratings_df.astype({\n",
    "    'user_id': 'str',\n",
    "    'date': 'int64',\n",
    "    'abv': 'float32',\n",
    "    'rating': 'float32'})\n",
    "\n",
    "rb_ratings_df = rb_ratings_df.astype({\n",
    "    'user_id': 'int64',\n",
    "    'date': 'int64',\n",
    "    'abv': 'float32',\n",
    "    'rating': 'float32'})\n",
    "\n",
    "# Convert the dates to monthly periods (useful for plotting):\n",
    "ba_ratings_df['date'] = pd.to_datetime(ba_ratings_df['date'], unit='s').dt.to_period('m').astype('datetime64[M]')\n",
    "rb_ratings_df['date'] = pd.to_datetime(rb_ratings_df['date'], unit='s').dt.to_period('m').astype('datetime64[M]')"
   ],
   "metadata": {
    "collapsed": false,
    "ExecuteTime": {
     "end_time": "2023-11-16T02:45:03.823846600Z",
     "start_time": "2023-11-16T02:45:03.526166600Z"
    }
   },
   "id": "72db150d10fd1127"
  },
  {
   "cell_type": "markdown",
   "source": [
    "#### 1.2 Group similar beer styles into broader groups"
   ],
   "metadata": {
    "collapsed": false
   },
   "id": "971b7eb4ce87a117"
  },
  {
   "cell_type": "markdown",
   "source": [
    "Defined the broad groups using https://www.beeradvocate.com/beer/styles/, so we can just load the csv file containing the matching specific type -> general type:"
   ],
   "metadata": {
    "collapsed": false
   },
   "id": "a2afd4d74fc6e5"
  },
  {
   "cell_type": "code",
   "execution_count": 290,
   "outputs": [
    {
     "name": "stdout",
     "output_type": "stream",
     "text": [
      "General styles:\n",
      "{'Pale Ales', 'India Pale Ales', 'Specialty Beers', 'Stouts', 'Wild/Sour Beers', 'Wheat Beers', 'Saké', 'Porters', 'Dark Lagers', 'Dark Ales', 'Strong Ales', 'Hybrid Beers', 'Pale Lagers', 'Bocks', 'Brown Ales'}\n"
     ]
    }
   ],
   "source": [
    "beer_styles_matching = pd.read_csv(\"./data/additional/styles_matching.csv\", index_col='specific')['general'].to_dict()\n",
    "print(f\"General styles:\\n{set(beer_styles_matching.values())}\")"
   ],
   "metadata": {
    "collapsed": false,
    "ExecuteTime": {
     "end_time": "2023-11-16T02:45:03.837762900Z",
     "start_time": "2023-11-16T02:45:03.827120600Z"
    }
   },
   "id": "14ed6bdd8266a825"
  },
  {
   "cell_type": "markdown",
   "source": [
    "Note: we don't want to take the Saké into account as it is not a beer!"
   ],
   "metadata": {
    "collapsed": false
   },
   "id": "c7b9555d9843eba6"
  },
  {
   "cell_type": "markdown",
   "source": [
    "Replace the specific beer style by the general style (and drop Saké ratings):"
   ],
   "metadata": {
    "collapsed": false
   },
   "id": "8d554bde213f86aa"
  },
  {
   "cell_type": "code",
   "execution_count": 291,
   "outputs": [],
   "source": [
    "def specific_style_to_general(row):\n",
    "    return beer_styles_matching[row['style']]\n",
    "\n",
    "ba_ratings_df['style'] = ba_ratings_df.apply(specific_style_to_general, axis=1)\n",
    "rb_ratings_df['style'] = rb_ratings_df.apply(specific_style_to_general, axis=1)\n",
    "\n",
    "# Drop Saké\n",
    "ba_ratings_df = ba_ratings_df.query(\"style != 'Saké'\")\n",
    "rb_ratings_df = rb_ratings_df.query(\"style != 'Saké'\")"
   ],
   "metadata": {
    "collapsed": false,
    "ExecuteTime": {
     "end_time": "2023-11-16T02:45:05.695444200Z",
     "start_time": "2023-11-16T02:45:03.842176700Z"
    }
   },
   "id": "4fb2b2c926ffad0b"
  },
  {
   "cell_type": "code",
   "execution_count": 292,
   "outputs": [
    {
     "name": "stdout",
     "output_type": "stream",
     "text": [
      "BeerAdvocate:\n"
     ]
    },
    {
     "data": {
      "text/plain": "                    user_id       date  abv            style  rating  \\\n76057  rodbeermunch.1073239 2016-08-01  5.0           Stouts    3.69   \n30961        jamland.731672 2013-06-01  5.2        Dark Ales    3.75   \n80154      ferrari29.320392 2011-06-01  5.0           Stouts    3.73   \n17069             pootz.916 2017-07-01  6.2  India Pale Ales    3.69   \n47199           hopdog.9038 2008-12-01  5.6  India Pale Ales    3.70   \n62223     dj-hophead.992772 2016-08-01  7.0  India Pale Ales    4.21   \n12824         davy_b.959698 2015-03-01  6.6        Dark Ales    4.21   \n10297       weissboy.652453 2012-01-01  7.1      Strong Ales    4.00   \n67961        vec2267.117028 2011-01-01  7.0           Stouts    4.63   \n56842     fisherman34.19192 2006-09-01  4.7        Pale Ales    2.82   \n\n      appearance aroma palate taste overall  \n76057       4.25  3.25    4.0  3.75    3.75  \n30961        nan   nan    nan   nan     nan  \n80154        4.5   4.0    4.0   3.5     3.5  \n17069        4.0  3.75    3.0  3.75    3.75  \n47199        3.5   3.5    3.5   4.0     3.5  \n62223        4.0  4.25    4.0  4.25    4.25  \n12824        5.0   4.0    4.5   4.0     4.5  \n10297        nan   nan    nan   nan     nan  \n67961        4.5   4.0    4.0   5.0     5.0  \n56842        3.0   3.5    2.0   2.5     3.0  ",
      "text/html": "<div>\n<style scoped>\n    .dataframe tbody tr th:only-of-type {\n        vertical-align: middle;\n    }\n\n    .dataframe tbody tr th {\n        vertical-align: top;\n    }\n\n    .dataframe thead th {\n        text-align: right;\n    }\n</style>\n<table border=\"1\" class=\"dataframe\">\n  <thead>\n    <tr style=\"text-align: right;\">\n      <th></th>\n      <th>user_id</th>\n      <th>date</th>\n      <th>abv</th>\n      <th>style</th>\n      <th>rating</th>\n      <th>appearance</th>\n      <th>aroma</th>\n      <th>palate</th>\n      <th>taste</th>\n      <th>overall</th>\n    </tr>\n  </thead>\n  <tbody>\n    <tr>\n      <th>76057</th>\n      <td>rodbeermunch.1073239</td>\n      <td>2016-08-01</td>\n      <td>5.0</td>\n      <td>Stouts</td>\n      <td>3.69</td>\n      <td>4.25</td>\n      <td>3.25</td>\n      <td>4.0</td>\n      <td>3.75</td>\n      <td>3.75</td>\n    </tr>\n    <tr>\n      <th>30961</th>\n      <td>jamland.731672</td>\n      <td>2013-06-01</td>\n      <td>5.2</td>\n      <td>Dark Ales</td>\n      <td>3.75</td>\n      <td>nan</td>\n      <td>nan</td>\n      <td>nan</td>\n      <td>nan</td>\n      <td>nan</td>\n    </tr>\n    <tr>\n      <th>80154</th>\n      <td>ferrari29.320392</td>\n      <td>2011-06-01</td>\n      <td>5.0</td>\n      <td>Stouts</td>\n      <td>3.73</td>\n      <td>4.5</td>\n      <td>4.0</td>\n      <td>4.0</td>\n      <td>3.5</td>\n      <td>3.5</td>\n    </tr>\n    <tr>\n      <th>17069</th>\n      <td>pootz.916</td>\n      <td>2017-07-01</td>\n      <td>6.2</td>\n      <td>India Pale Ales</td>\n      <td>3.69</td>\n      <td>4.0</td>\n      <td>3.75</td>\n      <td>3.0</td>\n      <td>3.75</td>\n      <td>3.75</td>\n    </tr>\n    <tr>\n      <th>47199</th>\n      <td>hopdog.9038</td>\n      <td>2008-12-01</td>\n      <td>5.6</td>\n      <td>India Pale Ales</td>\n      <td>3.70</td>\n      <td>3.5</td>\n      <td>3.5</td>\n      <td>3.5</td>\n      <td>4.0</td>\n      <td>3.5</td>\n    </tr>\n    <tr>\n      <th>62223</th>\n      <td>dj-hophead.992772</td>\n      <td>2016-08-01</td>\n      <td>7.0</td>\n      <td>India Pale Ales</td>\n      <td>4.21</td>\n      <td>4.0</td>\n      <td>4.25</td>\n      <td>4.0</td>\n      <td>4.25</td>\n      <td>4.25</td>\n    </tr>\n    <tr>\n      <th>12824</th>\n      <td>davy_b.959698</td>\n      <td>2015-03-01</td>\n      <td>6.6</td>\n      <td>Dark Ales</td>\n      <td>4.21</td>\n      <td>5.0</td>\n      <td>4.0</td>\n      <td>4.5</td>\n      <td>4.0</td>\n      <td>4.5</td>\n    </tr>\n    <tr>\n      <th>10297</th>\n      <td>weissboy.652453</td>\n      <td>2012-01-01</td>\n      <td>7.1</td>\n      <td>Strong Ales</td>\n      <td>4.00</td>\n      <td>nan</td>\n      <td>nan</td>\n      <td>nan</td>\n      <td>nan</td>\n      <td>nan</td>\n    </tr>\n    <tr>\n      <th>67961</th>\n      <td>vec2267.117028</td>\n      <td>2011-01-01</td>\n      <td>7.0</td>\n      <td>Stouts</td>\n      <td>4.63</td>\n      <td>4.5</td>\n      <td>4.0</td>\n      <td>4.0</td>\n      <td>5.0</td>\n      <td>5.0</td>\n    </tr>\n    <tr>\n      <th>56842</th>\n      <td>fisherman34.19192</td>\n      <td>2006-09-01</td>\n      <td>4.7</td>\n      <td>Pale Ales</td>\n      <td>2.82</td>\n      <td>3.0</td>\n      <td>3.5</td>\n      <td>2.0</td>\n      <td>2.5</td>\n      <td>3.0</td>\n    </tr>\n  </tbody>\n</table>\n</div>"
     },
     "metadata": {},
     "output_type": "display_data"
    },
    {
     "name": "stdout",
     "output_type": "stream",
     "text": [
      "RateBeer:\n"
     ]
    },
    {
     "data": {
      "text/plain": "       user_id       date    abv            style  rating appearance aroma  \\\n98030   274979 2015-05-01   5.80  Wild/Sour Beers     3.7          3     7   \n25201    15284 2015-02-01   5.20      Dark Lagers     2.9          3     5   \n54485    23644 2006-06-01   3.70      Pale Lagers     1.0          1     1   \n24113   305742 2014-03-01   6.20      Dark Lagers     4.4          5     9   \n69660   364257 2016-07-01   7.10      Pale Lagers     1.5          3     2   \n10626      549 2006-08-01   5.30      Pale Lagers     1.0          1     2   \n91007     8067 2014-03-01   7.00     Hybrid Beers     3.4          3     7   \n85614     8067 2014-03-01  10.00           Stouts     3.7          4     7   \n72392   283370 2017-01-01   5.10  Wild/Sour Beers     2.1          3     6   \n49797     9380 2005-03-01   4.55      Pale Lagers     1.6          2     5   \n\n      palate taste overall  \n98030      3     8      16  \n25201      3     6      12  \n54485      1     2       5  \n24113      4     9      17  \n69660      2     3       5  \n10626      1     2       4  \n91007      3     7      14  \n85614      3     7      16  \n72392      2     3       7  \n49797      1     1       7  ",
      "text/html": "<div>\n<style scoped>\n    .dataframe tbody tr th:only-of-type {\n        vertical-align: middle;\n    }\n\n    .dataframe tbody tr th {\n        vertical-align: top;\n    }\n\n    .dataframe thead th {\n        text-align: right;\n    }\n</style>\n<table border=\"1\" class=\"dataframe\">\n  <thead>\n    <tr style=\"text-align: right;\">\n      <th></th>\n      <th>user_id</th>\n      <th>date</th>\n      <th>abv</th>\n      <th>style</th>\n      <th>rating</th>\n      <th>appearance</th>\n      <th>aroma</th>\n      <th>palate</th>\n      <th>taste</th>\n      <th>overall</th>\n    </tr>\n  </thead>\n  <tbody>\n    <tr>\n      <th>98030</th>\n      <td>274979</td>\n      <td>2015-05-01</td>\n      <td>5.80</td>\n      <td>Wild/Sour Beers</td>\n      <td>3.7</td>\n      <td>3</td>\n      <td>7</td>\n      <td>3</td>\n      <td>8</td>\n      <td>16</td>\n    </tr>\n    <tr>\n      <th>25201</th>\n      <td>15284</td>\n      <td>2015-02-01</td>\n      <td>5.20</td>\n      <td>Dark Lagers</td>\n      <td>2.9</td>\n      <td>3</td>\n      <td>5</td>\n      <td>3</td>\n      <td>6</td>\n      <td>12</td>\n    </tr>\n    <tr>\n      <th>54485</th>\n      <td>23644</td>\n      <td>2006-06-01</td>\n      <td>3.70</td>\n      <td>Pale Lagers</td>\n      <td>1.0</td>\n      <td>1</td>\n      <td>1</td>\n      <td>1</td>\n      <td>2</td>\n      <td>5</td>\n    </tr>\n    <tr>\n      <th>24113</th>\n      <td>305742</td>\n      <td>2014-03-01</td>\n      <td>6.20</td>\n      <td>Dark Lagers</td>\n      <td>4.4</td>\n      <td>5</td>\n      <td>9</td>\n      <td>4</td>\n      <td>9</td>\n      <td>17</td>\n    </tr>\n    <tr>\n      <th>69660</th>\n      <td>364257</td>\n      <td>2016-07-01</td>\n      <td>7.10</td>\n      <td>Pale Lagers</td>\n      <td>1.5</td>\n      <td>3</td>\n      <td>2</td>\n      <td>2</td>\n      <td>3</td>\n      <td>5</td>\n    </tr>\n    <tr>\n      <th>10626</th>\n      <td>549</td>\n      <td>2006-08-01</td>\n      <td>5.30</td>\n      <td>Pale Lagers</td>\n      <td>1.0</td>\n      <td>1</td>\n      <td>2</td>\n      <td>1</td>\n      <td>2</td>\n      <td>4</td>\n    </tr>\n    <tr>\n      <th>91007</th>\n      <td>8067</td>\n      <td>2014-03-01</td>\n      <td>7.00</td>\n      <td>Hybrid Beers</td>\n      <td>3.4</td>\n      <td>3</td>\n      <td>7</td>\n      <td>3</td>\n      <td>7</td>\n      <td>14</td>\n    </tr>\n    <tr>\n      <th>85614</th>\n      <td>8067</td>\n      <td>2014-03-01</td>\n      <td>10.00</td>\n      <td>Stouts</td>\n      <td>3.7</td>\n      <td>4</td>\n      <td>7</td>\n      <td>3</td>\n      <td>7</td>\n      <td>16</td>\n    </tr>\n    <tr>\n      <th>72392</th>\n      <td>283370</td>\n      <td>2017-01-01</td>\n      <td>5.10</td>\n      <td>Wild/Sour Beers</td>\n      <td>2.1</td>\n      <td>3</td>\n      <td>6</td>\n      <td>2</td>\n      <td>3</td>\n      <td>7</td>\n    </tr>\n    <tr>\n      <th>49797</th>\n      <td>9380</td>\n      <td>2005-03-01</td>\n      <td>4.55</td>\n      <td>Pale Lagers</td>\n      <td>1.6</td>\n      <td>2</td>\n      <td>5</td>\n      <td>1</td>\n      <td>1</td>\n      <td>7</td>\n    </tr>\n  </tbody>\n</table>\n</div>"
     },
     "metadata": {},
     "output_type": "display_data"
    }
   ],
   "source": [
    "print(\"BeerAdvocate:\")\n",
    "display(ba_ratings_df.sample(10))\n",
    "print(\"RateBeer:\")\n",
    "display(rb_ratings_df.sample(10))"
   ],
   "metadata": {
    "collapsed": false,
    "ExecuteTime": {
     "end_time": "2023-11-16T02:45:05.765952600Z",
     "start_time": "2023-11-16T02:45:05.696765300Z"
    }
   },
   "id": "b0166ca010b33db0"
  },
  {
   "cell_type": "markdown",
   "source": [
    "#### 1.3 Merge the users with the ratings"
   ],
   "metadata": {
    "collapsed": false
   },
   "id": "172dc6daba8f3ecc"
  },
  {
   "cell_type": "code",
   "execution_count": 293,
   "outputs": [],
   "source": [
    "ba_df = ba_ratings_df.merge(ba_users_df, on='user_id').drop(columns=['user_id'])\n",
    "rb_df = rb_ratings_df.merge(rb_users_df, on='user_id').drop(columns=['user_id'])"
   ],
   "metadata": {
    "collapsed": false,
    "ExecuteTime": {
     "end_time": "2023-11-16T02:45:06.056065400Z",
     "start_time": "2023-11-16T02:45:05.728360700Z"
    }
   },
   "id": "713b1f2287d376bc"
  },
  {
   "cell_type": "code",
   "execution_count": 294,
   "outputs": [
    {
     "name": "stdout",
     "output_type": "stream",
     "text": [
      "BeerAdvocate:\n"
     ]
    },
    {
     "data": {
      "text/plain": "            date   abv        style  rating appearance aroma palate taste  \\\n0     2015-08-01   4.5  Pale Lagers    2.88       3.25  2.75   3.25  2.75   \n1     2015-11-01   5.0    Pale Ales    3.56        4.0   3.5   3.75   3.5   \n2     2011-11-01   8.0  Strong Ales    4.50        nan   nan    nan   nan   \n3     2013-05-01  10.5  Strong Ales    3.75        nan   nan    nan   nan   \n4     2015-01-01   6.0      Porters    3.81        4.0   3.5   3.75   4.0   \n...          ...   ...          ...     ...        ...   ...    ...   ...   \n91537 2012-06-01   4.7    Pale Ales    4.27        4.0   4.5    4.5   4.0   \n91538 2012-06-01   4.7    Pale Ales    3.25        nan   nan    nan   nan   \n91539 2012-06-01   4.7    Pale Ales    3.00        nan   nan    nan   nan   \n91540 2012-05-01   4.7    Pale Ales    3.50        nan   nan    nan   nan   \n91541 2012-05-01   4.7    Pale Ales    3.00        nan   nan    nan   nan   \n\n      overall                     location eu_na  \n0         3.0    United States, Washington    NA  \n1         3.5    United States, Washington    NA  \n2         nan    United States, Washington    NA  \n3         nan    United States, Washington    NA  \n4        3.75    United States, Washington    NA  \n...       ...                          ...   ...  \n91537     4.5       United States, Georgia    NA  \n91538     nan      United States, Illinois    NA  \n91539     nan  United States, Pennsylvania    NA  \n91540     nan       United States, Florida    NA  \n91541     nan  United States, Pennsylvania    NA  \n\n[91542 rows x 11 columns]",
      "text/html": "<div>\n<style scoped>\n    .dataframe tbody tr th:only-of-type {\n        vertical-align: middle;\n    }\n\n    .dataframe tbody tr th {\n        vertical-align: top;\n    }\n\n    .dataframe thead th {\n        text-align: right;\n    }\n</style>\n<table border=\"1\" class=\"dataframe\">\n  <thead>\n    <tr style=\"text-align: right;\">\n      <th></th>\n      <th>date</th>\n      <th>abv</th>\n      <th>style</th>\n      <th>rating</th>\n      <th>appearance</th>\n      <th>aroma</th>\n      <th>palate</th>\n      <th>taste</th>\n      <th>overall</th>\n      <th>location</th>\n      <th>eu_na</th>\n    </tr>\n  </thead>\n  <tbody>\n    <tr>\n      <th>0</th>\n      <td>2015-08-01</td>\n      <td>4.5</td>\n      <td>Pale Lagers</td>\n      <td>2.88</td>\n      <td>3.25</td>\n      <td>2.75</td>\n      <td>3.25</td>\n      <td>2.75</td>\n      <td>3.0</td>\n      <td>United States, Washington</td>\n      <td>NA</td>\n    </tr>\n    <tr>\n      <th>1</th>\n      <td>2015-11-01</td>\n      <td>5.0</td>\n      <td>Pale Ales</td>\n      <td>3.56</td>\n      <td>4.0</td>\n      <td>3.5</td>\n      <td>3.75</td>\n      <td>3.5</td>\n      <td>3.5</td>\n      <td>United States, Washington</td>\n      <td>NA</td>\n    </tr>\n    <tr>\n      <th>2</th>\n      <td>2011-11-01</td>\n      <td>8.0</td>\n      <td>Strong Ales</td>\n      <td>4.50</td>\n      <td>nan</td>\n      <td>nan</td>\n      <td>nan</td>\n      <td>nan</td>\n      <td>nan</td>\n      <td>United States, Washington</td>\n      <td>NA</td>\n    </tr>\n    <tr>\n      <th>3</th>\n      <td>2013-05-01</td>\n      <td>10.5</td>\n      <td>Strong Ales</td>\n      <td>3.75</td>\n      <td>nan</td>\n      <td>nan</td>\n      <td>nan</td>\n      <td>nan</td>\n      <td>nan</td>\n      <td>United States, Washington</td>\n      <td>NA</td>\n    </tr>\n    <tr>\n      <th>4</th>\n      <td>2015-01-01</td>\n      <td>6.0</td>\n      <td>Porters</td>\n      <td>3.81</td>\n      <td>4.0</td>\n      <td>3.5</td>\n      <td>3.75</td>\n      <td>4.0</td>\n      <td>3.75</td>\n      <td>United States, Washington</td>\n      <td>NA</td>\n    </tr>\n    <tr>\n      <th>...</th>\n      <td>...</td>\n      <td>...</td>\n      <td>...</td>\n      <td>...</td>\n      <td>...</td>\n      <td>...</td>\n      <td>...</td>\n      <td>...</td>\n      <td>...</td>\n      <td>...</td>\n      <td>...</td>\n    </tr>\n    <tr>\n      <th>91537</th>\n      <td>2012-06-01</td>\n      <td>4.7</td>\n      <td>Pale Ales</td>\n      <td>4.27</td>\n      <td>4.0</td>\n      <td>4.5</td>\n      <td>4.5</td>\n      <td>4.0</td>\n      <td>4.5</td>\n      <td>United States, Georgia</td>\n      <td>NA</td>\n    </tr>\n    <tr>\n      <th>91538</th>\n      <td>2012-06-01</td>\n      <td>4.7</td>\n      <td>Pale Ales</td>\n      <td>3.25</td>\n      <td>nan</td>\n      <td>nan</td>\n      <td>nan</td>\n      <td>nan</td>\n      <td>nan</td>\n      <td>United States, Illinois</td>\n      <td>NA</td>\n    </tr>\n    <tr>\n      <th>91539</th>\n      <td>2012-06-01</td>\n      <td>4.7</td>\n      <td>Pale Ales</td>\n      <td>3.00</td>\n      <td>nan</td>\n      <td>nan</td>\n      <td>nan</td>\n      <td>nan</td>\n      <td>nan</td>\n      <td>United States, Pennsylvania</td>\n      <td>NA</td>\n    </tr>\n    <tr>\n      <th>91540</th>\n      <td>2012-05-01</td>\n      <td>4.7</td>\n      <td>Pale Ales</td>\n      <td>3.50</td>\n      <td>nan</td>\n      <td>nan</td>\n      <td>nan</td>\n      <td>nan</td>\n      <td>nan</td>\n      <td>United States, Florida</td>\n      <td>NA</td>\n    </tr>\n    <tr>\n      <th>91541</th>\n      <td>2012-05-01</td>\n      <td>4.7</td>\n      <td>Pale Ales</td>\n      <td>3.00</td>\n      <td>nan</td>\n      <td>nan</td>\n      <td>nan</td>\n      <td>nan</td>\n      <td>nan</td>\n      <td>United States, Pennsylvania</td>\n      <td>NA</td>\n    </tr>\n  </tbody>\n</table>\n<p>91542 rows × 11 columns</p>\n</div>"
     },
     "metadata": {},
     "output_type": "display_data"
    },
    {
     "name": "stdout",
     "output_type": "stream",
     "text": [
      "RateBeer:\n"
     ]
    },
    {
     "data": {
      "text/plain": "            date  abv            style  rating appearance aroma palate taste  \\\n0     2016-04-01  5.0      Pale Lagers     2.0          2     4      2     4   \n1     2015-05-01  5.2      Pale Lagers     1.7          2     4      2     3   \n2     2015-04-01  4.5      Pale Lagers     1.9          3     4      2     4   \n3     2015-04-01  5.3       Brown Ales     3.7          4     7      4     8   \n4     2015-11-01  6.1       Brown Ales     2.5          4     6      3     5   \n...          ...  ...              ...     ...        ...   ...    ...   ...   \n89706 2014-02-01  6.0          Porters     4.5          5     9      5     8   \n89707 2015-08-01  6.0          Porters     3.7          4     7      3     7   \n89708 2015-06-01  6.0          Porters     4.4          4     9      5     8   \n89709 2016-12-01  8.5  India Pale Ales     4.0          4     8      3     8   \n89710 2012-01-01  9.0      Strong Ales     1.4          1     6      1     1   \n\n      overall location eu_na  \n0           8   Poland    EU  \n1           6   Poland    EU  \n2           6   Poland    EU  \n3          14   Poland    EU  \n4           7   Poland    EU  \n...       ...      ...   ...  \n89706      18   Canada    NA  \n89707      16    Spain    EU  \n89708      18   France    EU  \n89709      17   Canada    NA  \n89710       5   Canada    NA  \n\n[89711 rows x 11 columns]",
      "text/html": "<div>\n<style scoped>\n    .dataframe tbody tr th:only-of-type {\n        vertical-align: middle;\n    }\n\n    .dataframe tbody tr th {\n        vertical-align: top;\n    }\n\n    .dataframe thead th {\n        text-align: right;\n    }\n</style>\n<table border=\"1\" class=\"dataframe\">\n  <thead>\n    <tr style=\"text-align: right;\">\n      <th></th>\n      <th>date</th>\n      <th>abv</th>\n      <th>style</th>\n      <th>rating</th>\n      <th>appearance</th>\n      <th>aroma</th>\n      <th>palate</th>\n      <th>taste</th>\n      <th>overall</th>\n      <th>location</th>\n      <th>eu_na</th>\n    </tr>\n  </thead>\n  <tbody>\n    <tr>\n      <th>0</th>\n      <td>2016-04-01</td>\n      <td>5.0</td>\n      <td>Pale Lagers</td>\n      <td>2.0</td>\n      <td>2</td>\n      <td>4</td>\n      <td>2</td>\n      <td>4</td>\n      <td>8</td>\n      <td>Poland</td>\n      <td>EU</td>\n    </tr>\n    <tr>\n      <th>1</th>\n      <td>2015-05-01</td>\n      <td>5.2</td>\n      <td>Pale Lagers</td>\n      <td>1.7</td>\n      <td>2</td>\n      <td>4</td>\n      <td>2</td>\n      <td>3</td>\n      <td>6</td>\n      <td>Poland</td>\n      <td>EU</td>\n    </tr>\n    <tr>\n      <th>2</th>\n      <td>2015-04-01</td>\n      <td>4.5</td>\n      <td>Pale Lagers</td>\n      <td>1.9</td>\n      <td>3</td>\n      <td>4</td>\n      <td>2</td>\n      <td>4</td>\n      <td>6</td>\n      <td>Poland</td>\n      <td>EU</td>\n    </tr>\n    <tr>\n      <th>3</th>\n      <td>2015-04-01</td>\n      <td>5.3</td>\n      <td>Brown Ales</td>\n      <td>3.7</td>\n      <td>4</td>\n      <td>7</td>\n      <td>4</td>\n      <td>8</td>\n      <td>14</td>\n      <td>Poland</td>\n      <td>EU</td>\n    </tr>\n    <tr>\n      <th>4</th>\n      <td>2015-11-01</td>\n      <td>6.1</td>\n      <td>Brown Ales</td>\n      <td>2.5</td>\n      <td>4</td>\n      <td>6</td>\n      <td>3</td>\n      <td>5</td>\n      <td>7</td>\n      <td>Poland</td>\n      <td>EU</td>\n    </tr>\n    <tr>\n      <th>...</th>\n      <td>...</td>\n      <td>...</td>\n      <td>...</td>\n      <td>...</td>\n      <td>...</td>\n      <td>...</td>\n      <td>...</td>\n      <td>...</td>\n      <td>...</td>\n      <td>...</td>\n      <td>...</td>\n    </tr>\n    <tr>\n      <th>89706</th>\n      <td>2014-02-01</td>\n      <td>6.0</td>\n      <td>Porters</td>\n      <td>4.5</td>\n      <td>5</td>\n      <td>9</td>\n      <td>5</td>\n      <td>8</td>\n      <td>18</td>\n      <td>Canada</td>\n      <td>NA</td>\n    </tr>\n    <tr>\n      <th>89707</th>\n      <td>2015-08-01</td>\n      <td>6.0</td>\n      <td>Porters</td>\n      <td>3.7</td>\n      <td>4</td>\n      <td>7</td>\n      <td>3</td>\n      <td>7</td>\n      <td>16</td>\n      <td>Spain</td>\n      <td>EU</td>\n    </tr>\n    <tr>\n      <th>89708</th>\n      <td>2015-06-01</td>\n      <td>6.0</td>\n      <td>Porters</td>\n      <td>4.4</td>\n      <td>4</td>\n      <td>9</td>\n      <td>5</td>\n      <td>8</td>\n      <td>18</td>\n      <td>France</td>\n      <td>EU</td>\n    </tr>\n    <tr>\n      <th>89709</th>\n      <td>2016-12-01</td>\n      <td>8.5</td>\n      <td>India Pale Ales</td>\n      <td>4.0</td>\n      <td>4</td>\n      <td>8</td>\n      <td>3</td>\n      <td>8</td>\n      <td>17</td>\n      <td>Canada</td>\n      <td>NA</td>\n    </tr>\n    <tr>\n      <th>89710</th>\n      <td>2012-01-01</td>\n      <td>9.0</td>\n      <td>Strong Ales</td>\n      <td>1.4</td>\n      <td>1</td>\n      <td>6</td>\n      <td>1</td>\n      <td>1</td>\n      <td>5</td>\n      <td>Canada</td>\n      <td>NA</td>\n    </tr>\n  </tbody>\n</table>\n<p>89711 rows × 11 columns</p>\n</div>"
     },
     "metadata": {},
     "output_type": "display_data"
    }
   ],
   "source": [
    "print(\"BeerAdvocate:\")\n",
    "display(ba_df)\n",
    "print(\"RateBeer:\")\n",
    "display(rb_df)"
   ],
   "metadata": {
    "collapsed": false,
    "ExecuteTime": {
     "end_time": "2023-11-16T02:45:06.160613900Z",
     "start_time": "2023-11-16T02:45:06.067766900Z"
    }
   },
   "id": "db2703d461f0ba89"
  },
  {
   "cell_type": "markdown",
   "source": [
    "## 2. General Analysis "
   ],
   "metadata": {
    "collapsed": false
   },
   "id": "88873ef49b600792"
  },
  {
   "cell_type": "code",
   "execution_count": 295,
   "outputs": [],
   "source": [
    "# TODO: Plot some stuff using what we have here: NA or EU, ABV values, 14 possible styles, sensory ratings (can be nan), and precise location (maybe keep this for later).\n",
    "\n",
    "# TODO: Do we want to use a bit of NLP ? Not sure how to do it in a meaningful way...\n",
    "\n",
    "# TODO: /!\\ Please plot with seaborn if it can be simpler (mainly for automatic CI) I beg you ^^"
   ],
   "metadata": {
    "collapsed": false,
    "ExecuteTime": {
     "end_time": "2023-11-16T02:45:06.182486300Z",
     "start_time": "2023-11-16T02:45:06.101262500Z"
    }
   },
   "id": "1651a6c25097915b"
  }
 ],
 "metadata": {
  "kernelspec": {
   "display_name": "Python 3",
   "language": "python",
   "name": "python3"
  },
  "language_info": {
   "codemirror_mode": {
    "name": "ipython",
    "version": 2
   },
   "file_extension": ".py",
   "mimetype": "text/x-python",
   "name": "python",
   "nbconvert_exporter": "python",
   "pygments_lexer": "ipython2",
   "version": "2.7.6"
  }
 },
 "nbformat": 4,
 "nbformat_minor": 5
}
