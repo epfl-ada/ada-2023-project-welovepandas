{
 "cells": [
  {
   "cell_type": "markdown",
   "source": [
    "# Project Milestone 2 Notebook\n",
    "## Do Americans prefer beers with a higher alcohol content (ABV) than Europeans?\n",
    "- Is it linked to the beer style? Do they generally prefer beer styles that have a higher ABV? (Grouping + micro/macro averages)\n",
    "- Has it evolved between 2000 and 2017? (Time series analysis + maybe regression)\n",
    "- Can we map American States to European countries? (Graph/network algorithms)"
   ],
   "metadata": {
    "collapsed": false
   },
   "id": "c633bbc9eed26334"
  },
  {
   "cell_type": "markdown",
   "source": [
    "## 0. Imports and global variables"
   ],
   "metadata": {
    "collapsed": false
   },
   "id": "1aaaef728f5cbc61"
  },
  {
   "cell_type": "code",
   "execution_count": 127,
   "outputs": [],
   "source": [
    "import pandas as pd\n",
    "import matplotlib.pyplot as plt\n",
    "import seaborn as sns\n",
    "from load_data import load_gzip_txt_data"
   ],
   "metadata": {
    "collapsed": false,
    "ExecuteTime": {
     "end_time": "2023-11-15T21:35:53.706009Z",
     "start_time": "2023-11-15T21:35:53.602730400Z"
    }
   },
   "id": "fd335edd10b294d1"
  },
  {
   "cell_type": "markdown",
   "source": [
    "## 1. Preprocessing of the data:"
   ],
   "metadata": {
    "collapsed": false
   },
   "id": "8077249376adfff"
  },
  {
   "cell_type": "markdown",
   "source": [
    "#### 1.0 Split users between North America and Europe:"
   ],
   "metadata": {
    "collapsed": false
   },
   "id": "64fd786cec3ccf58"
  },
  {
   "cell_type": "markdown",
   "source": [
    "Define European countries:"
   ],
   "metadata": {
    "collapsed": false
   },
   "id": "d3fe742c3bc98da3"
  },
  {
   "cell_type": "code",
   "execution_count": 128,
   "outputs": [],
   "source": [
    "european_countries = [\n",
    "    \"Albania\", \"Andorra\", \"Armenia\", \"Austria\", \"Azerbaijan\", \"Belarus\",\n",
    "    \"Belgium\", \"Bosnia and Herzegovina\", \"Bulgaria\", \"Croatia\", \"Cyprus\",\n",
    "    \"Czech Republic\", \"Denmark\", \"England\", \"Estonia\", \"Finland\", \"France\", \"Georgia\",\n",
    "    \"Germany\", \"Gibraltar\", \"Greece\", \"Hungary\", \"Iceland\", \"Ireland\", \"Italy\", \"Jersey\", \"Kazakhstan\",\n",
    "    \"Kosovo\", \"Latvia\", \"Liechtenstein\", \"Lithuania\", \"Luxembourg\", \"Malta\",\n",
    "    \"Moldova\", \"Monaco\", \"Montenegro\", \"Netherlands\", \"Northern Ireland\", \"Macedonia\",\n",
    "    \"Norway\", \"Poland\", \"Portugal\", \"Romania\", \"Russia\", \"San Marino\", \"Scotland\", \"Serbia\",\n",
    "    \"Slovakia\", \"Slovak Republic\", \"Slovenia\", \"Spain\", \"Sweden\", \"Switzerland\", \"Turkey\",\n",
    "    \"Ukraine\", \"Vatican City\", \"Wales\"\n",
    "]\n",
    "\n",
    "# Slovakia in RateBeer and Slovak Republic in BeerAdvocate"
   ],
   "metadata": {
    "collapsed": false,
    "ExecuteTime": {
     "end_time": "2023-11-15T21:35:53.708279700Z",
     "start_time": "2023-11-15T21:35:53.624039900Z"
    }
   },
   "id": "180de183d41049d9"
  },
  {
   "cell_type": "markdown",
   "source": [
    "Load users files and classify if European, North American or neither:"
   ],
   "metadata": {
    "collapsed": false
   },
   "id": "82d406e1852ac73e"
  },
  {
   "cell_type": "code",
   "execution_count": 129,
   "outputs": [
    {
     "name": "stdout",
     "output_type": "stream",
     "text": [
      "BeerAdvocate\n"
     ]
    },
    {
     "data": {
      "text/plain": "                      user_id                   location eu_na\n0              nmann08.184925  United States, Washington    NA\n1          stjamesgate.163714    United States, New York    NA\n2               mdagnew.19527           Northern Ireland    EU\n3       helloloser12345.10867           Northern Ireland    EU\n4             cypressbob.3708           Northern Ireland    EU\n...                       ...                        ...   ...\n153698       eturchick.374415  United States, California    NA\n153699         everman.532342  United States, California    NA\n153700      justin0001.352175  United States, California    NA\n153702          joetex.800347  United States, California    NA\n153703      alexmatt86.313751  United States, California    NA\n\n[122425 rows x 3 columns]",
      "text/html": "<div>\n<style scoped>\n    .dataframe tbody tr th:only-of-type {\n        vertical-align: middle;\n    }\n\n    .dataframe tbody tr th {\n        vertical-align: top;\n    }\n\n    .dataframe thead th {\n        text-align: right;\n    }\n</style>\n<table border=\"1\" class=\"dataframe\">\n  <thead>\n    <tr style=\"text-align: right;\">\n      <th></th>\n      <th>user_id</th>\n      <th>location</th>\n      <th>eu_na</th>\n    </tr>\n  </thead>\n  <tbody>\n    <tr>\n      <th>0</th>\n      <td>nmann08.184925</td>\n      <td>United States, Washington</td>\n      <td>NA</td>\n    </tr>\n    <tr>\n      <th>1</th>\n      <td>stjamesgate.163714</td>\n      <td>United States, New York</td>\n      <td>NA</td>\n    </tr>\n    <tr>\n      <th>2</th>\n      <td>mdagnew.19527</td>\n      <td>Northern Ireland</td>\n      <td>EU</td>\n    </tr>\n    <tr>\n      <th>3</th>\n      <td>helloloser12345.10867</td>\n      <td>Northern Ireland</td>\n      <td>EU</td>\n    </tr>\n    <tr>\n      <th>4</th>\n      <td>cypressbob.3708</td>\n      <td>Northern Ireland</td>\n      <td>EU</td>\n    </tr>\n    <tr>\n      <th>...</th>\n      <td>...</td>\n      <td>...</td>\n      <td>...</td>\n    </tr>\n    <tr>\n      <th>153698</th>\n      <td>eturchick.374415</td>\n      <td>United States, California</td>\n      <td>NA</td>\n    </tr>\n    <tr>\n      <th>153699</th>\n      <td>everman.532342</td>\n      <td>United States, California</td>\n      <td>NA</td>\n    </tr>\n    <tr>\n      <th>153700</th>\n      <td>justin0001.352175</td>\n      <td>United States, California</td>\n      <td>NA</td>\n    </tr>\n    <tr>\n      <th>153702</th>\n      <td>joetex.800347</td>\n      <td>United States, California</td>\n      <td>NA</td>\n    </tr>\n    <tr>\n      <th>153703</th>\n      <td>alexmatt86.313751</td>\n      <td>United States, California</td>\n      <td>NA</td>\n    </tr>\n  </tbody>\n</table>\n<p>122425 rows × 3 columns</p>\n</div>"
     },
     "metadata": {},
     "output_type": "display_data"
    },
    {
     "name": "stdout",
     "output_type": "stream",
     "text": [
      "RateBeer\n"
     ]
    },
    {
     "data": {
      "text/plain": "       user_id                 location eu_na\n0       175852                   Poland    EU\n1       442761                    Spain    EU\n2       288889                   Poland    EU\n3       250510                    Spain    EU\n4       122778                  Germany    EU\n...        ...                      ...   ...\n70167   181614                   Norway    EU\n70169   134893                  England    EU\n70170   327816                  Belgium    EU\n70172    82020                 Slovenia    EU\n70173    48123  United States, Virginia    NA\n\n[50592 rows x 3 columns]",
      "text/html": "<div>\n<style scoped>\n    .dataframe tbody tr th:only-of-type {\n        vertical-align: middle;\n    }\n\n    .dataframe tbody tr th {\n        vertical-align: top;\n    }\n\n    .dataframe thead th {\n        text-align: right;\n    }\n</style>\n<table border=\"1\" class=\"dataframe\">\n  <thead>\n    <tr style=\"text-align: right;\">\n      <th></th>\n      <th>user_id</th>\n      <th>location</th>\n      <th>eu_na</th>\n    </tr>\n  </thead>\n  <tbody>\n    <tr>\n      <th>0</th>\n      <td>175852</td>\n      <td>Poland</td>\n      <td>EU</td>\n    </tr>\n    <tr>\n      <th>1</th>\n      <td>442761</td>\n      <td>Spain</td>\n      <td>EU</td>\n    </tr>\n    <tr>\n      <th>2</th>\n      <td>288889</td>\n      <td>Poland</td>\n      <td>EU</td>\n    </tr>\n    <tr>\n      <th>3</th>\n      <td>250510</td>\n      <td>Spain</td>\n      <td>EU</td>\n    </tr>\n    <tr>\n      <th>4</th>\n      <td>122778</td>\n      <td>Germany</td>\n      <td>EU</td>\n    </tr>\n    <tr>\n      <th>...</th>\n      <td>...</td>\n      <td>...</td>\n      <td>...</td>\n    </tr>\n    <tr>\n      <th>70167</th>\n      <td>181614</td>\n      <td>Norway</td>\n      <td>EU</td>\n    </tr>\n    <tr>\n      <th>70169</th>\n      <td>134893</td>\n      <td>England</td>\n      <td>EU</td>\n    </tr>\n    <tr>\n      <th>70170</th>\n      <td>327816</td>\n      <td>Belgium</td>\n      <td>EU</td>\n    </tr>\n    <tr>\n      <th>70172</th>\n      <td>82020</td>\n      <td>Slovenia</td>\n      <td>EU</td>\n    </tr>\n    <tr>\n      <th>70173</th>\n      <td>48123</td>\n      <td>United States, Virginia</td>\n      <td>NA</td>\n    </tr>\n  </tbody>\n</table>\n<p>50592 rows × 3 columns</p>\n</div>"
     },
     "metadata": {},
     "output_type": "display_data"
    }
   ],
   "source": [
    "def get_na_or_eu(row):\n",
    "    \"\"\"\n",
    "    In a Dataframe with a column \"location\", returns whether the location \n",
    "    is in Europe or North America.\n",
    "    \n",
    "    :param row: pandas.Dataframe row with an attribute \"location\".\n",
    "    :return: str, can be \"NA\", \"EU\" or \"Other\".\n",
    "    \"\"\"\n",
    "    location = row['location']\n",
    "    if location in european_countries:\n",
    "        return 'EU'\n",
    "    elif (location == 'Canada') or (\"United States\" in str(location)):\n",
    "        return 'NA'\n",
    "    else:\n",
    "        return 'Other'\n",
    "\n",
    "\n",
    "ba_users_df = (pd.read_csv(\"./data/BeerAdvocate/users.csv\").drop(\n",
    "    columns=['nbr_ratings', 'nbr_reviews', 'user_name', 'joined'])\n",
    "               .dropna())\n",
    "ba_users_df['eu_na'] = ba_users_df.apply(get_na_or_eu, axis=1)\n",
    "\n",
    "rb_users_df = (pd.read_csv(\"./data/RateBeer/users.csv\").drop(\n",
    "    columns=['nbr_ratings', 'user_name', 'joined'])\n",
    "               .dropna())\n",
    "rb_users_df['eu_na'] = rb_users_df.apply(get_na_or_eu, axis=1)\n",
    "\n",
    "print(\"BeerAdvocate\")\n",
    "display(ba_users_df)\n",
    "print(\"RateBeer\")\n",
    "display(rb_users_df)"
   ],
   "metadata": {
    "collapsed": false,
    "ExecuteTime": {
     "end_time": "2023-11-15T21:35:55.123962900Z",
     "start_time": "2023-11-15T21:35:53.639676300Z"
    }
   },
   "id": "af29ab194f5c7943"
  },
  {
   "cell_type": "markdown",
   "source": [
    "Let's analyze the repartition of NA/EU/Other users:"
   ],
   "metadata": {
    "collapsed": false
   },
   "id": "6d2fa7ab6edaa746"
  },
  {
   "cell_type": "code",
   "execution_count": 130,
   "outputs": [
    {
     "name": "stdout",
     "output_type": "stream",
     "text": [
      "BeerAdvocate:\n"
     ]
    },
    {
     "data": {
      "text/plain": "eu_na\nNA       116547\nEU         3944\nOther      1934\nName: count, dtype: int64"
     },
     "metadata": {},
     "output_type": "display_data"
    },
    {
     "name": "stdout",
     "output_type": "stream",
     "text": [
      "\n",
      "RateBeer:\n"
     ]
    },
    {
     "data": {
      "text/plain": "eu_na\nNA       30110\nEU       16156\nOther     4326\nName: count, dtype: int64"
     },
     "metadata": {},
     "output_type": "display_data"
    }
   ],
   "source": [
    "print(\"BeerAdvocate:\")\n",
    "display(ba_users_df['eu_na'].value_counts())\n",
    "print(\"\\nRateBeer:\")\n",
    "display(rb_users_df['eu_na'].value_counts())"
   ],
   "metadata": {
    "collapsed": false,
    "ExecuteTime": {
     "end_time": "2023-11-15T21:35:55.243301400Z",
     "start_time": "2023-11-15T21:35:55.125963Z"
    }
   },
   "id": "484f1a6634dc35e6"
  },
  {
   "cell_type": "markdown",
   "source": [
    "Clearly, the vast majority of users comes from North America, followed by Europe especially in the BeerAdvocate dataset. In the following analysis, we will only consider NA and EU users.\n"
   ],
   "metadata": {
    "collapsed": false
   },
   "id": "5a966673de0e683c"
  },
  {
   "cell_type": "code",
   "execution_count": 131,
   "outputs": [],
   "source": [
    "ba_users_df = ba_users_df.query(\"eu_na != 'Other'\")\n",
    "rb_users_df = rb_users_df.query(\"eu_na != 'Other'\")"
   ],
   "metadata": {
    "collapsed": false,
    "ExecuteTime": {
     "end_time": "2023-11-15T21:35:55.289506800Z",
     "start_time": "2023-11-15T21:35:55.155511700Z"
    }
   },
   "id": "a4ca6f1aca30e17b"
  },
  {
   "cell_type": "markdown",
   "source": [
    "#### 1.1 Load the ratings:"
   ],
   "metadata": {
    "collapsed": false
   },
   "id": "b5a792470d6fd72b"
  },
  {
   "cell_type": "markdown",
   "source": [
    "Load the ratings files:"
   ],
   "metadata": {
    "collapsed": false
   },
   "id": "76e48537037eb611"
  },
  {
   "cell_type": "code",
   "execution_count": 132,
   "outputs": [
    {
     "name": "stdout",
     "output_type": "stream",
     "text": [
      "Loading data from:  ./data/BeerAdvocate/ratings.txt.gz\n"
     ]
    },
    {
     "name": "stderr",
     "output_type": "stream",
     "text": [
      "1799996it [00:01, 901324.32it/s]\n"
     ]
    },
    {
     "name": "stdout",
     "output_type": "stream",
     "text": [
      "Loading data from:  ./data/RateBeer/ratings.txt.gz\n"
     ]
    },
    {
     "name": "stderr",
     "output_type": "stream",
     "text": [
      "1699997it [00:01, 903458.63it/s]\n"
     ]
    }
   ],
   "source": [
    "ba_ratings_df = load_gzip_txt_data(\"./data/BeerAdvocate/ratings.txt.gz\", [\"user_id\", \"date\", \"abv\", \"rating\"],\n",
    "                                   max_entries=100000)\n",
    "rb_ratings_df = load_gzip_txt_data(\"./data/RateBeer/ratings.txt.gz\", [\"user_id\", \"date\", \"abv\", \"rating\"],\n",
    "                                   max_entries=100000)"
   ],
   "metadata": {
    "collapsed": false,
    "ExecuteTime": {
     "end_time": "2023-11-15T21:35:59.244887800Z",
     "start_time": "2023-11-15T21:35:55.186053700Z"
    }
   },
   "id": "ffd4e556623d1ca1"
  },
  {
   "cell_type": "markdown",
   "source": [
    "Cast the columns to meaningful types:"
   ],
   "metadata": {
    "collapsed": false
   },
   "id": "d2378ded81ec1d38"
  },
  {
   "cell_type": "code",
   "execution_count": 133,
   "outputs": [],
   "source": [
    "ba_ratings_df = ba_ratings_df.astype({\n",
    "    'user_id': 'str',\n",
    "    'date': 'int64',\n",
    "    'abv': 'float32',\n",
    "    'rating': 'float32'})\n",
    "\n",
    "rb_ratings_df = rb_ratings_df.astype({\n",
    "    'user_id': 'int64',\n",
    "    'date': 'int64',\n",
    "    'abv': 'float32',\n",
    "    'rating': 'float32'})\n",
    "\n",
    "# Use this to convert the dates to monthly periods:\n",
    "#df['date'] = pd.to_datetime(df['date'].astype('int64'), unit='s').dt.to_period('m').astype('datetime64[M]')"
   ],
   "metadata": {
    "collapsed": false,
    "ExecuteTime": {
     "end_time": "2023-11-15T21:35:59.463244600Z",
     "start_time": "2023-11-15T21:35:59.249483500Z"
    }
   },
   "id": "72db150d10fd1127"
  },
  {
   "cell_type": "markdown",
   "source": [
    "#### 1.2 Merge the users with the ratings"
   ],
   "metadata": {
    "collapsed": false
   },
   "id": "172dc6daba8f3ecc"
  },
  {
   "cell_type": "code",
   "execution_count": 135,
   "outputs": [],
   "source": [
    "ba_df = ba_ratings_df.merge(ba_users_df, on='user_id').drop(columns=['user_id'])\n",
    "rb_df = rb_ratings_df.merge(rb_users_df, on='user_id').drop(columns=['user_id'])"
   ],
   "metadata": {
    "collapsed": false,
    "ExecuteTime": {
     "end_time": "2023-11-15T21:35:59.618837900Z",
     "start_time": "2023-11-15T21:35:59.482858600Z"
    }
   },
   "id": "713b1f2287d376bc"
  },
  {
   "cell_type": "code",
   "execution_count": 136,
   "outputs": [
    {
     "name": "stdout",
     "output_type": "stream",
     "text": [
      "BeerAdvocate:\n"
     ]
    },
    {
     "data": {
      "text/plain": "             date   abv  rating                     location eu_na\n0      1440064800   4.5    2.88    United States, Washington    NA\n1      1447498800   5.0    3.56    United States, Washington    NA\n2      1321614000   8.0    4.50    United States, Washington    NA\n3      1367575200  10.5    3.75    United States, Washington    NA\n4      1422097200   6.0    3.81    United States, Washington    NA\n...           ...   ...     ...                          ...   ...\n91537  1340791200   4.7    4.27       United States, Georgia    NA\n91538  1339754400   4.7    3.25      United States, Illinois    NA\n91539  1338804000   4.7    3.00  United States, Pennsylvania    NA\n91540  1336989600   4.7    3.50       United States, Florida    NA\n91541  1336039200   4.7    3.00  United States, Pennsylvania    NA\n\n[91542 rows x 5 columns]",
      "text/html": "<div>\n<style scoped>\n    .dataframe tbody tr th:only-of-type {\n        vertical-align: middle;\n    }\n\n    .dataframe tbody tr th {\n        vertical-align: top;\n    }\n\n    .dataframe thead th {\n        text-align: right;\n    }\n</style>\n<table border=\"1\" class=\"dataframe\">\n  <thead>\n    <tr style=\"text-align: right;\">\n      <th></th>\n      <th>date</th>\n      <th>abv</th>\n      <th>rating</th>\n      <th>location</th>\n      <th>eu_na</th>\n    </tr>\n  </thead>\n  <tbody>\n    <tr>\n      <th>0</th>\n      <td>1440064800</td>\n      <td>4.5</td>\n      <td>2.88</td>\n      <td>United States, Washington</td>\n      <td>NA</td>\n    </tr>\n    <tr>\n      <th>1</th>\n      <td>1447498800</td>\n      <td>5.0</td>\n      <td>3.56</td>\n      <td>United States, Washington</td>\n      <td>NA</td>\n    </tr>\n    <tr>\n      <th>2</th>\n      <td>1321614000</td>\n      <td>8.0</td>\n      <td>4.50</td>\n      <td>United States, Washington</td>\n      <td>NA</td>\n    </tr>\n    <tr>\n      <th>3</th>\n      <td>1367575200</td>\n      <td>10.5</td>\n      <td>3.75</td>\n      <td>United States, Washington</td>\n      <td>NA</td>\n    </tr>\n    <tr>\n      <th>4</th>\n      <td>1422097200</td>\n      <td>6.0</td>\n      <td>3.81</td>\n      <td>United States, Washington</td>\n      <td>NA</td>\n    </tr>\n    <tr>\n      <th>...</th>\n      <td>...</td>\n      <td>...</td>\n      <td>...</td>\n      <td>...</td>\n      <td>...</td>\n    </tr>\n    <tr>\n      <th>91537</th>\n      <td>1340791200</td>\n      <td>4.7</td>\n      <td>4.27</td>\n      <td>United States, Georgia</td>\n      <td>NA</td>\n    </tr>\n    <tr>\n      <th>91538</th>\n      <td>1339754400</td>\n      <td>4.7</td>\n      <td>3.25</td>\n      <td>United States, Illinois</td>\n      <td>NA</td>\n    </tr>\n    <tr>\n      <th>91539</th>\n      <td>1338804000</td>\n      <td>4.7</td>\n      <td>3.00</td>\n      <td>United States, Pennsylvania</td>\n      <td>NA</td>\n    </tr>\n    <tr>\n      <th>91540</th>\n      <td>1336989600</td>\n      <td>4.7</td>\n      <td>3.50</td>\n      <td>United States, Florida</td>\n      <td>NA</td>\n    </tr>\n    <tr>\n      <th>91541</th>\n      <td>1336039200</td>\n      <td>4.7</td>\n      <td>3.00</td>\n      <td>United States, Pennsylvania</td>\n      <td>NA</td>\n    </tr>\n  </tbody>\n</table>\n<p>91542 rows × 5 columns</p>\n</div>"
     },
     "metadata": {},
     "output_type": "display_data"
    },
    {
     "name": "stdout",
     "output_type": "stream",
     "text": [
      "RateBeer:\n"
     ]
    },
    {
     "data": {
      "text/plain": "             date  abv  rating location eu_na\n0      1461664800  5.0     2.0   Poland    EU\n1      1430820000  5.2     1.7   Poland    EU\n2      1429437600  4.5     1.9   Poland    EU\n3      1429610400  5.3     3.7   Poland    EU\n4      1447326000  6.1     2.5   Poland    EU\n...           ...  ...     ...      ...   ...\n89706  1391598000  6.0     4.5   Canada    NA\n89707  1440064800  6.0     3.7    Spain    EU\n89708  1434016800  6.0     4.4   France    EU\n89709  1483009200  8.5     4.0   Canada    NA\n89710  1326538800  9.0     1.4   Canada    NA\n\n[89711 rows x 5 columns]",
      "text/html": "<div>\n<style scoped>\n    .dataframe tbody tr th:only-of-type {\n        vertical-align: middle;\n    }\n\n    .dataframe tbody tr th {\n        vertical-align: top;\n    }\n\n    .dataframe thead th {\n        text-align: right;\n    }\n</style>\n<table border=\"1\" class=\"dataframe\">\n  <thead>\n    <tr style=\"text-align: right;\">\n      <th></th>\n      <th>date</th>\n      <th>abv</th>\n      <th>rating</th>\n      <th>location</th>\n      <th>eu_na</th>\n    </tr>\n  </thead>\n  <tbody>\n    <tr>\n      <th>0</th>\n      <td>1461664800</td>\n      <td>5.0</td>\n      <td>2.0</td>\n      <td>Poland</td>\n      <td>EU</td>\n    </tr>\n    <tr>\n      <th>1</th>\n      <td>1430820000</td>\n      <td>5.2</td>\n      <td>1.7</td>\n      <td>Poland</td>\n      <td>EU</td>\n    </tr>\n    <tr>\n      <th>2</th>\n      <td>1429437600</td>\n      <td>4.5</td>\n      <td>1.9</td>\n      <td>Poland</td>\n      <td>EU</td>\n    </tr>\n    <tr>\n      <th>3</th>\n      <td>1429610400</td>\n      <td>5.3</td>\n      <td>3.7</td>\n      <td>Poland</td>\n      <td>EU</td>\n    </tr>\n    <tr>\n      <th>4</th>\n      <td>1447326000</td>\n      <td>6.1</td>\n      <td>2.5</td>\n      <td>Poland</td>\n      <td>EU</td>\n    </tr>\n    <tr>\n      <th>...</th>\n      <td>...</td>\n      <td>...</td>\n      <td>...</td>\n      <td>...</td>\n      <td>...</td>\n    </tr>\n    <tr>\n      <th>89706</th>\n      <td>1391598000</td>\n      <td>6.0</td>\n      <td>4.5</td>\n      <td>Canada</td>\n      <td>NA</td>\n    </tr>\n    <tr>\n      <th>89707</th>\n      <td>1440064800</td>\n      <td>6.0</td>\n      <td>3.7</td>\n      <td>Spain</td>\n      <td>EU</td>\n    </tr>\n    <tr>\n      <th>89708</th>\n      <td>1434016800</td>\n      <td>6.0</td>\n      <td>4.4</td>\n      <td>France</td>\n      <td>EU</td>\n    </tr>\n    <tr>\n      <th>89709</th>\n      <td>1483009200</td>\n      <td>8.5</td>\n      <td>4.0</td>\n      <td>Canada</td>\n      <td>NA</td>\n    </tr>\n    <tr>\n      <th>89710</th>\n      <td>1326538800</td>\n      <td>9.0</td>\n      <td>1.4</td>\n      <td>Canada</td>\n      <td>NA</td>\n    </tr>\n  </tbody>\n</table>\n<p>89711 rows × 5 columns</p>\n</div>"
     },
     "metadata": {},
     "output_type": "display_data"
    }
   ],
   "source": [
    "print(\"BeerAdvocate:\")\n",
    "display(ba_df)\n",
    "print(\"RateBeer:\")\n",
    "display(rb_df)"
   ],
   "metadata": {
    "collapsed": false,
    "ExecuteTime": {
     "end_time": "2023-11-15T21:35:59.677631600Z",
     "start_time": "2023-11-15T21:35:59.629861500Z"
    }
   },
   "id": "db2703d461f0ba89"
  },
  {
   "cell_type": "markdown",
   "source": [
    "## 2. General Analysis "
   ],
   "metadata": {
    "collapsed": false
   },
   "id": "88873ef49b600792"
  },
  {
   "cell_type": "code",
   "execution_count": null,
   "outputs": [],
   "source": [
    "# TODO: use abv (maybe round it to plot histograms), and date to see differences and evolutions. Try to approach the research (sub)questions.\n",
    "# TODO: Do we want to use a bit of NLP ? Not sure how to do it in a meaningful way...\n",
    "# TODO: PLEASE plot with seaborn if simpler (mainly for automatic CI) I beg you ^^"
   ],
   "metadata": {
    "collapsed": false
   },
   "id": "1651a6c25097915b"
  }
 ],
 "metadata": {
  "kernelspec": {
   "display_name": "Python 3",
   "language": "python",
   "name": "python3"
  },
  "language_info": {
   "codemirror_mode": {
    "name": "ipython",
    "version": 2
   },
   "file_extension": ".py",
   "mimetype": "text/x-python",
   "name": "python",
   "nbconvert_exporter": "python",
   "pygments_lexer": "ipython2",
   "version": "2.7.6"
  }
 },
 "nbformat": 4,
 "nbformat_minor": 5
}
