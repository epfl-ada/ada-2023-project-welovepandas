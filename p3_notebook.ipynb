{
 "cells": [
  {
   "cell_type": "markdown",
   "id": "c633bbc9eed26334",
   "metadata": {
    "collapsed": false
   },
   "source": [
    "# Project Milestone 3 Notebook\n",
    "## Do Americans prefer beers with a higher alcohol content (ABV) than Europeans? \n",
    "- Is there a correlation between this preference and specific beer styles known for higher ABV?\n",
    "We will use grouping techniques and micro/macro averages to analyse this preference.\n",
    "- How have beer preferences, especially in terms of ABV, evolved in America and Europe between 2000 and 2017?\n",
    "To analyse this question, we will use time series analysis and visualisation techniques."
   ]
  },
  {
   "cell_type": "markdown",
   "id": "1aaaef728f5cbc61",
   "metadata": {
    "collapsed": false
   },
   "source": [
    "## 1. Imports and global variables"
   ]
  },
  {
   "cell_type": "code",
   "execution_count": 1,
   "id": "fd335edd10b294d1",
   "metadata": {
    "ExecuteTime": {
     "end_time": "2023-12-22T21:14:42.924444200Z",
     "start_time": "2023-12-22T21:14:42.897387800Z"
    },
    "collapsed": false
   },
   "outputs": [],
   "source": [
    "import pandas as pd\n",
    "import numpy as np\n",
    "import matplotlib.pyplot as plt\n",
    "import seaborn as sns\n",
    "from load_data import load_gzip_txt_data"
   ]
  },
  {
   "cell_type": "markdown",
   "id": "8077249376adfff",
   "metadata": {
    "collapsed": false
   },
   "source": [
    "## 2. Preprocessing of the data:"
   ]
  },
  {
   "cell_type": "markdown",
   "id": "64fd786cec3ccf58",
   "metadata": {
    "collapsed": false
   },
   "source": [
    "#### 2.1 Load the users and split between North America and Europe:"
   ]
  },
  {
   "cell_type": "markdown",
   "id": "d3fe742c3bc98da3",
   "metadata": {
    "collapsed": false
   },
   "source": [
    "Define European countries:"
   ]
  },
  {
   "cell_type": "code",
   "execution_count": 2,
   "id": "180de183d41049d9",
   "metadata": {
    "ExecuteTime": {
     "end_time": "2023-12-22T21:14:42.945525600Z",
     "start_time": "2023-12-22T21:14:42.925467600Z"
    },
    "collapsed": false
   },
   "outputs": [],
   "source": [
    "european_countries = [\n",
    "    \"Albania\", \"Andorra\", \"Armenia\", \"Austria\", \"Azerbaijan\", \"Belarus\",\n",
    "    \"Belgium\", \"Bosnia and Herzegovina\", \"Bulgaria\", \"Croatia\", \"Cyprus\",\n",
    "    \"Czech Republic\", \"Denmark\", \"England\", \"Estonia\", \"Finland\", \"France\", \"Georgia\",\n",
    "    \"Germany\", \"Gibraltar\", \"Greece\", \"Hungary\", \"Iceland\", \"Ireland\", \"Italy\", \"Jersey\", \"Kazakhstan\",\n",
    "    \"Kosovo\", \"Latvia\", \"Liechtenstein\", \"Lithuania\", \"Luxembourg\", \"Malta\",\n",
    "    \"Moldova\", \"Monaco\", \"Montenegro\", \"Netherlands\", \"Northern Ireland\", \"Macedonia\",\n",
    "    \"Norway\", \"Poland\", \"Portugal\", \"Romania\", \"Russia\", \"San Marino\", \"Scotland\", \"Serbia\",\n",
    "    \"Slovakia\", \"Slovak Republic\", \"Slovenia\", \"Spain\", \"Sweden\", \"Switzerland\", \"Turkey\",\n",
    "    \"Ukraine\", \"Vatican City\", \"Wales\"\n",
    "]\n",
    "\n",
    "# /!\\ Slovakia in RateBeer and Slovak Republic in BeerAdvocate /!\\"
   ]
  },
  {
   "cell_type": "markdown",
   "id": "82d406e1852ac73e",
   "metadata": {
    "collapsed": false
   },
   "source": [
    "Load users files and classify if European, North American or neither:"
   ]
  },
  {
   "cell_type": "code",
   "execution_count": 3,
   "id": "af29ab194f5c7943",
   "metadata": {
    "ExecuteTime": {
     "end_time": "2023-12-22T21:14:44.390163Z",
     "start_time": "2023-12-22T21:14:42.943528Z"
    },
    "collapsed": false
   },
   "outputs": [
    {
     "name": "stdout",
     "output_type": "stream",
     "text": [
      "BeerAdvocate:\n"
     ]
    },
    {
     "data": {
      "text/html": [
       "<div>\n",
       "<style scoped>\n",
       "    .dataframe tbody tr th:only-of-type {\n",
       "        vertical-align: middle;\n",
       "    }\n",
       "\n",
       "    .dataframe tbody tr th {\n",
       "        vertical-align: top;\n",
       "    }\n",
       "\n",
       "    .dataframe thead th {\n",
       "        text-align: right;\n",
       "    }\n",
       "</style>\n",
       "<table border=\"1\" class=\"dataframe\">\n",
       "  <thead>\n",
       "    <tr style=\"text-align: right;\">\n",
       "      <th></th>\n",
       "      <th>user_id</th>\n",
       "      <th>location</th>\n",
       "      <th>eu_na</th>\n",
       "    </tr>\n",
       "  </thead>\n",
       "  <tbody>\n",
       "    <tr>\n",
       "      <th>0</th>\n",
       "      <td>nmann08.184925</td>\n",
       "      <td>United States, Washington</td>\n",
       "      <td>North America</td>\n",
       "    </tr>\n",
       "    <tr>\n",
       "      <th>1</th>\n",
       "      <td>stjamesgate.163714</td>\n",
       "      <td>United States, New York</td>\n",
       "      <td>North America</td>\n",
       "    </tr>\n",
       "    <tr>\n",
       "      <th>2</th>\n",
       "      <td>mdagnew.19527</td>\n",
       "      <td>Northern Ireland</td>\n",
       "      <td>Europe</td>\n",
       "    </tr>\n",
       "    <tr>\n",
       "      <th>3</th>\n",
       "      <td>helloloser12345.10867</td>\n",
       "      <td>Northern Ireland</td>\n",
       "      <td>Europe</td>\n",
       "    </tr>\n",
       "    <tr>\n",
       "      <th>4</th>\n",
       "      <td>cypressbob.3708</td>\n",
       "      <td>Northern Ireland</td>\n",
       "      <td>Europe</td>\n",
       "    </tr>\n",
       "    <tr>\n",
       "      <th>...</th>\n",
       "      <td>...</td>\n",
       "      <td>...</td>\n",
       "      <td>...</td>\n",
       "    </tr>\n",
       "    <tr>\n",
       "      <th>120486</th>\n",
       "      <td>eturchick.374415</td>\n",
       "      <td>United States, California</td>\n",
       "      <td>North America</td>\n",
       "    </tr>\n",
       "    <tr>\n",
       "      <th>120487</th>\n",
       "      <td>everman.532342</td>\n",
       "      <td>United States, California</td>\n",
       "      <td>North America</td>\n",
       "    </tr>\n",
       "    <tr>\n",
       "      <th>120488</th>\n",
       "      <td>justin0001.352175</td>\n",
       "      <td>United States, California</td>\n",
       "      <td>North America</td>\n",
       "    </tr>\n",
       "    <tr>\n",
       "      <th>120489</th>\n",
       "      <td>joetex.800347</td>\n",
       "      <td>United States, California</td>\n",
       "      <td>North America</td>\n",
       "    </tr>\n",
       "    <tr>\n",
       "      <th>120490</th>\n",
       "      <td>alexmatt86.313751</td>\n",
       "      <td>United States, California</td>\n",
       "      <td>North America</td>\n",
       "    </tr>\n",
       "  </tbody>\n",
       "</table>\n",
       "<p>120491 rows × 3 columns</p>\n",
       "</div>"
      ],
      "text/plain": [
       "                      user_id                   location          eu_na\n",
       "0              nmann08.184925  United States, Washington  North America\n",
       "1          stjamesgate.163714    United States, New York  North America\n",
       "2               mdagnew.19527           Northern Ireland         Europe\n",
       "3       helloloser12345.10867           Northern Ireland         Europe\n",
       "4             cypressbob.3708           Northern Ireland         Europe\n",
       "...                       ...                        ...            ...\n",
       "120486       eturchick.374415  United States, California  North America\n",
       "120487         everman.532342  United States, California  North America\n",
       "120488      justin0001.352175  United States, California  North America\n",
       "120489          joetex.800347  United States, California  North America\n",
       "120490      alexmatt86.313751  United States, California  North America\n",
       "\n",
       "[120491 rows x 3 columns]"
      ]
     },
     "metadata": {},
     "output_type": "display_data"
    },
    {
     "name": "stdout",
     "output_type": "stream",
     "text": [
      "RateBeer:\n"
     ]
    },
    {
     "data": {
      "text/html": [
       "<div>\n",
       "<style scoped>\n",
       "    .dataframe tbody tr th:only-of-type {\n",
       "        vertical-align: middle;\n",
       "    }\n",
       "\n",
       "    .dataframe tbody tr th {\n",
       "        vertical-align: top;\n",
       "    }\n",
       "\n",
       "    .dataframe thead th {\n",
       "        text-align: right;\n",
       "    }\n",
       "</style>\n",
       "<table border=\"1\" class=\"dataframe\">\n",
       "  <thead>\n",
       "    <tr style=\"text-align: right;\">\n",
       "      <th></th>\n",
       "      <th>user_id</th>\n",
       "      <th>location</th>\n",
       "      <th>eu_na</th>\n",
       "    </tr>\n",
       "  </thead>\n",
       "  <tbody>\n",
       "    <tr>\n",
       "      <th>0</th>\n",
       "      <td>175852</td>\n",
       "      <td>Poland</td>\n",
       "      <td>Europe</td>\n",
       "    </tr>\n",
       "    <tr>\n",
       "      <th>1</th>\n",
       "      <td>442761</td>\n",
       "      <td>Spain</td>\n",
       "      <td>Europe</td>\n",
       "    </tr>\n",
       "    <tr>\n",
       "      <th>2</th>\n",
       "      <td>288889</td>\n",
       "      <td>Poland</td>\n",
       "      <td>Europe</td>\n",
       "    </tr>\n",
       "    <tr>\n",
       "      <th>3</th>\n",
       "      <td>250510</td>\n",
       "      <td>Spain</td>\n",
       "      <td>Europe</td>\n",
       "    </tr>\n",
       "    <tr>\n",
       "      <th>4</th>\n",
       "      <td>122778</td>\n",
       "      <td>Germany</td>\n",
       "      <td>Europe</td>\n",
       "    </tr>\n",
       "    <tr>\n",
       "      <th>...</th>\n",
       "      <td>...</td>\n",
       "      <td>...</td>\n",
       "      <td>...</td>\n",
       "    </tr>\n",
       "    <tr>\n",
       "      <th>46261</th>\n",
       "      <td>181614</td>\n",
       "      <td>Norway</td>\n",
       "      <td>Europe</td>\n",
       "    </tr>\n",
       "    <tr>\n",
       "      <th>46262</th>\n",
       "      <td>134893</td>\n",
       "      <td>England</td>\n",
       "      <td>Europe</td>\n",
       "    </tr>\n",
       "    <tr>\n",
       "      <th>46263</th>\n",
       "      <td>327816</td>\n",
       "      <td>Belgium</td>\n",
       "      <td>Europe</td>\n",
       "    </tr>\n",
       "    <tr>\n",
       "      <th>46264</th>\n",
       "      <td>82020</td>\n",
       "      <td>Slovenia</td>\n",
       "      <td>Europe</td>\n",
       "    </tr>\n",
       "    <tr>\n",
       "      <th>46265</th>\n",
       "      <td>48123</td>\n",
       "      <td>United States, Virginia</td>\n",
       "      <td>North America</td>\n",
       "    </tr>\n",
       "  </tbody>\n",
       "</table>\n",
       "<p>46266 rows × 3 columns</p>\n",
       "</div>"
      ],
      "text/plain": [
       "       user_id                 location          eu_na\n",
       "0       175852                   Poland         Europe\n",
       "1       442761                    Spain         Europe\n",
       "2       288889                   Poland         Europe\n",
       "3       250510                    Spain         Europe\n",
       "4       122778                  Germany         Europe\n",
       "...        ...                      ...            ...\n",
       "46261   181614                   Norway         Europe\n",
       "46262   134893                  England         Europe\n",
       "46263   327816                  Belgium         Europe\n",
       "46264    82020                 Slovenia         Europe\n",
       "46265    48123  United States, Virginia  North America\n",
       "\n",
       "[46266 rows x 3 columns]"
      ]
     },
     "metadata": {},
     "output_type": "display_data"
    }
   ],
   "source": [
    "def get_na_or_eu(row):\n",
    "    \"\"\"\n",
    "    In a Dataframe with a column \"location\", returns whether the location \n",
    "    is in Europe or North America.\n",
    "    \n",
    "    :param row: pandas.Dataframe row with an attribute \"location\".\n",
    "    :return: str, can be \"NA\", \"EU\" or \"Other\".\n",
    "    \"\"\"\n",
    "    location = row['location']\n",
    "    if location in european_countries:\n",
    "        return 'Europe'\n",
    "    elif (location == 'Canada') or (\"United States\" in str(location)):\n",
    "        return 'North America'\n",
    "    else:\n",
    "        return 'Other'\n",
    "\n",
    "\n",
    "ba_users_df = pd.read_csv(\"./data/BeerAdvocate/users.csv\")[['user_id', 'location']].dropna()\n",
    "ba_users_df['eu_na'] = ba_users_df.apply(get_na_or_eu, axis=1)\n",
    "\n",
    "rb_users_df = pd.read_csv(\"./data/RateBeer/users.csv\")[['user_id', 'location']].dropna()\n",
    "rb_users_df['eu_na'] = rb_users_df.apply(get_na_or_eu, axis=1)\n",
    "\n",
    "# We only care about EU or NA users\n",
    "ba_users_df = ba_users_df.query(\"eu_na != 'Other'\").reset_index(drop=True)\n",
    "rb_users_df = rb_users_df.query(\"eu_na != 'Other'\").reset_index(drop=True)\n",
    "\n",
    "print(\"BeerAdvocate:\")\n",
    "display(ba_users_df)\n",
    "print(\"RateBeer:\")\n",
    "display(rb_users_df)"
   ]
  },
  {
   "cell_type": "markdown",
   "id": "b5a792470d6fd72b",
   "metadata": {
    "collapsed": false
   },
   "source": [
    "#### 2.2 Load the ratings:"
   ]
  },
  {
   "cell_type": "markdown",
   "id": "76e48537037eb611",
   "metadata": {
    "collapsed": false
   },
   "source": [
    "Load the ratings files:"
   ]
  },
  {
   "cell_type": "code",
   "execution_count": 4,
   "id": "ffd4e556623d1ca1",
   "metadata": {
    "ExecuteTime": {
     "end_time": "2023-12-22T21:19:56.725245800Z",
     "start_time": "2023-12-22T21:14:44.359928600Z"
    },
    "collapsed": false
   },
   "outputs": [
    {
     "name": "stdout",
     "output_type": "stream",
     "text": [
      "Loading data from:  ./data/BeerAdvocate/ratings.txt.gz\n"
     ]
    },
    {
     "name": "stderr",
     "output_type": "stream",
     "text": [
      "151074576it [01:08, 2205451.87it/s]\n"
     ]
    },
    {
     "name": "stdout",
     "output_type": "stream",
     "text": [
      "Loading data from:  ./data/RateBeer/ratings.txt.gz\n"
     ]
    },
    {
     "name": "stderr",
     "output_type": "stream",
     "text": [
      "121075258it [01:03, 1901834.16it/s]\n"
     ]
    }
   ],
   "source": [
    "ba_ratings_df = load_gzip_txt_data(\"./data/BeerAdvocate/ratings.txt.gz\",\n",
    "                                   [\"user_id\", \"beer_id\", \"date\", \"abv\", \"style\", \"rating\"]).dropna()\n",
    "rb_ratings_df = load_gzip_txt_data(\"./data/RateBeer/ratings.txt.gz\",\n",
    "                                   [\"user_id\", \"beer_id\", \"date\", \"abv\", \"style\", \"rating\"]).dropna()"
   ]
  },
  {
   "cell_type": "markdown",
   "id": "d2378ded81ec1d38",
   "metadata": {
    "collapsed": false
   },
   "source": [
    "Cast the columns to meaningful types:"
   ]
  },
  {
   "cell_type": "code",
   "execution_count": 5,
   "id": "72db150d10fd1127",
   "metadata": {
    "ExecuteTime": {
     "end_time": "2023-12-22T21:20:16.397895Z",
     "start_time": "2023-12-22T21:19:56.730553300Z"
    },
    "collapsed": false
   },
   "outputs": [],
   "source": [
    "ba_ratings_df = ba_ratings_df.astype({\n",
    "    'user_id': 'str',\n",
    "    'beer_id': 'int64',\n",
    "    'date': 'int64',\n",
    "    'abv': 'float32',\n",
    "    'rating': 'float32'})\n",
    "\n",
    "rb_ratings_df = rb_ratings_df.astype({\n",
    "    'user_id': 'int64',\n",
    "    'beer_id': 'int64',\n",
    "    'date': 'int64',\n",
    "    'abv': 'float32',\n",
    "    'rating': 'float32'})\n",
    "\n",
    "# Convert the dates to monthly periods (useful for plotting):\n",
    "ba_ratings_df['date'] = pd.to_datetime(ba_ratings_df['date'], unit='s').dt.to_period('m').astype('datetime64[M]')\n",
    "rb_ratings_df['date'] = pd.to_datetime(rb_ratings_df['date'], unit='s').dt.to_period('m').astype('datetime64[M]')"
   ]
  },
  {
   "cell_type": "markdown",
   "id": "971b7eb4ce87a117",
   "metadata": {
    "collapsed": false
   },
   "source": [
    "#### 2.3 Group similar beer styles into broader groups\n",
    "\n",
    "This will make comparisons between different type of beers way easier. "
   ]
  },
  {
   "cell_type": "markdown",
   "id": "a2afd4d74fc6e5",
   "metadata": {
    "collapsed": false
   },
   "source": [
    "We defined the broad groups using https://www.beeradvocate.com/beer/styles/, so we can just load the csv file that we created, containing the matching specific type -> general type:"
   ]
  },
  {
   "cell_type": "code",
   "execution_count": 6,
   "id": "14ed6bdd8266a825",
   "metadata": {
    "ExecuteTime": {
     "end_time": "2023-12-22T21:20:16.502537600Z",
     "start_time": "2023-12-22T21:20:16.398909300Z"
    },
    "collapsed": false
   },
   "outputs": [
    {
     "name": "stdout",
     "output_type": "stream",
     "text": [
      "General styles:\n",
      "{'Dark Lagers', 'Stouts', 'Pale Ales', 'Wild/Sour Beers', 'Strong Ales', 'Hybrid Beers', 'Porters', 'Pale Lagers', 'Saké', 'Brown Ales', 'Wheat Beers', 'Dark Ales', 'Specialty Beers', 'Bocks', 'India Pale Ales'}\n"
     ]
    }
   ],
   "source": [
    "beer_styles_matching = pd.read_csv(\"./data/additional/styles_matching.csv\", index_col='specific')['general'].to_dict()\n",
    "print(f\"General styles:\\n{set(beer_styles_matching.values())}\")"
   ]
  },
  {
   "cell_type": "markdown",
   "id": "c7b9555d9843eba6",
   "metadata": {
    "collapsed": false
   },
   "source": [
    "Note: we don't want to take the Saké into account as it is not a beer!"
   ]
  },
  {
   "cell_type": "markdown",
   "id": "8d554bde213f86aa",
   "metadata": {
    "collapsed": false
   },
   "source": [
    "Replace the specific beer style by the general style (and drop Saké ratings):"
   ]
  },
  {
   "cell_type": "code",
   "execution_count": 7,
   "id": "48040514e2fdc07c",
   "metadata": {
    "ExecuteTime": {
     "end_time": "2023-12-22T21:20:16.521095800Z",
     "start_time": "2023-12-22T21:20:16.431029Z"
    },
    "collapsed": false
   },
   "outputs": [],
   "source": [
    "def specific_style_to_general(row):\n",
    "    return beer_styles_matching[row['style']]"
   ]
  },
  {
   "cell_type": "code",
   "execution_count": 8,
   "id": "4fb2b2c926ffad0b",
   "metadata": {
    "ExecuteTime": {
     "end_time": "2023-12-22T21:22:13.791478600Z",
     "start_time": "2023-12-22T21:20:19.672150500Z"
    },
    "collapsed": false
   },
   "outputs": [],
   "source": [
    "ba_ratings_df['style'] = ba_ratings_df.apply(specific_style_to_general, axis=1)\n",
    "rb_ratings_df['style'] = rb_ratings_df.apply(specific_style_to_general, axis=1)\n",
    "\n",
    "# Drop Saké\n",
    "ba_ratings_df = ba_ratings_df.query(\"style != 'Saké'\")\n",
    "rb_ratings_df = rb_ratings_df.query(\"style != 'Saké'\")"
   ]
  },
  {
   "cell_type": "code",
   "execution_count": 9,
   "id": "b0166ca010b33db0",
   "metadata": {
    "ExecuteTime": {
     "end_time": "2023-12-22T21:22:14.823218900Z",
     "start_time": "2023-12-22T21:22:13.795445100Z"
    },
    "collapsed": false
   },
   "outputs": [
    {
     "name": "stdout",
     "output_type": "stream",
     "text": [
      "BeerAdvocate:\n"
     ]
    },
    {
     "data": {
      "text/html": [
       "<div>\n",
       "<style scoped>\n",
       "    .dataframe tbody tr th:only-of-type {\n",
       "        vertical-align: middle;\n",
       "    }\n",
       "\n",
       "    .dataframe tbody tr th {\n",
       "        vertical-align: top;\n",
       "    }\n",
       "\n",
       "    .dataframe thead th {\n",
       "        text-align: right;\n",
       "    }\n",
       "</style>\n",
       "<table border=\"1\" class=\"dataframe\">\n",
       "  <thead>\n",
       "    <tr style=\"text-align: right;\">\n",
       "      <th></th>\n",
       "      <th>user_id</th>\n",
       "      <th>beer_id</th>\n",
       "      <th>date</th>\n",
       "      <th>abv</th>\n",
       "      <th>style</th>\n",
       "      <th>rating</th>\n",
       "    </tr>\n",
       "  </thead>\n",
       "  <tbody>\n",
       "    <tr>\n",
       "      <th>7965544</th>\n",
       "      <td>edhizdeid.749286</td>\n",
       "      <td>21683</td>\n",
       "      <td>2013-08-01</td>\n",
       "      <td>5.0</td>\n",
       "      <td>Wild/Sour Beers</td>\n",
       "      <td>5.00</td>\n",
       "    </tr>\n",
       "    <tr>\n",
       "      <th>3460790</th>\n",
       "      <td>sparx1100.228702</td>\n",
       "      <td>77299</td>\n",
       "      <td>2013-10-01</td>\n",
       "      <td>9.1</td>\n",
       "      <td>India Pale Ales</td>\n",
       "      <td>3.75</td>\n",
       "    </tr>\n",
       "    <tr>\n",
       "      <th>2506185</th>\n",
       "      <td>aficionado_shawn.735756</td>\n",
       "      <td>88</td>\n",
       "      <td>2014-08-01</td>\n",
       "      <td>6.9</td>\n",
       "      <td>India Pale Ales</td>\n",
       "      <td>4.50</td>\n",
       "    </tr>\n",
       "    <tr>\n",
       "      <th>3685424</th>\n",
       "      <td>redfacedshooter.657405</td>\n",
       "      <td>47151</td>\n",
       "      <td>2012-02-01</td>\n",
       "      <td>9.9</td>\n",
       "      <td>India Pale Ales</td>\n",
       "      <td>3.00</td>\n",
       "    </tr>\n",
       "    <tr>\n",
       "      <th>2601540</th>\n",
       "      <td>kflorence.265203</td>\n",
       "      <td>6428</td>\n",
       "      <td>2011-07-01</td>\n",
       "      <td>5.8</td>\n",
       "      <td>Pale Ales</td>\n",
       "      <td>3.33</td>\n",
       "    </tr>\n",
       "    <tr>\n",
       "      <th>6400106</th>\n",
       "      <td>festigio.713551</td>\n",
       "      <td>15813</td>\n",
       "      <td>2013-03-01</td>\n",
       "      <td>9.0</td>\n",
       "      <td>Stouts</td>\n",
       "      <td>4.50</td>\n",
       "    </tr>\n",
       "    <tr>\n",
       "      <th>1910164</th>\n",
       "      <td>jesse13713.564273</td>\n",
       "      <td>127733</td>\n",
       "      <td>2014-09-01</td>\n",
       "      <td>7.7</td>\n",
       "      <td>Bocks</td>\n",
       "      <td>3.00</td>\n",
       "    </tr>\n",
       "    <tr>\n",
       "      <th>2521987</th>\n",
       "      <td>chinabeergeek.152291</td>\n",
       "      <td>49281</td>\n",
       "      <td>2009-05-01</td>\n",
       "      <td>5.4</td>\n",
       "      <td>Pale Ales</td>\n",
       "      <td>3.87</td>\n",
       "    </tr>\n",
       "    <tr>\n",
       "      <th>6356957</th>\n",
       "      <td>stevem68.986615</td>\n",
       "      <td>145082</td>\n",
       "      <td>2015-11-01</td>\n",
       "      <td>6.0</td>\n",
       "      <td>Pale Ales</td>\n",
       "      <td>3.71</td>\n",
       "    </tr>\n",
       "    <tr>\n",
       "      <th>7269260</th>\n",
       "      <td>williamherbert.98404</td>\n",
       "      <td>5753</td>\n",
       "      <td>2009-05-01</td>\n",
       "      <td>6.0</td>\n",
       "      <td>Pale Ales</td>\n",
       "      <td>2.93</td>\n",
       "    </tr>\n",
       "  </tbody>\n",
       "</table>\n",
       "</div>"
      ],
      "text/plain": [
       "                         user_id  beer_id       date  abv            style  \\\n",
       "7965544         edhizdeid.749286    21683 2013-08-01  5.0  Wild/Sour Beers   \n",
       "3460790         sparx1100.228702    77299 2013-10-01  9.1  India Pale Ales   \n",
       "2506185  aficionado_shawn.735756       88 2014-08-01  6.9  India Pale Ales   \n",
       "3685424   redfacedshooter.657405    47151 2012-02-01  9.9  India Pale Ales   \n",
       "2601540         kflorence.265203     6428 2011-07-01  5.8        Pale Ales   \n",
       "6400106          festigio.713551    15813 2013-03-01  9.0           Stouts   \n",
       "1910164        jesse13713.564273   127733 2014-09-01  7.7            Bocks   \n",
       "2521987     chinabeergeek.152291    49281 2009-05-01  5.4        Pale Ales   \n",
       "6356957          stevem68.986615   145082 2015-11-01  6.0        Pale Ales   \n",
       "7269260     williamherbert.98404     5753 2009-05-01  6.0        Pale Ales   \n",
       "\n",
       "         rating  \n",
       "7965544    5.00  \n",
       "3460790    3.75  \n",
       "2506185    4.50  \n",
       "3685424    3.00  \n",
       "2601540    3.33  \n",
       "6400106    4.50  \n",
       "1910164    3.00  \n",
       "2521987    3.87  \n",
       "6356957    3.71  \n",
       "7269260    2.93  "
      ]
     },
     "metadata": {},
     "output_type": "display_data"
    },
    {
     "name": "stdout",
     "output_type": "stream",
     "text": [
      "RateBeer:\n"
     ]
    },
    {
     "data": {
      "text/html": [
       "<div>\n",
       "<style scoped>\n",
       "    .dataframe tbody tr th:only-of-type {\n",
       "        vertical-align: middle;\n",
       "    }\n",
       "\n",
       "    .dataframe tbody tr th {\n",
       "        vertical-align: top;\n",
       "    }\n",
       "\n",
       "    .dataframe thead th {\n",
       "        text-align: right;\n",
       "    }\n",
       "</style>\n",
       "<table border=\"1\" class=\"dataframe\">\n",
       "  <thead>\n",
       "    <tr style=\"text-align: right;\">\n",
       "      <th></th>\n",
       "      <th>user_id</th>\n",
       "      <th>beer_id</th>\n",
       "      <th>date</th>\n",
       "      <th>abv</th>\n",
       "      <th>style</th>\n",
       "      <th>rating</th>\n",
       "    </tr>\n",
       "  </thead>\n",
       "  <tbody>\n",
       "    <tr>\n",
       "      <th>5630325</th>\n",
       "      <td>68334</td>\n",
       "      <td>318273</td>\n",
       "      <td>2015-04-01</td>\n",
       "      <td>5.8</td>\n",
       "      <td>Pale Ales</td>\n",
       "      <td>3.3</td>\n",
       "    </tr>\n",
       "    <tr>\n",
       "      <th>1374546</th>\n",
       "      <td>76253</td>\n",
       "      <td>178022</td>\n",
       "      <td>2014-07-01</td>\n",
       "      <td>6.0</td>\n",
       "      <td>Hybrid Beers</td>\n",
       "      <td>4.3</td>\n",
       "    </tr>\n",
       "    <tr>\n",
       "      <th>1332196</th>\n",
       "      <td>33484</td>\n",
       "      <td>24348</td>\n",
       "      <td>2013-04-01</td>\n",
       "      <td>NaN</td>\n",
       "      <td>Pale Lagers</td>\n",
       "      <td>2.6</td>\n",
       "    </tr>\n",
       "    <tr>\n",
       "      <th>2745160</th>\n",
       "      <td>12252</td>\n",
       "      <td>16008</td>\n",
       "      <td>2006-07-01</td>\n",
       "      <td>5.0</td>\n",
       "      <td>Wheat Beers</td>\n",
       "      <td>3.2</td>\n",
       "    </tr>\n",
       "    <tr>\n",
       "      <th>4702884</th>\n",
       "      <td>10619</td>\n",
       "      <td>3043</td>\n",
       "      <td>2008-10-01</td>\n",
       "      <td>5.0</td>\n",
       "      <td>Brown Ales</td>\n",
       "      <td>2.9</td>\n",
       "    </tr>\n",
       "    <tr>\n",
       "      <th>5002397</th>\n",
       "      <td>11116</td>\n",
       "      <td>117812</td>\n",
       "      <td>2010-09-01</td>\n",
       "      <td>6.0</td>\n",
       "      <td>India Pale Ales</td>\n",
       "      <td>3.3</td>\n",
       "    </tr>\n",
       "    <tr>\n",
       "      <th>3044782</th>\n",
       "      <td>17111</td>\n",
       "      <td>13262</td>\n",
       "      <td>2009-04-01</td>\n",
       "      <td>4.2</td>\n",
       "      <td>Dark Lagers</td>\n",
       "      <td>3.5</td>\n",
       "    </tr>\n",
       "    <tr>\n",
       "      <th>2462043</th>\n",
       "      <td>24724</td>\n",
       "      <td>153247</td>\n",
       "      <td>2012-05-01</td>\n",
       "      <td>9.0</td>\n",
       "      <td>Strong Ales</td>\n",
       "      <td>3.3</td>\n",
       "    </tr>\n",
       "    <tr>\n",
       "      <th>693670</th>\n",
       "      <td>32671</td>\n",
       "      <td>19166</td>\n",
       "      <td>2008-04-01</td>\n",
       "      <td>5.0</td>\n",
       "      <td>Pale Lagers</td>\n",
       "      <td>2.3</td>\n",
       "    </tr>\n",
       "    <tr>\n",
       "      <th>4085126</th>\n",
       "      <td>120893</td>\n",
       "      <td>127065</td>\n",
       "      <td>2017-03-01</td>\n",
       "      <td>7.2</td>\n",
       "      <td>Specialty Beers</td>\n",
       "      <td>3.5</td>\n",
       "    </tr>\n",
       "  </tbody>\n",
       "</table>\n",
       "</div>"
      ],
      "text/plain": [
       "         user_id  beer_id       date  abv            style  rating\n",
       "5630325    68334   318273 2015-04-01  5.8        Pale Ales     3.3\n",
       "1374546    76253   178022 2014-07-01  6.0     Hybrid Beers     4.3\n",
       "1332196    33484    24348 2013-04-01  NaN      Pale Lagers     2.6\n",
       "2745160    12252    16008 2006-07-01  5.0      Wheat Beers     3.2\n",
       "4702884    10619     3043 2008-10-01  5.0       Brown Ales     2.9\n",
       "5002397    11116   117812 2010-09-01  6.0  India Pale Ales     3.3\n",
       "3044782    17111    13262 2009-04-01  4.2      Dark Lagers     3.5\n",
       "2462043    24724   153247 2012-05-01  9.0      Strong Ales     3.3\n",
       "693670     32671    19166 2008-04-01  5.0      Pale Lagers     2.3\n",
       "4085126   120893   127065 2017-03-01  7.2  Specialty Beers     3.5"
      ]
     },
     "metadata": {},
     "output_type": "display_data"
    }
   ],
   "source": [
    "print(\"BeerAdvocate:\")\n",
    "display(ba_ratings_df.sample(10))\n",
    "print(\"RateBeer:\")\n",
    "display(rb_ratings_df.sample(10))"
   ]
  },
  {
   "cell_type": "markdown",
   "id": "172dc6daba8f3ecc",
   "metadata": {
    "collapsed": false
   },
   "source": [
    "#### 2.4 Merge the users with the ratings"
   ]
  },
  {
   "cell_type": "code",
   "execution_count": 10,
   "id": "2353d753b13f65e8",
   "metadata": {
    "ExecuteTime": {
     "end_time": "2023-12-22T21:22:24.567382700Z",
     "start_time": "2023-12-22T21:22:17.458246600Z"
    },
    "collapsed": false
   },
   "outputs": [],
   "source": [
    "ba_df = ba_ratings_df.merge(ba_users_df, on='user_id').drop(columns=['user_id', 'location'])\n",
    "rb_df = rb_ratings_df.merge(rb_users_df, on='user_id').drop(columns=['user_id', 'location'])"
   ]
  },
  {
   "cell_type": "code",
   "execution_count": 11,
   "id": "db2703d461f0ba89",
   "metadata": {
    "ExecuteTime": {
     "end_time": "2023-12-22T21:22:24.825331100Z",
     "start_time": "2023-12-22T21:22:24.569432600Z"
    },
    "collapsed": false
   },
   "outputs": [
    {
     "name": "stdout",
     "output_type": "stream",
     "text": [
      "BeerAdvocate:\n"
     ]
    },
    {
     "data": {
      "text/html": [
       "<div>\n",
       "<style scoped>\n",
       "    .dataframe tbody tr th:only-of-type {\n",
       "        vertical-align: middle;\n",
       "    }\n",
       "\n",
       "    .dataframe tbody tr th {\n",
       "        vertical-align: top;\n",
       "    }\n",
       "\n",
       "    .dataframe thead th {\n",
       "        text-align: right;\n",
       "    }\n",
       "</style>\n",
       "<table border=\"1\" class=\"dataframe\">\n",
       "  <thead>\n",
       "    <tr style=\"text-align: right;\">\n",
       "      <th></th>\n",
       "      <th>beer_id</th>\n",
       "      <th>date</th>\n",
       "      <th>abv</th>\n",
       "      <th>style</th>\n",
       "      <th>rating</th>\n",
       "      <th>eu_na</th>\n",
       "    </tr>\n",
       "  </thead>\n",
       "  <tbody>\n",
       "    <tr>\n",
       "      <th>0</th>\n",
       "      <td>142544</td>\n",
       "      <td>2015-08-01</td>\n",
       "      <td>4.5</td>\n",
       "      <td>Pale Lagers</td>\n",
       "      <td>2.88</td>\n",
       "      <td>North America</td>\n",
       "    </tr>\n",
       "    <tr>\n",
       "      <th>1</th>\n",
       "      <td>120824</td>\n",
       "      <td>2015-11-01</td>\n",
       "      <td>5.0</td>\n",
       "      <td>Pale Ales</td>\n",
       "      <td>3.56</td>\n",
       "      <td>North America</td>\n",
       "    </tr>\n",
       "    <tr>\n",
       "      <th>2</th>\n",
       "      <td>47581</td>\n",
       "      <td>2011-11-01</td>\n",
       "      <td>8.0</td>\n",
       "      <td>Strong Ales</td>\n",
       "      <td>4.50</td>\n",
       "      <td>North America</td>\n",
       "    </tr>\n",
       "    <tr>\n",
       "      <th>3</th>\n",
       "      <td>93113</td>\n",
       "      <td>2013-05-01</td>\n",
       "      <td>10.5</td>\n",
       "      <td>Strong Ales</td>\n",
       "      <td>3.75</td>\n",
       "      <td>North America</td>\n",
       "    </tr>\n",
       "    <tr>\n",
       "      <th>4</th>\n",
       "      <td>875</td>\n",
       "      <td>2015-01-01</td>\n",
       "      <td>6.0</td>\n",
       "      <td>Porters</td>\n",
       "      <td>3.81</td>\n",
       "      <td>North America</td>\n",
       "    </tr>\n",
       "    <tr>\n",
       "      <th>...</th>\n",
       "      <td>...</td>\n",
       "      <td>...</td>\n",
       "      <td>...</td>\n",
       "      <td>...</td>\n",
       "      <td>...</td>\n",
       "      <td>...</td>\n",
       "    </tr>\n",
       "    <tr>\n",
       "      <th>7806408</th>\n",
       "      <td>70471</td>\n",
       "      <td>2012-01-01</td>\n",
       "      <td>10.1</td>\n",
       "      <td>India Pale Ales</td>\n",
       "      <td>1.00</td>\n",
       "      <td>North America</td>\n",
       "    </tr>\n",
       "    <tr>\n",
       "      <th>7806409</th>\n",
       "      <td>70471</td>\n",
       "      <td>2014-04-01</td>\n",
       "      <td>10.1</td>\n",
       "      <td>India Pale Ales</td>\n",
       "      <td>4.54</td>\n",
       "      <td>North America</td>\n",
       "    </tr>\n",
       "    <tr>\n",
       "      <th>7806410</th>\n",
       "      <td>61818</td>\n",
       "      <td>2011-06-01</td>\n",
       "      <td>8.0</td>\n",
       "      <td>India Pale Ales</td>\n",
       "      <td>2.08</td>\n",
       "      <td>North America</td>\n",
       "    </tr>\n",
       "    <tr>\n",
       "      <th>7806411</th>\n",
       "      <td>61815</td>\n",
       "      <td>2014-05-01</td>\n",
       "      <td>6.0</td>\n",
       "      <td>Pale Ales</td>\n",
       "      <td>4.45</td>\n",
       "      <td>North America</td>\n",
       "    </tr>\n",
       "    <tr>\n",
       "      <th>7806412</th>\n",
       "      <td>64097</td>\n",
       "      <td>2011-01-01</td>\n",
       "      <td>9.5</td>\n",
       "      <td>Specialty Beers</td>\n",
       "      <td>4.34</td>\n",
       "      <td>North America</td>\n",
       "    </tr>\n",
       "  </tbody>\n",
       "</table>\n",
       "<p>7806413 rows × 6 columns</p>\n",
       "</div>"
      ],
      "text/plain": [
       "         beer_id       date   abv            style  rating          eu_na\n",
       "0         142544 2015-08-01   4.5      Pale Lagers    2.88  North America\n",
       "1         120824 2015-11-01   5.0        Pale Ales    3.56  North America\n",
       "2          47581 2011-11-01   8.0      Strong Ales    4.50  North America\n",
       "3          93113 2013-05-01  10.5      Strong Ales    3.75  North America\n",
       "4            875 2015-01-01   6.0          Porters    3.81  North America\n",
       "...          ...        ...   ...              ...     ...            ...\n",
       "7806408    70471 2012-01-01  10.1  India Pale Ales    1.00  North America\n",
       "7806409    70471 2014-04-01  10.1  India Pale Ales    4.54  North America\n",
       "7806410    61818 2011-06-01   8.0  India Pale Ales    2.08  North America\n",
       "7806411    61815 2014-05-01   6.0        Pale Ales    4.45  North America\n",
       "7806412    64097 2011-01-01   9.5  Specialty Beers    4.34  North America\n",
       "\n",
       "[7806413 rows x 6 columns]"
      ]
     },
     "metadata": {},
     "output_type": "display_data"
    },
    {
     "name": "stdout",
     "output_type": "stream",
     "text": [
      "RateBeer:\n"
     ]
    },
    {
     "data": {
      "text/html": [
       "<div>\n",
       "<style scoped>\n",
       "    .dataframe tbody tr th:only-of-type {\n",
       "        vertical-align: middle;\n",
       "    }\n",
       "\n",
       "    .dataframe tbody tr th {\n",
       "        vertical-align: top;\n",
       "    }\n",
       "\n",
       "    .dataframe thead th {\n",
       "        text-align: right;\n",
       "    }\n",
       "</style>\n",
       "<table border=\"1\" class=\"dataframe\">\n",
       "  <thead>\n",
       "    <tr style=\"text-align: right;\">\n",
       "      <th></th>\n",
       "      <th>beer_id</th>\n",
       "      <th>date</th>\n",
       "      <th>abv</th>\n",
       "      <th>style</th>\n",
       "      <th>rating</th>\n",
       "      <th>eu_na</th>\n",
       "    </tr>\n",
       "  </thead>\n",
       "  <tbody>\n",
       "    <tr>\n",
       "      <th>0</th>\n",
       "      <td>410549</td>\n",
       "      <td>2016-04-01</td>\n",
       "      <td>5.0</td>\n",
       "      <td>Pale Lagers</td>\n",
       "      <td>2.0</td>\n",
       "      <td>Europe</td>\n",
       "    </tr>\n",
       "    <tr>\n",
       "      <th>1</th>\n",
       "      <td>105273</td>\n",
       "      <td>2015-05-01</td>\n",
       "      <td>5.2</td>\n",
       "      <td>Pale Lagers</td>\n",
       "      <td>1.7</td>\n",
       "      <td>Europe</td>\n",
       "    </tr>\n",
       "    <tr>\n",
       "      <th>2</th>\n",
       "      <td>19445</td>\n",
       "      <td>2015-04-01</td>\n",
       "      <td>4.5</td>\n",
       "      <td>Pale Lagers</td>\n",
       "      <td>1.9</td>\n",
       "      <td>Europe</td>\n",
       "    </tr>\n",
       "    <tr>\n",
       "      <th>3</th>\n",
       "      <td>130299</td>\n",
       "      <td>2015-04-01</td>\n",
       "      <td>5.3</td>\n",
       "      <td>Brown Ales</td>\n",
       "      <td>3.7</td>\n",
       "      <td>Europe</td>\n",
       "    </tr>\n",
       "    <tr>\n",
       "      <th>4</th>\n",
       "      <td>55659</td>\n",
       "      <td>2015-11-01</td>\n",
       "      <td>6.1</td>\n",
       "      <td>Brown Ales</td>\n",
       "      <td>2.5</td>\n",
       "      <td>Europe</td>\n",
       "    </tr>\n",
       "    <tr>\n",
       "      <th>...</th>\n",
       "      <td>...</td>\n",
       "      <td>...</td>\n",
       "      <td>...</td>\n",
       "      <td>...</td>\n",
       "      <td>...</td>\n",
       "      <td>...</td>\n",
       "    </tr>\n",
       "    <tr>\n",
       "      <th>6636932</th>\n",
       "      <td>166447</td>\n",
       "      <td>2014-07-01</td>\n",
       "      <td>5.0</td>\n",
       "      <td>Pale Lagers</td>\n",
       "      <td>2.6</td>\n",
       "      <td>Europe</td>\n",
       "    </tr>\n",
       "    <tr>\n",
       "      <th>6636933</th>\n",
       "      <td>85893</td>\n",
       "      <td>2008-09-01</td>\n",
       "      <td>4.7</td>\n",
       "      <td>Pale Lagers</td>\n",
       "      <td>0.5</td>\n",
       "      <td>Europe</td>\n",
       "    </tr>\n",
       "    <tr>\n",
       "      <th>6636934</th>\n",
       "      <td>77389</td>\n",
       "      <td>2008-09-01</td>\n",
       "      <td>4.5</td>\n",
       "      <td>Dark Lagers</td>\n",
       "      <td>3.9</td>\n",
       "      <td>Europe</td>\n",
       "    </tr>\n",
       "    <tr>\n",
       "      <th>6636935</th>\n",
       "      <td>5423</td>\n",
       "      <td>2008-09-01</td>\n",
       "      <td>4.0</td>\n",
       "      <td>Pale Lagers</td>\n",
       "      <td>2.7</td>\n",
       "      <td>Europe</td>\n",
       "    </tr>\n",
       "    <tr>\n",
       "      <th>6636936</th>\n",
       "      <td>5423</td>\n",
       "      <td>2007-01-01</td>\n",
       "      <td>4.0</td>\n",
       "      <td>Pale Lagers</td>\n",
       "      <td>0.7</td>\n",
       "      <td>North America</td>\n",
       "    </tr>\n",
       "  </tbody>\n",
       "</table>\n",
       "<p>6636937 rows × 6 columns</p>\n",
       "</div>"
      ],
      "text/plain": [
       "         beer_id       date  abv        style  rating          eu_na\n",
       "0         410549 2016-04-01  5.0  Pale Lagers     2.0         Europe\n",
       "1         105273 2015-05-01  5.2  Pale Lagers     1.7         Europe\n",
       "2          19445 2015-04-01  4.5  Pale Lagers     1.9         Europe\n",
       "3         130299 2015-04-01  5.3   Brown Ales     3.7         Europe\n",
       "4          55659 2015-11-01  6.1   Brown Ales     2.5         Europe\n",
       "...          ...        ...  ...          ...     ...            ...\n",
       "6636932   166447 2014-07-01  5.0  Pale Lagers     2.6         Europe\n",
       "6636933    85893 2008-09-01  4.7  Pale Lagers     0.5         Europe\n",
       "6636934    77389 2008-09-01  4.5  Dark Lagers     3.9         Europe\n",
       "6636935     5423 2008-09-01  4.0  Pale Lagers     2.7         Europe\n",
       "6636936     5423 2007-01-01  4.0  Pale Lagers     0.7  North America\n",
       "\n",
       "[6636937 rows x 6 columns]"
      ]
     },
     "metadata": {},
     "output_type": "display_data"
    }
   ],
   "source": [
    "print(\"BeerAdvocate:\")\n",
    "display(ba_df)\n",
    "print(\"RateBeer:\")\n",
    "display(rb_df)"
   ]
  },
  {
   "cell_type": "code",
   "execution_count": 12,
   "id": "713b1f2287d376bc",
   "metadata": {
    "ExecuteTime": {
     "end_time": "2023-12-22T21:22:25.654365600Z",
     "start_time": "2023-12-22T21:22:24.790731400Z"
    },
    "collapsed": false
   },
   "outputs": [],
   "source": [
    "del ba_ratings_df\n",
    "del ba_users_df\n",
    "del rb_ratings_df\n",
    "del rb_users_df"
   ]
  },
  {
   "cell_type": "markdown",
   "id": "eea6f7a01508f361",
   "metadata": {
    "collapsed": false
   },
   "source": [
    "#### 2.5 Get the general style of all beers"
   ]
  },
  {
   "cell_type": "markdown",
   "id": "6ae4027c2ca74131",
   "metadata": {
    "collapsed": false
   },
   "source": [
    "Load all beers and keep only the id, the (specific) style and the ABV:"
   ]
  },
  {
   "cell_type": "code",
   "execution_count": 13,
   "id": "c02227a4ca52b1a8",
   "metadata": {
    "ExecuteTime": {
     "end_time": "2023-12-22T21:22:27.238264200Z",
     "start_time": "2023-12-22T21:22:25.633322Z"
    },
    "collapsed": false
   },
   "outputs": [],
   "source": [
    "ba_beers_df = pd.read_csv(\"./data/BeerAdvocate/beers.csv\")[['beer_id', 'style', 'abv', 'brewery_id']].dropna()\n",
    "rb_beers_df = pd.read_csv(\"./data/RateBeer/beers.csv\")[['beer_id', 'style', 'abv', 'brewery_id']].dropna()"
   ]
  },
  {
   "cell_type": "markdown",
   "id": "4680c0fc4828f77",
   "metadata": {
    "collapsed": false
   },
   "source": [
    "Convert the specific style to the general style:"
   ]
  },
  {
   "cell_type": "code",
   "execution_count": 14,
   "id": "b5b6e9078d88d1cc",
   "metadata": {
    "ExecuteTime": {
     "end_time": "2023-12-22T21:22:30.422726700Z",
     "start_time": "2023-12-22T21:22:27.241308700Z"
    },
    "collapsed": false
   },
   "outputs": [],
   "source": [
    "ba_beers_df['style'] = ba_beers_df.apply(specific_style_to_general, axis=1)\n",
    "rb_beers_df['style'] = rb_beers_df.apply(specific_style_to_general, axis=1)\n",
    "\n",
    "# Drop Saké\n",
    "ba_beers_df = ba_beers_df.query(\"style != 'Saké'\").reset_index(drop=True)\n",
    "rb_beers_df = rb_beers_df.query(\"style != 'Saké'\").reset_index(drop=True)"
   ]
  },
  {
   "cell_type": "code",
   "execution_count": 15,
   "id": "b9ff2963f0b35eee",
   "metadata": {
    "ExecuteTime": {
     "end_time": "2023-12-22T21:22:30.528794400Z",
     "start_time": "2023-12-22T21:22:30.426726900Z"
    },
    "collapsed": false
   },
   "outputs": [
    {
     "name": "stdout",
     "output_type": "stream",
     "text": [
      "BeerAdvocate:\n"
     ]
    },
    {
     "data": {
      "text/html": [
       "<div>\n",
       "<style scoped>\n",
       "    .dataframe tbody tr th:only-of-type {\n",
       "        vertical-align: middle;\n",
       "    }\n",
       "\n",
       "    .dataframe tbody tr th {\n",
       "        vertical-align: top;\n",
       "    }\n",
       "\n",
       "    .dataframe thead th {\n",
       "        text-align: right;\n",
       "    }\n",
       "</style>\n",
       "<table border=\"1\" class=\"dataframe\">\n",
       "  <thead>\n",
       "    <tr style=\"text-align: right;\">\n",
       "      <th></th>\n",
       "      <th>beer_id</th>\n",
       "      <th>style</th>\n",
       "      <th>abv</th>\n",
       "      <th>brewery_id</th>\n",
       "    </tr>\n",
       "  </thead>\n",
       "  <tbody>\n",
       "    <tr>\n",
       "      <th>0</th>\n",
       "      <td>166064</td>\n",
       "      <td>Pale Lagers</td>\n",
       "      <td>4.7</td>\n",
       "      <td>39912</td>\n",
       "    </tr>\n",
       "    <tr>\n",
       "      <th>1</th>\n",
       "      <td>166065</td>\n",
       "      <td>Pale Lagers</td>\n",
       "      <td>3.8</td>\n",
       "      <td>39912</td>\n",
       "    </tr>\n",
       "    <tr>\n",
       "      <th>2</th>\n",
       "      <td>166066</td>\n",
       "      <td>Pale Lagers</td>\n",
       "      <td>4.8</td>\n",
       "      <td>39912</td>\n",
       "    </tr>\n",
       "    <tr>\n",
       "      <th>3</th>\n",
       "      <td>166067</td>\n",
       "      <td>Pale Lagers</td>\n",
       "      <td>4.0</td>\n",
       "      <td>39912</td>\n",
       "    </tr>\n",
       "    <tr>\n",
       "      <th>4</th>\n",
       "      <td>166063</td>\n",
       "      <td>Pale Lagers</td>\n",
       "      <td>4.5</td>\n",
       "      <td>39912</td>\n",
       "    </tr>\n",
       "    <tr>\n",
       "      <th>...</th>\n",
       "      <td>...</td>\n",
       "      <td>...</td>\n",
       "      <td>...</td>\n",
       "      <td>...</td>\n",
       "    </tr>\n",
       "    <tr>\n",
       "      <th>244794</th>\n",
       "      <td>19142</td>\n",
       "      <td>India Pale Ales</td>\n",
       "      <td>5.6</td>\n",
       "      <td>885</td>\n",
       "    </tr>\n",
       "    <tr>\n",
       "      <th>244795</th>\n",
       "      <td>19141</td>\n",
       "      <td>Pale Ales</td>\n",
       "      <td>6.8</td>\n",
       "      <td>885</td>\n",
       "    </tr>\n",
       "    <tr>\n",
       "      <th>244796</th>\n",
       "      <td>19139</td>\n",
       "      <td>Pale Ales</td>\n",
       "      <td>5.0</td>\n",
       "      <td>885</td>\n",
       "    </tr>\n",
       "    <tr>\n",
       "      <th>244797</th>\n",
       "      <td>19140</td>\n",
       "      <td>Brown Ales</td>\n",
       "      <td>5.3</td>\n",
       "      <td>885</td>\n",
       "    </tr>\n",
       "    <tr>\n",
       "      <th>244798</th>\n",
       "      <td>2805</td>\n",
       "      <td>Strong Ales</td>\n",
       "      <td>7.0</td>\n",
       "      <td>885</td>\n",
       "    </tr>\n",
       "  </tbody>\n",
       "</table>\n",
       "<p>244799 rows × 4 columns</p>\n",
       "</div>"
      ],
      "text/plain": [
       "        beer_id            style  abv  brewery_id\n",
       "0        166064      Pale Lagers  4.7       39912\n",
       "1        166065      Pale Lagers  3.8       39912\n",
       "2        166066      Pale Lagers  4.8       39912\n",
       "3        166067      Pale Lagers  4.0       39912\n",
       "4        166063      Pale Lagers  4.5       39912\n",
       "...         ...              ...  ...         ...\n",
       "244794    19142  India Pale Ales  5.6         885\n",
       "244795    19141        Pale Ales  6.8         885\n",
       "244796    19139        Pale Ales  5.0         885\n",
       "244797    19140       Brown Ales  5.3         885\n",
       "244798     2805      Strong Ales  7.0         885\n",
       "\n",
       "[244799 rows x 4 columns]"
      ]
     },
     "metadata": {},
     "output_type": "display_data"
    },
    {
     "name": "stdout",
     "output_type": "stream",
     "text": [
      "RateBeer:\n"
     ]
    },
    {
     "data": {
      "text/html": [
       "<div>\n",
       "<style scoped>\n",
       "    .dataframe tbody tr th:only-of-type {\n",
       "        vertical-align: middle;\n",
       "    }\n",
       "\n",
       "    .dataframe tbody tr th {\n",
       "        vertical-align: top;\n",
       "    }\n",
       "\n",
       "    .dataframe thead th {\n",
       "        text-align: right;\n",
       "    }\n",
       "</style>\n",
       "<table border=\"1\" class=\"dataframe\">\n",
       "  <thead>\n",
       "    <tr style=\"text-align: right;\">\n",
       "      <th></th>\n",
       "      <th>beer_id</th>\n",
       "      <th>style</th>\n",
       "      <th>abv</th>\n",
       "      <th>brewery_id</th>\n",
       "    </tr>\n",
       "  </thead>\n",
       "  <tbody>\n",
       "    <tr>\n",
       "      <th>0</th>\n",
       "      <td>410549</td>\n",
       "      <td>Pale Lagers</td>\n",
       "      <td>5.0</td>\n",
       "      <td>3198</td>\n",
       "    </tr>\n",
       "    <tr>\n",
       "      <th>1</th>\n",
       "      <td>105273</td>\n",
       "      <td>Pale Lagers</td>\n",
       "      <td>5.2</td>\n",
       "      <td>3198</td>\n",
       "    </tr>\n",
       "    <tr>\n",
       "      <th>2</th>\n",
       "      <td>19445</td>\n",
       "      <td>Pale Lagers</td>\n",
       "      <td>4.5</td>\n",
       "      <td>3198</td>\n",
       "    </tr>\n",
       "    <tr>\n",
       "      <th>3</th>\n",
       "      <td>155699</td>\n",
       "      <td>Stouts</td>\n",
       "      <td>4.6</td>\n",
       "      <td>13538</td>\n",
       "    </tr>\n",
       "    <tr>\n",
       "      <th>4</th>\n",
       "      <td>239097</td>\n",
       "      <td>Pale Ales</td>\n",
       "      <td>4.2</td>\n",
       "      <td>13538</td>\n",
       "    </tr>\n",
       "    <tr>\n",
       "      <th>...</th>\n",
       "      <td>...</td>\n",
       "      <td>...</td>\n",
       "      <td>...</td>\n",
       "      <td>...</td>\n",
       "    </tr>\n",
       "    <tr>\n",
       "      <th>399889</th>\n",
       "      <td>153089</td>\n",
       "      <td>Pale Lagers</td>\n",
       "      <td>6.0</td>\n",
       "      <td>1107</td>\n",
       "    </tr>\n",
       "    <tr>\n",
       "      <th>399890</th>\n",
       "      <td>153086</td>\n",
       "      <td>Wheat Beers</td>\n",
       "      <td>4.8</td>\n",
       "      <td>1107</td>\n",
       "    </tr>\n",
       "    <tr>\n",
       "      <th>399891</th>\n",
       "      <td>220722</td>\n",
       "      <td>Pale Lagers</td>\n",
       "      <td>5.0</td>\n",
       "      <td>1107</td>\n",
       "    </tr>\n",
       "    <tr>\n",
       "      <th>399892</th>\n",
       "      <td>287791</td>\n",
       "      <td>Pale Lagers</td>\n",
       "      <td>4.0</td>\n",
       "      <td>1107</td>\n",
       "    </tr>\n",
       "    <tr>\n",
       "      <th>399893</th>\n",
       "      <td>189684</td>\n",
       "      <td>Pale Lagers</td>\n",
       "      <td>4.7</td>\n",
       "      <td>1107</td>\n",
       "    </tr>\n",
       "  </tbody>\n",
       "</table>\n",
       "<p>399894 rows × 4 columns</p>\n",
       "</div>"
      ],
      "text/plain": [
       "        beer_id        style  abv  brewery_id\n",
       "0        410549  Pale Lagers  5.0        3198\n",
       "1        105273  Pale Lagers  5.2        3198\n",
       "2         19445  Pale Lagers  4.5        3198\n",
       "3        155699       Stouts  4.6       13538\n",
       "4        239097    Pale Ales  4.2       13538\n",
       "...         ...          ...  ...         ...\n",
       "399889   153089  Pale Lagers  6.0        1107\n",
       "399890   153086  Wheat Beers  4.8        1107\n",
       "399891   220722  Pale Lagers  5.0        1107\n",
       "399892   287791  Pale Lagers  4.0        1107\n",
       "399893   189684  Pale Lagers  4.7        1107\n",
       "\n",
       "[399894 rows x 4 columns]"
      ]
     },
     "metadata": {},
     "output_type": "display_data"
    }
   ],
   "source": [
    "print(\"BeerAdvocate:\")\n",
    "display(ba_beers_df)\n",
    "print(\"RateBeer:\")\n",
    "display(rb_beers_df)"
   ]
  },
  {
   "cell_type": "markdown",
   "id": "88873ef49b600792",
   "metadata": {
    "collapsed": false
   },
   "source": [
    "## 3. Merging BeerAdvocate and RateBeer"
   ]
  },
  {
   "cell_type": "markdown",
   "id": "97918dd5b3e1d786",
   "metadata": {
    "collapsed": false
   },
   "source": [
    "Ideally, we would like to merge both the RateBeer and BeerAdvocate datasets to have more data. Let's look at some challenges arise:"
   ]
  },
  {
   "cell_type": "markdown",
   "id": "6ef1ef6d92b33484",
   "metadata": {
    "collapsed": false
   },
   "source": [
    "#### 3.1 Mean ratings"
   ]
  },
  {
   "cell_type": "code",
   "execution_count": 16,
   "id": "fbbe183c02c18e44",
   "metadata": {
    "ExecuteTime": {
     "end_time": "2023-12-22T21:22:30.666464900Z",
     "start_time": "2023-12-22T21:22:30.455470Z"
    },
    "collapsed": false
   },
   "outputs": [
    {
     "name": "stdout",
     "output_type": "stream",
     "text": [
      "The mean rating in BeerAdvocate is 3.88.\n",
      "The mean rating in RateBeer is 3.29.\n",
      "\n"
     ]
    }
   ],
   "source": [
    "ba_mean_rating = ba_df['rating'].mean()\n",
    "rb_mean_rating = rb_df['rating'].mean()\n",
    "\n",
    "print(f'The mean rating in BeerAdvocate is {ba_mean_rating:.2f}.\\n'\n",
    "      f'The mean rating in RateBeer is {rb_mean_rating:.2f}.\\n')"
   ]
  },
  {
   "cell_type": "markdown",
   "id": "444283eb4d964847",
   "metadata": {
    "collapsed": false
   },
   "source": [
    "#### Observations:\n",
    "The mean rating is way higher in BeerAdvocate than in RateBeer."
   ]
  },
  {
   "cell_type": "markdown",
   "id": "887624149a45e134",
   "metadata": {
    "collapsed": false
   },
   "source": [
    "#### 3.2 EU / NA imbalance"
   ]
  },
  {
   "cell_type": "code",
   "execution_count": 17,
   "id": "e54e3b89e0566ece",
   "metadata": {
    "ExecuteTime": {
     "end_time": "2023-12-22T21:22:31.428421600Z",
     "start_time": "2023-12-22T21:22:30.572154Z"
    },
    "collapsed": false
   },
   "outputs": [
    {
     "name": "stdout",
     "output_type": "stream",
     "text": [
      "The number of ratings from EU in BeerAdvocate is 228031 (2.92%)\n",
      "The number of ratings from NA in BeerAdvocate is 7578382 (97.08%)\n",
      "\n",
      "The number of ratings from EU in RateBeer is 3005451 (45.28%)\n",
      "The number of ratings from NA in RateBeer is 3631486 (54.72%)\n",
      "\n"
     ]
    }
   ],
   "source": [
    "ba_eu_na_count = ba_df.groupby('eu_na')['rating'].count()\n",
    "ba_eu_count = ba_eu_na_count['Europe']\n",
    "ba_na_count = ba_eu_na_count['North America']\n",
    "ba_total_count = ba_eu_count + ba_na_count\n",
    "\n",
    "rb_eu_na_count = rb_df.groupby('eu_na')['rating'].count()\n",
    "rb_eu_count = rb_eu_na_count['Europe']\n",
    "rb_na_count = rb_eu_na_count['North America']\n",
    "rb_total_count = rb_eu_count + rb_na_count\n",
    "\n",
    "print(f'The number of ratings from EU in BeerAdvocate is {ba_eu_count} ({ba_eu_count / ba_total_count:.2%})\\n'\n",
    "      f'The number of ratings from NA in BeerAdvocate is {ba_na_count} ({ba_na_count / ba_total_count:.2%})\\n\\n'\n",
    "      f'The number of ratings from EU in RateBeer is {rb_eu_count} ({rb_eu_count / rb_total_count:.2%})\\n'\n",
    "      f'The number of ratings from NA in RateBeer is {rb_na_count} ({rb_na_count / rb_total_count:.2%})\\n')"
   ]
  },
  {
   "cell_type": "markdown",
   "id": "3eb08fee8565fb93",
   "metadata": {
    "collapsed": false
   },
   "source": [
    "#### Observations:\n",
    "RateBeer is pretty balanced, but BeerAdvocate is mostly used by North American users."
   ]
  },
  {
   "cell_type": "markdown",
   "id": "c8680fa3e8e91124",
   "metadata": {
    "collapsed": false
   },
   "source": [
    "## 3.3 Aligning the ratings\n",
    "\n",
    "We want to merge both datasets to have more data. To achieve this in a meaningful way, we will use (1.) the mean of EU users' ratings and (2.) the mean of NA users' ratings in both datasets. Once we have the mean rating of each continent for each dataset, we shift the ratings of BeerAdvocate so that the average of both continents' means is the same as the one from RateBeer. (It's more clean by reading the code.)\n",
    "\n",
    "We don't want to simply align the mean ratings of the datasets because BeerAdvocate is mostly American. By using the average of the means of each continent, we remove the problem of imbalance between EU and NA."
   ]
  },
  {
   "cell_type": "code",
   "execution_count": 18,
   "id": "85503e9f5e69a7bf",
   "metadata": {
    "ExecuteTime": {
     "end_time": "2023-12-22T21:22:32.380929300Z",
     "start_time": "2023-12-22T21:22:31.411248Z"
    },
    "collapsed": false
   },
   "outputs": [],
   "source": [
    "# Get the mean rating for each continent in BeerAdvocate\n",
    "ba_eu_na_mean = ba_df.groupby('eu_na')['rating'].mean()\n",
    "ba_na_mean_rating = ba_eu_na_mean['Europe']\n",
    "ba_eu_mean_rating = ba_eu_na_mean['North America']\n",
    "# Take the mean of the mean of each of continent in BeerAdvocate\n",
    "ba_mean_of_mean_ratings = (ba_na_mean_rating + ba_eu_mean_rating) / 2\n",
    "\n",
    "# Get the mean rating for each continent in RateBeer\n",
    "rb_eu_na_mean = rb_df.groupby('eu_na')['rating'].mean()\n",
    "rb_na_mean_rating = rb_eu_na_mean['Europe']\n",
    "rb_eu_mean_rating = rb_eu_na_mean['North America']\n",
    "# Take the mean of the mean of each of continent in RateBeer\n",
    "rb_mean_of_mean_ratings = (rb_na_mean_rating + rb_eu_mean_rating) / 2\n",
    "\n",
    "# Shift the ratings from BeerAdvocate so that its average of means of both continents matches the one from RateBeer\n",
    "ba_df['rating'] = ba_df['rating'] - ba_mean_of_mean_ratings + rb_mean_of_mean_ratings"
   ]
  },
  {
   "cell_type": "markdown",
   "id": "5b5e1a9a63ff9878",
   "metadata": {
    "collapsed": false
   },
   "source": [
    "Let's check the results:"
   ]
  },
  {
   "cell_type": "code",
   "execution_count": 19,
   "id": "f1e61a1ce6c57699",
   "metadata": {
    "ExecuteTime": {
     "end_time": "2023-12-22T21:22:32.444431200Z",
     "start_time": "2023-12-22T21:22:32.383927900Z"
    },
    "collapsed": false
   },
   "outputs": [
    {
     "name": "stdout",
     "output_type": "stream",
     "text": [
      "The mean rating in BeerAdvocate is 3.38.\n",
      "The mean rating in RateBeer is 3.29.\n",
      "\n"
     ]
    }
   ],
   "source": [
    "# Get the mean rating for each dataset\n",
    "ba_mean_rating = ba_df['rating'].mean()\n",
    "rb_mean_rating = rb_df['rating'].mean()\n",
    "\n",
    "print(f'The mean rating in BeerAdvocate is {ba_mean_rating:.2f}.\\n'\n",
    "      f'The mean rating in RateBeer is {rb_mean_rating:.2f}.\\n')"
   ]
  },
  {
   "cell_type": "markdown",
   "id": "b7798b539c374924",
   "metadata": {
    "collapsed": false
   },
   "source": [
    "#### Observations:\n",
    "The mean ratings are now more similar, but not exactly the same. This is because NA users give higher ratings than EU users, and there are way more of them in BeerAdvocate."
   ]
  },
  {
   "cell_type": "code",
   "execution_count": 20,
   "id": "41d6f30385375575",
   "metadata": {
    "ExecuteTime": {
     "end_time": "2023-12-22T21:22:33.364782700Z",
     "start_time": "2023-12-22T21:22:32.501346300Z"
    },
    "collapsed": false
   },
   "outputs": [
    {
     "name": "stdout",
     "output_type": "stream",
     "text": [
      "The mean rating from EU users in BeerAdvocate is 3.17\n",
      "The mean rating from EU users in RateBeer is 3.20\n",
      "\n",
      "The mean rating from NA users in BeerAdvocate is 3.39\n",
      "The mean rating from NA users in RateBeer is 3.36\n",
      "\n"
     ]
    }
   ],
   "source": [
    "# Get the mean rating for each continent for each dataset\n",
    "ba_eu_na_mean = ba_df.groupby('eu_na')['rating'].mean()\n",
    "ba_eu_mean = ba_eu_na_mean['Europe']\n",
    "ba_na_mean = ba_eu_na_mean['North America']\n",
    "\n",
    "rb_eu_na_mean = rb_df.groupby('eu_na')['rating'].mean()\n",
    "rb_eu_mean = rb_eu_na_mean['Europe']\n",
    "rb_na_mean = rb_eu_na_mean['North America']\n",
    "\n",
    "print(f'The mean rating from EU users in BeerAdvocate is {ba_eu_mean:.2f}\\n'\n",
    "      f'The mean rating from EU users in RateBeer is {rb_eu_mean:.2f}\\n\\n'\n",
    "      f'The mean rating from NA users in BeerAdvocate is {ba_na_mean:.2f}\\n'\n",
    "      f'The mean rating from NA users in RateBeer is {rb_na_mean:.2f}\\n')"
   ]
  },
  {
   "cell_type": "markdown",
   "id": "c602e24108d3f59e",
   "metadata": {
    "collapsed": false
   },
   "source": [
    "#### Observations:\n",
    "The ratings are now very close in both Datasets. The difference in ratings between NA and EU users is now nearly the same ! \n",
    "\n",
    "Note that the distribution is not exactly the same, as BeerAdvocate ratings are not contained in the interval [0.5, 5] anymore, but this is not an issue for our analysis."
   ]
  },
  {
   "cell_type": "markdown",
   "id": "82ca9823ed063383",
   "metadata": {
    "collapsed": false
   },
   "source": [
    "#### 3.4 Merging\n",
    "\n",
    "We now merge the two ratings datasets.\n"
   ]
  },
  {
   "cell_type": "code",
   "execution_count": 21,
   "id": "256c3c3a0355d4ca",
   "metadata": {
    "ExecuteTime": {
     "end_time": "2023-12-22T21:22:33.415728100Z",
     "start_time": "2023-12-22T21:22:33.359782300Z"
    },
    "collapsed": false
   },
   "outputs": [],
   "source": [
    "# Function to add a prefix to all values of a Pandas Series. \n",
    "def add_prefix_to_val(df_col: pd.Series, prefix: str):\n",
    "    return prefix + df_col.astype(str)"
   ]
  },
  {
   "cell_type": "code",
   "execution_count": 22,
   "id": "42c0d24257d1860e",
   "metadata": {
    "ExecuteTime": {
     "end_time": "2023-12-22T21:22:40.939278900Z",
     "start_time": "2023-12-22T21:22:33.374372500Z"
    },
    "collapsed": false
   },
   "outputs": [
    {
     "data": {
      "text/html": [
       "<div>\n",
       "<style scoped>\n",
       "    .dataframe tbody tr th:only-of-type {\n",
       "        vertical-align: middle;\n",
       "    }\n",
       "\n",
       "    .dataframe tbody tr th {\n",
       "        vertical-align: top;\n",
       "    }\n",
       "\n",
       "    .dataframe thead th {\n",
       "        text-align: right;\n",
       "    }\n",
       "</style>\n",
       "<table border=\"1\" class=\"dataframe\">\n",
       "  <thead>\n",
       "    <tr style=\"text-align: right;\">\n",
       "      <th></th>\n",
       "      <th>beer_id</th>\n",
       "      <th>date</th>\n",
       "      <th>abv</th>\n",
       "      <th>style</th>\n",
       "      <th>rating</th>\n",
       "      <th>eu_na</th>\n",
       "    </tr>\n",
       "  </thead>\n",
       "  <tbody>\n",
       "    <tr>\n",
       "      <th>0</th>\n",
       "      <td>ba_142544</td>\n",
       "      <td>2015-08-01</td>\n",
       "      <td>4.5</td>\n",
       "      <td>Pale Lagers</td>\n",
       "      <td>2.375325</td>\n",
       "      <td>North America</td>\n",
       "    </tr>\n",
       "    <tr>\n",
       "      <th>1</th>\n",
       "      <td>ba_120824</td>\n",
       "      <td>2015-11-01</td>\n",
       "      <td>5.0</td>\n",
       "      <td>Pale Ales</td>\n",
       "      <td>3.055325</td>\n",
       "      <td>North America</td>\n",
       "    </tr>\n",
       "    <tr>\n",
       "      <th>2</th>\n",
       "      <td>ba_47581</td>\n",
       "      <td>2011-11-01</td>\n",
       "      <td>8.0</td>\n",
       "      <td>Strong Ales</td>\n",
       "      <td>3.995325</td>\n",
       "      <td>North America</td>\n",
       "    </tr>\n",
       "    <tr>\n",
       "      <th>3</th>\n",
       "      <td>ba_93113</td>\n",
       "      <td>2013-05-01</td>\n",
       "      <td>10.5</td>\n",
       "      <td>Strong Ales</td>\n",
       "      <td>3.245325</td>\n",
       "      <td>North America</td>\n",
       "    </tr>\n",
       "    <tr>\n",
       "      <th>4</th>\n",
       "      <td>ba_875</td>\n",
       "      <td>2015-01-01</td>\n",
       "      <td>6.0</td>\n",
       "      <td>Porters</td>\n",
       "      <td>3.305325</td>\n",
       "      <td>North America</td>\n",
       "    </tr>\n",
       "    <tr>\n",
       "      <th>...</th>\n",
       "      <td>...</td>\n",
       "      <td>...</td>\n",
       "      <td>...</td>\n",
       "      <td>...</td>\n",
       "      <td>...</td>\n",
       "      <td>...</td>\n",
       "    </tr>\n",
       "    <tr>\n",
       "      <th>14443345</th>\n",
       "      <td>rb_166447</td>\n",
       "      <td>2014-07-01</td>\n",
       "      <td>5.0</td>\n",
       "      <td>Pale Lagers</td>\n",
       "      <td>2.600000</td>\n",
       "      <td>Europe</td>\n",
       "    </tr>\n",
       "    <tr>\n",
       "      <th>14443346</th>\n",
       "      <td>rb_85893</td>\n",
       "      <td>2008-09-01</td>\n",
       "      <td>4.7</td>\n",
       "      <td>Pale Lagers</td>\n",
       "      <td>0.500000</td>\n",
       "      <td>Europe</td>\n",
       "    </tr>\n",
       "    <tr>\n",
       "      <th>14443347</th>\n",
       "      <td>rb_77389</td>\n",
       "      <td>2008-09-01</td>\n",
       "      <td>4.5</td>\n",
       "      <td>Dark Lagers</td>\n",
       "      <td>3.900000</td>\n",
       "      <td>Europe</td>\n",
       "    </tr>\n",
       "    <tr>\n",
       "      <th>14443348</th>\n",
       "      <td>rb_5423</td>\n",
       "      <td>2008-09-01</td>\n",
       "      <td>4.0</td>\n",
       "      <td>Pale Lagers</td>\n",
       "      <td>2.700000</td>\n",
       "      <td>Europe</td>\n",
       "    </tr>\n",
       "    <tr>\n",
       "      <th>14443349</th>\n",
       "      <td>rb_5423</td>\n",
       "      <td>2007-01-01</td>\n",
       "      <td>4.0</td>\n",
       "      <td>Pale Lagers</td>\n",
       "      <td>0.700000</td>\n",
       "      <td>North America</td>\n",
       "    </tr>\n",
       "  </tbody>\n",
       "</table>\n",
       "<p>14443350 rows × 6 columns</p>\n",
       "</div>"
      ],
      "text/plain": [
       "            beer_id       date   abv        style    rating          eu_na\n",
       "0         ba_142544 2015-08-01   4.5  Pale Lagers  2.375325  North America\n",
       "1         ba_120824 2015-11-01   5.0    Pale Ales  3.055325  North America\n",
       "2          ba_47581 2011-11-01   8.0  Strong Ales  3.995325  North America\n",
       "3          ba_93113 2013-05-01  10.5  Strong Ales  3.245325  North America\n",
       "4            ba_875 2015-01-01   6.0      Porters  3.305325  North America\n",
       "...             ...        ...   ...          ...       ...            ...\n",
       "14443345  rb_166447 2014-07-01   5.0  Pale Lagers  2.600000         Europe\n",
       "14443346   rb_85893 2008-09-01   4.7  Pale Lagers  0.500000         Europe\n",
       "14443347   rb_77389 2008-09-01   4.5  Dark Lagers  3.900000         Europe\n",
       "14443348    rb_5423 2008-09-01   4.0  Pale Lagers  2.700000         Europe\n",
       "14443349    rb_5423 2007-01-01   4.0  Pale Lagers  0.700000  North America\n",
       "\n",
       "[14443350 rows x 6 columns]"
      ]
     },
     "metadata": {},
     "output_type": "display_data"
    }
   ],
   "source": [
    "# Change the id of beers to avoid duplicates\n",
    "ba_df['beer_id'] = add_prefix_to_val(ba_df['beer_id'], 'ba_')\n",
    "rb_df['beer_id'] = add_prefix_to_val(rb_df['beer_id'], 'rb_')\n",
    "\n",
    "ratings_df = pd.concat([ba_df, rb_df]).reset_index(drop=True)\n",
    "display(ratings_df)"
   ]
  },
  {
   "cell_type": "markdown",
   "id": "4207de30dd6cb55",
   "metadata": {
    "collapsed": false
   },
   "source": [
    "We can also merge the datasets with the beer styles and ABV, but we need to check for the duplicates:"
   ]
  },
  {
   "cell_type": "code",
   "execution_count": 23,
   "id": "6bff67726de5e5d0",
   "metadata": {
    "ExecuteTime": {
     "end_time": "2023-12-22T21:22:42.898682600Z",
     "start_time": "2023-12-22T21:22:40.920092200Z"
    },
    "collapsed": false
   },
   "outputs": [
    {
     "data": {
      "text/html": [
       "<div>\n",
       "<style scoped>\n",
       "    .dataframe tbody tr th:only-of-type {\n",
       "        vertical-align: middle;\n",
       "    }\n",
       "\n",
       "    .dataframe tbody tr th {\n",
       "        vertical-align: top;\n",
       "    }\n",
       "\n",
       "    .dataframe thead th {\n",
       "        text-align: right;\n",
       "    }\n",
       "</style>\n",
       "<table border=\"1\" class=\"dataframe\">\n",
       "  <thead>\n",
       "    <tr style=\"text-align: right;\">\n",
       "      <th></th>\n",
       "      <th>style</th>\n",
       "      <th>abv</th>\n",
       "      <th>ba_beer_id</th>\n",
       "      <th>rb_beer_id</th>\n",
       "      <th>ba_brewery_id</th>\n",
       "      <th>rb_brewery_id</th>\n",
       "    </tr>\n",
       "  </thead>\n",
       "  <tbody>\n",
       "    <tr>\n",
       "      <th>0</th>\n",
       "      <td>Pale Lagers</td>\n",
       "      <td>5.0</td>\n",
       "      <td>NaN</td>\n",
       "      <td>rb_410549</td>\n",
       "      <td>NaN</td>\n",
       "      <td>3198.0</td>\n",
       "    </tr>\n",
       "    <tr>\n",
       "      <th>1</th>\n",
       "      <td>Pale Lagers</td>\n",
       "      <td>5.2</td>\n",
       "      <td>NaN</td>\n",
       "      <td>rb_105273</td>\n",
       "      <td>NaN</td>\n",
       "      <td>3198.0</td>\n",
       "    </tr>\n",
       "    <tr>\n",
       "      <th>2</th>\n",
       "      <td>Pale Lagers</td>\n",
       "      <td>4.5</td>\n",
       "      <td>NaN</td>\n",
       "      <td>rb_19445</td>\n",
       "      <td>NaN</td>\n",
       "      <td>3198.0</td>\n",
       "    </tr>\n",
       "    <tr>\n",
       "      <th>3</th>\n",
       "      <td>Stouts</td>\n",
       "      <td>4.6</td>\n",
       "      <td>ba_169948</td>\n",
       "      <td>rb_155699</td>\n",
       "      <td>40309.0</td>\n",
       "      <td>13538.0</td>\n",
       "    </tr>\n",
       "    <tr>\n",
       "      <th>4</th>\n",
       "      <td>Pale Ales</td>\n",
       "      <td>4.2</td>\n",
       "      <td>NaN</td>\n",
       "      <td>rb_239097</td>\n",
       "      <td>NaN</td>\n",
       "      <td>13538.0</td>\n",
       "    </tr>\n",
       "    <tr>\n",
       "      <th>...</th>\n",
       "      <td>...</td>\n",
       "      <td>...</td>\n",
       "      <td>...</td>\n",
       "      <td>...</td>\n",
       "      <td>...</td>\n",
       "      <td>...</td>\n",
       "    </tr>\n",
       "    <tr>\n",
       "      <th>608980</th>\n",
       "      <td>Dark Ales</td>\n",
       "      <td>8.1</td>\n",
       "      <td>ba_34858</td>\n",
       "      <td>NaN</td>\n",
       "      <td>565.0</td>\n",
       "      <td>NaN</td>\n",
       "    </tr>\n",
       "    <tr>\n",
       "      <th>608981</th>\n",
       "      <td>Pale Ales</td>\n",
       "      <td>8.5</td>\n",
       "      <td>ba_89711</td>\n",
       "      <td>NaN</td>\n",
       "      <td>23640.0</td>\n",
       "      <td>NaN</td>\n",
       "    </tr>\n",
       "    <tr>\n",
       "      <th>608982</th>\n",
       "      <td>Stouts</td>\n",
       "      <td>8.0</td>\n",
       "      <td>ba_141790</td>\n",
       "      <td>NaN</td>\n",
       "      <td>23640.0</td>\n",
       "      <td>NaN</td>\n",
       "    </tr>\n",
       "    <tr>\n",
       "      <th>608983</th>\n",
       "      <td>Pale Ales</td>\n",
       "      <td>7.0</td>\n",
       "      <td>ba_72174</td>\n",
       "      <td>NaN</td>\n",
       "      <td>23640.0</td>\n",
       "      <td>NaN</td>\n",
       "    </tr>\n",
       "    <tr>\n",
       "      <th>608984</th>\n",
       "      <td>Brown Ales</td>\n",
       "      <td>4.0</td>\n",
       "      <td>ba_104563</td>\n",
       "      <td>NaN</td>\n",
       "      <td>23640.0</td>\n",
       "      <td>NaN</td>\n",
       "    </tr>\n",
       "  </tbody>\n",
       "</table>\n",
       "<p>608985 rows × 6 columns</p>\n",
       "</div>"
      ],
      "text/plain": [
       "              style  abv ba_beer_id rb_beer_id  ba_brewery_id  rb_brewery_id\n",
       "0       Pale Lagers  5.0        NaN  rb_410549            NaN         3198.0\n",
       "1       Pale Lagers  5.2        NaN  rb_105273            NaN         3198.0\n",
       "2       Pale Lagers  4.5        NaN   rb_19445            NaN         3198.0\n",
       "3            Stouts  4.6  ba_169948  rb_155699        40309.0        13538.0\n",
       "4         Pale Ales  4.2        NaN  rb_239097            NaN        13538.0\n",
       "...             ...  ...        ...        ...            ...            ...\n",
       "608980    Dark Ales  8.1   ba_34858        NaN          565.0            NaN\n",
       "608981    Pale Ales  8.5   ba_89711        NaN        23640.0            NaN\n",
       "608982       Stouts  8.0  ba_141790        NaN        23640.0            NaN\n",
       "608983    Pale Ales  7.0   ba_72174        NaN        23640.0            NaN\n",
       "608984   Brown Ales  4.0  ba_104563        NaN        23640.0            NaN\n",
       "\n",
       "[608985 rows x 6 columns]"
      ]
     },
     "metadata": {},
     "output_type": "display_data"
    }
   ],
   "source": [
    "# Load matched beers dataset\n",
    "matched_beers_df = (pd.read_csv(\"./data/matched_beer_data/beers.csv\", skiprows=0, header=1)[['beer_id', 'beer_id.1']]\n",
    "                    .rename(columns={'beer_id': 'ba_beer_id', 'beer_id.1': 'rb_beer_id'}))\n",
    "\n",
    "# Merge BeerAdvocate with the matched beers dataframe\n",
    "ba_matched_beers_df = ba_beers_df.merge(matched_beers_df, how='left', left_on='beer_id', right_on='ba_beer_id')[\n",
    "    ['style', 'abv', 'beer_id', 'rb_beer_id', 'brewery_id']].rename(\n",
    "    columns={'beer_id': 'ba_beer_id', 'brewery_id': 'ba_brewery_id'}\n",
    ")\n",
    "\n",
    "# Merge RateBeer with the merged dataframe\n",
    "beers_df = rb_beers_df.merge(ba_matched_beers_df, how='outer', left_on=['beer_id', 'style', 'abv'],\n",
    "                                     right_on=['rb_beer_id', 'style', 'abv'])[['style', 'abv', 'ba_beer_id', 'beer_id', 'ba_brewery_id', 'brewery_id']].rename(\n",
    "    columns={'beer_id': 'rb_beer_id', 'brewery_id': 'rb_brewery_id'})\n",
    "\n",
    "# Pandas automatically cast int to float if there are NaN in the merge. We will turn them into strings to remove the decimal part.\n",
    "def remove_decimal_from_str(str_val: str):\n",
    "    return str_val.split('.')[0]\n",
    "\n",
    "beers_df = beers_df.astype({\n",
    "    'ba_beer_id': str,\n",
    "    'rb_beer_id': str\n",
    "})\n",
    "\n",
    "beers_df['ba_beer_id'] = beers_df['ba_beer_id'].apply(remove_decimal_from_str)\n",
    "beers_df['rb_beer_id'] = beers_df['rb_beer_id'].apply(remove_decimal_from_str)\n",
    "\n",
    "# Now we can modify the beer ids to avoid duplicates, and to match the ratings dataframe\n",
    "beers_df['ba_beer_id'] = add_prefix_to_val(beers_df['ba_beer_id'], 'ba_')\n",
    "beers_df['rb_beer_id'] = add_prefix_to_val(beers_df['rb_beer_id'], 'rb_')\n",
    "\n",
    "# Remove nan values\n",
    "beers_df = beers_df.replace(['ba_nan', 'rb_nan'], np.NaN)\n",
    "\n",
    "display(beers_df)"
   ]
  },
  {
   "cell_type": "markdown",
   "id": "d9ae0d5d3a806811",
   "metadata": {
    "collapsed": false
   },
   "source": [
    "Now both the beers and ratings datasets are merged!"
   ]
  },
  {
   "cell_type": "markdown",
   "id": "704076cc256555d4",
   "metadata": {
    "collapsed": false
   },
   "source": [
    "#### Note:\n",
    "\n",
    "From now on, we only use the `df` dataframe and the `beers_df`. "
   ]
  },
  {
   "cell_type": "code",
   "execution_count": 24,
   "id": "3314803ef2378eff",
   "metadata": {
    "ExecuteTime": {
     "end_time": "2023-12-22T21:22:43.135972800Z",
     "start_time": "2023-12-22T21:22:42.875330900Z"
    },
    "collapsed": false
   },
   "outputs": [],
   "source": [
    "del ba_beers_df\n",
    "del rb_beers_df\n",
    "del matched_beers_df\n",
    "del ba_matched_beers_df\n",
    "del ba_df\n",
    "del rb_df"
   ]
  },
  {
   "cell_type": "markdown",
   "id": "dbec1e1da12cdf10",
   "metadata": {
    "collapsed": false
   },
   "source": [
    "## 4. General Analysis\n",
    "\n",
    "We want to answer the following question: Do Americans prefer beers with a higher alcohol content (ABV) than Europeans? \n",
    "\n",
    "We will try to quantify this \"preference\" by looking at the differences in ratings and consumption (amount of ratings) between the two continents for different ABV. \n",
    "\n",
    "We start with a naive and basic analysis."
   ]
  },
  {
   "cell_type": "code",
   "execution_count": 25,
   "id": "5fe71df578318a37",
   "metadata": {
    "ExecuteTime": {
     "end_time": "2023-12-22T21:22:43.184933100Z",
     "start_time": "2023-12-22T21:22:43.106205700Z"
    },
    "collapsed": false
   },
   "outputs": [],
   "source": [
    "# Setting some seaborn parameters\n",
    "sns.set_theme()\n",
    "hue_order = ['North America', 'Europe']\n",
    "hue_order_styles = beers_df[\"style\"].unique()\n",
    "palette = sns.color_palette(\"tab20\")"
   ]
  },
  {
   "cell_type": "markdown",
   "id": "e7ad61966547879d",
   "metadata": {
    "collapsed": false
   },
   "source": [
    "#### 4.1 Naive Analysis\n",
    "\n",
    "Let's check the number of reviews per rounded ABV:"
   ]
  },
  {
   "cell_type": "code",
   "execution_count": 26,
   "id": "95c7e5e55eee5fb7",
   "metadata": {
    "ExecuteTime": {
     "end_time": "2023-12-22T21:22:50.148129500Z",
     "start_time": "2023-12-22T21:22:43.154151800Z"
    },
    "collapsed": false
   },
   "outputs": [
    {
     "data": {
      "text/plain": [
       "[None,\n",
       " Text(0.5, 1.0, 'Distribution of number of ratings by ABV'),\n",
       " Text(0.5, 0, 'Alcohol by volume [%]')]"
      ]
     },
     "execution_count": 26,
     "metadata": {},
     "output_type": "execute_result"
    },
    {
     "data": {
      "image/png": "[encoded data removed]",
      "text/plain": [
       "<Figure size 1000x600 with 1 Axes>"
      ]
     },
     "metadata": {},
     "output_type": "display_data"
    }
   ],
   "source": [
    "plt.figure(figsize=(10, 6))\n",
    "ax = sns.histplot(data=ratings_df, x='abv', bins=100)\n",
    "ax.set(yscale='log', title=\"Distribution of number of ratings by ABV\", xlabel=\"Alcohol by volume [%]\")"
   ]
  },
  {
   "cell_type": "markdown",
   "id": "5a354ee94a7ab0cd",
   "metadata": {
    "collapsed": false
   },
   "source": [
    "#### Observations: \n",
    "The number of reviews for the beers with ABV > 20% is small and the histogram shows sparse values for high ABV, meaning that there are only a few beers with such ABV. Because of that, we will consider all beers above 20% ABV as one category (as if they had the same ABV)."
   ]
  },
  {
   "cell_type": "code",
   "execution_count": 27,
   "id": "abf033e3dd649781",
   "metadata": {
    "ExecuteTime": {
     "end_time": "2023-12-22T21:40:03.545906900Z",
     "start_time": "2023-12-22T21:39:59.862112500Z"
    },
    "collapsed": false
   },
   "outputs": [],
   "source": [
    "# Set the maximum ABV (any ABV above this will be considered the same as max_abv) \n",
    "max_abv = 20\n",
    "limited_abv_df = ratings_df[['rating', 'eu_na']].copy()\n",
    "limited_abv_df['abv'] = ratings_df['abv'].apply(lambda x: x if x < max_abv else max_abv)"
   ]
  },
  {
   "cell_type": "markdown",
   "id": "40117d4b7325e36f",
   "metadata": {
    "collapsed": false
   },
   "source": [
    "Now let's see the difference in the distribution of the ABV in the reviews: "
   ]
  },
  {
   "cell_type": "code",
   "execution_count": 28,
   "id": "17cc6dc71174d756",
   "metadata": {
    "ExecuteTime": {
     "end_time": "2023-12-22T21:50:08.938296100Z",
     "start_time": "2023-12-22T21:49:55.198773200Z"
    },
    "collapsed": false
   },
   "outputs": [
    {
     "data": {
      "text/plain": [
       "[Text(0.5, 0, 'ABV [%]'),\n",
       " Text(0, 0.5, 'Density'),\n",
       " Text(0.5, 1.0, 'Distribution of the ABV in the ratings')]"
      ]
     },
     "execution_count": 28,
     "metadata": {},
     "output_type": "execute_result"
    },
    {
     "data": {
      "image/png": "[encoded data removed]",
      "text/plain": [
       "<Figure size 1000x600 with 1 Axes>"
      ]
     },
     "metadata": {},
     "output_type": "display_data"
    }
   ],
   "source": [
    "plt.figure(figsize=(10, 6))\n",
    "ax = sns.histplot(data=limited_abv_df, x='abv', bins=20, hue='eu_na', hue_order=hue_order, stat='density', common_norm=False)\n",
    "\n",
    "ax.get_legend().set_title(None)\n",
    "ax.set(xlabel=\"ABV [%]\",\n",
    "       ylabel=\"Density\",\n",
    "       title=\"Distribution of the ABV in the ratings\")"
   ]
  },
  {
   "cell_type": "markdown",
   "id": "72c2922a12c9c0dc",
   "metadata": {
    "collapsed": false
   },
   "source": [
    "#### Observations:\n",
    "\n",
    "We clearly see a difference in the ABV of the beers that North American and European users are rating. The right shift in the distribution of the ABV of the ratings from North America seems to indicate that the beers consumed in North America have a higher ABV than in Europe. \n"
   ]
  },
  {
   "cell_type": "code",
   "execution_count": 29,
   "id": "f5b72147e25a2fc3",
   "metadata": {
    "ExecuteTime": {
     "start_time": "2023-12-22T21:22:50.192113600Z"
    },
    "collapsed": false
   },
   "outputs": [],
   "source": [
    "# Round the ABV for the following plot\n",
    "rounded_abv_df = limited_abv_df.copy()\n",
    "rounded_abv_df['abv'] = limited_abv_df['abv'].round()"
   ]
  },
  {
   "cell_type": "code",
   "execution_count": 30,
   "id": "e7c2ada266f27830",
   "metadata": {
    "ExecuteTime": {
     "end_time": "2023-12-22T21:31:56.372998400Z",
     "start_time": "2023-12-22T21:25:02.711694500Z"
    },
    "collapsed": false
   },
   "outputs": [],
   "source": [
    "plt.figure(figsize=(10, 6))\n",
    "ax = sns.lineplot(data=rounded_abv_df, x='abv', y='rating', hue='eu_na', hue_order=hue_order)\n",
    "\n",
    "ax.get_legend().set_title(None)\n",
    "ax.set(xlabel=\"ABV [%]\",\n",
    "       ylabel=\"Average rating\",\n",
    "       title=\"Average rating of EU and NA users by ABV\")"
   ]
  },
  {
   "cell_type": "markdown",
   "id": "6d4d37a2130c2517",
   "metadata": {
    "collapsed": false
   },
   "source": [
    "#### Observations:\n",
    "We see that in general, North American users tend to give better ratings than European users for lighter beers with ABV < 10%, and for stronger beers, ABV > 18%. This could point to a difference in taste that depends on the ABV between NA and EU users. This might be also a difference coming from the styles that are consumed. We need to dig deeper into this!"
   ]
  },
  {
   "cell_type": "markdown",
   "id": "f5a72023",
   "metadata": {},
   "source": [
    "All our previous results present a major issue: the dataset is not well balanced. Among these imbalances, we can cite:\n",
    "* there are more american users' ratings than europeans';\n",
    "* europeans tend to focus more on european beers, and more generally\n",
    "* more european beers reviewed.\n",
    "\n",
    "In the case where people prefer local beers, this would indeed introduce confounders. In order to mitigate that, we will perform a one-to-one matching. Since performing one-to-one matching for a large dataset is quite computationally expensive, we will only consider a subset of the data. For each beer, we will take two ratings: one from an american user and one from an european user, thus ensuring that we have as many american and european ratings."
   ]
  },
  {
   "cell_type": "code",
   "execution_count": null,
   "id": "46db10e9",
   "metadata": {},
   "outputs": [],
   "source": [
    "# Loading breweries to get the country of each beer\n",
    "breweries_ba = pd.read_csv(\"./data/BeerAdvocate/breweries.csv\")[['id', 'name', 'location']]\n",
    "breweries_ba['id'] = add_prefix_to_val(breweries_ba['id'], 'ba_')\n",
    "breweries_rb = pd.read_csv(\"./data/RateBeer/breweries.csv\")[['id', 'name', 'location']]\n",
    "breweries_rb['id'] = add_prefix_to_val(breweries_rb['id'], 'rb_')\n",
    "\n",
    "# Merging breweries infos from both datasets\n",
    "breweries_df = pd.merge(\n",
    "    left=breweries_ba,\n",
    "    right=breweries_rb,\n",
    "    how='outer',\n",
    "    left_on=['name', 'location'],\n",
    "    right_on=['name', 'location'],\n",
    "    suffixes=('_ba', '_rb')\n",
    ")\n",
    "\n",
    "# Getting the continent of each brewery\n",
    "breweries_df['eu_na'] = breweries_df.apply(get_na_or_eu, axis=1)\n",
    "\n",
    "# Dropping breweries that are not in EU nor NA\n",
    "breweries_df = breweries_df.query(\"eu_na != 'Other'\").reset_index(drop=True)\n",
    "\n",
    "# Getting the continent of each beer\n",
    "european_breweries = breweries_df.query(\"eu_na == 'Europe'\").reset_index(drop=True)\n",
    "american_breweries = breweries_df.query(\"eu_na == 'North America'\").reset_index(drop=True)\n",
    "european_beers = beers_df.query(\"(ba_brewery_id in @european_breweries['id_ba']) | (rb_brewery_id in @european_breweries['id_rb'])\").reset_index(drop=True)\n",
    "american_beers = beers_df.query(\"(ba_brewery_id in @american_breweries['id_ba']) | (rb_brewery_id in @american_breweries['id_rb'])\").reset_index(drop=True)\n",
    "reviews_of_european_beers = ratings_df.query(\"(beer_id in @european_beers['ba_beer_id']) | (beer_id in @european_beers['rb_beer_id'])\").reset_index(drop=True)\n",
    "reviews_of_american_beers = ratings_df.query(\"(beer_id in @american_beers['ba_beer_id']) | (beer_id in @american_beers['rb_beer_id'])\").reset_index(drop=True)\n",
    "reviews_of_european_beers['beer_eu_na'] = 'Europe'\n",
    "reviews_of_american_beers['beer_eu_na'] = 'North America'\n",
    "ratings_df_with_beer_continent = pd.concat([reviews_of_european_beers, reviews_of_american_beers])\n",
    "\n",
    "# Performing the one-to-one matching\n",
    "matched_ratings_df =  ratings_df_with_beer_continent \\\n",
    "    .groupby(['beer_id']) \\\n",
    "    .filter(lambda x: 'North America' in x['eu_na'].values and 'Europe' in x['eu_na'].values) \\\n",
    "    .groupby(['beer_id', 'eu_na']) \\\n",
    "    .first() \\\n",
    "    .sort_values(by=['beer_id'])\n",
    "\n",
    "print(\"Reviews by european users: \" + str(len(matched_ratings_df.query(\"eu_na == 'Europe'\"))))\n",
    "print(\"Reviews by american users: \" + str(len(matched_ratings_df.query(\"eu_na == 'North America'\"))))"
   ]
  },
  {
   "cell_type": "markdown",
   "id": "d6b8761e",
   "metadata": {},
   "source": [
    "Performing a simple linear regression on the bulk dataset and the matched one to see if the conclusions are the same."
   ]
  },
  {
   "cell_type": "code",
   "execution_count": null,
   "id": "0f0c6c0c",
   "metadata": {},
   "outputs": [],
   "source": [
    "# Importing some specific modules for this task\n",
    "from matplotlib.colors import LogNorm # For log-scale colorbars\n",
    "import scipy\n",
    "\n",
    "# Defining a function for a nicer legend\n",
    "def get_fit_equation(\n",
    "        result: scipy.stats._stats_mstats_common.LinregressResult,\n",
    "        decilams: int = 2\n",
    "    ) -> str:\n",
    "    \"\"\"Returns the equation of the regression line.\"\"\"\n",
    "    legend = \"\"\n",
    "    legend += \"\\n\" + f\"Slope: {result.slope:.{decilams}f} ± {result.stderr:.{decilams}f}\"\n",
    "    legend += \"\\n\" + f\"Intercept: {result.intercept:.{decilams}f} ± {result.intercept_stderr:.{decilams}f}\"\n",
    "    legend += \"\\n\" + f\"R-squared: {result.rvalue**2:.{decilams}f}\"\n",
    "    return legend.strip()\n",
    "\n",
    "dfs_ = [\n",
    "    ratings_df.dropna().sample(int(1e6)), # bulk dataset, of approx. the same size than the matched dataset\n",
    "    matched_ratings_df, # matched dataset\n",
    "]\n",
    "\n",
    "fig, axes = plt.subplots(ncols=4, nrows=2, figsize=(16, 9))\n",
    "\n",
    "for df_index, df__ in enumerate(dfs_):\n",
    "\n",
    "    fit_results = []\n",
    "    \n",
    "    for continent_index, continent in enumerate(['Europe', 'North America']):\n",
    "\n",
    "        # Filtering the dataset for the current continent\n",
    "        df_ = df__.query(\"eu_na == @continent\")\n",
    "\n",
    "        # Drawing the background histogram\n",
    "        g = sns.histplot(\n",
    "            data=df_,\n",
    "            x=\"abv\",\n",
    "            y=\"rating\",\n",
    "            bins=30,\n",
    "            cmap=\"plasma\",\n",
    "            ax=axes[df_index, continent_index],\n",
    "            cbar=True,\n",
    "            cbar_kws={'label': 'Number of ratings'},\n",
    "            norm=LogNorm(), vmin=None, vmax=None, # Logarithmic color scale\n",
    "        )\n",
    "\n",
    "        # Drawing the regression line\n",
    "        regplot = sns.regplot(\n",
    "            data=df_,\n",
    "            x=\"abv\",\n",
    "            y=\"rating\",\n",
    "            line_kws={'color':'r', 'alpha':1.0},\n",
    "            scatter=False,\n",
    "            ax=axes[df_index, continent_index],\n",
    "        )\n",
    "\n",
    "        # Computing the regression and some statistics\n",
    "        x = df_['abv'].values\n",
    "        y = df_['rating'].values\n",
    "        result = scipy.stats.linregress(x=x, y=y)\n",
    "        fit_results.append(result)\n",
    "\n",
    "        # # Finalizing the plot\n",
    "        axes[df_index, continent_index].legend([get_fit_equation(result, 3)], loc='lower right', title='Linear fit')\n",
    "        axes[df_index, continent_index].set(\n",
    "            xlim=(matched_ratings_df['abv'].min(), matched_ratings_df['abv'].max()),\n",
    "            ylim=(matched_ratings_df['rating'].min(), matched_ratings_df['rating'].max()),\n",
    "            title=f'{continent} ($N={len(df_)}$)',\n",
    "            xlabel='ABV',\n",
    "            ylabel='Rating',\n",
    "        )\n",
    "\n",
    "    axes[df_index, 2].errorbar(\n",
    "        x=[0, 1],\n",
    "        y=[result.slope for result in fit_results],\n",
    "        yerr=[result.stderr for result in fit_results],\n",
    "        fmt='ko-',\n",
    "        capsize=50,\n",
    "    )\n",
    "    axes[df_index, 2].set(\n",
    "        xticks=[0, 1],\n",
    "        xticklabels=['Europe', 'America'],\n",
    "        ylabel='Slope',\n",
    "        xmargin=0.5, # Aesthetic\n",
    "        ymargin=0.3, # Aesthetic\n",
    "    )\n",
    "\n",
    "    axes[df_index, 3].errorbar(\n",
    "        x=[0, 1],\n",
    "        y=[result.intercept for result in fit_results],\n",
    "        yerr=[result.intercept_stderr for result in fit_results],\n",
    "        fmt='ko-',\n",
    "        capsize=50,\n",
    "    )\n",
    "    axes[df_index, 3].set(\n",
    "        xticks=[0, 1],\n",
    "        xticklabels=['Europe', 'America'],\n",
    "        ylabel='Intercept',\n",
    "        xmargin=0.5, # Aesthetic\n",
    "        ymargin=0.3, # Aesthetic\n",
    "    )\n",
    "\n",
    "fig.tight_layout()\n",
    "plt.show()"
   ]
  },
  {
   "cell_type": "markdown",
   "id": "95412c57",
   "metadata": {},
   "source": [
    "#### Observations:\n",
    "\n",
    "As it can be seen in the plots above, the conclusions with and without the one-to-one matching are similar: the slope of the linear regression for Europeans is systematically and significally higher than for North Americans. This does again confirm our previous asumptions, that Europeans tend to prefer stronger beers than North Americans. But in order to make conclusions, we can investigate further by looking at different beer styles, to see if this trend is consistent across all of them."
   ]
  },
  {
   "cell_type": "markdown",
   "id": "34110a34da1d699",
   "metadata": {
    "collapsed": false
   },
   "source": [
    "### 4.2 Beer styles\n",
    "\n",
    "To try to explain the plots above, let's take a look at the different beer styles and their average ABV, as well as their average ratings.\n",
    "First the average ratings per style:"
   ]
  },
  {
   "cell_type": "code",
   "execution_count": null,
   "id": "999b1d43cbde3ee",
   "metadata": {
    "ExecuteTime": {
     "end_time": "2023-12-22T21:38:41.139683600Z",
     "start_time": "2023-12-22T21:31:56.377807400Z"
    },
    "collapsed": false
   },
   "outputs": [],
   "source": [
    "plt.figure(figsize=(10, 6))\n",
    "ax = sns.barplot(data=ratings_df, x='rating', y='style', hue='eu_na', hue_order=hue_order)\n",
    "\n",
    "ax.get_legend().set_title(None)\n",
    "ax.set(title='Average ratings by beer style', \n",
    "       xlim=(2, 4.5),\n",
    "       xlabel='Average Rating',\n",
    "       ylabel='Beer Style'\n",
    ")\n",
    "ax.legend(loc='upper right')"
   ]
  },
  {
   "cell_type": "markdown",
   "id": "89e653b95a6e4121",
   "metadata": {
    "collapsed": false
   },
   "source": [
    "And now ABV per style:"
   ]
  },
  {
   "cell_type": "code",
   "execution_count": null,
   "id": "3eca6605197ec0dd",
   "metadata": {
    "ExecuteTime": {
     "end_time": "2023-12-22T21:38:49.289111Z",
     "start_time": "2023-12-22T21:38:40.956048600Z"
    },
    "collapsed": false
   },
   "outputs": [],
   "source": [
    "plt.figure(figsize=(10, 6))\n",
    "ax = sns.barplot(data=beers_df, x='abv', y='style', palette=palette)\n",
    "ax.set(title='Average ABV of each beer style',\n",
    "       xlabel='ABV [%]',\n",
    "       ylabel='Beer Style')\n"
   ]
  },
  {
   "cell_type": "markdown",
   "id": "5e2507dccf9f1c8e",
   "metadata": {
    "collapsed": false
   },
   "source": [
    "#### Observations:\n",
    "We see that some beer styles are significantly stronger than others. If these styles are consumed more frequently on one of the two continents compared to the other, then this could explain some differences in the way ratings are correlated with ABV."
   ]
  },
  {
   "cell_type": "markdown",
   "id": "ab56b296e0739c78",
   "metadata": {
    "collapsed": false
   },
   "source": [
    "Now let's look at the number of ratings per beer style:"
   ]
  },
  {
   "cell_type": "code",
   "execution_count": null,
   "id": "289f2fd0a9fff1e3",
   "metadata": {
    "ExecuteTime": {
     "end_time": "2023-12-22T21:39:18.945572300Z",
     "start_time": "2023-12-22T21:38:49.265546200Z"
    },
    "collapsed": false
   },
   "outputs": [],
   "source": [
    "plt.figure(figsize=(10, 6))\n",
    "ax = sns.countplot(data=ratings_df, y='style', hue='eu_na', hue_order=hue_order)\n",
    "ax.get_legend().set_title(None)\n",
    "ax.legend(loc='upper right')\n",
    "ax.set(title='Number of ratings per beer style',\n",
    "       xlabel='Number of ratings',\n",
    "       ylabel='Beer Style'\n",
    ")"
   ]
  },
  {
   "cell_type": "markdown",
   "id": "4c3294fd",
   "metadata": {},
   "source": [
    "Let us examine the relative distribution of beer style reviews for each continent"
   ]
  },
  {
   "cell_type": "code",
   "execution_count": null,
   "id": "f327a0037307976",
   "metadata": {
    "ExecuteTime": {
     "end_time": "2023-12-22T21:39:22.692684800Z",
     "start_time": "2023-12-22T21:39:18.931503600Z"
    },
    "collapsed": false
   },
   "outputs": [],
   "source": [
    "# create new df with normalised rating, color and style per continent\n",
    "EU_pie = ratings_df.query(\"eu_na == 'Europe'\").groupby('style')['rating'].count().reset_index()\n",
    "\n",
    "# order w.r.t hue_order_styles and add color\n",
    "EU_pie = EU_pie.set_index('style').reindex(hue_order_styles).reset_index()\n",
    "EU_pie['color'] = [palette[x] for x in range(len(hue_order_styles))]\n",
    "\n",
    "# repeat for North America\n",
    "NA_pie = ratings_df.query(\"eu_na == 'North America'\").groupby('style')['rating'].count().reset_index()\n",
    "NA_pie = NA_pie.set_index('style').reindex(hue_order_styles).reset_index()\n",
    "NA_pie['color'] = [palette[x] for x in range(len(hue_order_styles))]\n",
    "\n",
    "# sort by rating count\n",
    "EU_pie = EU_pie.sort_values(by='rating', ascending=False)\n",
    "NA_pie = NA_pie.sort_values(by='rating', ascending=False)"
   ]
  },
  {
   "cell_type": "code",
   "execution_count": null,
   "id": "89d663b3",
   "metadata": {
    "ExecuteTime": {
     "end_time": "2023-12-22T21:39:23.454715600Z",
     "start_time": "2023-12-22T21:39:22.702041Z"
    }
   },
   "outputs": [],
   "source": [
    "fig, axes = plt.subplots(1, 2, figsize=(16, 9))\n",
    "\n",
    "def draw_pie_with_legend(ax, data, title):\n",
    "    \"\"\"\n",
    "    Draw a pie chart as donut\n",
    "    :param ax: matplotlib.axes.Axes object\n",
    "    :param data: pandas.DataFrame\n",
    "    :param title: str\n",
    "    :return: None\n",
    "    \"\"\"\n",
    "\n",
    "    wedges, texts, autotexts = ax.pie(data['rating'], autopct='', startangle=0, colors=data['color'], labels=None,\n",
    "                                      wedgeprops=dict(width=0.3, edgecolor='w'), radius=.9)\n",
    "    ax.axis('equal')\n",
    "    # Draw arrows/boxes with beer style name and percentage outside the chart\n",
    "    radius = 1.05\n",
    "    for i, (wedge, label, pct) in enumerate(zip(wedges, data['style'], autotexts)):\n",
    "        angle = (wedge.theta2 + wedge.theta1) / 2\n",
    "        x = radius * np.cos(np.radians(angle))\n",
    "        y = radius * np.sin(np.radians(angle))\n",
    "        frac = data.rating.iloc[i] / data.rating.sum()\n",
    "        if label == 'Dark Ales':\n",
    "            ax.text(x-0.02, y+0.038, f\"{label}\\n{frac:.1%}\", ha='center', va='center', fontsize=11, color='black')\n",
    "        else:\n",
    "            ax.text(x, y, f\"{label}\\n{frac:.1%}\", ha='center', va='center', fontsize=11, color='black')\n",
    "\n",
    "    ax.set_title(title, fontsize=22)\n",
    "\n",
    "# Draw pie charts for Europe and North America\n",
    "draw_pie_with_legend(axes[0], EU_pie, 'Europe')\n",
    "draw_pie_with_legend(axes[1], NA_pie, 'North America')\n",
    "\n",
    "# Create a legend outside the subplots\n",
    "\n",
    "legend = fig.legend(hue_order_styles, loc='center right', bbox_to_anchor=(1.2, 0.5), fontsize=16, title='Beer Style')\n",
    "legend.get_title().set_fontsize(18)\n",
    "\n",
    "plt.tight_layout()\n",
    "plt.show()"
   ]
  },
  {
   "cell_type": "markdown",
   "id": "e3832bbff5a4f977",
   "metadata": {
    "collapsed": false
   },
   "source": [
    "#### Observations:\n",
    "\n",
    "We see that, because of the merging with BeerAdvocate, there are many more reviews from North American users compared to European users. We can also see that, while the popular styles of one of continent are also mostly popular on the other one, there are still differences in the preferred styles (like IPA in NA and Pale Ales in EU). If we take into account the styles with the most ABV we see that:\n",
    "- Stouts: are consumed more frequently in NA than EU.\n",
    "- Strong Ales: are more popular in Europe than NA.\n",
    "- Indian Pale Ales: is the most popular style in NA, not so much in EU.\n",
    "- Porters: are not very popular on both continents, but more consumed in NA.\n",
    "- Bocks: are not very popular on both continents.\n",
    "- Dark Ales: not popular at all in Europe. \n",
    "\n",
    "It seems then that North American users consume more of the beers whose styles are associated with a higher average ABV (> 6%) compared to European users. This could explain why North American users drink (and so rate) more stronger beers on average than in Europeans."
   ]
  },
  {
   "cell_type": "markdown",
   "id": "fff2f6c6",
   "metadata": {},
   "source": [
    "As earlier, let's perform a linear regression between the ABV and the ratings, but this time for each beer style separately."
   ]
  },
  {
   "cell_type": "code",
   "execution_count": null,
   "id": "86ebf4a1",
   "metadata": {},
   "outputs": [],
   "source": [
    "styles_to_plot = ratings_df.value_counts('style').index[:3]\n",
    "fig1, axes1 = plt.subplots(ncols=len(styles_to_plot), nrows=2, figsize=(10, 6), sharey=True, sharex=True)\n",
    "fig2, axes2 = plt.subplots(ncols=len(styles_to_plot), nrows=2, figsize=(10, 6), sharey=False, sharex=True)\n",
    "\n",
    "for style_index, style in enumerate(styles_to_plot):\n",
    "\n",
    "    fit_results = []\n",
    "    \n",
    "    for continent_index, continent in enumerate(['Europe', 'North America']):\n",
    "\n",
    "        # Filtering the dataset for the current continent\n",
    "        df_ = matched_ratings_df.query(\"eu_na == @continent and style == @style\")\n",
    "\n",
    "        # Drawing the background histogram\n",
    "        plt.figure(figsize=(5, 5))\n",
    "        g = sns.histplot(\n",
    "            data=df_,\n",
    "            x=\"abv\",\n",
    "            y=\"rating\",\n",
    "            bins=20,\n",
    "            cmap=\"plasma\",\n",
    "            ax=axes1[continent_index, style_index],\n",
    "            cbar=True,\n",
    "            norm=LogNorm(), vmin=None, vmax=None, # Logarithmic color scale\n",
    "        )\n",
    "        # g.set_facecolor('k')\n",
    "\n",
    "        # Drawing the regression line\n",
    "        regplot = sns.regplot(\n",
    "            data=df_,\n",
    "            x=\"abv\",\n",
    "            y=\"rating\",\n",
    "            line_kws={'color':'r', 'alpha':1.0},\n",
    "            scatter=False,\n",
    "            ax=axes1[continent_index, style_index],\n",
    "        )\n",
    "\n",
    "        # Computing the regression and some statistics\n",
    "        x = df_['abv'].values\n",
    "        y = df_['rating'].values\n",
    "        result = scipy.stats.linregress(x=x, y=y)\n",
    "        fit_results.append(result)\n",
    "\n",
    "        # Finalizing the plot\n",
    "        axes1[continent_index, style_index].set(\n",
    "            xlim=(matched_ratings_df['abv'].min(), matched_ratings_df['abv'].max()),\n",
    "            ylim=(matched_ratings_df['rating'].min(), matched_ratings_df['rating'].max()),\n",
    "            xlabel='ABV',\n",
    "            ylabel=f'{continent}\\n\\nAverage rating',\n",
    "        )\n",
    "\n",
    "    axes1[0, style_index].set_title(style)\n",
    "\n",
    "    axes2[0, style_index].errorbar(\n",
    "        x=[0, 1],\n",
    "        y=[result.slope for result in fit_results],\n",
    "        yerr=[result.stderr for result in fit_results],\n",
    "        fmt='ko-',\n",
    "        capsize=50,\n",
    "    )\n",
    "    axes2[0, style_index].set(\n",
    "        xticks=[0, 1],\n",
    "        xticklabels=['Europe', 'America'],\n",
    "        xmargin=0.5, # Aesthetic\n",
    "        ymargin=0.3, # Aesthetic\n",
    "    )\n",
    "\n",
    "    axes2[1, style_index].errorbar(\n",
    "        x=[0, 1],\n",
    "        y=[result.intercept for result in fit_results],\n",
    "        yerr=[result.intercept_stderr for result in fit_results],\n",
    "        fmt='ko-',\n",
    "        capsize=25,\n",
    "    )\n",
    "    axes2[1, style_index].set(\n",
    "        xticks=[0, 1],\n",
    "        xticklabels=['Europe', 'America'],\n",
    "        xmargin=0.5, # Aesthetic\n",
    "        ymargin=0.3, # Aesthetic\n",
    "    )\n",
    "    axes2[0, style_index].set_title(style)\n",
    "    \n",
    "axes2[0, 0].set(ylabel='Slope')\n",
    "axes2[1, 0].set(ylabel='Intercept')\n",
    "\n",
    "fig1.tight_layout()\n",
    "fig2.tight_layout()\n",
    "plt.show()"
   ]
  },
  {
   "cell_type": "markdown",
   "id": "dc595dcedd516f40",
   "metadata": {
    "collapsed": false
   },
   "source": [
    "### 4.3 Evolution over time\n",
    "\n",
    "In the following part, we compare the monthly average ratings of EU and NA users:"
   ]
  },
  {
   "cell_type": "code",
   "execution_count": null,
   "id": "feb048019a649fc6",
   "metadata": {
    "ExecuteTime": {
     "end_time": "2023-12-22T21:39:52.490338700Z",
     "start_time": "2023-12-22T21:39:23.458273Z"
    },
    "collapsed": false
   },
   "outputs": [],
   "source": [
    "plt.figure(figsize=(10, 6))\n",
    "\n",
    "ax.get_legend().set_title(None)\n",
    "\n",
    "ax = sns.lineplot(data=ratings_df, x='date', y='rating', hue='eu_na', hue_order=hue_order)\n",
    "ax.get_legend().set_title(None)\n",
    "ax.set(title='Monthly average ratings of Europeans and North Americans',\n",
    "       xlabel='Date',\n",
    "       ylabel='Average Rating',\n",
    "       xlim=(pd.Timestamp('2000-01-01'), pd.Timestamp('2018-01-01'))\n",
    ")\n",
    "ax.legend()"
   ]
  },
  {
   "cell_type": "markdown",
   "id": "6b3012d0d6be7373",
   "metadata": {},
   "source": [
    "#### Observations:\n",
    "This plot shows us that North American users have basically always been more generous with the ratings than Europeans. We don't really consider the ratings before 2002 because the data is too noisy due to a small number of reviews. \n",
    "We see that the ratings are increasing over time, but there doesn't seem to be a major difference in this regard between North Americans and Europeans.\n"
   ]
  },
  {
   "cell_type": "code",
   "execution_count": null,
   "id": "7d3d42bb366e3b35",
   "metadata": {
    "ExecuteTime": {
     "end_time": "2023-12-22T21:39:52.519119700Z",
     "start_time": "2023-12-22T21:39:52.494338500Z"
    }
   },
   "outputs": [],
   "source": [
    "plt.figure(figsize=(10, 6))\n",
    "\n",
    "ax = sns.lineplot(data=ratings_df, x='date', y='abv', hue='eu_na', hue_order=hue_order)\n",
    "ax.get_legend().set_title(None)\n",
    "ax.set(xlabel=\"Date\",\n",
    "       ylabel=\"Alcohol by volume [%]\",\n",
    "       title=\"Monthly average of the ratings' ABV between Europeans and North Americans\",\n",
    "       xlim=(pd.Timestamp('2000-01-01'), pd.Timestamp('2018-01-01')),\n",
    "       ylim=(3.5, 10)\n",
    "       )\n",
    "ax.legend()"
   ]
  },
  {
   "cell_type": "markdown",
   "id": "c27468bcac14319a",
   "metadata": {},
   "source": [
    "#### Observations:\n",
    "This plot is very interesting, because it indicates a few things:\n",
    "- We see trends for Europe as well as North America that shows increase in ABV over time.\n",
    "- There also seems an aspect of seasonality which looks like ABV has peaks every start of a new year and a low each summer in both continents\n",
    "- North American consumers seem to on average drink stronger beers than Europeans overall\n",
    "- The ABV increases over time, for Northern Americans it increased more initially and started flattening down in mid 2010s\n",
    "- The data seems to be noisier overall in Europe, in North America the seasonality pattern seems quite clear? Initial thoughts on this are that maybe European events such as Oktoberfest and St. Patricksday may actually have a big impact on this seasonality pattern\n",
    "- There is a lot of noise in the first few years, which is why we'll likely remove them later for doing time series analysis\n",
    "\n",
    "We'll use this plot as basis for a more indepth analysis on seasonality and trend. Let's first take a brief look on how ABV time series looks like for all individual beer styles to see if we can already narrow down some details"
   ]
  },
  {
   "cell_type": "code",
   "execution_count": null,
   "id": "9a7e56af36f91fad",
   "metadata": {
    "ExecuteTime": {
     "start_time": "2023-12-22T21:39:52.497889400Z"
    }
   },
   "outputs": [],
   "source": [
    "# plotting ABV by Style for each continent\n",
    "fig, axes = plt.subplots(2, 1, figsize=(16, 10), sharex=True)\n",
    "\n",
    "sns.lineplot(data=ratings_df.query(\"eu_na == 'North America'\"), x='date', y='abv', hue='style',\n",
    "             hue_order=hue_order_styles, ax=axes[0], palette='tab20')\n",
    "sns.lineplot(data=ratings_df.query(\"eu_na == 'Europe'\"), x='date', y='abv', hue='style',\n",
    "             hue_order=hue_order_styles, ax=axes[1], palette='tab20')\n",
    "axes[0].legend(loc='upper left')\n",
    "axes[0].set(xlabel=\"Year\",\n",
    "            ylabel=\"Alcohol by volume [%]\",\n",
    "            title=\"North America\",\n",
    "            xlim=(pd.Timestamp('2001-01-01'), pd.Timestamp('2018-01-01')),\n",
    "            ylim=(4, 12))\n",
    "\n",
    "axes[1].set(xlabel=\"Year\",\n",
    "            ylabel=\"Alcohol by volume [%]\",\n",
    "            title=\"Europe\",\n",
    "            xlim=(pd.Timestamp('2001-01-01'), pd.Timestamp('2018-01-01')),\n",
    "            ylim=(4, 12))\n",
    "axes[1].get_legend().remove()"
   ]
  },
  {
   "cell_type": "markdown",
   "id": "414bec75f723e7c",
   "metadata": {
    "collapsed": false
   },
   "source": [
    "#### Observations:\n",
    "When considering all the beer styles within the data, one observes seasonality within some styles such as Specialty beer or Dark ales. It is also apparent that some beer styles such as Stouts increased drastically in average ABV over time. \n",
    "We also notice that some styles seem to differ in ABV on average in both continents."
   ]
  },
  {
   "cell_type": "markdown",
   "id": "79bcbf12",
   "metadata": {},
   "source": [
    "## 5. Seasonality and Trend\n",
    "The main idea of this section is to decompose the time series for each region into seasonality and trend, and take a more in-depth look at the patterns and what might be causing them.\\\n",
    "In a first step we use statsmodels seasonal decomposition function to separate seasonality from trend\n"
   ]
  },
  {
   "cell_type": "code",
   "execution_count": null,
   "id": "15e3c470",
   "metadata": {
    "ExecuteTime": {
     "start_time": "2023-12-22T21:39:52.501934400Z"
    }
   },
   "outputs": [],
   "source": [
    "import statsmodels.api as sm"
   ]
  },
  {
   "cell_type": "code",
   "execution_count": null,
   "id": "5565b741",
   "metadata": {
    "ExecuteTime": {
     "start_time": "2023-12-22T21:39:52.504935600Z"
    }
   },
   "outputs": [],
   "source": [
    "# define df's for Europe and North America\n",
    "df_EU = ratings_df[ratings_df['eu_na'] == 'Europe']\n",
    "df_NA = ratings_df[ratings_df['eu_na'] == 'North America']\n",
    "\n",
    "# define a function that groups abv data by the month, removes NaN from abv \n",
    "def abv_by_month(df):\n",
    "    \"\"\"\n",
    "    Groups the dataframe by month and returns a new dataframe with the average abv for each month with date as index\n",
    "\n",
    "    :param df: pandas.Dataframe with a column \"date\" and a column \"abv\".\n",
    "    :return: pandas.Dataframe with column \"abv\" and index date. seasonal decomposition by statsmodels requires a datetime index\n",
    "    \"\"\"\n",
    "    df = df[(df['date'] > '2003-01-01') & (df['date'] < '2017-01-01')] # NOTE: CONSIDER SPECIFYING DATE RANGE\n",
    "    df_new = df[['date','abv']].dropna(subset=['abv']).groupby(pd.Grouper(key='date', freq='M')).mean().sort_values(by='date') \n",
    "    df_new.index = df_new.index.strftime('%Y-%m')\n",
    "    df_new.index = pd.to_datetime(df_new.index)\n",
    "    return df_new\n",
    "\n",
    "# create new df's with abv grouped by month for Europe and North America\n",
    "EU_monthly = abv_by_month(df_EU)\n",
    "NA_monthly = abv_by_month(df_NA)\n",
    "\n",
    "display(EU_monthly)"
   ]
  },
  {
   "cell_type": "code",
   "execution_count": null,
   "id": "bb6090b2",
   "metadata": {
    "ExecuteTime": {
     "start_time": "2023-12-22T21:39:52.507534500Z"
    }
   },
   "outputs": [],
   "source": [
    "# Decompose the time series into trend, seasonality and residuals\n",
    "res_EU = sm.tsa.seasonal_decompose(EU_monthly['abv'])\n",
    "res_NA = sm.tsa.seasonal_decompose(NA_monthly['abv'])\n",
    "def plotseasonal(res, axes, color, title):\n",
    "    \"\"\"\"\"\n",
    "    Plot the seasonal component of the decomposition manually because res.plot() does not have a subplots option.\n",
    "    :param res: statsmodels.tsa.seasonal.DecomposeResult\n",
    "    :param axes: list of matplotlib.axes.Axes\n",
    "    :param color: color string\n",
    "    :return: None\n",
    "    \"\"\"\"\"\n",
    "    res.observed.plot(ax=axes[0], legend=False, color=color)\n",
    "    axes[0].set_ylabel('Observed')\n",
    "    axes[0].set_title(title, fontsize=14)\n",
    "    res.trend.plot(ax=axes[1], legend=False, color=color)\n",
    "    axes[1].set_ylabel('Trend')\n",
    "    res.seasonal.plot(ax=axes[2], legend=False, color=color)\n",
    "    axes[2].set_ylabel('Seasonal')\n",
    "    res.resid.plot(ax=axes[3], legend=False, color=color)\n",
    "    axes[3].set_ylabel('Residual')\n",
    "\n",
    "fig, axes = plt.subplots(4, 2, sharex=True, figsize=(16, 10))\n",
    "plotseasonal(res_NA, axes[:,0], color='tab:blue', title='North America')\n",
    "plotseasonal(res_EU, axes[:,1], color='tab:orange', title='Europe')\n",
    "\n"
   ]
  },
  {
   "cell_type": "markdown",
   "id": "af5bd796",
   "metadata": {},
   "source": [
    "The decomposition shows:\n",
    "- to a very rough approximation a linearöy increasing trend in both regions, although at around 2014 onwards we face a plateu in the North American trend\n",
    "- Very clear seasonality pattern in North America, in Europe much more noise is involved, also Europe shows a second peak that seems to be located in Spring. What could cause this?\n",
    "- The residuals does not seem to be rid of seasonal variation in total, which motivates us to keep them together with the seasonal pattern when analysing seasonality\n",
    "\n",
    "Let's keep only Trend and seasonality (including residuals) for now:"
   ]
  },
  {
   "cell_type": "code",
   "execution_count": null,
   "id": "46cc7fd1",
   "metadata": {
    "ExecuteTime": {
     "start_time": "2023-12-22T21:39:52.510524300Z"
    }
   },
   "outputs": [],
   "source": [
    "# convert res to a dataframe for future modifications\n",
    "def res_to_df(res):\n",
    "    \"\"\"\n",
    "    Converts the result of seasonal_decompose to a pandas.Dataframe. We keep the residuals together with seasonality extracted from statsmodels,\n",
    "    since we only want to filter out the trend component. The trend is kept only to display later and not used any further.\n",
    "    \n",
    "    :param res: result of seasonal_decompose.\n",
    "    :return: pandas.Dataframe with columns \"observed\", \"trend\", \"seasonal\" .\n",
    "    \"\"\"\n",
    "    res_df = pd.DataFrame(res.observed)\n",
    "    res_df['trend'] = res.trend\n",
    "    res_df['seasonal'] = res.observed - res.trend\n",
    "    res_df.reset_index(inplace=True)\n",
    "    return res_df.dropna()\n",
    "\n",
    "EU_time = res_to_df(res_EU)\n",
    "NA_time = res_to_df(res_NA)\n",
    "\n",
    "\n",
    "# Plot seasonality and trend for EU and NA\n",
    "fig, axes = plt.subplots(2,1, figsize=(15,7))\n",
    "\n",
    "sns.lineplot(data=EU_time, x='date', y='seasonal', ax=axes[0], label='Europe', color='tab:orange')\n",
    "sns.lineplot(data=NA_time, x='date', y='seasonal', ax=axes[0], label='North America', color='tab:blue')\n",
    "sns.lineplot(data=EU_time, x='date', y='trend', ax=axes[1], color='tab:orange')\n",
    "sns.lineplot(data=NA_time, x='date', y='trend', ax=axes[1], color='tab:blue')\n",
    "axes[0].set(title='Seasonal component of ABV in EU and NA')\n",
    "axes[1].set(title='Trend component of ABV in EU and NA')\n",
    "\n",
    "fig.tight_layout()\n",
    "plt.show()"
   ]
  },
  {
   "cell_type": "markdown",
   "id": "7d53ffe1",
   "metadata": {},
   "source": [
    "When keeping the residuals, the second peak in Europe looks more like a plateau, where North America seems to drop more quickly\n",
    "\n",
    "We will come back at the trend later; For now we keep in mind that:\n",
    "\n",
    "- North America shows a higher intercept than Europe\n",
    "- Both look similar to a linear increase which motivates a linear regression w.r.t. time to investigate intercept, slope and offset between regions."
   ]
  },
  {
   "cell_type": "markdown",
   "id": "0a6ca6b5",
   "metadata": {},
   "source": [
    "### 5.1 Seasonality with Fourier Analysis\n",
    "\n",
    "Especially the seasonal component is of interest. To analyse contributions and phases of this seasonality pattern we use a Fourier Analysis. In a first step we implement a Fourier transform to extract the mode corresponding to annual cycle, which given that the data is in distance of months will correspond to a periodicity of 12 months (after transforming from frequency). Together with the phases and all beer styles we should be able to evaluate which beer style contribute to seasonality and with which phase (= time of the year)"
   ]
  },
  {
   "cell_type": "code",
   "execution_count": null,
   "id": "bbfb3b82",
   "metadata": {
    "ExecuteTime": {
     "start_time": "2023-12-22T21:39:52.513524500Z"
    }
   },
   "outputs": [],
   "source": [
    "# perform a fourier transform on the seasonal component to find the dominant frequencies\n",
    "import numpy as np\n",
    "from scipy.fft import fft, fftfreq, fftshift\n",
    "\n",
    "def fourier_transform(list_df, names_list):\n",
    "    \"\"\"\n",
    "    Performs a fourier transform on the seasonal component of the dataframe and plots it on a list of df's\n",
    "    :param list_df: list of pandas.Dataframe with a column \"seasonal\".\n",
    "    :param names_list: list of names for the legend\n",
    "    plot normalised fourier transform of the seasonal component with monthly contributions\n",
    "    :return: dict with all created ffts saved as df's as df_name \n",
    "    \"\"\"\n",
    "    # set palette depending on number of df's, we assume using North America / Europe if less than 2 \n",
    "    # and all beer styles if more than 2\n",
    "    if len(list_df) > 2:\n",
    "        palette = sns.color_palette(\"tab20\")\n",
    "    else:\n",
    "        palette = sns.color_palette(\"tab10\")\n",
    "    fft_dict = {} # initialise dict to save all fft's\n",
    "    fig, ax = plt.subplots(figsize=(12,6))\n",
    "    for val, df in enumerate(list_df):\n",
    "        series = df['seasonal']\n",
    "        N = len(series)\n",
    "        T = 1 / 12\n",
    "        yf = np.abs(fft(series.to_numpy())) # perform fft\n",
    "        xf = fftfreq(N, T) # get and transform frequencies to periods of months\n",
    "        xf = fftshift(xf) # shift 0 to center of axis\n",
    "        index = np.where(xf >= 0) # only take positive frequencies\n",
    "\n",
    "        # convert to monthly contributions, shift by 1 (0 -> 1 because 0 frequency has no meaning here) \n",
    "        # and multiply by 2 to account for the negative frequencies\n",
    "        xf =  (xf[index] + 1) * 2 \n",
    "        yf =  yf[index]\n",
    "        # normalise w.r.t. the peak to weaken those with lot of noise throughout the year \n",
    "        # -> highlight those that mainly peak once per year for filtering later\n",
    "        yf_norm = yf / np.sum(yf)\n",
    "        fft_df = pd.DataFrame({'fft': yf, 'time': xf, 'fft_norm': yf_norm}) # add FT and time as df to dict\n",
    "        fft_dict[f\"df_{names_list[val]}\"] = fft_df\n",
    "\n",
    "        sns.lineplot(data=fft_df, x='time', y='fft', label=names_list[val], color=palette[val], ax=ax)\n",
    "    ax.set(xlabel='Periods [months]', \n",
    "            ylabel='Amplitude',\n",
    "            title='Fourier transform of the seasonal component of ABV')\n",
    "    if len(list_df) > 2:\n",
    "        ax.legend(loc='center left', bbox_to_anchor=(1, 0.5))\n",
    "    return fft_dict\n",
    "\n",
    "# test function on\n",
    "fft_dict = fourier_transform([NA_time, EU_time],['North America', 'Europe'])"
   ]
  },
  {
   "cell_type": "markdown",
   "id": "68c48b6e",
   "metadata": {},
   "source": [
    "- The main mode is as expected at 12 months, which corresponds to annual seasonality, which is our key mode of interest for seasonality\n",
    "- Additional modes contribute to the shaping of the oscillations\n",
    "- Due to normalisation of the FFT, NA has a much higher peak than Europe due to less noise\n",
    "- Some shaping coefficients are seen at every 2month interval, as they can be seen in the purely seasonal data as well\n",
    "- The other contributions are basically noise (residual contribution)"
   ]
  },
  {
   "cell_type": "markdown",
   "id": "477a6aa2",
   "metadata": {},
   "source": [
    "#### In the following part we repeat this procedure, but for every beer style to recognise seasonality contribution of each style"
   ]
  },
  {
   "cell_type": "code",
   "execution_count": null,
   "id": "2d42763d",
   "metadata": {
    "ExecuteTime": {
     "start_time": "2023-12-22T21:39:52.515525Z"
    }
   },
   "outputs": [],
   "source": [
    "df_dict_EU = {} # store all dfs in a dictionary to access them later for the FFT \n",
    "df_dict_NA = {}\n",
    "names_list = [] # store style names in a list for FFT function\n",
    "\n",
    "# repeat the whole process we previously did for EU/NA until FT for every beer style\n",
    "phase_EU = []\n",
    "phase_NA = []\n",
    "for style in hue_order_styles: # recall hue_order_styles is an ordered list of all beer styles\n",
    "\n",
    "    # Create dataframe for each style\n",
    "    df1 = df_EU[df_EU['style'] == style]\n",
    "    df2 = df_NA[df_NA['style'] == style]\n",
    "\n",
    "    # month averaging\n",
    "    df1_monthly = abv_by_month(df1)\n",
    "    df2_monthly = abv_by_month(df2)\n",
    "\n",
    "    # seasonal decomposition\n",
    "    df1_monthly = df1_monthly.fillna(method='ffill') # fill missing values with previous month to avoid error\n",
    "    df2_monthly = df2_monthly.fillna(method='ffill')\n",
    "    res_df1 = sm.tsa.seasonal_decompose(df1_monthly['abv'])\n",
    "    res_df2 = sm.tsa.seasonal_decompose(df2_monthly['abv'])\n",
    "\n",
    "    # extract phase by simply taking the month of the maximum of the seasonal component\n",
    "    indx_1 = res_df1.seasonal.idxmax()\n",
    "    phase_EU.append(indx_1.strftime('%B')) # add month as string to list\n",
    "    indx_2 = res_df2.seasonal.idxmax()\n",
    "    phase_NA.append(indx_2.strftime('%B'))\n",
    "    \n",
    "    # convert res to df\n",
    "    df1_time = res_to_df(res_df1)\n",
    "    df2_time = res_to_df(res_df2)\n",
    "\n",
    "    # Store DataFrames in the dictionary\n",
    "    df_dict_EU[f\"df_EU_{style}\"] = df1_time\n",
    "    df_dict_NA[f\"df_NA_{style}\"] = df2_time\n",
    "\n",
    "    names_list.append(style)\n",
    "# extract the dfs from the dictionary and put them in a list\n",
    "df_list_EU = [df_dict_EU[f\"df_EU_{style}\"] for style in hue_order_styles]\n",
    "df_list_NA = [df_dict_NA[f\"df_NA_{style}\"] for style in hue_order_styles]"
   ]
  },
  {
   "cell_type": "markdown",
   "id": "08433b11",
   "metadata": {},
   "source": [
    "#### Now we can plot the Fourier transform for all beer styles"
   ]
  },
  {
   "cell_type": "code",
   "execution_count": null,
   "id": "70ea6fc1",
   "metadata": {
    "ExecuteTime": {
     "start_time": "2023-12-22T21:39:52.519119700Z"
    }
   },
   "outputs": [],
   "source": [
    "fft_dict_EU = fourier_transform(df_list_EU, names_list)"
   ]
  },
  {
   "cell_type": "code",
   "execution_count": null,
   "id": "5804f6df",
   "metadata": {
    "ExecuteTime": {
     "start_time": "2023-12-22T21:39:52.522118200Z"
    }
   },
   "outputs": [],
   "source": [
    "fft_dict_NA = fourier_transform(df_list_NA, names_list)"
   ]
  },
  {
   "cell_type": "markdown",
   "id": "4e218096",
   "metadata": {},
   "source": [
    "#### Observations:\n",
    "- EU data is overall much noisier, which we already expected in the initial seasonality plot, this leads (since we normalised to 1) to reduced peaks, which does not matter here, but this normalisation allows to filter the very noisy data out that does not have a main peak in a yearly cycle\n",
    "- We clearly see that only few styles contribute to seasonality, hence this motivates to filter those styles that do not show significant differences at 12 months period\n",
    "- Interestingly, there are beers like e.g. Dark Lagers that show some mode at 10 months but not (or only marginal) at 12 months.\n",
    "\n",
    "It makes sense to filter out all beer styles that do not seem to contribute to annual periodicity in a next step:"
   ]
  },
  {
   "cell_type": "code",
   "execution_count": null,
   "id": "e55b5a66",
   "metadata": {
    "ExecuteTime": {
     "start_time": "2023-12-22T21:39:52.524119400Z"
    }
   },
   "outputs": [],
   "source": [
    "# filter dicts for styles with specified threshold in the 12-month cycle period to \n",
    "# manually filter out styles with no significant peak at 12 months\n",
    "def filter_dict(fft_dict, threshold):\n",
    "    \"\"\"\n",
    "    Filters the dictionary of ffts for styles with a maximum fft around the 12-month cycle value above a threshold.\n",
    "    \n",
    "    :param fft_dict: dict with ffts.\n",
    "    :param threshold: float, minimum threshold for the maximum fft value.\n",
    "    :return: dict with ffts and list of index of the styles with a maximum fft above the threshold to track phase and color for each style\n",
    "    \"\"\"\n",
    "    filtered_dict = {}\n",
    "    index = [] # index for colors and phases\n",
    "    keys_list = list(fft_dict.keys())\n",
    "    for key, df in fft_dict.items():\n",
    "        if df[(df['time'] > 11.7) & (df['time'] < 12.3)]['fft_norm'].max() > threshold: # manual testing showed [11.7, 12.3] to be decent\n",
    "            filtered_dict[key] = df\n",
    "            index.append(keys_list.index(key))\n",
    "\n",
    "    return filtered_dict, index\n",
    "\n",
    "# NOTE: The threshold values were chosen by looking at the plots and finding the lowest max such that the peaks \n",
    "# of all styles considered are around the 12 month cycle. The thresholds are based on the normalised FT, since we want to\n",
    "# consider relative peaks at 12 month compared to other modes / noise\n",
    "fft_dict_EU_filtered, colors_EU = filter_dict(fft_dict_EU, 0.035)\n",
    "fft_dict_NA_filtered, colors_NA = filter_dict(fft_dict_NA, 0.045) "
   ]
  },
  {
   "cell_type": "code",
   "execution_count": null,
   "id": "8311a85e",
   "metadata": {
    "ExecuteTime": {
     "start_time": "2023-12-22T21:39:52.527658200Z"
    }
   },
   "outputs": [],
   "source": [
    "# plot the filtered dicts\n",
    "fig, axes = plt.subplots(2,1, figsize=(14,9))\n",
    "for val, (key, df) in enumerate(fft_dict_EU_filtered.items()):\n",
    "    sns.lineplot(data=df, x='time', y='fft_norm', label=key[3:], ax=axes[0], color=palette[colors_EU[val]])\n",
    "axes[0].set(xlabel='Contribution per monthly cycle', \n",
    "            ylabel='Amplitude',\n",
    "            title='normalised Fourier transform of filtered style components of ABV in EU')\n",
    "axes[0].legend(loc='center left', bbox_to_anchor=(1, 0.5))\n",
    "for val, (key, df) in enumerate(fft_dict_NA_filtered.items()):\n",
    "    sns.lineplot(data=df, x='time', y='fft_norm', label=key[3:], ax=axes[1], color=palette[colors_NA[val]])\n",
    "axes[1].set(xlabel='Contribution per monthly cycle', \n",
    "            ylabel='Amplitude',\n",
    "            title='normalised Fourier transform of filtered style components of ABV in NA')\n",
    "axes[1].legend(loc='center left', bbox_to_anchor=(1, 0.5))\n",
    "plt.tight_layout()\n",
    "plt.show()"
   ]
  },
  {
   "cell_type": "markdown",
   "id": "1973db04",
   "metadata": {},
   "source": [
    "The FT-plots look much cleaner already now that only significant contributors to annual periodicity remain:\n",
    "- We still see some additional modes, that we do not further investigate here (because we are mainly interested in annual cycle), notably in Northern America with Dark Lagers at 8-, and 10-month cycles.\n",
    "- There seem to be more beers in NA with significant seasonality than EU\n",
    "- Considering the normalised FT values allowed us to consider e.g. Pale Lagers as well, even though the amplitude is small at 12 months, it stands out significantly compared to any other mode due to very low noise in the data\n",
    "\n",
    "In a next step we want to properly summarise and display our findings, also combining the phase information as well. We start by creating new df's that contain all fft datapoints of all styles for Europe and North America"
   ]
  },
  {
   "cell_type": "code",
   "execution_count": null,
   "id": "ed2ab4c2",
   "metadata": {
    "ExecuteTime": {
     "end_time": "2023-12-22T21:39:52.669141Z",
     "start_time": "2023-12-22T21:39:52.530704200Z"
    }
   },
   "outputs": [],
   "source": [
    "# create a new dataframe that contains fft_dict['EU'] 'fft' and 'time' as well as all df's stored in df_dict_EU\n",
    "fft_df_EU = fft_dict['df_Europe']\n",
    "fft_df_EU = fft_df_EU[['time', 'fft']]\n",
    "fft_df_EU = fft_df_EU.rename(columns={'fft': 'fft_tot'})\n",
    "\n",
    "# we merge closest on time in case the time index is not exactly the same for all df's\n",
    "for key, df in fft_dict_EU_filtered.items():\n",
    "        fft_df_EU = pd.merge_asof(fft_df_EU, fft_dict_EU[key][['time','fft']], on='time')\n",
    "        fft_df_EU = fft_df_EU.rename(columns={'fft': f'{key[3:]}'}) # keep only beer style name, remove EU_ / NA_ prefix -> 3:\n",
    "\n",
    "# repeat for NA\n",
    "fft_df_NA = fft_dict['df_North America']\n",
    "fft_df_NA = fft_df_NA[['time', 'fft']]\n",
    "fft_df_NA = fft_df_NA.rename(columns={'fft': 'fft_tot'})\n",
    "\n",
    "for key, df in fft_dict_NA_filtered.items():\n",
    "        fft_df_NA = pd.merge_asof(fft_df_NA, fft_dict_NA[key][['time','fft']], on='time')\n",
    "        fft_df_NA = fft_df_NA.rename(columns={'fft': f'{key[3:]}'})\n",
    "\n",
    "# only keep values betweeen 11.5 and 12.5\n",
    "display(fft_df_NA)"
   ]
  },
  {
   "cell_type": "markdown",
   "id": "05f35e59",
   "metadata": {},
   "source": [
    "We further transform to a new df to only keep important information for each beer style; Namely the value and position of the normalised maximum peak, the phase, the corresponding color "
   ]
  },
  {
   "cell_type": "code",
   "execution_count": null,
   "id": "ac563a59",
   "metadata": {
    "ExecuteTime": {
     "start_time": "2023-12-22T21:39:52.533704800Z"
    }
   },
   "outputs": [],
   "source": [
    "# take max and index of the max of each column and plot them as scatter, under constraint that the peak is in a neighborhood of 12 months -> seasonality component\n",
    "fft_df_EU = fft_df_EU[(fft_df_EU['time'] > 11.7) & (fft_df_EU['time'] < 12.3)]\n",
    "fft_df_NA = fft_df_NA[(fft_df_NA['time'] > 11.7) & (fft_df_NA['time'] < 12.3)]\n",
    "\n",
    "# create new df that contains the peak for each style -> index is to keep track of where each max comes from -> 65 corresponds to 12 exact months cycles\n",
    "max_df_EU = pd.DataFrame({'max': fft_df_EU.iloc[:, 2:].max(), 'index': fft_df_EU.iloc[:, 2:].idxmax()})\n",
    "max_df_NA = pd.DataFrame({'max': fft_df_NA.iloc[:, 2:].max(), 'index': fft_df_NA.iloc[:, 2:].idxmax()})\n",
    "\n",
    "# link the colors to styles by saving them as column\n",
    "cols_EU = [palette[x] for x in colors_EU]\n",
    "max_df_EU['color'] = cols_EU # to maintain same colors for each style\n",
    "phases_EU = [phase_EU[x] for x in colors_EU] #  colors_EU contains index of corresponding style only \n",
    "max_df_EU['phase'] = phases_EU \n",
    "\n",
    "cols_NA = [palette[x] for x in colors_NA]\n",
    "max_df_NA['color'] = cols_NA \n",
    "phases_NA = [phase_NA[x] for x in colors_NA]\n",
    "max_df_NA['phase'] = phases_NA\n",
    "\n",
    "# reset index and sort\n",
    "max_df_EU = max_df_EU.reset_index().rename(columns={'level_0': 'style'})\n",
    "max_df_NA = max_df_NA.reset_index().rename(columns={'level_0': 'style'})\n",
    "\n",
    "# additionally consider the weighting from amount of reviews\n",
    "# get number of reviews per style\n",
    "count_EU = df_EU.groupby('style')['abv'].count().reset_index()\n",
    "count_NA = df_NA.groupby('style')['abv'].count().reset_index()\n",
    "\n",
    "count_EU = count_EU.rename(columns={'abv': 'count'})\n",
    "count_NA = count_NA.rename(columns={'abv': 'count'})\n",
    "\n",
    "# merge with max_df to get the number of reviews for each style\n",
    "max_df_EU = max_df_EU.merge(count_EU, on='style')\n",
    "max_df_NA = max_df_NA.merge(count_NA, on='style')\n",
    "\n",
    "# yields weight factor by normalising the number of reviews vs. total count\n",
    "#NOTE: If we only normalise w.r.t. the styles we use here we do not accurately represent for the distribution of reviews\n",
    "max_df_EU['weight'] = max_df_EU['count'] / count_EU['count'].sum()\n",
    "max_df_NA['weight'] = max_df_NA['count'] / count_NA['count'].sum()\n",
    "\n",
    "# save normalised max w.r.t. to all styles to get fractional contribution to seasonality\n",
    "max_df_EU['normalized_max'] = max_df_EU['max'] * max_df_EU['weight']\n",
    "max_df_NA['normalized_max'] = max_df_NA['max'] * max_df_NA['weight']\n",
    "\n",
    "# normalise the peaks to 1 in total, assuming we have +/- all styles that contribute to seasonality\n",
    "max_df_EU['normalized_max'] /= max_df_EU['normalized_max'].sum()\n",
    "max_df_NA['normalized_max'] /= max_df_NA['normalized_max'].sum()\n",
    "\n",
    "# sort by normalised max\n",
    "max_df_EU = max_df_EU.sort_values(by='normalized_max', ascending=False)\n",
    "max_df_NA = max_df_NA.sort_values(by='normalized_max', ascending=False)\n",
    "\n",
    "display(max_df_EU)"
   ]
  },
  {
   "cell_type": "code",
   "execution_count": null,
   "id": "aea1eacd",
   "metadata": {
    "ExecuteTime": {
     "start_time": "2023-12-22T21:39:52.535705Z"
    }
   },
   "outputs": [],
   "source": [
    "# plot the max values as barplot\n",
    "fig, ax = plt.subplots(2,1, figsize=(12,6))\n",
    "sns.barplot(data=max_df_EU, y='style', x='normalized_max', ax=ax[0], palette=max_df_EU['color'])\n",
    "ax[0].set(xlabel='Normalised frequency peak at 12 months period', ylabel='Styles', \n",
    "        title='Contribution of the dominant frequency to the seasonal component of ABV in EU')\n",
    "sns.barplot(data=max_df_NA, y='style', x='normalized_max', ax=ax[1], palette=max_df_NA['color'])\n",
    "ax[1].set(xlabel='Normalised frequency peak at 12 months period', ylabel='Styles', \n",
    "        title='Contribution of the dominant frequency to the seasonal component of ABV in NA')\n",
    "\n",
    "plt.legend(loc='center left', bbox_to_anchor=(1, 0.5))\n",
    "plt.tight_layout()\n",
    "plt.show()"
   ]
  },
  {
   "cell_type": "markdown",
   "id": "3fc6af59",
   "metadata": {},
   "source": [
    "This is already quite interesting - note though that we did the approximation that only the here considered beer styles contribute to seasonality at all (which is reasonable though when we consider the peaks below the chosen threshold as residual noise)!\n",
    "\n",
    "- Specialty beer contributes the most to seasonality, due to it's huge seasonal effect\n",
    "- Beers such as IPA show remarkable contribution to seasonality in North America, even though they do not show a very high seasonal mode, but the huge weight due to its popularity (reflected in # of reviews) even a marginal seasonality can contribute a lot to the total (we observe similar effectsin Pale Lagers f.e.)\n",
    "- We observe that it's similar styles contribute to seasonality in EU and NA, even though fewer in EU overall\n",
    "- Also it's not the same order of contribution in EU and NA, wheat beers or Hybrids contribute much more in EU than in NA for example\n",
    "An important factor is missing here: The phase. We do not see yet which contribution peaks in ABV at what time of year!\n",
    "\n",
    "To present the final result of seasonality, we intend to use plotly to summarise all findings in one plot. A few steps are needed to achieve this:\n",
    "\n",
    "- colors have to be transformed to hexadecimal code to be recognised by plotly with ease\n",
    "- If we sort by contribution, the biggest contributors will be displayed as outermost bar for better readability\n",
    "- The peak values should be normalised w.r.t it's total sum, such that the bars display a fraction of the total seasonality contribution, which makes different contributions much more intuitive"
   ]
  },
  {
   "cell_type": "code",
   "execution_count": null,
   "id": "1250236f",
   "metadata": {
    "ExecuteTime": {
     "start_time": "2023-12-22T21:39:52.538298Z"
    }
   },
   "outputs": [],
   "source": [
    "# Define a function to convert RGB to HEX\n",
    "def rgb_to_hex(rgb):\n",
    "    # Scale and convert float values to integers\n",
    "    scaled_rgb = tuple(int(value * 255) for value in rgb)\n",
    "    \n",
    "    # Format as hexadecimal color code\n",
    "    hex_value = \"#{:02X}{:02X}{:02X}\".format(*scaled_rgb)\n",
    "    \n",
    "    return hex_value\n",
    "\n",
    "# Apply the function to create a new 'hex_color' column\n",
    "max_df_EU['hex_color'] = max_df_EU['color'].apply(rgb_to_hex)\n",
    "max_df_NA['hex_color'] = max_df_NA['color'].apply(rgb_to_hex)\n",
    "\n",
    "display(max_df_EU)"
   ]
  },
  {
   "cell_type": "code",
   "execution_count": null,
   "id": "4dd2a423",
   "metadata": {
    "ExecuteTime": {
     "start_time": "2023-12-22T21:39:52.540297300Z"
    }
   },
   "outputs": [],
   "source": [
    "import plotly.graph_objects as go\n",
    "from plotly.subplots import make_subplots\n",
    "\n",
    "# Create a dictionary to map month names to corresponding angles\n",
    "month_angles = {\n",
    "    'January': 60,\n",
    "    'February': 30,\n",
    "    'March': 0,\n",
    "    'April': 330,\n",
    "    'May': 300,\n",
    "    'June': 270,\n",
    "    'July': 240,\n",
    "    'August': 210,\n",
    "    'September': 180,\n",
    "    'October': 150,\n",
    "    'November': 120,\n",
    "    'December': 90\n",
    "}\n",
    "\n",
    "# Create traces for EU and NA for each style\n",
    "traces_EU = []\n",
    "for val, style in enumerate(max_df_EU['style']):\n",
    "    trace = go.Barpolar(\n",
    "        r=max_df_EU[max_df_EU['style'] == style]['normalized_max'],\n",
    "        theta=[month_angles[month] for month in max_df_EU[max_df_EU['style'] == style]['phase']], \n",
    "        text=max_df_EU[max_df_EU['style'] == style]['style'],\n",
    "        name=style,\n",
    "        marker_color=max_df_EU[max_df_EU['style'] == style]['hex_color'], \n",
    "        marker_line_color=\"white\",\n",
    "        marker_line_width=1.3,\n",
    "        opacity=0.8,\n",
    "        legendgroup=style, # group styles together in legend for both subplots to link the legend with both subplots for interaction\n",
    "        showlegend=False, # only show legend for NA, since it covers all styles in EU as well\n",
    "        width=30-val # reduce the width slightly per iteration to narrow it down a bit for the stacked bars\n",
    "    )\n",
    "    traces_EU.append(trace)\n",
    "\n",
    "traces_NA = []\n",
    "for val, style in enumerate(max_df_NA['style']):\n",
    "    trace = go.Barpolar(\n",
    "        r=max_df_NA[max_df_NA['style'] == style]['normalized_max'],\n",
    "        theta=[month_angles[month] for month in max_df_NA[max_df_NA['style'] == style]['phase']],\n",
    "        text=max_df_NA[max_df_NA['style'] == style]['style'],\n",
    "        name=style,\n",
    "        marker_color=max_df_NA[max_df_NA['style'] == style]['hex_color'],\n",
    "        marker_line_color=\"white\",\n",
    "        marker_line_width=1.3,\n",
    "        opacity=0.8,\n",
    "        legendgroup=style,\n",
    "        width=30-val\n",
    "    )\n",
    "    traces_NA.append(trace)\n",
    "\n",
    "# create two subplots for EU and NA using make_subplots\n",
    "fig = make_subplots(\n",
    "    rows=1, cols=2,\n",
    "    specs=[[{\"type\": \"polar\"}, {\"type\": \"polar\"}]]\n",
    ")\n",
    "for trace in traces_EU:\n",
    "    fig.add_trace(trace, row=1, col=1)\n",
    "for trace in traces_NA:\n",
    "    fig.add_trace(trace, row=1, col=2)\n",
    "\n",
    "# Update layout for EU and NA\n",
    "fig.update_layout(\n",
    "    template='plotly_dark',\n",
    "    polar1=dict(\n",
    "        radialaxis=dict(range=[0, max_df_EU[max_df_EU['phase'] == 'December'].sum()], tick0=0, dtick=0.1, tickangle=270, angle=270, \n",
    "                        tickformat='.0%', hoverformat='.2%'), \n",
    "        # NOTE: tick format for better readability, hover format for higher accuracy when hovering over the bars, also tick in -y direction to not obscure any bars\n",
    "        angularaxis=dict(showticklabels=True, ticks='outside', tickvals=list(month_angles.values()), ticktext=list(month_angles.keys()))\n",
    "    ),\n",
    "    polar2=dict(\n",
    "        radialaxis=dict(range=[0, max_df_NA[max_df_NA['phase'] == 'December'].sum()], tick0=0, dtick=0.1, tickangle=270, angle=270, \n",
    "                        tickformat='.0%', hoverformat='.2%'),\n",
    "        angularaxis=dict(showticklabels=True, ticks='outside', tickvals=list(month_angles.values()), ticktext=list(month_angles.keys()))\n",
    "    ),\n",
    "    # subplot titles unsuited for this, because of spacing issue due to printing the months outside the plot\n",
    "    title_text='Peak saisonality contribution [in %] in ABV of beer styles in EU (left) and NA (right)', \n",
    "    barmode='stack', # stacked barplot \n",
    "    legend_title=\"Beer Styles\",\n",
    "    legend_tracegroupgap=0 # minimise gap between legend entries which is by default increased due to grouping\n",
    ")\n",
    "\n",
    "fig.write_html(\"peak_saisonality.html\") # save as html\n",
    "fig.show()"
   ]
  },
  {
   "cell_type": "markdown",
   "id": "06aed602",
   "metadata": {},
   "source": [
    "Now we have the seasonality summarised in those two plots:\n",
    "\n",
    "- $\\approx$ 80% of the seasonal contribution in North America are peaking in the winter months (Dec.-Feb.), in the EU it's only around 65%. As we see, North America in most years has a higher winterly peak than Europe and does not flatten down as quickly as Europe, since we multiple styles contributing to higher ABV until February\n",
    "- We observe the effect of Octoberfest! Each year in October we see a peak contribution from Dark Lagers, which contain typical Octoberfest beers such as Märzen. This however is hardly visible in the annual pattern because we're in transition from lower summer ABV towards higher Winter, and the contribution is only $\\approx 5$%\n",
    "- Europe has a second peak in May, where we see sort of a second small peaking or sort of a Plateau that we do not observe in North America. This seems to be due to Porters and Strong Ales contributing $\\approx$ 28% of EU's seasonality, whereas this effect is marginal in North America with 13% from stouts in May and Porters in June\n",
    "- It seems this is the main culprit that acounts for the quite different seasonality pattern in Europe"
   ]
  },
  {
   "cell_type": "markdown",
   "id": "3231c8ab",
   "metadata": {},
   "source": [
    "To recall the initial seasonality we plot it once more here and highlight the off-peak contributions from Porters (EU only) and Dark Lagers\n"
   ]
  },
  {
   "cell_type": "code",
   "execution_count": null,
   "id": "95b5880c",
   "metadata": {
    "ExecuteTime": {
     "start_time": "2023-12-22T21:39:52.542297100Z"
    }
   },
   "outputs": [],
   "source": [
    "# Reuse the plot at the beginning of the chapter but add lines in May and October due to the observed peaks\n",
    "may_list = [pd.Timestamp(year=2003, month=5, day=1) + pd.DateOffset(years=x) for x in range(0, 14)]\n",
    "oct_list = [pd.Timestamp(year=2003, month=10, day=1) + pd.DateOffset(years=x) for x in range(0, 14)]\n",
    "fig, ax = plt.subplots(figsize=(10,4))\n",
    "sns.lineplot(data=EU_time, x='date', y='seasonal', ax=ax, label='Europe')\n",
    "sns.lineplot(data=NA_time, x='date', y='seasonal', ax=ax, label='North America')\n",
    "ax.set(title='Seasonality of EU and NA with May and October highlighted',\n",
    "       xlabel = '')\n",
    "for oct in oct_list:\n",
    "    if oct == oct_list[0]:\n",
    "        ax.axvline(x=oct, color=max_df_NA.query(\"style =='Dark Lagers'\").color.iloc[0], linestyle='--', alpha=0.4, label='October')\n",
    "    else:\n",
    "        ax.axvline(x=oct, color=max_df_EU.query(\"style =='Dark Lagers'\").color.iloc[0], linestyle='--', alpha=0.4)\n",
    "for may in may_list:\n",
    "    if may == may_list[0]:\n",
    "        ax.axvline(x=may, color=max_df_NA.query(\"style =='Porters'\").color.iloc[0], linestyle='--', alpha=0.4, label='May')\n",
    "    else:\n",
    "        ax.axvline(x=may, color=max_df_EU.query(\"style =='Porters'\").color.iloc[0], linestyle='--', alpha=0.4)\n",
    "\n",
    "plt.legend(loc='lower left')\n",
    "plt.tight_layout()\n",
    "plt.show()"
   ]
  },
  {
   "cell_type": "markdown",
   "id": "7f753375",
   "metadata": {},
   "source": [
    "To show again:\n",
    "- EU shows a clear plateau each May\n",
    "- Octoberfest is barely noticeable here\n",
    "- North America often holds the peak value longer, due to styles peaking their contribution in February as well"
   ]
  },
  {
   "cell_type": "markdown",
   "id": "6c66c984",
   "metadata": {},
   "source": [
    "## 5.2 Trend Analysis with regression\n",
    "- We infer if the trends between EU and NA are significantly different\n",
    "- We infer whose style contributions are significant for determining the trend using probably linear-mixed effects model"
   ]
  },
  {
   "cell_type": "code",
   "execution_count": null,
   "id": "805357f7",
   "metadata": {
    "ExecuteTime": {
     "start_time": "2023-12-22T21:39:52.543889600Z"
    }
   },
   "outputs": [],
   "source": [
    "# create trend_dfs for EU and NA \n",
    "def create_trends_df(df_dict):\n",
    "    df_trend = pd.DataFrame(list(df_dict_EU.values())[0].date)\n",
    "    for key, df in df_dict.items():\n",
    "            df_trend[key[6:]] = df.trend\n",
    "    return df_trend\n",
    "\n",
    "trend_EU = create_trends_df(df_dict_EU)\n",
    "trend_NA = create_trends_df(df_dict_NA)\n",
    "\n",
    "# add the total trend \n",
    "trend_EU['EU_tot'] = EU_time.trend\n",
    "trend_NA['NA_tot'] = NA_time.trend"
   ]
  },
  {
   "cell_type": "code",
   "execution_count": null,
   "id": "9a2e99f1",
   "metadata": {
    "ExecuteTime": {
     "start_time": "2023-12-22T21:39:52.545885500Z"
    }
   },
   "outputs": [],
   "source": [
    "# test significance of EU and NA trend time series\n",
    "\n",
    "df_monthly = abv_by_month(ratings_df)\n",
    "df_tot_res = sm.tsa.seasonal_decompose(df_monthly['abv'])\n",
    "df_tot = res_to_df(df_tot_res)\n",
    "display(df_tot)"
   ]
  },
  {
   "cell_type": "markdown",
   "id": "2e3f4bd2",
   "metadata": {},
   "source": [
    "To recall the initial Trend we observed at the beginning of the chapter:\n",
    "\n",
    "- The Trendline seems not too far off of a linear increase, even though we face a sort of plateau effect, we aim to model a linear fit to our data with time as covariate"
   ]
  },
  {
   "cell_type": "code",
   "execution_count": null,
   "id": "95072eb7",
   "metadata": {
    "ExecuteTime": {
     "start_time": "2023-12-22T21:39:52.547514800Z"
    }
   },
   "outputs": [],
   "source": [
    "from statsmodels import api as sm\n",
    "from statsmodels.iolib.summary2 import summary_col\n",
    "\n",
    "# create copys and reset date index\n",
    "EU_trend = EU_monthly.copy()\n",
    "NA_trend = NA_monthly.copy()\n",
    "\n",
    "EU_trend.reset_index(inplace=True)\n",
    "NA_trend.reset_index(inplace=True)\n",
    "\n",
    "# Use count of months since the first data point that we consider for the time series\n",
    "reference_date = pd.Timestamp('2003-02-01')\n",
    "EU_trend['months'] = ((EU_trend['date'] - reference_date) / np.timedelta64(1, 'M')).astype(int)\n",
    "NA_trend['months'] = ((NA_trend['date'] - reference_date) / np.timedelta64(1, 'M')).astype(int)\n",
    "\n",
    "\n",
    "# Linear regression for EU and NA based on time\n",
    "X_EU = sm.add_constant(EU_trend['months'])\n",
    "X_NA = sm.add_constant(NA_trend['months'])\n",
    "y_EU = EU_trend['abv']\n",
    "y_NA = NA_trend['abv']\n",
    "\n",
    "model_EU = sm.OLS(y_EU, X_EU)\n",
    "model_NA = sm.OLS(y_NA, X_NA)\n",
    "\n",
    "results_EU = model_EU.fit()\n",
    "results_NA = model_NA.fit()\n",
    "\n",
    "offset_initial = results_NA.params.const - results_EU.params.const\n",
    "offset_recent = results_NA.params.const + (results_NA.params.months * 165) - results_EU.params.const - (results_EU.params.months * 165)\n",
    "\n",
    "print(summary_col([results_EU, results_NA], stars=True, float_format='%0.4f', model_names=['EU', 'NA']))\n",
    "print('----------------------------------')\n",
    "print(f'Duration over {int(max(EU_trend[\"months\"]))} months')\n",
    "print(f'initial offset ({reference_date}) is {offset_initial:.2f}')\n",
    "print(f'predicted offset after 165 months (13 years and 9 months) is {offset_recent:.2f}')\n",
    "print(f'actual offset after 165 months (13 years and 9 months) is {NA_trend[\"abv\"].iloc[-1] - EU_trend[\"abv\"].iloc[-1]:.2f}')"
   ]
  },
  {
   "cell_type": "markdown",
   "id": "0afd80f0",
   "metadata": {},
   "source": [
    "We observe the following from this:\n",
    "- There is a statistically significant increasing trend in abv over the years in both regions as shown by the low p-values (p<.01)\n",
    "The linear model explains $\\approx 0.75$ of the trend for North America and $\\approx 79$, which justifies a linear approximation, although one has to be cautious that it's not too accurate still, it is better for Europe though, since here the increase remains more or less the same with fluctuations\n",
    "- We observe an average increase of $+0.09$% ABV per year in Northern America and \n",
    " $+0.064$% in Europe based on the monthly averaged abv's. This is remarkable considering that we see a plateauing in the Northern American trend since 2014!\n",
    "- The prediction is $\\approx$ 10% off, which is remarkable, considering that the trend for North America is not linear all the way through\n",
    "\n",
    "Let's plot the regression to visualize the errors:"
   ]
  },
  {
   "cell_type": "code",
   "execution_count": null,
   "id": "4a9772ed",
   "metadata": {
    "ExecuteTime": {
     "start_time": "2023-12-22T21:39:52.549473700Z"
    }
   },
   "outputs": [],
   "source": [
    "fig, ax = plt.subplots(figsize=(10, 6))\n",
    "sns.regplot(data=NA_trend, x='months', y='abv', ax=ax, label='North America', color='tab:blue')\n",
    "sns.regplot(data=EU_trend, x='months', y='abv', ax=ax, label='Europe', color='tab:orange')\n",
    "ax.set(title='Linear regression of ABV over time', xlabel='Months since 2003-02-01', ylabel='ABV [%]')\n",
    "\n",
    "plt.legend()\n",
    "plt.tight_layout()\n",
    "plt.show()"
   ]
  },
  {
   "cell_type": "markdown",
   "id": "399522ab",
   "metadata": {},
   "source": [
    "When considering monthly averaged abv we can clearly distinguish North America and Europe!\n",
    "- Even though there is noise, the linear approximation is justified"
   ]
  },
  {
   "cell_type": "markdown",
   "id": "600f3bc4",
   "metadata": {},
   "source": []
  },
  {
   "cell_type": "markdown",
   "id": "397aced9",
   "metadata": {},
   "source": []
  },
  {
   "cell_type": "markdown",
   "id": "75ccf5f5",
   "metadata": {},
   "source": []
  },
  {
   "cell_type": "markdown",
   "id": "83b23f0e",
   "metadata": {},
   "source": []
  },
  {
   "cell_type": "markdown",
   "id": "63f66d7a",
   "metadata": {},
   "source": []
  }
 ],
 "metadata": {
  "kernelspec": {
   "display_name": "Python 3",
   "language": "python",
   "name": "python3"
  },
  "language_info": {
   "codemirror_mode": {
    "name": "ipython",
    "version": 3
   },
   "file_extension": ".py",
   "mimetype": "text/x-python",
   "name": "python",
   "nbconvert_exporter": "python",
   "pygments_lexer": "ipython3",
   "version": "3.11.7"
  }
 },
 "nbformat": 4,
 "nbformat_minor": 5
}
