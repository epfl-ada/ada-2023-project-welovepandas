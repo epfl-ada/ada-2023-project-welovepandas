{
 "cells": [
  {
   "cell_type": "markdown",
   "id": "bbfaa9ad",
   "metadata": {},
   "source": [
    "# Do not use this notebook for merging. I've commented some parts of the code to make it run faster."
   ]
  },
  {
   "cell_type": "markdown",
   "id": "c633bbc9eed26334",
   "metadata": {
    "collapsed": false
   },
   "source": [
    "# Project Milestone 3 Notebook\n",
    "## Do Americans prefer beers with a higher alcohol content (ABV) than Europeans? \n",
    "- Is there a correlation between this preference and specific beer styles known for higher ABV?\n",
    "We will use grouping techniques and micro/macro averages to analyse this preference.\n",
    "- How have beer preferences, especially in terms of ABV, evolved in America and Europe between 2000 and 2017?\n",
    "To analyse this question, we will use time series analysis and visualisation techniques."
   ]
  },
  {
   "cell_type": "markdown",
   "id": "1aaaef728f5cbc61",
   "metadata": {
    "collapsed": false
   },
   "source": [
    "## 1. Imports and global variables"
   ]
  },
  {
   "cell_type": "code",
   "execution_count": 1,
   "id": "fd335edd10b294d1",
   "metadata": {
    "ExecuteTime": {
     "end_time": "2023-12-20T01:23:02.943596700Z",
     "start_time": "2023-12-20T01:23:02.919981200Z"
    },
    "collapsed": false
   },
   "outputs": [],
   "source": [
    "import pandas as pd\n",
    "import numpy as np\n",
    "import matplotlib.pyplot as plt\n",
    "import seaborn as sns\n",
    "from load_data import load_gzip_txt_data"
   ]
  },
  {
   "cell_type": "code",
   "execution_count": 2,
   "id": "e0b37169",
   "metadata": {},
   "outputs": [],
   "source": [
    "# import os\n",
    "\n",
    "# # Display the current working directory\n",
    "# current_directory = os.getcwd()\n",
    "# print(f'Current working directory: {current_directory}')\n",
    "\n",
    "# # Change the working directory to a new path\n",
    "# new_path = 'C:/Users/Lione/Repositories/ada-2023-project-welovepandas'\n",
    "# os.chdir(new_path)\n",
    "\n",
    "# # Display the updated current working directory\n",
    "# updated_directory = os.getcwd()\n",
    "# print(f'Updated working directory: {updated_directory}')"
   ]
  },
  {
   "cell_type": "markdown",
   "id": "8077249376adfff",
   "metadata": {
    "collapsed": false
   },
   "source": [
    "## 2. Preprocessing of the data:"
   ]
  },
  {
   "cell_type": "markdown",
   "id": "64fd786cec3ccf58",
   "metadata": {
    "collapsed": false
   },
   "source": [
    "#### 2.1 Load the users and split between North America and Europe:"
   ]
  },
  {
   "cell_type": "markdown",
   "id": "d3fe742c3bc98da3",
   "metadata": {
    "collapsed": false
   },
   "source": [
    "Define European countries:"
   ]
  },
  {
   "cell_type": "code",
   "execution_count": 3,
   "id": "180de183d41049d9",
   "metadata": {
    "ExecuteTime": {
     "end_time": "2023-12-20T00:15:48.612200700Z",
     "start_time": "2023-12-20T00:15:48.600498Z"
    },
    "collapsed": false
   },
   "outputs": [],
   "source": [
    "european_countries = [\n",
    "    \"Albania\", \"Andorra\", \"Armenia\", \"Austria\", \"Azerbaijan\", \"Belarus\",\n",
    "    \"Belgium\", \"Bosnia and Herzegovina\", \"Bulgaria\", \"Croatia\", \"Cyprus\",\n",
    "    \"Czech Republic\", \"Denmark\", \"England\", \"Estonia\", \"Finland\", \"France\",\n",
    "    \"Georgia\", \"Germany\", \"Gibraltar\", \"Greece\", \"Hungary\", \"Iceland\",\n",
    "    \"Ireland\", \"Italy\", \"Jersey\", \"Kazakhstan\", \"Kosovo\", \"Latvia\",\n",
    "    \"Liechtenstein\", \"Lithuania\", \"Luxembourg\", \"Malta\", \"Moldova\", \"Monaco\",\n",
    "    \"Montenegro\", \"Netherlands\", \"Northern Ireland\", \"Macedonia\", \"Norway\",\n",
    "    \"Poland\", \"Portugal\", \"Romania\", \"Russia\", \"San Marino\", \"Scotland\",\n",
    "    \"Serbia\", \"Slovakia\", \"Slovak Republic\", \"Slovenia\", \"Spain\", \"Sweden\",\n",
    "    \"Switzerland\", \"Turkey\", \"Ukraine\", \"Vatican City\", \"Wales\",\n",
    "]\n",
    "\n",
    "# /!\\ Slovakia in RateBeer and Slovak Republic in BeerAdvocate /!\\"
   ]
  },
  {
   "cell_type": "markdown",
   "id": "82d406e1852ac73e",
   "metadata": {
    "collapsed": false
   },
   "source": [
    "Load users files and classify if European, North American or neither:"
   ]
  },
  {
   "cell_type": "code",
   "execution_count": 4,
   "id": "af29ab194f5c7943",
   "metadata": {
    "ExecuteTime": {
     "end_time": "2023-12-20T00:15:50.592765900Z",
     "start_time": "2023-12-20T00:15:48.923743Z"
    },
    "collapsed": false
   },
   "outputs": [
    {
     "name": "stdout",
     "output_type": "stream",
     "text": [
      "BeerAdvocate:\n"
     ]
    },
    {
     "data": {
      "text/html": [
       "<div>\n",
       "<style scoped>\n",
       "    .dataframe tbody tr th:only-of-type {\n",
       "        vertical-align: middle;\n",
       "    }\n",
       "\n",
       "    .dataframe tbody tr th {\n",
       "        vertical-align: top;\n",
       "    }\n",
       "\n",
       "    .dataframe thead th {\n",
       "        text-align: right;\n",
       "    }\n",
       "</style>\n",
       "<table border=\"1\" class=\"dataframe\">\n",
       "  <thead>\n",
       "    <tr style=\"text-align: right;\">\n",
       "      <th></th>\n",
       "      <th>user_id</th>\n",
       "      <th>location</th>\n",
       "      <th>eu_na</th>\n",
       "    </tr>\n",
       "  </thead>\n",
       "  <tbody>\n",
       "    <tr>\n",
       "      <th>0</th>\n",
       "      <td>nmann08.184925</td>\n",
       "      <td>United States, Washington</td>\n",
       "      <td>North America</td>\n",
       "    </tr>\n",
       "    <tr>\n",
       "      <th>1</th>\n",
       "      <td>stjamesgate.163714</td>\n",
       "      <td>United States, New York</td>\n",
       "      <td>North America</td>\n",
       "    </tr>\n",
       "    <tr>\n",
       "      <th>2</th>\n",
       "      <td>mdagnew.19527</td>\n",
       "      <td>Northern Ireland</td>\n",
       "      <td>Europe</td>\n",
       "    </tr>\n",
       "    <tr>\n",
       "      <th>3</th>\n",
       "      <td>helloloser12345.10867</td>\n",
       "      <td>Northern Ireland</td>\n",
       "      <td>Europe</td>\n",
       "    </tr>\n",
       "    <tr>\n",
       "      <th>4</th>\n",
       "      <td>cypressbob.3708</td>\n",
       "      <td>Northern Ireland</td>\n",
       "      <td>Europe</td>\n",
       "    </tr>\n",
       "    <tr>\n",
       "      <th>...</th>\n",
       "      <td>...</td>\n",
       "      <td>...</td>\n",
       "      <td>...</td>\n",
       "    </tr>\n",
       "    <tr>\n",
       "      <th>120486</th>\n",
       "      <td>eturchick.374415</td>\n",
       "      <td>United States, California</td>\n",
       "      <td>North America</td>\n",
       "    </tr>\n",
       "    <tr>\n",
       "      <th>120487</th>\n",
       "      <td>everman.532342</td>\n",
       "      <td>United States, California</td>\n",
       "      <td>North America</td>\n",
       "    </tr>\n",
       "    <tr>\n",
       "      <th>120488</th>\n",
       "      <td>justin0001.352175</td>\n",
       "      <td>United States, California</td>\n",
       "      <td>North America</td>\n",
       "    </tr>\n",
       "    <tr>\n",
       "      <th>120489</th>\n",
       "      <td>joetex.800347</td>\n",
       "      <td>United States, California</td>\n",
       "      <td>North America</td>\n",
       "    </tr>\n",
       "    <tr>\n",
       "      <th>120490</th>\n",
       "      <td>alexmatt86.313751</td>\n",
       "      <td>United States, California</td>\n",
       "      <td>North America</td>\n",
       "    </tr>\n",
       "  </tbody>\n",
       "</table>\n",
       "<p>120491 rows × 3 columns</p>\n",
       "</div>"
      ],
      "text/plain": [
       "                      user_id                   location          eu_na\n",
       "0              nmann08.184925  United States, Washington  North America\n",
       "1          stjamesgate.163714    United States, New York  North America\n",
       "2               mdagnew.19527           Northern Ireland         Europe\n",
       "3       helloloser12345.10867           Northern Ireland         Europe\n",
       "4             cypressbob.3708           Northern Ireland         Europe\n",
       "...                       ...                        ...            ...\n",
       "120486       eturchick.374415  United States, California  North America\n",
       "120487         everman.532342  United States, California  North America\n",
       "120488      justin0001.352175  United States, California  North America\n",
       "120489          joetex.800347  United States, California  North America\n",
       "120490      alexmatt86.313751  United States, California  North America\n",
       "\n",
       "[120491 rows x 3 columns]"
      ]
     },
     "metadata": {},
     "output_type": "display_data"
    },
    {
     "name": "stdout",
     "output_type": "stream",
     "text": [
      "RateBeer:\n"
     ]
    },
    {
     "data": {
      "text/html": [
       "<div>\n",
       "<style scoped>\n",
       "    .dataframe tbody tr th:only-of-type {\n",
       "        vertical-align: middle;\n",
       "    }\n",
       "\n",
       "    .dataframe tbody tr th {\n",
       "        vertical-align: top;\n",
       "    }\n",
       "\n",
       "    .dataframe thead th {\n",
       "        text-align: right;\n",
       "    }\n",
       "</style>\n",
       "<table border=\"1\" class=\"dataframe\">\n",
       "  <thead>\n",
       "    <tr style=\"text-align: right;\">\n",
       "      <th></th>\n",
       "      <th>user_id</th>\n",
       "      <th>location</th>\n",
       "      <th>eu_na</th>\n",
       "    </tr>\n",
       "  </thead>\n",
       "  <tbody>\n",
       "    <tr>\n",
       "      <th>0</th>\n",
       "      <td>175852</td>\n",
       "      <td>Poland</td>\n",
       "      <td>Europe</td>\n",
       "    </tr>\n",
       "    <tr>\n",
       "      <th>1</th>\n",
       "      <td>442761</td>\n",
       "      <td>Spain</td>\n",
       "      <td>Europe</td>\n",
       "    </tr>\n",
       "    <tr>\n",
       "      <th>2</th>\n",
       "      <td>288889</td>\n",
       "      <td>Poland</td>\n",
       "      <td>Europe</td>\n",
       "    </tr>\n",
       "    <tr>\n",
       "      <th>3</th>\n",
       "      <td>250510</td>\n",
       "      <td>Spain</td>\n",
       "      <td>Europe</td>\n",
       "    </tr>\n",
       "    <tr>\n",
       "      <th>4</th>\n",
       "      <td>122778</td>\n",
       "      <td>Germany</td>\n",
       "      <td>Europe</td>\n",
       "    </tr>\n",
       "    <tr>\n",
       "      <th>...</th>\n",
       "      <td>...</td>\n",
       "      <td>...</td>\n",
       "      <td>...</td>\n",
       "    </tr>\n",
       "    <tr>\n",
       "      <th>46261</th>\n",
       "      <td>181614</td>\n",
       "      <td>Norway</td>\n",
       "      <td>Europe</td>\n",
       "    </tr>\n",
       "    <tr>\n",
       "      <th>46262</th>\n",
       "      <td>134893</td>\n",
       "      <td>England</td>\n",
       "      <td>Europe</td>\n",
       "    </tr>\n",
       "    <tr>\n",
       "      <th>46263</th>\n",
       "      <td>327816</td>\n",
       "      <td>Belgium</td>\n",
       "      <td>Europe</td>\n",
       "    </tr>\n",
       "    <tr>\n",
       "      <th>46264</th>\n",
       "      <td>82020</td>\n",
       "      <td>Slovenia</td>\n",
       "      <td>Europe</td>\n",
       "    </tr>\n",
       "    <tr>\n",
       "      <th>46265</th>\n",
       "      <td>48123</td>\n",
       "      <td>United States, Virginia</td>\n",
       "      <td>North America</td>\n",
       "    </tr>\n",
       "  </tbody>\n",
       "</table>\n",
       "<p>46266 rows × 3 columns</p>\n",
       "</div>"
      ],
      "text/plain": [
       "       user_id                 location          eu_na\n",
       "0       175852                   Poland         Europe\n",
       "1       442761                    Spain         Europe\n",
       "2       288889                   Poland         Europe\n",
       "3       250510                    Spain         Europe\n",
       "4       122778                  Germany         Europe\n",
       "...        ...                      ...            ...\n",
       "46261   181614                   Norway         Europe\n",
       "46262   134893                  England         Europe\n",
       "46263   327816                  Belgium         Europe\n",
       "46264    82020                 Slovenia         Europe\n",
       "46265    48123  United States, Virginia  North America\n",
       "\n",
       "[46266 rows x 3 columns]"
      ]
     },
     "metadata": {},
     "output_type": "display_data"
    }
   ],
   "source": [
    "def get_na_or_eu(row):\n",
    "    \"\"\"\n",
    "    In a Dataframe with a column \"location\", returns whether the location \n",
    "    is in Europe or North America.\n",
    "    \n",
    "    :param row: pandas.Dataframe row with an attribute \"location\".\n",
    "    :return: str, can be \"NA\", \"EU\" or \"Other\".\n",
    "    \"\"\"\n",
    "    location = row['location']\n",
    "    if location in european_countries:\n",
    "        return 'Europe'\n",
    "    elif (location == 'Canada') or (\"United States\" in str(location)):\n",
    "        return 'North America'\n",
    "    else:\n",
    "        return 'Other'\n",
    "\n",
    "\n",
    "ba_users_df = pd.read_csv(\"./data/BeerAdvocate/users.csv\")[['user_id', 'location']].dropna()\n",
    "ba_users_df['eu_na'] = ba_users_df.apply(get_na_or_eu, axis=1)\n",
    "\n",
    "rb_users_df = pd.read_csv(\"./data/RateBeer/users.csv\")[['user_id', 'location']].dropna()\n",
    "rb_users_df['eu_na'] = rb_users_df.apply(get_na_or_eu, axis=1)\n",
    "\n",
    "# We only care about EU or NA users\n",
    "ba_users_df = ba_users_df.query(\"eu_na != 'Other'\").reset_index(drop=True)\n",
    "rb_users_df = rb_users_df.query(\"eu_na != 'Other'\").reset_index(drop=True)\n",
    "\n",
    "print(\"BeerAdvocate:\")\n",
    "display(ba_users_df)\n",
    "print(\"RateBeer:\")\n",
    "display(rb_users_df)"
   ]
  },
  {
   "cell_type": "markdown",
   "id": "b5a792470d6fd72b",
   "metadata": {
    "collapsed": false
   },
   "source": [
    "#### 2.2 Load the ratings:"
   ]
  },
  {
   "cell_type": "markdown",
   "id": "76e48537037eb611",
   "metadata": {
    "collapsed": false
   },
   "source": [
    "Load the ratings files:"
   ]
  },
  {
   "cell_type": "code",
   "execution_count": 5,
   "id": "ffd4e556623d1ca1",
   "metadata": {
    "ExecuteTime": {
     "end_time": "2023-12-20T00:21:00.406233300Z",
     "start_time": "2023-12-20T00:15:50.594946700Z"
    },
    "collapsed": false
   },
   "outputs": [
    {
     "name": "stdout",
     "output_type": "stream",
     "text": [
      "Loading data from:  ./data/BeerAdvocate/ratings.txt.gz\n"
     ]
    },
    {
     "name": "stderr",
     "output_type": "stream",
     "text": [
      "151074576it [01:08, 2195579.00it/s]\n"
     ]
    },
    {
     "name": "stdout",
     "output_type": "stream",
     "text": [
      "Loading data from:  ./data/RateBeer/ratings.txt.gz\n"
     ]
    },
    {
     "name": "stderr",
     "output_type": "stream",
     "text": [
      "121075258it [01:04, 1863626.61it/s]\n"
     ]
    }
   ],
   "source": [
    "ba_ratings_df = load_gzip_txt_data(\n",
    "    \"./data/BeerAdvocate/ratings.txt.gz\",\n",
    "    [\"user_id\", \"beer_id\", \"date\", \"abv\", \"style\", \"rating\"],\n",
    "    # int(1e5),\n",
    ").dropna()\n",
    "rb_ratings_df = load_gzip_txt_data(\n",
    "    \"./data/RateBeer/ratings.txt.gz\",\n",
    "    [\"user_id\", \"beer_id\", \"date\", \"abv\", \"style\", \"rating\"],\n",
    "    # int(1e5),\n",
    ").dropna()"
   ]
  },
  {
   "cell_type": "markdown",
   "id": "d2378ded81ec1d38",
   "metadata": {
    "collapsed": false
   },
   "source": [
    "Cast the columns to meaningful types:"
   ]
  },
  {
   "cell_type": "code",
   "execution_count": 6,
   "id": "72db150d10fd1127",
   "metadata": {
    "ExecuteTime": {
     "end_time": "2023-12-20T00:21:18.107346800Z",
     "start_time": "2023-12-20T00:21:00.412367Z"
    },
    "collapsed": false
   },
   "outputs": [],
   "source": [
    "ba_ratings_df = ba_ratings_df.astype({\n",
    "    'user_id': 'str',\n",
    "    'beer_id': 'int64',\n",
    "    'date': 'int64',\n",
    "    'abv': 'float32',\n",
    "    'rating': 'float32'})\n",
    "\n",
    "rb_ratings_df = rb_ratings_df.astype({\n",
    "    'user_id': 'int64',\n",
    "    'beer_id': 'int64',\n",
    "    'date': 'int64',\n",
    "    'abv': 'float32',\n",
    "    'rating': 'float32'})\n",
    "\n",
    "# Convert the dates to monthly periods (useful for plotting):\n",
    "ba_ratings_df['date'] = pd.to_datetime(ba_ratings_df['date'], unit='s').dt.to_period('m').astype('datetime64[M]')\n",
    "rb_ratings_df['date'] = pd.to_datetime(rb_ratings_df['date'], unit='s').dt.to_period('m').astype('datetime64[M]')"
   ]
  },
  {
   "cell_type": "markdown",
   "id": "971b7eb4ce87a117",
   "metadata": {
    "collapsed": false
   },
   "source": [
    "#### 2.3 Group similar beer styles into broader groups\n",
    "\n",
    "This will make comparisons between different type of beers way easier. "
   ]
  },
  {
   "cell_type": "markdown",
   "id": "a2afd4d74fc6e5",
   "metadata": {
    "collapsed": false
   },
   "source": [
    "We defined the broad groups using https://www.beeradvocate.com/beer/styles/, so we can just load the csv file that we created, containing the matching specific type -> general type:"
   ]
  },
  {
   "cell_type": "code",
   "execution_count": 7,
   "id": "14ed6bdd8266a825",
   "metadata": {
    "ExecuteTime": {
     "end_time": "2023-12-20T00:21:18.122957100Z",
     "start_time": "2023-12-20T00:21:18.110796200Z"
    },
    "collapsed": false
   },
   "outputs": [
    {
     "name": "stdout",
     "output_type": "stream",
     "text": [
      "General styles:\n",
      "{'Dark Lagers', 'Wild/Sour Beers', 'Pale Lagers', 'Bocks', 'Dark Ales', 'India Pale Ales', 'Strong Ales', 'Porters', 'Brown Ales', 'Pale Ales', 'Wheat Beers', 'Saké', 'Specialty Beers', 'Stouts', 'Hybrid Beers'}\n"
     ]
    }
   ],
   "source": [
    "beer_styles_matching = pd.read_csv(\"./data/additional/styles_matching.csv\", index_col='specific')['general'].to_dict()\n",
    "print(f\"General styles:\\n{set(beer_styles_matching.values())}\")"
   ]
  },
  {
   "cell_type": "markdown",
   "id": "c7b9555d9843eba6",
   "metadata": {
    "collapsed": false
   },
   "source": [
    "Note: we don't want to take the Saké into account as it is not a beer!"
   ]
  },
  {
   "cell_type": "markdown",
   "id": "8d554bde213f86aa",
   "metadata": {
    "collapsed": false
   },
   "source": [
    "Replace the specific beer style by the general style (and drop Saké ratings):"
   ]
  },
  {
   "cell_type": "code",
   "execution_count": 8,
   "id": "48040514e2fdc07c",
   "metadata": {
    "ExecuteTime": {
     "end_time": "2023-12-20T00:21:18.188242600Z",
     "start_time": "2023-12-20T00:21:18.122957100Z"
    },
    "collapsed": false
   },
   "outputs": [],
   "source": [
    "def specific_style_to_general(row):\n",
    "    return beer_styles_matching[row['style']]"
   ]
  },
  {
   "cell_type": "code",
   "execution_count": 9,
   "id": "4fb2b2c926ffad0b",
   "metadata": {
    "ExecuteTime": {
     "end_time": "2023-12-20T00:23:10.234445800Z",
     "start_time": "2023-12-20T00:21:18.144226200Z"
    },
    "collapsed": false
   },
   "outputs": [],
   "source": [
    "ba_ratings_df['style'] = ba_ratings_df.apply(specific_style_to_general, axis=1)\n",
    "rb_ratings_df['style'] = rb_ratings_df.apply(specific_style_to_general, axis=1)\n",
    "\n",
    "# Drop Saké\n",
    "ba_ratings_df = ba_ratings_df.query(\"style != 'Saké'\")\n",
    "rb_ratings_df = rb_ratings_df.query(\"style != 'Saké'\")"
   ]
  },
  {
   "cell_type": "code",
   "execution_count": 10,
   "id": "b0166ca010b33db0",
   "metadata": {
    "ExecuteTime": {
     "end_time": "2023-12-20T00:23:11.385285500Z",
     "start_time": "2023-12-20T00:23:10.241958Z"
    },
    "collapsed": false
   },
   "outputs": [
    {
     "name": "stdout",
     "output_type": "stream",
     "text": [
      "BeerAdvocate:\n"
     ]
    },
    {
     "data": {
      "text/html": [
       "<div>\n",
       "<style scoped>\n",
       "    .dataframe tbody tr th:only-of-type {\n",
       "        vertical-align: middle;\n",
       "    }\n",
       "\n",
       "    .dataframe tbody tr th {\n",
       "        vertical-align: top;\n",
       "    }\n",
       "\n",
       "    .dataframe thead th {\n",
       "        text-align: right;\n",
       "    }\n",
       "</style>\n",
       "<table border=\"1\" class=\"dataframe\">\n",
       "  <thead>\n",
       "    <tr style=\"text-align: right;\">\n",
       "      <th></th>\n",
       "      <th>user_id</th>\n",
       "      <th>beer_id</th>\n",
       "      <th>date</th>\n",
       "      <th>abv</th>\n",
       "      <th>style</th>\n",
       "      <th>rating</th>\n",
       "    </tr>\n",
       "  </thead>\n",
       "  <tbody>\n",
       "    <tr>\n",
       "      <th>5033356</th>\n",
       "      <td>gtreid.206765</td>\n",
       "      <td>231880</td>\n",
       "      <td>2016-07-01</td>\n",
       "      <td>8.2</td>\n",
       "      <td>India Pale Ales</td>\n",
       "      <td>4.50</td>\n",
       "    </tr>\n",
       "    <tr>\n",
       "      <th>5413681</th>\n",
       "      <td>udchemist.453367</td>\n",
       "      <td>56239</td>\n",
       "      <td>2011-01-01</td>\n",
       "      <td>6.0</td>\n",
       "      <td>Brown Ales</td>\n",
       "      <td>3.86</td>\n",
       "    </tr>\n",
       "    <tr>\n",
       "      <th>7566105</th>\n",
       "      <td>williahd.651999</td>\n",
       "      <td>185345</td>\n",
       "      <td>2016-06-01</td>\n",
       "      <td>5.1</td>\n",
       "      <td>Pale Lagers</td>\n",
       "      <td>3.64</td>\n",
       "    </tr>\n",
       "    <tr>\n",
       "      <th>5096717</th>\n",
       "      <td>lemmy187.940694</td>\n",
       "      <td>265992</td>\n",
       "      <td>2017-01-01</td>\n",
       "      <td>NaN</td>\n",
       "      <td>India Pale Ales</td>\n",
       "      <td>3.81</td>\n",
       "    </tr>\n",
       "    <tr>\n",
       "      <th>2769515</th>\n",
       "      <td>marco_gtz.742234</td>\n",
       "      <td>56171</td>\n",
       "      <td>2014-06-01</td>\n",
       "      <td>5.5</td>\n",
       "      <td>Brown Ales</td>\n",
       "      <td>3.50</td>\n",
       "    </tr>\n",
       "    <tr>\n",
       "      <th>2249159</th>\n",
       "      <td>crossfit_lunatic.1108761</td>\n",
       "      <td>169625</td>\n",
       "      <td>2016-02-01</td>\n",
       "      <td>5.5</td>\n",
       "      <td>Hybrid Beers</td>\n",
       "      <td>4.50</td>\n",
       "    </tr>\n",
       "    <tr>\n",
       "      <th>5877306</th>\n",
       "      <td>charlesk.1003907</td>\n",
       "      <td>129900</td>\n",
       "      <td>2015-09-01</td>\n",
       "      <td>4.5</td>\n",
       "      <td>India Pale Ales</td>\n",
       "      <td>3.75</td>\n",
       "    </tr>\n",
       "    <tr>\n",
       "      <th>545964</th>\n",
       "      <td>larryarms847.537878</td>\n",
       "      <td>117756</td>\n",
       "      <td>2015-09-01</td>\n",
       "      <td>8.9</td>\n",
       "      <td>India Pale Ales</td>\n",
       "      <td>4.18</td>\n",
       "    </tr>\n",
       "    <tr>\n",
       "      <th>5975350</th>\n",
       "      <td>lantern.573257</td>\n",
       "      <td>72465</td>\n",
       "      <td>2011-11-01</td>\n",
       "      <td>9.0</td>\n",
       "      <td>India Pale Ales</td>\n",
       "      <td>5.00</td>\n",
       "    </tr>\n",
       "    <tr>\n",
       "      <th>4477845</th>\n",
       "      <td>rpaxson19506.709948</td>\n",
       "      <td>66281</td>\n",
       "      <td>2015-04-01</td>\n",
       "      <td>5.2</td>\n",
       "      <td>Pale Ales</td>\n",
       "      <td>4.50</td>\n",
       "    </tr>\n",
       "  </tbody>\n",
       "</table>\n",
       "</div>"
      ],
      "text/plain": [
       "                          user_id  beer_id       date  abv            style  \\\n",
       "5033356             gtreid.206765   231880 2016-07-01  8.2  India Pale Ales   \n",
       "5413681          udchemist.453367    56239 2011-01-01  6.0       Brown Ales   \n",
       "7566105           williahd.651999   185345 2016-06-01  5.1      Pale Lagers   \n",
       "5096717           lemmy187.940694   265992 2017-01-01  NaN  India Pale Ales   \n",
       "2769515          marco_gtz.742234    56171 2014-06-01  5.5       Brown Ales   \n",
       "2249159  crossfit_lunatic.1108761   169625 2016-02-01  5.5     Hybrid Beers   \n",
       "5877306          charlesk.1003907   129900 2015-09-01  4.5  India Pale Ales   \n",
       "545964        larryarms847.537878   117756 2015-09-01  8.9  India Pale Ales   \n",
       "5975350            lantern.573257    72465 2011-11-01  9.0  India Pale Ales   \n",
       "4477845       rpaxson19506.709948    66281 2015-04-01  5.2        Pale Ales   \n",
       "\n",
       "         rating  \n",
       "5033356    4.50  \n",
       "5413681    3.86  \n",
       "7566105    3.64  \n",
       "5096717    3.81  \n",
       "2769515    3.50  \n",
       "2249159    4.50  \n",
       "5877306    3.75  \n",
       "545964     4.18  \n",
       "5975350    5.00  \n",
       "4477845    4.50  "
      ]
     },
     "metadata": {},
     "output_type": "display_data"
    },
    {
     "name": "stdout",
     "output_type": "stream",
     "text": [
      "RateBeer:\n"
     ]
    },
    {
     "data": {
      "text/html": [
       "<div>\n",
       "<style scoped>\n",
       "    .dataframe tbody tr th:only-of-type {\n",
       "        vertical-align: middle;\n",
       "    }\n",
       "\n",
       "    .dataframe tbody tr th {\n",
       "        vertical-align: top;\n",
       "    }\n",
       "\n",
       "    .dataframe thead th {\n",
       "        text-align: right;\n",
       "    }\n",
       "</style>\n",
       "<table border=\"1\" class=\"dataframe\">\n",
       "  <thead>\n",
       "    <tr style=\"text-align: right;\">\n",
       "      <th></th>\n",
       "      <th>user_id</th>\n",
       "      <th>beer_id</th>\n",
       "      <th>date</th>\n",
       "      <th>abv</th>\n",
       "      <th>style</th>\n",
       "      <th>rating</th>\n",
       "    </tr>\n",
       "  </thead>\n",
       "  <tbody>\n",
       "    <tr>\n",
       "      <th>4205325</th>\n",
       "      <td>5450</td>\n",
       "      <td>36378</td>\n",
       "      <td>2004-09-01</td>\n",
       "      <td>8.2</td>\n",
       "      <td>Stouts</td>\n",
       "      <td>3.6</td>\n",
       "    </tr>\n",
       "    <tr>\n",
       "      <th>1174331</th>\n",
       "      <td>2164</td>\n",
       "      <td>37407</td>\n",
       "      <td>2015-05-01</td>\n",
       "      <td>5.0</td>\n",
       "      <td>Dark Lagers</td>\n",
       "      <td>3.3</td>\n",
       "    </tr>\n",
       "    <tr>\n",
       "      <th>5429204</th>\n",
       "      <td>45064</td>\n",
       "      <td>277702</td>\n",
       "      <td>2014-09-01</td>\n",
       "      <td>9.0</td>\n",
       "      <td>India Pale Ales</td>\n",
       "      <td>3.8</td>\n",
       "    </tr>\n",
       "    <tr>\n",
       "      <th>1878271</th>\n",
       "      <td>115208</td>\n",
       "      <td>229344</td>\n",
       "      <td>2015-09-01</td>\n",
       "      <td>7.0</td>\n",
       "      <td>Porters</td>\n",
       "      <td>3.7</td>\n",
       "    </tr>\n",
       "    <tr>\n",
       "      <th>2218324</th>\n",
       "      <td>333213</td>\n",
       "      <td>388894</td>\n",
       "      <td>2016-01-01</td>\n",
       "      <td>5.6</td>\n",
       "      <td>Pale Lagers</td>\n",
       "      <td>3.4</td>\n",
       "    </tr>\n",
       "    <tr>\n",
       "      <th>950428</th>\n",
       "      <td>126160</td>\n",
       "      <td>211247</td>\n",
       "      <td>2014-09-01</td>\n",
       "      <td>5.9</td>\n",
       "      <td>Pale Lagers</td>\n",
       "      <td>3.1</td>\n",
       "    </tr>\n",
       "    <tr>\n",
       "      <th>1367193</th>\n",
       "      <td>304332</td>\n",
       "      <td>2225</td>\n",
       "      <td>2015-05-01</td>\n",
       "      <td>4.8</td>\n",
       "      <td>Dark Lagers</td>\n",
       "      <td>2.3</td>\n",
       "    </tr>\n",
       "    <tr>\n",
       "      <th>768956</th>\n",
       "      <td>9953</td>\n",
       "      <td>7421</td>\n",
       "      <td>2004-12-01</td>\n",
       "      <td>7.7</td>\n",
       "      <td>Porters</td>\n",
       "      <td>3.7</td>\n",
       "    </tr>\n",
       "    <tr>\n",
       "      <th>901190</th>\n",
       "      <td>19400</td>\n",
       "      <td>92897</td>\n",
       "      <td>2011-01-01</td>\n",
       "      <td>4.7</td>\n",
       "      <td>Pale Lagers</td>\n",
       "      <td>2.9</td>\n",
       "    </tr>\n",
       "    <tr>\n",
       "      <th>2816362</th>\n",
       "      <td>221043</td>\n",
       "      <td>122353</td>\n",
       "      <td>2015-04-01</td>\n",
       "      <td>4.9</td>\n",
       "      <td>Dark Ales</td>\n",
       "      <td>2.9</td>\n",
       "    </tr>\n",
       "  </tbody>\n",
       "</table>\n",
       "</div>"
      ],
      "text/plain": [
       "         user_id  beer_id       date  abv            style  rating\n",
       "4205325     5450    36378 2004-09-01  8.2           Stouts     3.6\n",
       "1174331     2164    37407 2015-05-01  5.0      Dark Lagers     3.3\n",
       "5429204    45064   277702 2014-09-01  9.0  India Pale Ales     3.8\n",
       "1878271   115208   229344 2015-09-01  7.0          Porters     3.7\n",
       "2218324   333213   388894 2016-01-01  5.6      Pale Lagers     3.4\n",
       "950428    126160   211247 2014-09-01  5.9      Pale Lagers     3.1\n",
       "1367193   304332     2225 2015-05-01  4.8      Dark Lagers     2.3\n",
       "768956      9953     7421 2004-12-01  7.7          Porters     3.7\n",
       "901190     19400    92897 2011-01-01  4.7      Pale Lagers     2.9\n",
       "2816362   221043   122353 2015-04-01  4.9        Dark Ales     2.9"
      ]
     },
     "metadata": {},
     "output_type": "display_data"
    }
   ],
   "source": [
    "print(\"BeerAdvocate:\")\n",
    "display(ba_ratings_df.sample(10))\n",
    "print(\"RateBeer:\")\n",
    "display(rb_ratings_df.sample(10))"
   ]
  },
  {
   "cell_type": "markdown",
   "id": "172dc6daba8f3ecc",
   "metadata": {
    "collapsed": false
   },
   "source": [
    "#### 2.4 Merge the users with the ratings"
   ]
  },
  {
   "cell_type": "code",
   "execution_count": 11,
   "id": "2353d753b13f65e8",
   "metadata": {
    "ExecuteTime": {
     "end_time": "2023-12-20T00:23:21.008570600Z",
     "start_time": "2023-12-20T00:23:11.379767800Z"
    },
    "collapsed": false
   },
   "outputs": [],
   "source": [
    "ba_df = ba_ratings_df.merge(ba_users_df, on='user_id').drop(columns=['user_id', 'location'])\n",
    "rb_df = rb_ratings_df.merge(rb_users_df, on='user_id').drop(columns=['user_id', 'location'])"
   ]
  },
  {
   "cell_type": "code",
   "execution_count": 12,
   "id": "db2703d461f0ba89",
   "metadata": {
    "ExecuteTime": {
     "end_time": "2023-12-20T00:23:21.079073700Z",
     "start_time": "2023-12-20T00:23:21.012053Z"
    },
    "collapsed": false
   },
   "outputs": [
    {
     "name": "stdout",
     "output_type": "stream",
     "text": [
      "BeerAdvocate:\n"
     ]
    },
    {
     "data": {
      "text/html": [
       "<div>\n",
       "<style scoped>\n",
       "    .dataframe tbody tr th:only-of-type {\n",
       "        vertical-align: middle;\n",
       "    }\n",
       "\n",
       "    .dataframe tbody tr th {\n",
       "        vertical-align: top;\n",
       "    }\n",
       "\n",
       "    .dataframe thead th {\n",
       "        text-align: right;\n",
       "    }\n",
       "</style>\n",
       "<table border=\"1\" class=\"dataframe\">\n",
       "  <thead>\n",
       "    <tr style=\"text-align: right;\">\n",
       "      <th></th>\n",
       "      <th>beer_id</th>\n",
       "      <th>date</th>\n",
       "      <th>abv</th>\n",
       "      <th>style</th>\n",
       "      <th>rating</th>\n",
       "      <th>eu_na</th>\n",
       "    </tr>\n",
       "  </thead>\n",
       "  <tbody>\n",
       "    <tr>\n",
       "      <th>0</th>\n",
       "      <td>142544</td>\n",
       "      <td>2015-08-01</td>\n",
       "      <td>4.5</td>\n",
       "      <td>Pale Lagers</td>\n",
       "      <td>2.88</td>\n",
       "      <td>North America</td>\n",
       "    </tr>\n",
       "    <tr>\n",
       "      <th>1</th>\n",
       "      <td>120824</td>\n",
       "      <td>2015-11-01</td>\n",
       "      <td>5.0</td>\n",
       "      <td>Pale Ales</td>\n",
       "      <td>3.56</td>\n",
       "      <td>North America</td>\n",
       "    </tr>\n",
       "    <tr>\n",
       "      <th>2</th>\n",
       "      <td>47581</td>\n",
       "      <td>2011-11-01</td>\n",
       "      <td>8.0</td>\n",
       "      <td>Strong Ales</td>\n",
       "      <td>4.50</td>\n",
       "      <td>North America</td>\n",
       "    </tr>\n",
       "    <tr>\n",
       "      <th>3</th>\n",
       "      <td>93113</td>\n",
       "      <td>2013-05-01</td>\n",
       "      <td>10.5</td>\n",
       "      <td>Strong Ales</td>\n",
       "      <td>3.75</td>\n",
       "      <td>North America</td>\n",
       "    </tr>\n",
       "    <tr>\n",
       "      <th>4</th>\n",
       "      <td>875</td>\n",
       "      <td>2015-01-01</td>\n",
       "      <td>6.0</td>\n",
       "      <td>Porters</td>\n",
       "      <td>3.81</td>\n",
       "      <td>North America</td>\n",
       "    </tr>\n",
       "    <tr>\n",
       "      <th>...</th>\n",
       "      <td>...</td>\n",
       "      <td>...</td>\n",
       "      <td>...</td>\n",
       "      <td>...</td>\n",
       "      <td>...</td>\n",
       "      <td>...</td>\n",
       "    </tr>\n",
       "    <tr>\n",
       "      <th>7806408</th>\n",
       "      <td>70471</td>\n",
       "      <td>2012-01-01</td>\n",
       "      <td>10.1</td>\n",
       "      <td>India Pale Ales</td>\n",
       "      <td>1.00</td>\n",
       "      <td>North America</td>\n",
       "    </tr>\n",
       "    <tr>\n",
       "      <th>7806409</th>\n",
       "      <td>70471</td>\n",
       "      <td>2014-04-01</td>\n",
       "      <td>10.1</td>\n",
       "      <td>India Pale Ales</td>\n",
       "      <td>4.54</td>\n",
       "      <td>North America</td>\n",
       "    </tr>\n",
       "    <tr>\n",
       "      <th>7806410</th>\n",
       "      <td>61818</td>\n",
       "      <td>2011-06-01</td>\n",
       "      <td>8.0</td>\n",
       "      <td>India Pale Ales</td>\n",
       "      <td>2.08</td>\n",
       "      <td>North America</td>\n",
       "    </tr>\n",
       "    <tr>\n",
       "      <th>7806411</th>\n",
       "      <td>61815</td>\n",
       "      <td>2014-05-01</td>\n",
       "      <td>6.0</td>\n",
       "      <td>Pale Ales</td>\n",
       "      <td>4.45</td>\n",
       "      <td>North America</td>\n",
       "    </tr>\n",
       "    <tr>\n",
       "      <th>7806412</th>\n",
       "      <td>64097</td>\n",
       "      <td>2011-01-01</td>\n",
       "      <td>9.5</td>\n",
       "      <td>Specialty Beers</td>\n",
       "      <td>4.34</td>\n",
       "      <td>North America</td>\n",
       "    </tr>\n",
       "  </tbody>\n",
       "</table>\n",
       "<p>7806413 rows × 6 columns</p>\n",
       "</div>"
      ],
      "text/plain": [
       "         beer_id       date   abv            style  rating          eu_na\n",
       "0         142544 2015-08-01   4.5      Pale Lagers    2.88  North America\n",
       "1         120824 2015-11-01   5.0        Pale Ales    3.56  North America\n",
       "2          47581 2011-11-01   8.0      Strong Ales    4.50  North America\n",
       "3          93113 2013-05-01  10.5      Strong Ales    3.75  North America\n",
       "4            875 2015-01-01   6.0          Porters    3.81  North America\n",
       "...          ...        ...   ...              ...     ...            ...\n",
       "7806408    70471 2012-01-01  10.1  India Pale Ales    1.00  North America\n",
       "7806409    70471 2014-04-01  10.1  India Pale Ales    4.54  North America\n",
       "7806410    61818 2011-06-01   8.0  India Pale Ales    2.08  North America\n",
       "7806411    61815 2014-05-01   6.0        Pale Ales    4.45  North America\n",
       "7806412    64097 2011-01-01   9.5  Specialty Beers    4.34  North America\n",
       "\n",
       "[7806413 rows x 6 columns]"
      ]
     },
     "metadata": {},
     "output_type": "display_data"
    },
    {
     "name": "stdout",
     "output_type": "stream",
     "text": [
      "RateBeer:\n"
     ]
    },
    {
     "data": {
      "text/html": [
       "<div>\n",
       "<style scoped>\n",
       "    .dataframe tbody tr th:only-of-type {\n",
       "        vertical-align: middle;\n",
       "    }\n",
       "\n",
       "    .dataframe tbody tr th {\n",
       "        vertical-align: top;\n",
       "    }\n",
       "\n",
       "    .dataframe thead th {\n",
       "        text-align: right;\n",
       "    }\n",
       "</style>\n",
       "<table border=\"1\" class=\"dataframe\">\n",
       "  <thead>\n",
       "    <tr style=\"text-align: right;\">\n",
       "      <th></th>\n",
       "      <th>beer_id</th>\n",
       "      <th>date</th>\n",
       "      <th>abv</th>\n",
       "      <th>style</th>\n",
       "      <th>rating</th>\n",
       "      <th>eu_na</th>\n",
       "    </tr>\n",
       "  </thead>\n",
       "  <tbody>\n",
       "    <tr>\n",
       "      <th>0</th>\n",
       "      <td>410549</td>\n",
       "      <td>2016-04-01</td>\n",
       "      <td>5.0</td>\n",
       "      <td>Pale Lagers</td>\n",
       "      <td>2.0</td>\n",
       "      <td>Europe</td>\n",
       "    </tr>\n",
       "    <tr>\n",
       "      <th>1</th>\n",
       "      <td>105273</td>\n",
       "      <td>2015-05-01</td>\n",
       "      <td>5.2</td>\n",
       "      <td>Pale Lagers</td>\n",
       "      <td>1.7</td>\n",
       "      <td>Europe</td>\n",
       "    </tr>\n",
       "    <tr>\n",
       "      <th>2</th>\n",
       "      <td>19445</td>\n",
       "      <td>2015-04-01</td>\n",
       "      <td>4.5</td>\n",
       "      <td>Pale Lagers</td>\n",
       "      <td>1.9</td>\n",
       "      <td>Europe</td>\n",
       "    </tr>\n",
       "    <tr>\n",
       "      <th>3</th>\n",
       "      <td>130299</td>\n",
       "      <td>2015-04-01</td>\n",
       "      <td>5.3</td>\n",
       "      <td>Brown Ales</td>\n",
       "      <td>3.7</td>\n",
       "      <td>Europe</td>\n",
       "    </tr>\n",
       "    <tr>\n",
       "      <th>4</th>\n",
       "      <td>55659</td>\n",
       "      <td>2015-11-01</td>\n",
       "      <td>6.1</td>\n",
       "      <td>Brown Ales</td>\n",
       "      <td>2.5</td>\n",
       "      <td>Europe</td>\n",
       "    </tr>\n",
       "    <tr>\n",
       "      <th>...</th>\n",
       "      <td>...</td>\n",
       "      <td>...</td>\n",
       "      <td>...</td>\n",
       "      <td>...</td>\n",
       "      <td>...</td>\n",
       "      <td>...</td>\n",
       "    </tr>\n",
       "    <tr>\n",
       "      <th>6636932</th>\n",
       "      <td>166447</td>\n",
       "      <td>2014-07-01</td>\n",
       "      <td>5.0</td>\n",
       "      <td>Pale Lagers</td>\n",
       "      <td>2.6</td>\n",
       "      <td>Europe</td>\n",
       "    </tr>\n",
       "    <tr>\n",
       "      <th>6636933</th>\n",
       "      <td>85893</td>\n",
       "      <td>2008-09-01</td>\n",
       "      <td>4.7</td>\n",
       "      <td>Pale Lagers</td>\n",
       "      <td>0.5</td>\n",
       "      <td>Europe</td>\n",
       "    </tr>\n",
       "    <tr>\n",
       "      <th>6636934</th>\n",
       "      <td>77389</td>\n",
       "      <td>2008-09-01</td>\n",
       "      <td>4.5</td>\n",
       "      <td>Dark Lagers</td>\n",
       "      <td>3.9</td>\n",
       "      <td>Europe</td>\n",
       "    </tr>\n",
       "    <tr>\n",
       "      <th>6636935</th>\n",
       "      <td>5423</td>\n",
       "      <td>2008-09-01</td>\n",
       "      <td>4.0</td>\n",
       "      <td>Pale Lagers</td>\n",
       "      <td>2.7</td>\n",
       "      <td>Europe</td>\n",
       "    </tr>\n",
       "    <tr>\n",
       "      <th>6636936</th>\n",
       "      <td>5423</td>\n",
       "      <td>2007-01-01</td>\n",
       "      <td>4.0</td>\n",
       "      <td>Pale Lagers</td>\n",
       "      <td>0.7</td>\n",
       "      <td>North America</td>\n",
       "    </tr>\n",
       "  </tbody>\n",
       "</table>\n",
       "<p>6636937 rows × 6 columns</p>\n",
       "</div>"
      ],
      "text/plain": [
       "         beer_id       date  abv        style  rating          eu_na\n",
       "0         410549 2016-04-01  5.0  Pale Lagers     2.0         Europe\n",
       "1         105273 2015-05-01  5.2  Pale Lagers     1.7         Europe\n",
       "2          19445 2015-04-01  4.5  Pale Lagers     1.9         Europe\n",
       "3         130299 2015-04-01  5.3   Brown Ales     3.7         Europe\n",
       "4          55659 2015-11-01  6.1   Brown Ales     2.5         Europe\n",
       "...          ...        ...  ...          ...     ...            ...\n",
       "6636932   166447 2014-07-01  5.0  Pale Lagers     2.6         Europe\n",
       "6636933    85893 2008-09-01  4.7  Pale Lagers     0.5         Europe\n",
       "6636934    77389 2008-09-01  4.5  Dark Lagers     3.9         Europe\n",
       "6636935     5423 2008-09-01  4.0  Pale Lagers     2.7         Europe\n",
       "6636936     5423 2007-01-01  4.0  Pale Lagers     0.7  North America\n",
       "\n",
       "[6636937 rows x 6 columns]"
      ]
     },
     "metadata": {},
     "output_type": "display_data"
    }
   ],
   "source": [
    "print(\"BeerAdvocate:\")\n",
    "display(ba_df)\n",
    "print(\"RateBeer:\")\n",
    "display(rb_df)"
   ]
  },
  {
   "cell_type": "code",
   "execution_count": 13,
   "id": "713b1f2287d376bc",
   "metadata": {
    "ExecuteTime": {
     "end_time": "2023-12-20T00:23:21.975321700Z",
     "start_time": "2023-12-20T00:23:21.060442500Z"
    },
    "collapsed": false
   },
   "outputs": [],
   "source": [
    "del ba_ratings_df\n",
    "del ba_users_df\n",
    "del rb_ratings_df\n",
    "del rb_users_df"
   ]
  },
  {
   "cell_type": "markdown",
   "id": "eea6f7a01508f361",
   "metadata": {
    "collapsed": false
   },
   "source": [
    "#### 2.5 Get the general style of all beers"
   ]
  },
  {
   "cell_type": "markdown",
   "id": "6ae4027c2ca74131",
   "metadata": {
    "collapsed": false
   },
   "source": [
    "Load all beers and keep only the id, the (specific) style and the ABV:"
   ]
  },
  {
   "cell_type": "code",
   "execution_count": 14,
   "id": "c02227a4ca52b1a8",
   "metadata": {
    "ExecuteTime": {
     "end_time": "2023-12-20T00:23:23.635360700Z",
     "start_time": "2023-12-20T00:23:21.979848900Z"
    },
    "collapsed": false
   },
   "outputs": [],
   "source": [
    "ba_beers_df = pd.read_csv(\"./data/BeerAdvocate/beers.csv\")[['beer_id', 'style', 'abv', 'brewery_id']].dropna()\n",
    "rb_beers_df = pd.read_csv(\"./data/RateBeer/beers.csv\")[['beer_id', 'style', 'abv', 'brewery_id']].dropna()"
   ]
  },
  {
   "cell_type": "markdown",
   "id": "4680c0fc4828f77",
   "metadata": {
    "collapsed": false
   },
   "source": [
    "Convert the specific style to the general style:"
   ]
  },
  {
   "cell_type": "code",
   "execution_count": 15,
   "id": "b5b6e9078d88d1cc",
   "metadata": {
    "ExecuteTime": {
     "end_time": "2023-12-20T00:23:26.968196900Z",
     "start_time": "2023-12-20T00:23:23.638422900Z"
    },
    "collapsed": false
   },
   "outputs": [],
   "source": [
    "ba_beers_df['style'] = ba_beers_df.apply(specific_style_to_general, axis=1)\n",
    "rb_beers_df['style'] = rb_beers_df.apply(specific_style_to_general, axis=1)\n",
    "\n",
    "# Drop Saké\n",
    "ba_beers_df = ba_beers_df.query(\"style != 'Saké'\").reset_index(drop=True)\n",
    "rb_beers_df = rb_beers_df.query(\"style != 'Saké'\").reset_index(drop=True)"
   ]
  },
  {
   "cell_type": "code",
   "execution_count": 16,
   "id": "b9ff2963f0b35eee",
   "metadata": {
    "ExecuteTime": {
     "end_time": "2023-12-20T00:23:27.025599Z",
     "start_time": "2023-12-20T00:23:26.969197300Z"
    },
    "collapsed": false
   },
   "outputs": [
    {
     "name": "stdout",
     "output_type": "stream",
     "text": [
      "BeerAdvocate:\n"
     ]
    },
    {
     "data": {
      "text/html": [
       "<div>\n",
       "<style scoped>\n",
       "    .dataframe tbody tr th:only-of-type {\n",
       "        vertical-align: middle;\n",
       "    }\n",
       "\n",
       "    .dataframe tbody tr th {\n",
       "        vertical-align: top;\n",
       "    }\n",
       "\n",
       "    .dataframe thead th {\n",
       "        text-align: right;\n",
       "    }\n",
       "</style>\n",
       "<table border=\"1\" class=\"dataframe\">\n",
       "  <thead>\n",
       "    <tr style=\"text-align: right;\">\n",
       "      <th></th>\n",
       "      <th>beer_id</th>\n",
       "      <th>style</th>\n",
       "      <th>abv</th>\n",
       "      <th>brewery_id</th>\n",
       "    </tr>\n",
       "  </thead>\n",
       "  <tbody>\n",
       "    <tr>\n",
       "      <th>0</th>\n",
       "      <td>166064</td>\n",
       "      <td>Pale Lagers</td>\n",
       "      <td>4.7</td>\n",
       "      <td>39912</td>\n",
       "    </tr>\n",
       "    <tr>\n",
       "      <th>1</th>\n",
       "      <td>166065</td>\n",
       "      <td>Pale Lagers</td>\n",
       "      <td>3.8</td>\n",
       "      <td>39912</td>\n",
       "    </tr>\n",
       "    <tr>\n",
       "      <th>2</th>\n",
       "      <td>166066</td>\n",
       "      <td>Pale Lagers</td>\n",
       "      <td>4.8</td>\n",
       "      <td>39912</td>\n",
       "    </tr>\n",
       "    <tr>\n",
       "      <th>3</th>\n",
       "      <td>166067</td>\n",
       "      <td>Pale Lagers</td>\n",
       "      <td>4.0</td>\n",
       "      <td>39912</td>\n",
       "    </tr>\n",
       "    <tr>\n",
       "      <th>4</th>\n",
       "      <td>166063</td>\n",
       "      <td>Pale Lagers</td>\n",
       "      <td>4.5</td>\n",
       "      <td>39912</td>\n",
       "    </tr>\n",
       "    <tr>\n",
       "      <th>...</th>\n",
       "      <td>...</td>\n",
       "      <td>...</td>\n",
       "      <td>...</td>\n",
       "      <td>...</td>\n",
       "    </tr>\n",
       "    <tr>\n",
       "      <th>244794</th>\n",
       "      <td>19142</td>\n",
       "      <td>India Pale Ales</td>\n",
       "      <td>5.6</td>\n",
       "      <td>885</td>\n",
       "    </tr>\n",
       "    <tr>\n",
       "      <th>244795</th>\n",
       "      <td>19141</td>\n",
       "      <td>Pale Ales</td>\n",
       "      <td>6.8</td>\n",
       "      <td>885</td>\n",
       "    </tr>\n",
       "    <tr>\n",
       "      <th>244796</th>\n",
       "      <td>19139</td>\n",
       "      <td>Pale Ales</td>\n",
       "      <td>5.0</td>\n",
       "      <td>885</td>\n",
       "    </tr>\n",
       "    <tr>\n",
       "      <th>244797</th>\n",
       "      <td>19140</td>\n",
       "      <td>Brown Ales</td>\n",
       "      <td>5.3</td>\n",
       "      <td>885</td>\n",
       "    </tr>\n",
       "    <tr>\n",
       "      <th>244798</th>\n",
       "      <td>2805</td>\n",
       "      <td>Strong Ales</td>\n",
       "      <td>7.0</td>\n",
       "      <td>885</td>\n",
       "    </tr>\n",
       "  </tbody>\n",
       "</table>\n",
       "<p>244799 rows × 4 columns</p>\n",
       "</div>"
      ],
      "text/plain": [
       "        beer_id            style  abv  brewery_id\n",
       "0        166064      Pale Lagers  4.7       39912\n",
       "1        166065      Pale Lagers  3.8       39912\n",
       "2        166066      Pale Lagers  4.8       39912\n",
       "3        166067      Pale Lagers  4.0       39912\n",
       "4        166063      Pale Lagers  4.5       39912\n",
       "...         ...              ...  ...         ...\n",
       "244794    19142  India Pale Ales  5.6         885\n",
       "244795    19141        Pale Ales  6.8         885\n",
       "244796    19139        Pale Ales  5.0         885\n",
       "244797    19140       Brown Ales  5.3         885\n",
       "244798     2805      Strong Ales  7.0         885\n",
       "\n",
       "[244799 rows x 4 columns]"
      ]
     },
     "metadata": {},
     "output_type": "display_data"
    },
    {
     "name": "stdout",
     "output_type": "stream",
     "text": [
      "RateBeer:\n"
     ]
    },
    {
     "data": {
      "text/html": [
       "<div>\n",
       "<style scoped>\n",
       "    .dataframe tbody tr th:only-of-type {\n",
       "        vertical-align: middle;\n",
       "    }\n",
       "\n",
       "    .dataframe tbody tr th {\n",
       "        vertical-align: top;\n",
       "    }\n",
       "\n",
       "    .dataframe thead th {\n",
       "        text-align: right;\n",
       "    }\n",
       "</style>\n",
       "<table border=\"1\" class=\"dataframe\">\n",
       "  <thead>\n",
       "    <tr style=\"text-align: right;\">\n",
       "      <th></th>\n",
       "      <th>beer_id</th>\n",
       "      <th>style</th>\n",
       "      <th>abv</th>\n",
       "      <th>brewery_id</th>\n",
       "    </tr>\n",
       "  </thead>\n",
       "  <tbody>\n",
       "    <tr>\n",
       "      <th>0</th>\n",
       "      <td>410549</td>\n",
       "      <td>Pale Lagers</td>\n",
       "      <td>5.0</td>\n",
       "      <td>3198</td>\n",
       "    </tr>\n",
       "    <tr>\n",
       "      <th>1</th>\n",
       "      <td>105273</td>\n",
       "      <td>Pale Lagers</td>\n",
       "      <td>5.2</td>\n",
       "      <td>3198</td>\n",
       "    </tr>\n",
       "    <tr>\n",
       "      <th>2</th>\n",
       "      <td>19445</td>\n",
       "      <td>Pale Lagers</td>\n",
       "      <td>4.5</td>\n",
       "      <td>3198</td>\n",
       "    </tr>\n",
       "    <tr>\n",
       "      <th>3</th>\n",
       "      <td>155699</td>\n",
       "      <td>Stouts</td>\n",
       "      <td>4.6</td>\n",
       "      <td>13538</td>\n",
       "    </tr>\n",
       "    <tr>\n",
       "      <th>4</th>\n",
       "      <td>239097</td>\n",
       "      <td>Pale Ales</td>\n",
       "      <td>4.2</td>\n",
       "      <td>13538</td>\n",
       "    </tr>\n",
       "    <tr>\n",
       "      <th>...</th>\n",
       "      <td>...</td>\n",
       "      <td>...</td>\n",
       "      <td>...</td>\n",
       "      <td>...</td>\n",
       "    </tr>\n",
       "    <tr>\n",
       "      <th>399889</th>\n",
       "      <td>153089</td>\n",
       "      <td>Pale Lagers</td>\n",
       "      <td>6.0</td>\n",
       "      <td>1107</td>\n",
       "    </tr>\n",
       "    <tr>\n",
       "      <th>399890</th>\n",
       "      <td>153086</td>\n",
       "      <td>Wheat Beers</td>\n",
       "      <td>4.8</td>\n",
       "      <td>1107</td>\n",
       "    </tr>\n",
       "    <tr>\n",
       "      <th>399891</th>\n",
       "      <td>220722</td>\n",
       "      <td>Pale Lagers</td>\n",
       "      <td>5.0</td>\n",
       "      <td>1107</td>\n",
       "    </tr>\n",
       "    <tr>\n",
       "      <th>399892</th>\n",
       "      <td>287791</td>\n",
       "      <td>Pale Lagers</td>\n",
       "      <td>4.0</td>\n",
       "      <td>1107</td>\n",
       "    </tr>\n",
       "    <tr>\n",
       "      <th>399893</th>\n",
       "      <td>189684</td>\n",
       "      <td>Pale Lagers</td>\n",
       "      <td>4.7</td>\n",
       "      <td>1107</td>\n",
       "    </tr>\n",
       "  </tbody>\n",
       "</table>\n",
       "<p>399894 rows × 4 columns</p>\n",
       "</div>"
      ],
      "text/plain": [
       "        beer_id        style  abv  brewery_id\n",
       "0        410549  Pale Lagers  5.0        3198\n",
       "1        105273  Pale Lagers  5.2        3198\n",
       "2         19445  Pale Lagers  4.5        3198\n",
       "3        155699       Stouts  4.6       13538\n",
       "4        239097    Pale Ales  4.2       13538\n",
       "...         ...          ...  ...         ...\n",
       "399889   153089  Pale Lagers  6.0        1107\n",
       "399890   153086  Wheat Beers  4.8        1107\n",
       "399891   220722  Pale Lagers  5.0        1107\n",
       "399892   287791  Pale Lagers  4.0        1107\n",
       "399893   189684  Pale Lagers  4.7        1107\n",
       "\n",
       "[399894 rows x 4 columns]"
      ]
     },
     "metadata": {},
     "output_type": "display_data"
    }
   ],
   "source": [
    "print(\"BeerAdvocate:\")\n",
    "display(ba_beers_df)\n",
    "print(\"RateBeer:\")\n",
    "display(rb_beers_df)"
   ]
  },
  {
   "cell_type": "markdown",
   "id": "88873ef49b600792",
   "metadata": {
    "collapsed": false
   },
   "source": [
    "## 3. Merging BeerAdvocate and RateBeer"
   ]
  },
  {
   "cell_type": "markdown",
   "id": "97918dd5b3e1d786",
   "metadata": {
    "collapsed": false
   },
   "source": [
    "Ideally, we would like to merge both the RateBeer and BeerAdvocate datasets to have more data. Let's look at some challenges arise:"
   ]
  },
  {
   "cell_type": "markdown",
   "id": "6ef1ef6d92b33484",
   "metadata": {
    "collapsed": false
   },
   "source": [
    "#### 3.1 Mean ratings"
   ]
  },
  {
   "cell_type": "code",
   "execution_count": 17,
   "id": "fbbe183c02c18e44",
   "metadata": {
    "ExecuteTime": {
     "end_time": "2023-12-20T00:23:27.251871500Z",
     "start_time": "2023-12-20T00:23:27.001299400Z"
    },
    "collapsed": false
   },
   "outputs": [
    {
     "name": "stdout",
     "output_type": "stream",
     "text": [
      "The mean rating in BeerAdvocate is 3.88.\n",
      "The mean rating in RateBeer is 3.29.\n",
      "\n"
     ]
    }
   ],
   "source": [
    "ba_mean_rating = ba_df['rating'].mean()\n",
    "rb_mean_rating = rb_df['rating'].mean()\n",
    "\n",
    "print(f'The mean rating in BeerAdvocate is {ba_mean_rating:.2f}.\\n'\n",
    "      f'The mean rating in RateBeer is {rb_mean_rating:.2f}.\\n')"
   ]
  },
  {
   "cell_type": "markdown",
   "id": "444283eb4d964847",
   "metadata": {
    "collapsed": false
   },
   "source": [
    "#### Observations:\n",
    "The mean rating is way higher in BeerAdvocate than in RateBeer."
   ]
  },
  {
   "cell_type": "markdown",
   "id": "887624149a45e134",
   "metadata": {
    "collapsed": false
   },
   "source": [
    "#### 3.2 EU / NA imbalance"
   ]
  },
  {
   "cell_type": "code",
   "execution_count": 18,
   "id": "e54e3b89e0566ece",
   "metadata": {
    "ExecuteTime": {
     "end_time": "2023-12-20T00:23:28.010177600Z",
     "start_time": "2023-12-20T00:23:27.124012100Z"
    },
    "collapsed": false
   },
   "outputs": [
    {
     "name": "stdout",
     "output_type": "stream",
     "text": [
      "The number of ratings from EU in BeerAdvocate is 228031 (2.92%)\n",
      "The number of ratings from NA in BeerAdvocate is 7578382 (97.08%)\n",
      "\n",
      "The number of ratings from EU in RateBeer is 3005451 (45.28%)\n",
      "The number of ratings from NA in RateBeer is 3631486 (54.72%)\n",
      "\n"
     ]
    }
   ],
   "source": [
    "ba_eu_na_count = ba_df.groupby('eu_na')['rating'].count()\n",
    "ba_eu_count = ba_eu_na_count['Europe']\n",
    "ba_na_count = ba_eu_na_count['North America']\n",
    "ba_total_count = ba_eu_count + ba_na_count\n",
    "\n",
    "rb_eu_na_count = rb_df.groupby('eu_na')['rating'].count()\n",
    "rb_eu_count = rb_eu_na_count['Europe']\n",
    "rb_na_count = rb_eu_na_count['North America']\n",
    "rb_total_count = rb_eu_count + rb_na_count\n",
    "\n",
    "print(f'The number of ratings from EU in BeerAdvocate is {ba_eu_count} ({ba_eu_count / ba_total_count:.2%})\\n'\n",
    "      f'The number of ratings from NA in BeerAdvocate is {ba_na_count} ({ba_na_count / ba_total_count:.2%})\\n\\n'\n",
    "      f'The number of ratings from EU in RateBeer is {rb_eu_count} ({rb_eu_count / rb_total_count:.2%})\\n'\n",
    "      f'The number of ratings from NA in RateBeer is {rb_na_count} ({rb_na_count / rb_total_count:.2%})\\n')"
   ]
  },
  {
   "cell_type": "markdown",
   "id": "3eb08fee8565fb93",
   "metadata": {
    "collapsed": false
   },
   "source": [
    "#### Observations:\n",
    "RateBeer is pretty balanced, but BeerAdvocate is mostly used by North American users."
   ]
  },
  {
   "cell_type": "code",
   "execution_count": 19,
   "id": "85503e9f5e69a7bf",
   "metadata": {
    "ExecuteTime": {
     "end_time": "2023-12-20T00:24:27.888795800Z",
     "start_time": "2023-12-20T00:24:26.782866800Z"
    },
    "collapsed": false
   },
   "outputs": [],
   "source": [
    "# Get the mean rating for each continent in BeerAdvocate\n",
    "ba_eu_na_mean = ba_df.groupby('eu_na')['rating'].mean()\n",
    "ba_na_mean_rating = ba_eu_na_mean['Europe']\n",
    "ba_eu_mean_rating = ba_eu_na_mean['North America']\n",
    "# Take the mean of the mean of each of continent in BeerAdvocate\n",
    "ba_mean_of_mean_ratings = (ba_na_mean_rating + ba_eu_mean_rating) / 2\n",
    "\n",
    "# Get the mean rating for each continent in RateBeer\n",
    "rb_eu_na_mean = rb_df.groupby('eu_na')['rating'].mean()\n",
    "rb_na_mean_rating = rb_eu_na_mean['Europe']\n",
    "rb_eu_mean_rating = rb_eu_na_mean['North America']\n",
    "# Take the mean of the mean of each of continent in RateBeer\n",
    "rb_mean_of_mean_ratings = (rb_na_mean_rating + rb_eu_mean_rating) / 2\n",
    "\n",
    "# Shift the ratings from BeerAdvocate so that its average of means of both continents matches the one from RateBeer\n",
    "ba_df['rating'] = ba_df['rating'] - ba_mean_of_mean_ratings + rb_mean_of_mean_ratings"
   ]
  },
  {
   "cell_type": "markdown",
   "id": "5b5e1a9a63ff9878",
   "metadata": {
    "collapsed": false
   },
   "source": [
    "Let's check the results:"
   ]
  },
  {
   "cell_type": "code",
   "execution_count": 20,
   "id": "f1e61a1ce6c57699",
   "metadata": {
    "ExecuteTime": {
     "end_time": "2023-12-20T00:24:39.095245200Z",
     "start_time": "2023-12-20T00:24:39.016828200Z"
    },
    "collapsed": false
   },
   "outputs": [
    {
     "name": "stdout",
     "output_type": "stream",
     "text": [
      "The mean rating in BeerAdvocate is 3.38.\n",
      "The mean rating in RateBeer is 3.29.\n",
      "\n"
     ]
    }
   ],
   "source": [
    "# Get the mean rating for each dataset\n",
    "ba_mean_rating = ba_df['rating'].mean()\n",
    "rb_mean_rating = rb_df['rating'].mean()\n",
    "\n",
    "print(f'The mean rating in BeerAdvocate is {ba_mean_rating:.2f}.\\n'\n",
    "      f'The mean rating in RateBeer is {rb_mean_rating:.2f}.\\n')"
   ]
  },
  {
   "cell_type": "markdown",
   "id": "b7798b539c374924",
   "metadata": {
    "collapsed": false
   },
   "source": [
    "#### Observations:\n",
    "The mean ratings are now more similar, but not exactly the same. This is because NA users give higher ratings than EU users, and there are way more of them in BeerAdvocate."
   ]
  },
  {
   "cell_type": "code",
   "execution_count": 21,
   "id": "41d6f30385375575",
   "metadata": {
    "ExecuteTime": {
     "end_time": "2023-12-20T00:24:47.818455200Z",
     "start_time": "2023-12-20T00:24:46.797530100Z"
    },
    "collapsed": false
   },
   "outputs": [
    {
     "name": "stdout",
     "output_type": "stream",
     "text": [
      "The mean rating from EU users in BeerAdvocate is 3.17\n",
      "The mean rating from EU users in RateBeer is 3.20\n",
      "\n",
      "The mean rating from NA users in BeerAdvocate is 3.39\n",
      "The mean rating from NA users in RateBeer is 3.36\n",
      "\n"
     ]
    }
   ],
   "source": [
    "# Get the mean rating for each continent for each dataset\n",
    "ba_eu_na_mean = ba_df.groupby('eu_na')['rating'].mean()\n",
    "ba_eu_mean = ba_eu_na_mean['Europe']\n",
    "ba_na_mean = ba_eu_na_mean['North America']\n",
    "\n",
    "rb_eu_na_mean = rb_df.groupby('eu_na')['rating'].mean()\n",
    "rb_eu_mean = rb_eu_na_mean['Europe']\n",
    "rb_na_mean = rb_eu_na_mean['North America']\n",
    "\n",
    "print(f'The mean rating from EU users in BeerAdvocate is {ba_eu_mean:.2f}\\n'\n",
    "      f'The mean rating from EU users in RateBeer is {rb_eu_mean:.2f}\\n\\n'\n",
    "      f'The mean rating from NA users in BeerAdvocate is {ba_na_mean:.2f}\\n'\n",
    "      f'The mean rating from NA users in RateBeer is {rb_na_mean:.2f}\\n')"
   ]
  },
  {
   "cell_type": "markdown",
   "id": "c602e24108d3f59e",
   "metadata": {
    "collapsed": false
   },
   "source": [
    "#### Observations:\n",
    "The ratings are now very close in both Datasets. The difference in ratings between NA and EU users is now nearly the same ! \n",
    "\n",
    "Note that the distribution is not exactly the same, as BeerAdvocate ratings are not contained in the interval [0.5, 5] anymore, but this is not an issue for our analysis."
   ]
  },
  {
   "cell_type": "markdown",
   "id": "82ca9823ed063383",
   "metadata": {
    "collapsed": false
   },
   "source": [
    "#### 3.4 Merging\n",
    "\n",
    "We now merge the two ratings datasets.\n"
   ]
  },
  {
   "cell_type": "code",
   "execution_count": 22,
   "id": "256c3c3a0355d4ca",
   "metadata": {
    "ExecuteTime": {
     "end_time": "2023-12-20T01:25:23.241589300Z",
     "start_time": "2023-12-20T01:25:23.179925Z"
    },
    "collapsed": false
   },
   "outputs": [],
   "source": [
    "# Function to add a prefix to all values of a Pandas Series. \n",
    "def add_prefix_to_val(df_col: pd.Series, prefix: str):\n",
    "    return prefix + df_col.astype(str)"
   ]
  },
  {
   "cell_type": "code",
   "execution_count": 23,
   "id": "42c0d24257d1860e",
   "metadata": {
    "ExecuteTime": {
     "end_time": "2023-12-20T00:26:18.499527Z",
     "start_time": "2023-12-20T00:26:11.230215700Z"
    },
    "collapsed": false
   },
   "outputs": [
    {
     "data": {
      "text/html": [
       "<div>\n",
       "<style scoped>\n",
       "    .dataframe tbody tr th:only-of-type {\n",
       "        vertical-align: middle;\n",
       "    }\n",
       "\n",
       "    .dataframe tbody tr th {\n",
       "        vertical-align: top;\n",
       "    }\n",
       "\n",
       "    .dataframe thead th {\n",
       "        text-align: right;\n",
       "    }\n",
       "</style>\n",
       "<table border=\"1\" class=\"dataframe\">\n",
       "  <thead>\n",
       "    <tr style=\"text-align: right;\">\n",
       "      <th></th>\n",
       "      <th>beer_id</th>\n",
       "      <th>date</th>\n",
       "      <th>abv</th>\n",
       "      <th>style</th>\n",
       "      <th>rating</th>\n",
       "      <th>eu_na</th>\n",
       "    </tr>\n",
       "  </thead>\n",
       "  <tbody>\n",
       "    <tr>\n",
       "      <th>0</th>\n",
       "      <td>ba_142544</td>\n",
       "      <td>2015-08-01</td>\n",
       "      <td>4.5</td>\n",
       "      <td>Pale Lagers</td>\n",
       "      <td>2.375325</td>\n",
       "      <td>North America</td>\n",
       "    </tr>\n",
       "    <tr>\n",
       "      <th>1</th>\n",
       "      <td>ba_120824</td>\n",
       "      <td>2015-11-01</td>\n",
       "      <td>5.0</td>\n",
       "      <td>Pale Ales</td>\n",
       "      <td>3.055325</td>\n",
       "      <td>North America</td>\n",
       "    </tr>\n",
       "    <tr>\n",
       "      <th>2</th>\n",
       "      <td>ba_47581</td>\n",
       "      <td>2011-11-01</td>\n",
       "      <td>8.0</td>\n",
       "      <td>Strong Ales</td>\n",
       "      <td>3.995325</td>\n",
       "      <td>North America</td>\n",
       "    </tr>\n",
       "    <tr>\n",
       "      <th>3</th>\n",
       "      <td>ba_93113</td>\n",
       "      <td>2013-05-01</td>\n",
       "      <td>10.5</td>\n",
       "      <td>Strong Ales</td>\n",
       "      <td>3.245325</td>\n",
       "      <td>North America</td>\n",
       "    </tr>\n",
       "    <tr>\n",
       "      <th>4</th>\n",
       "      <td>ba_875</td>\n",
       "      <td>2015-01-01</td>\n",
       "      <td>6.0</td>\n",
       "      <td>Porters</td>\n",
       "      <td>3.305325</td>\n",
       "      <td>North America</td>\n",
       "    </tr>\n",
       "    <tr>\n",
       "      <th>...</th>\n",
       "      <td>...</td>\n",
       "      <td>...</td>\n",
       "      <td>...</td>\n",
       "      <td>...</td>\n",
       "      <td>...</td>\n",
       "      <td>...</td>\n",
       "    </tr>\n",
       "    <tr>\n",
       "      <th>14443345</th>\n",
       "      <td>rb_166447</td>\n",
       "      <td>2014-07-01</td>\n",
       "      <td>5.0</td>\n",
       "      <td>Pale Lagers</td>\n",
       "      <td>2.600000</td>\n",
       "      <td>Europe</td>\n",
       "    </tr>\n",
       "    <tr>\n",
       "      <th>14443346</th>\n",
       "      <td>rb_85893</td>\n",
       "      <td>2008-09-01</td>\n",
       "      <td>4.7</td>\n",
       "      <td>Pale Lagers</td>\n",
       "      <td>0.500000</td>\n",
       "      <td>Europe</td>\n",
       "    </tr>\n",
       "    <tr>\n",
       "      <th>14443347</th>\n",
       "      <td>rb_77389</td>\n",
       "      <td>2008-09-01</td>\n",
       "      <td>4.5</td>\n",
       "      <td>Dark Lagers</td>\n",
       "      <td>3.900000</td>\n",
       "      <td>Europe</td>\n",
       "    </tr>\n",
       "    <tr>\n",
       "      <th>14443348</th>\n",
       "      <td>rb_5423</td>\n",
       "      <td>2008-09-01</td>\n",
       "      <td>4.0</td>\n",
       "      <td>Pale Lagers</td>\n",
       "      <td>2.700000</td>\n",
       "      <td>Europe</td>\n",
       "    </tr>\n",
       "    <tr>\n",
       "      <th>14443349</th>\n",
       "      <td>rb_5423</td>\n",
       "      <td>2007-01-01</td>\n",
       "      <td>4.0</td>\n",
       "      <td>Pale Lagers</td>\n",
       "      <td>0.700000</td>\n",
       "      <td>North America</td>\n",
       "    </tr>\n",
       "  </tbody>\n",
       "</table>\n",
       "<p>14443350 rows × 6 columns</p>\n",
       "</div>"
      ],
      "text/plain": [
       "            beer_id       date   abv        style    rating          eu_na\n",
       "0         ba_142544 2015-08-01   4.5  Pale Lagers  2.375325  North America\n",
       "1         ba_120824 2015-11-01   5.0    Pale Ales  3.055325  North America\n",
       "2          ba_47581 2011-11-01   8.0  Strong Ales  3.995325  North America\n",
       "3          ba_93113 2013-05-01  10.5  Strong Ales  3.245325  North America\n",
       "4            ba_875 2015-01-01   6.0      Porters  3.305325  North America\n",
       "...             ...        ...   ...          ...       ...            ...\n",
       "14443345  rb_166447 2014-07-01   5.0  Pale Lagers  2.600000         Europe\n",
       "14443346   rb_85893 2008-09-01   4.7  Pale Lagers  0.500000         Europe\n",
       "14443347   rb_77389 2008-09-01   4.5  Dark Lagers  3.900000         Europe\n",
       "14443348    rb_5423 2008-09-01   4.0  Pale Lagers  2.700000         Europe\n",
       "14443349    rb_5423 2007-01-01   4.0  Pale Lagers  0.700000  North America\n",
       "\n",
       "[14443350 rows x 6 columns]"
      ]
     },
     "metadata": {},
     "output_type": "display_data"
    }
   ],
   "source": [
    "# Change the id of beers to avoid duplicates\n",
    "ba_df['beer_id'] = add_prefix_to_val(ba_df['beer_id'], 'ba_')\n",
    "rb_df['beer_id'] = add_prefix_to_val(rb_df['beer_id'], 'rb_')\n",
    "\n",
    "ratings_df = pd.concat([ba_df, rb_df]).reset_index(drop=True)\n",
    "display(ratings_df)"
   ]
  },
  {
   "cell_type": "markdown",
   "id": "4207de30dd6cb55",
   "metadata": {
    "collapsed": false
   },
   "source": [
    "We can also merge the datasets with the beer styles and ABV, but we need to check for the duplicates:"
   ]
  },
  {
   "cell_type": "code",
   "execution_count": 24,
   "id": "6bff67726de5e5d0",
   "metadata": {
    "ExecuteTime": {
     "end_time": "2023-12-20T01:35:01.321858700Z",
     "start_time": "2023-12-20T01:34:59.081546400Z"
    },
    "collapsed": false
   },
   "outputs": [
    {
     "data": {
      "text/html": [
       "<div>\n",
       "<style scoped>\n",
       "    .dataframe tbody tr th:only-of-type {\n",
       "        vertical-align: middle;\n",
       "    }\n",
       "\n",
       "    .dataframe tbody tr th {\n",
       "        vertical-align: top;\n",
       "    }\n",
       "\n",
       "    .dataframe thead th {\n",
       "        text-align: right;\n",
       "    }\n",
       "</style>\n",
       "<table border=\"1\" class=\"dataframe\">\n",
       "  <thead>\n",
       "    <tr style=\"text-align: right;\">\n",
       "      <th></th>\n",
       "      <th>style</th>\n",
       "      <th>abv</th>\n",
       "      <th>ba_beer_id</th>\n",
       "      <th>rb_beer_id</th>\n",
       "      <th>ba_brewery_id</th>\n",
       "      <th>rb_brewery_id</th>\n",
       "    </tr>\n",
       "  </thead>\n",
       "  <tbody>\n",
       "    <tr>\n",
       "      <th>0</th>\n",
       "      <td>Pale Lagers</td>\n",
       "      <td>5.0</td>\n",
       "      <td>NaN</td>\n",
       "      <td>rb_410549</td>\n",
       "      <td>NaN</td>\n",
       "      <td>rb_3198</td>\n",
       "    </tr>\n",
       "    <tr>\n",
       "      <th>1</th>\n",
       "      <td>Pale Lagers</td>\n",
       "      <td>5.2</td>\n",
       "      <td>NaN</td>\n",
       "      <td>rb_105273</td>\n",
       "      <td>NaN</td>\n",
       "      <td>rb_3198</td>\n",
       "    </tr>\n",
       "    <tr>\n",
       "      <th>2</th>\n",
       "      <td>Pale Lagers</td>\n",
       "      <td>4.5</td>\n",
       "      <td>NaN</td>\n",
       "      <td>rb_19445</td>\n",
       "      <td>NaN</td>\n",
       "      <td>rb_3198</td>\n",
       "    </tr>\n",
       "    <tr>\n",
       "      <th>3</th>\n",
       "      <td>Stouts</td>\n",
       "      <td>4.6</td>\n",
       "      <td>ba_169948</td>\n",
       "      <td>rb_155699</td>\n",
       "      <td>ba_40309</td>\n",
       "      <td>rb_13538</td>\n",
       "    </tr>\n",
       "    <tr>\n",
       "      <th>4</th>\n",
       "      <td>Pale Ales</td>\n",
       "      <td>4.2</td>\n",
       "      <td>NaN</td>\n",
       "      <td>rb_239097</td>\n",
       "      <td>NaN</td>\n",
       "      <td>rb_13538</td>\n",
       "    </tr>\n",
       "    <tr>\n",
       "      <th>...</th>\n",
       "      <td>...</td>\n",
       "      <td>...</td>\n",
       "      <td>...</td>\n",
       "      <td>...</td>\n",
       "      <td>...</td>\n",
       "      <td>...</td>\n",
       "    </tr>\n",
       "    <tr>\n",
       "      <th>608980</th>\n",
       "      <td>Dark Ales</td>\n",
       "      <td>8.1</td>\n",
       "      <td>ba_34858</td>\n",
       "      <td>NaN</td>\n",
       "      <td>ba_565</td>\n",
       "      <td>NaN</td>\n",
       "    </tr>\n",
       "    <tr>\n",
       "      <th>608981</th>\n",
       "      <td>Pale Ales</td>\n",
       "      <td>8.5</td>\n",
       "      <td>ba_89711</td>\n",
       "      <td>NaN</td>\n",
       "      <td>ba_23640</td>\n",
       "      <td>NaN</td>\n",
       "    </tr>\n",
       "    <tr>\n",
       "      <th>608982</th>\n",
       "      <td>Stouts</td>\n",
       "      <td>8.0</td>\n",
       "      <td>ba_141790</td>\n",
       "      <td>NaN</td>\n",
       "      <td>ba_23640</td>\n",
       "      <td>NaN</td>\n",
       "    </tr>\n",
       "    <tr>\n",
       "      <th>608983</th>\n",
       "      <td>Pale Ales</td>\n",
       "      <td>7.0</td>\n",
       "      <td>ba_72174</td>\n",
       "      <td>NaN</td>\n",
       "      <td>ba_23640</td>\n",
       "      <td>NaN</td>\n",
       "    </tr>\n",
       "    <tr>\n",
       "      <th>608984</th>\n",
       "      <td>Brown Ales</td>\n",
       "      <td>4.0</td>\n",
       "      <td>ba_104563</td>\n",
       "      <td>NaN</td>\n",
       "      <td>ba_23640</td>\n",
       "      <td>NaN</td>\n",
       "    </tr>\n",
       "  </tbody>\n",
       "</table>\n",
       "<p>608985 rows × 6 columns</p>\n",
       "</div>"
      ],
      "text/plain": [
       "              style  abv ba_beer_id rb_beer_id ba_brewery_id rb_brewery_id\n",
       "0       Pale Lagers  5.0        NaN  rb_410549           NaN       rb_3198\n",
       "1       Pale Lagers  5.2        NaN  rb_105273           NaN       rb_3198\n",
       "2       Pale Lagers  4.5        NaN   rb_19445           NaN       rb_3198\n",
       "3            Stouts  4.6  ba_169948  rb_155699      ba_40309      rb_13538\n",
       "4         Pale Ales  4.2        NaN  rb_239097           NaN      rb_13538\n",
       "...             ...  ...        ...        ...           ...           ...\n",
       "608980    Dark Ales  8.1   ba_34858        NaN        ba_565           NaN\n",
       "608981    Pale Ales  8.5   ba_89711        NaN      ba_23640           NaN\n",
       "608982       Stouts  8.0  ba_141790        NaN      ba_23640           NaN\n",
       "608983    Pale Ales  7.0   ba_72174        NaN      ba_23640           NaN\n",
       "608984   Brown Ales  4.0  ba_104563        NaN      ba_23640           NaN\n",
       "\n",
       "[608985 rows x 6 columns]"
      ]
     },
     "metadata": {},
     "output_type": "display_data"
    }
   ],
   "source": [
    "# Load matched beers dataset\n",
    "matched_beers_df = pd.read_csv(\n",
    "    \"./data/matched_beer_data/beers.csv\",\n",
    "    skiprows=0,\n",
    "    header=1,\n",
    ")[['beer_id', 'beer_id.1']].rename(columns={'beer_id': 'ba_beer_id', 'beer_id.1': 'rb_beer_id'})\n",
    "\n",
    "# Merge BeerAdvocate with the matched beers dataframe\n",
    "ba_matched_beers_df = ba_beers_df.merge(\n",
    "    matched_beers_df, \n",
    "    how='left',\n",
    "    left_on='beer_id',\n",
    "    right_on='ba_beer_id',\n",
    ")[['style', 'abv', 'beer_id', 'rb_beer_id', 'brewery_id']].rename(columns={'beer_id': 'ba_beer_id', 'brewery_id': 'ba_brewery_id'})\n",
    "\n",
    "# Merge RateBeer with the merged dataframe\n",
    "beers_df = rb_beers_df.merge(\n",
    "    ba_matched_beers_df,\n",
    "    how='outer',\n",
    "    left_on=['beer_id', 'style', 'abv'],\n",
    "    right_on=['rb_beer_id', 'style', 'abv']\n",
    ")[['style', 'abv', 'ba_beer_id', 'beer_id', 'ba_brewery_id', 'brewery_id']].rename(columns={'beer_id': 'rb_beer_id', 'brewery_id': 'rb_brewery_id'})\n",
    "\n",
    "# Pandas automatically cast int to float if there are NaN in the merge. We will turn them into strings to remove the decimal part.\n",
    "def remove_decimal_from_str(str_val: str):\n",
    "    return str_val.split('.')[0]\n",
    "\n",
    "beers_df = beers_df.astype({\n",
    "    'ba_beer_id': str,\n",
    "    'rb_beer_id': str,\n",
    "    'ba_brewery_id': str,\n",
    "    'rb_brewery_id': str,\n",
    "})\n",
    "\n",
    "beers_df['ba_beer_id'] = beers_df['ba_beer_id'].apply(remove_decimal_from_str)\n",
    "beers_df['rb_beer_id'] = beers_df['rb_beer_id'].apply(remove_decimal_from_str)\n",
    "beers_df['ba_brewery_id'] = beers_df['ba_brewery_id'].apply(remove_decimal_from_str)\n",
    "beers_df['rb_brewery_id'] = beers_df['rb_brewery_id'].apply(remove_decimal_from_str)\n",
    "\n",
    "# Now we can modify the beer ids to avoid duplicates, and to match the ratings dataframe\n",
    "beers_df['ba_beer_id'] = add_prefix_to_val(beers_df['ba_beer_id'], 'ba_')\n",
    "beers_df['rb_beer_id'] = add_prefix_to_val(beers_df['rb_beer_id'], 'rb_')\n",
    "beers_df['ba_brewery_id'] = add_prefix_to_val(beers_df['ba_brewery_id'], 'ba_')\n",
    "beers_df['rb_brewery_id'] = add_prefix_to_val(beers_df['rb_brewery_id'], 'rb_')\n",
    "\n",
    "# Remove nan values\n",
    "beers_df = beers_df.replace(['ba_nan', 'rb_nan'], np.NaN)\n",
    "\n",
    "display(beers_df)"
   ]
  },
  {
   "cell_type": "markdown",
   "id": "d9ae0d5d3a806811",
   "metadata": {
    "collapsed": false
   },
   "source": [
    "Now both the beers and ratings datasets are merged!"
   ]
  },
  {
   "cell_type": "markdown",
   "id": "704076cc256555d4",
   "metadata": {
    "collapsed": false
   },
   "source": [
    "#### Note:\n",
    "\n",
    "From now on, we only use the `df` dataframe and the `beers_df`. "
   ]
  },
  {
   "cell_type": "code",
   "execution_count": 25,
   "id": "3314803ef2378eff",
   "metadata": {
    "ExecuteTime": {
     "end_time": "2023-12-20T01:37:46.993542100Z",
     "start_time": "2023-12-20T01:37:46.981078400Z"
    },
    "collapsed": false
   },
   "outputs": [],
   "source": [
    "del ba_beers_df\n",
    "del rb_beers_df\n",
    "del matched_beers_df\n",
    "del ba_matched_beers_df\n",
    "del ba_df\n",
    "del rb_df"
   ]
  },
  {
   "cell_type": "markdown",
   "id": "dbec1e1da12cdf10",
   "metadata": {
    "collapsed": false
   },
   "source": [
    "## 4. General Analysis\n",
    "\n",
    "We want to answer the following question: Do Americans prefer beers with a higher alcohol content (ABV) than Europeans? \n",
    "\n",
    "We will try to quantify this \"preference\" by looking at the differences in ratings and consumption (amount of ratings) between the two continents for different ABV. \n",
    "\n",
    "We start with a naive and basic analysis."
   ]
  },
  {
   "cell_type": "code",
   "execution_count": 26,
   "id": "5fe71df578318a37",
   "metadata": {
    "ExecuteTime": {
     "end_time": "2023-12-20T01:38:00.416819600Z",
     "start_time": "2023-12-20T01:37:59.332005400Z"
    },
    "collapsed": false
   },
   "outputs": [],
   "source": [
    "# Setting some seaborn parameters\n",
    "sns.set_theme()\n",
    "hue_order = ['North America', 'Europe']\n",
    "hue_order_styles = beers_df[\"style\"].unique()\n",
    "palette = sns.color_palette(\"tab20\")"
   ]
  },
  {
   "cell_type": "markdown",
   "id": "e7ad61966547879d",
   "metadata": {
    "collapsed": false
   },
   "source": [
    "#### 4.1 Ratings by ABV\n",
    "\n",
    "Let's check the number of reviews per rounded ABV:"
   ]
  },
  {
   "cell_type": "code",
   "execution_count": 27,
   "id": "95c7e5e55eee5fb7",
   "metadata": {
    "ExecuteTime": {
     "end_time": "2023-12-20T01:38:14.665633700Z",
     "start_time": "2023-12-20T01:38:07.118819800Z"
    },
    "collapsed": false
   },
   "outputs": [],
   "source": [
    "# plt.figure(figsize=(10, 6))\n",
    "# ax = sns.histplot(data=ratings_df, x='abv', bins=100)\n",
    "# ax.set(yscale='log', title=\"Distribution of number of ratings by ABV\", xlabel=\"Alcohol by volume [%]\")"
   ]
  },
  {
   "cell_type": "markdown",
   "id": "5a354ee94a7ab0cd",
   "metadata": {
    "collapsed": false
   },
   "source": [
    "#### Observations: \n",
    "The number of reviews for the beers with ABV > 20% is small and the histogram shows sparse values for high ABV, meaning that there are only a few beers with such ABV. Because of that, we will consider all beers above 20% ABV as one category (as if they had the same ABV)."
   ]
  },
  {
   "cell_type": "code",
   "execution_count": 28,
   "id": "f5b72147e25a2fc3",
   "metadata": {
    "ExecuteTime": {
     "end_time": "2023-12-20T01:38:17.459981600Z",
     "start_time": "2023-12-20T01:38:14.665633700Z"
    },
    "collapsed": false
   },
   "outputs": [],
   "source": [
    "# Set the maximum ABV (any ABV above this will be considered the same as max_abv) \n",
    "max_abv = 20\n",
    "\n",
    "# Round the ABV\n",
    "rounded_abv_df = ratings_df[['rating', 'eu_na']].copy()\n",
    "rounded_abv_df['abv'] = ratings_df['abv'].round()\n",
    "rounded_abv_df['abv'] = rounded_abv_df['abv'].apply(lambda x: x if x < max_abv else max_abv)"
   ]
  },
  {
   "cell_type": "code",
   "execution_count": 29,
   "id": "e7c2ada266f27830",
   "metadata": {
    "ExecuteTime": {
     "end_time": "2023-12-20T01:44:44.702114900Z",
     "start_time": "2023-12-20T01:38:47.628634200Z"
    },
    "collapsed": false
   },
   "outputs": [],
   "source": [
    "# plt.figure(figsize=(10, 6))\n",
    "# ax = sns.lineplot(data=rounded_abv_df, x='abv', y='rating', hue='eu_na', hue_order=hue_order)\n",
    "\n",
    "# ax.get_legend().set_title(None)\n",
    "# ax.set(xlabel=\"ABV [%]\",\n",
    "#        ylabel=\"Average rating\",\n",
    "#        title=\"Average rating of EU and NA users by ABV\")\n",
    "# ax.legend()"
   ]
  },
  {
   "cell_type": "markdown",
   "id": "6d4d37a2130c2517",
   "metadata": {
    "collapsed": false
   },
   "source": [
    "#### Observations:\n",
    "We see that in general, North American users tend to give better ratings than European users for lighter beers with ABV < 10%, and for stronger beers, ABV > 18%. This could point to a difference in taste that depends on the ABV between NA and EU users. This might be also a difference coming from the styles that are consumed. We need to dig deeper into this!"
   ]
  },
  {
   "cell_type": "code",
   "execution_count": 33,
   "id": "21f196f1",
   "metadata": {},
   "outputs": [
    {
     "data": {
      "text/html": [
       "<div>\n",
       "<style scoped>\n",
       "    .dataframe tbody tr th:only-of-type {\n",
       "        vertical-align: middle;\n",
       "    }\n",
       "\n",
       "    .dataframe tbody tr th {\n",
       "        vertical-align: top;\n",
       "    }\n",
       "\n",
       "    .dataframe thead th {\n",
       "        text-align: right;\n",
       "    }\n",
       "</style>\n",
       "<table border=\"1\" class=\"dataframe\">\n",
       "  <thead>\n",
       "    <tr style=\"text-align: right;\">\n",
       "      <th></th>\n",
       "      <th>beer_id</th>\n",
       "      <th>date</th>\n",
       "      <th>abv</th>\n",
       "      <th>style</th>\n",
       "      <th>rating</th>\n",
       "      <th>eu_na</th>\n",
       "    </tr>\n",
       "  </thead>\n",
       "  <tbody>\n",
       "    <tr>\n",
       "      <th>0</th>\n",
       "      <td>ba_142544</td>\n",
       "      <td>2015-08-01</td>\n",
       "      <td>4.5</td>\n",
       "      <td>Pale Lagers</td>\n",
       "      <td>2.375325</td>\n",
       "      <td>North America</td>\n",
       "    </tr>\n",
       "    <tr>\n",
       "      <th>1</th>\n",
       "      <td>ba_120824</td>\n",
       "      <td>2015-11-01</td>\n",
       "      <td>5.0</td>\n",
       "      <td>Pale Ales</td>\n",
       "      <td>3.055325</td>\n",
       "      <td>North America</td>\n",
       "    </tr>\n",
       "    <tr>\n",
       "      <th>2</th>\n",
       "      <td>ba_47581</td>\n",
       "      <td>2011-11-01</td>\n",
       "      <td>8.0</td>\n",
       "      <td>Strong Ales</td>\n",
       "      <td>3.995325</td>\n",
       "      <td>North America</td>\n",
       "    </tr>\n",
       "    <tr>\n",
       "      <th>3</th>\n",
       "      <td>ba_93113</td>\n",
       "      <td>2013-05-01</td>\n",
       "      <td>10.5</td>\n",
       "      <td>Strong Ales</td>\n",
       "      <td>3.245325</td>\n",
       "      <td>North America</td>\n",
       "    </tr>\n",
       "    <tr>\n",
       "      <th>4</th>\n",
       "      <td>ba_875</td>\n",
       "      <td>2015-01-01</td>\n",
       "      <td>6.0</td>\n",
       "      <td>Porters</td>\n",
       "      <td>3.305325</td>\n",
       "      <td>North America</td>\n",
       "    </tr>\n",
       "    <tr>\n",
       "      <th>...</th>\n",
       "      <td>...</td>\n",
       "      <td>...</td>\n",
       "      <td>...</td>\n",
       "      <td>...</td>\n",
       "      <td>...</td>\n",
       "      <td>...</td>\n",
       "    </tr>\n",
       "    <tr>\n",
       "      <th>14443345</th>\n",
       "      <td>rb_166447</td>\n",
       "      <td>2014-07-01</td>\n",
       "      <td>5.0</td>\n",
       "      <td>Pale Lagers</td>\n",
       "      <td>2.600000</td>\n",
       "      <td>Europe</td>\n",
       "    </tr>\n",
       "    <tr>\n",
       "      <th>14443346</th>\n",
       "      <td>rb_85893</td>\n",
       "      <td>2008-09-01</td>\n",
       "      <td>4.7</td>\n",
       "      <td>Pale Lagers</td>\n",
       "      <td>0.500000</td>\n",
       "      <td>Europe</td>\n",
       "    </tr>\n",
       "    <tr>\n",
       "      <th>14443347</th>\n",
       "      <td>rb_77389</td>\n",
       "      <td>2008-09-01</td>\n",
       "      <td>4.5</td>\n",
       "      <td>Dark Lagers</td>\n",
       "      <td>3.900000</td>\n",
       "      <td>Europe</td>\n",
       "    </tr>\n",
       "    <tr>\n",
       "      <th>14443348</th>\n",
       "      <td>rb_5423</td>\n",
       "      <td>2008-09-01</td>\n",
       "      <td>4.0</td>\n",
       "      <td>Pale Lagers</td>\n",
       "      <td>2.700000</td>\n",
       "      <td>Europe</td>\n",
       "    </tr>\n",
       "    <tr>\n",
       "      <th>14443349</th>\n",
       "      <td>rb_5423</td>\n",
       "      <td>2007-01-01</td>\n",
       "      <td>4.0</td>\n",
       "      <td>Pale Lagers</td>\n",
       "      <td>0.700000</td>\n",
       "      <td>North America</td>\n",
       "    </tr>\n",
       "  </tbody>\n",
       "</table>\n",
       "<p>14443350 rows × 6 columns</p>\n",
       "</div>"
      ],
      "text/plain": [
       "            beer_id       date   abv        style    rating          eu_na\n",
       "0         ba_142544 2015-08-01   4.5  Pale Lagers  2.375325  North America\n",
       "1         ba_120824 2015-11-01   5.0    Pale Ales  3.055325  North America\n",
       "2          ba_47581 2011-11-01   8.0  Strong Ales  3.995325  North America\n",
       "3          ba_93113 2013-05-01  10.5  Strong Ales  3.245325  North America\n",
       "4            ba_875 2015-01-01   6.0      Porters  3.305325  North America\n",
       "...             ...        ...   ...          ...       ...            ...\n",
       "14443345  rb_166447 2014-07-01   5.0  Pale Lagers  2.600000         Europe\n",
       "14443346   rb_85893 2008-09-01   4.7  Pale Lagers  0.500000         Europe\n",
       "14443347   rb_77389 2008-09-01   4.5  Dark Lagers  3.900000         Europe\n",
       "14443348    rb_5423 2008-09-01   4.0  Pale Lagers  2.700000         Europe\n",
       "14443349    rb_5423 2007-01-01   4.0  Pale Lagers  0.700000  North America\n",
       "\n",
       "[14443350 rows x 6 columns]"
      ]
     },
     "metadata": {},
     "output_type": "display_data"
    },
    {
     "name": "stderr",
     "output_type": "stream",
     "text": [
      "  0%|          | 2/2000 [00:02<43:29,  1.31s/it]\n"
     ]
    },
    {
     "ename": "KeyboardInterrupt",
     "evalue": "",
     "output_type": "error",
     "traceback": [
      "\u001b[1;31m---------------------------------------------------------------------------\u001b[0m",
      "\u001b[1;31mKeyboardInterrupt\u001b[0m                         Traceback (most recent call last)",
      "Cell \u001b[1;32mIn[33], line 53\u001b[0m\n\u001b[0;32m     51\u001b[0m \u001b[38;5;66;03m# print(f\"IDs are '{ba_id}' and '{rb_id}'\")\u001b[39;00m\n\u001b[0;32m     52\u001b[0m reviews_of_european_users \u001b[38;5;241m=\u001b[39m ratings_df\u001b[38;5;241m.\u001b[39mquery(\u001b[38;5;124mf\u001b[39m\u001b[38;5;124m\"\u001b[39m\u001b[38;5;124m(beer_id == @ba_id or beer_id == @rb_id) and eu_na == \u001b[39m\u001b[38;5;124m'\u001b[39m\u001b[38;5;124mNorth America\u001b[39m\u001b[38;5;124m'\u001b[39m\u001b[38;5;124m\"\u001b[39m)\n\u001b[1;32m---> 53\u001b[0m reviews_of_american_users \u001b[38;5;241m=\u001b[39m \u001b[43mratings_df\u001b[49m\u001b[38;5;241;43m.\u001b[39;49m\u001b[43mquery\u001b[49m\u001b[43m(\u001b[49m\u001b[38;5;124;43mf\u001b[39;49m\u001b[38;5;124;43m\"\u001b[39;49m\u001b[38;5;124;43m(beer_id == @ba_id or beer_id == @rb_id) and eu_na == \u001b[39;49m\u001b[38;5;124;43m'\u001b[39;49m\u001b[38;5;124;43mEurope\u001b[39;49m\u001b[38;5;124;43m'\u001b[39;49m\u001b[38;5;124;43m\"\u001b[39;49m\u001b[43m)\u001b[49m\n\u001b[0;32m     54\u001b[0m \u001b[38;5;66;03m# print(f\"Looking at {len(reviews_of_european_users)} european reviews and {len(reviews_of_american_users)} american reviews\")\u001b[39;00m\n\u001b[0;32m     55\u001b[0m min_review_count \u001b[38;5;241m=\u001b[39m \u001b[38;5;28mmin\u001b[39m(\u001b[38;5;28mlen\u001b[39m(reviews_of_american_users), \u001b[38;5;28mlen\u001b[39m(reviews_of_european_users))\n",
      "File \u001b[1;32m~\\AppData\\Local\\Packages\\PythonSoftwareFoundation.Python.3.11_qbz5n2kfra8p0\\LocalCache\\local-packages\\Python311\\site-packages\\pandas\\core\\frame.py:4602\u001b[0m, in \u001b[0;36mDataFrame.query\u001b[1;34m(self, expr, inplace, **kwargs)\u001b[0m\n\u001b[0;32m   4600\u001b[0m kwargs[\u001b[38;5;124m\"\u001b[39m\u001b[38;5;124mlevel\u001b[39m\u001b[38;5;124m\"\u001b[39m] \u001b[38;5;241m=\u001b[39m kwargs\u001b[38;5;241m.\u001b[39mpop(\u001b[38;5;124m\"\u001b[39m\u001b[38;5;124mlevel\u001b[39m\u001b[38;5;124m\"\u001b[39m, \u001b[38;5;241m0\u001b[39m) \u001b[38;5;241m+\u001b[39m \u001b[38;5;241m1\u001b[39m\n\u001b[0;32m   4601\u001b[0m kwargs[\u001b[38;5;124m\"\u001b[39m\u001b[38;5;124mtarget\u001b[39m\u001b[38;5;124m\"\u001b[39m] \u001b[38;5;241m=\u001b[39m \u001b[38;5;28;01mNone\u001b[39;00m\n\u001b[1;32m-> 4602\u001b[0m res \u001b[38;5;241m=\u001b[39m \u001b[38;5;28;43mself\u001b[39;49m\u001b[38;5;241;43m.\u001b[39;49m\u001b[43meval\u001b[49m\u001b[43m(\u001b[49m\u001b[43mexpr\u001b[49m\u001b[43m,\u001b[49m\u001b[43m \u001b[49m\u001b[38;5;241;43m*\u001b[39;49m\u001b[38;5;241;43m*\u001b[39;49m\u001b[43mkwargs\u001b[49m\u001b[43m)\u001b[49m\n\u001b[0;32m   4604\u001b[0m \u001b[38;5;28;01mtry\u001b[39;00m:\n\u001b[0;32m   4605\u001b[0m     result \u001b[38;5;241m=\u001b[39m \u001b[38;5;28mself\u001b[39m\u001b[38;5;241m.\u001b[39mloc[res]\n",
      "File \u001b[1;32m~\\AppData\\Local\\Packages\\PythonSoftwareFoundation.Python.3.11_qbz5n2kfra8p0\\LocalCache\\local-packages\\Python311\\site-packages\\pandas\\core\\frame.py:4728\u001b[0m, in \u001b[0;36mDataFrame.eval\u001b[1;34m(self, expr, inplace, **kwargs)\u001b[0m\n\u001b[0;32m   4725\u001b[0m     kwargs[\u001b[38;5;124m\"\u001b[39m\u001b[38;5;124mtarget\u001b[39m\u001b[38;5;124m\"\u001b[39m] \u001b[38;5;241m=\u001b[39m \u001b[38;5;28mself\u001b[39m\n\u001b[0;32m   4726\u001b[0m kwargs[\u001b[38;5;124m\"\u001b[39m\u001b[38;5;124mresolvers\u001b[39m\u001b[38;5;124m\"\u001b[39m] \u001b[38;5;241m=\u001b[39m \u001b[38;5;28mtuple\u001b[39m(kwargs\u001b[38;5;241m.\u001b[39mget(\u001b[38;5;124m\"\u001b[39m\u001b[38;5;124mresolvers\u001b[39m\u001b[38;5;124m\"\u001b[39m, ())) \u001b[38;5;241m+\u001b[39m resolvers\n\u001b[1;32m-> 4728\u001b[0m \u001b[38;5;28;01mreturn\u001b[39;00m \u001b[43m_eval\u001b[49m\u001b[43m(\u001b[49m\u001b[43mexpr\u001b[49m\u001b[43m,\u001b[49m\u001b[43m \u001b[49m\u001b[43minplace\u001b[49m\u001b[38;5;241;43m=\u001b[39;49m\u001b[43minplace\u001b[49m\u001b[43m,\u001b[49m\u001b[43m \u001b[49m\u001b[38;5;241;43m*\u001b[39;49m\u001b[38;5;241;43m*\u001b[39;49m\u001b[43mkwargs\u001b[49m\u001b[43m)\u001b[49m\n",
      "File \u001b[1;32m~\\AppData\\Local\\Packages\\PythonSoftwareFoundation.Python.3.11_qbz5n2kfra8p0\\LocalCache\\local-packages\\Python311\\site-packages\\pandas\\core\\computation\\eval.py:336\u001b[0m, in \u001b[0;36meval\u001b[1;34m(expr, parser, engine, local_dict, global_dict, resolvers, level, target, inplace)\u001b[0m\n\u001b[0;32m    327\u001b[0m \u001b[38;5;66;03m# get our (possibly passed-in) scope\u001b[39;00m\n\u001b[0;32m    328\u001b[0m env \u001b[38;5;241m=\u001b[39m ensure_scope(\n\u001b[0;32m    329\u001b[0m     level \u001b[38;5;241m+\u001b[39m \u001b[38;5;241m1\u001b[39m,\n\u001b[0;32m    330\u001b[0m     global_dict\u001b[38;5;241m=\u001b[39mglobal_dict,\n\u001b[1;32m   (...)\u001b[0m\n\u001b[0;32m    333\u001b[0m     target\u001b[38;5;241m=\u001b[39mtarget,\n\u001b[0;32m    334\u001b[0m )\n\u001b[1;32m--> 336\u001b[0m parsed_expr \u001b[38;5;241m=\u001b[39m \u001b[43mExpr\u001b[49m\u001b[43m(\u001b[49m\u001b[43mexpr\u001b[49m\u001b[43m,\u001b[49m\u001b[43m \u001b[49m\u001b[43mengine\u001b[49m\u001b[38;5;241;43m=\u001b[39;49m\u001b[43mengine\u001b[49m\u001b[43m,\u001b[49m\u001b[43m \u001b[49m\u001b[43mparser\u001b[49m\u001b[38;5;241;43m=\u001b[39;49m\u001b[43mparser\u001b[49m\u001b[43m,\u001b[49m\u001b[43m \u001b[49m\u001b[43menv\u001b[49m\u001b[38;5;241;43m=\u001b[39;49m\u001b[43menv\u001b[49m\u001b[43m)\u001b[49m\n\u001b[0;32m    338\u001b[0m \u001b[38;5;28;01mif\u001b[39;00m engine \u001b[38;5;241m==\u001b[39m \u001b[38;5;124m\"\u001b[39m\u001b[38;5;124mnumexpr\u001b[39m\u001b[38;5;124m\"\u001b[39m \u001b[38;5;129;01mand\u001b[39;00m (\n\u001b[0;32m    339\u001b[0m     is_extension_array_dtype(parsed_expr\u001b[38;5;241m.\u001b[39mterms\u001b[38;5;241m.\u001b[39mreturn_type)\n\u001b[0;32m    340\u001b[0m     \u001b[38;5;129;01mor\u001b[39;00m \u001b[38;5;28mgetattr\u001b[39m(parsed_expr\u001b[38;5;241m.\u001b[39mterms, \u001b[38;5;124m\"\u001b[39m\u001b[38;5;124moperand_types\u001b[39m\u001b[38;5;124m\"\u001b[39m, \u001b[38;5;28;01mNone\u001b[39;00m) \u001b[38;5;129;01mis\u001b[39;00m \u001b[38;5;129;01mnot\u001b[39;00m \u001b[38;5;28;01mNone\u001b[39;00m\n\u001b[1;32m   (...)\u001b[0m\n\u001b[0;32m    344\u001b[0m     )\n\u001b[0;32m    345\u001b[0m ):\n\u001b[0;32m    346\u001b[0m     warnings\u001b[38;5;241m.\u001b[39mwarn(\n\u001b[0;32m    347\u001b[0m         \u001b[38;5;124m\"\u001b[39m\u001b[38;5;124mEngine has switched to \u001b[39m\u001b[38;5;124m'\u001b[39m\u001b[38;5;124mpython\u001b[39m\u001b[38;5;124m'\u001b[39m\u001b[38;5;124m because numexpr does not support \u001b[39m\u001b[38;5;124m\"\u001b[39m\n\u001b[0;32m    348\u001b[0m         \u001b[38;5;124m\"\u001b[39m\u001b[38;5;124mextension array dtypes. Please set your engine to python manually.\u001b[39m\u001b[38;5;124m\"\u001b[39m,\n\u001b[0;32m    349\u001b[0m         \u001b[38;5;167;01mRuntimeWarning\u001b[39;00m,\n\u001b[0;32m    350\u001b[0m         stacklevel\u001b[38;5;241m=\u001b[39mfind_stack_level(),\n\u001b[0;32m    351\u001b[0m     )\n",
      "File \u001b[1;32m~\\AppData\\Local\\Packages\\PythonSoftwareFoundation.Python.3.11_qbz5n2kfra8p0\\LocalCache\\local-packages\\Python311\\site-packages\\pandas\\core\\computation\\expr.py:808\u001b[0m, in \u001b[0;36mExpr.__init__\u001b[1;34m(self, expr, engine, parser, env, level)\u001b[0m\n\u001b[0;32m    806\u001b[0m \u001b[38;5;28mself\u001b[39m\u001b[38;5;241m.\u001b[39mparser \u001b[38;5;241m=\u001b[39m parser\n\u001b[0;32m    807\u001b[0m \u001b[38;5;28mself\u001b[39m\u001b[38;5;241m.\u001b[39m_visitor \u001b[38;5;241m=\u001b[39m PARSERS[parser](\u001b[38;5;28mself\u001b[39m\u001b[38;5;241m.\u001b[39menv, \u001b[38;5;28mself\u001b[39m\u001b[38;5;241m.\u001b[39mengine, \u001b[38;5;28mself\u001b[39m\u001b[38;5;241m.\u001b[39mparser)\n\u001b[1;32m--> 808\u001b[0m \u001b[38;5;28mself\u001b[39m\u001b[38;5;241m.\u001b[39mterms \u001b[38;5;241m=\u001b[39m \u001b[38;5;28;43mself\u001b[39;49m\u001b[38;5;241;43m.\u001b[39;49m\u001b[43mparse\u001b[49m\u001b[43m(\u001b[49m\u001b[43m)\u001b[49m\n",
      "File \u001b[1;32m~\\AppData\\Local\\Packages\\PythonSoftwareFoundation.Python.3.11_qbz5n2kfra8p0\\LocalCache\\local-packages\\Python311\\site-packages\\pandas\\core\\computation\\expr.py:827\u001b[0m, in \u001b[0;36mExpr.parse\u001b[1;34m(self)\u001b[0m\n\u001b[0;32m    823\u001b[0m \u001b[38;5;28;01mdef\u001b[39;00m \u001b[38;5;21mparse\u001b[39m(\u001b[38;5;28mself\u001b[39m):\n\u001b[0;32m    824\u001b[0m \u001b[38;5;250m    \u001b[39m\u001b[38;5;124;03m\"\"\"\u001b[39;00m\n\u001b[0;32m    825\u001b[0m \u001b[38;5;124;03m    Parse an expression.\u001b[39;00m\n\u001b[0;32m    826\u001b[0m \u001b[38;5;124;03m    \"\"\"\u001b[39;00m\n\u001b[1;32m--> 827\u001b[0m     \u001b[38;5;28;01mreturn\u001b[39;00m \u001b[38;5;28;43mself\u001b[39;49m\u001b[38;5;241;43m.\u001b[39;49m\u001b[43m_visitor\u001b[49m\u001b[38;5;241;43m.\u001b[39;49m\u001b[43mvisit\u001b[49m\u001b[43m(\u001b[49m\u001b[38;5;28;43mself\u001b[39;49m\u001b[38;5;241;43m.\u001b[39;49m\u001b[43mexpr\u001b[49m\u001b[43m)\u001b[49m\n",
      "File \u001b[1;32m~\\AppData\\Local\\Packages\\PythonSoftwareFoundation.Python.3.11_qbz5n2kfra8p0\\LocalCache\\local-packages\\Python311\\site-packages\\pandas\\core\\computation\\expr.py:411\u001b[0m, in \u001b[0;36mBaseExprVisitor.visit\u001b[1;34m(self, node, **kwargs)\u001b[0m\n\u001b[0;32m    409\u001b[0m method \u001b[38;5;241m=\u001b[39m \u001b[38;5;124mf\u001b[39m\u001b[38;5;124m\"\u001b[39m\u001b[38;5;124mvisit_\u001b[39m\u001b[38;5;132;01m{\u001b[39;00m\u001b[38;5;28mtype\u001b[39m(node)\u001b[38;5;241m.\u001b[39m\u001b[38;5;18m__name__\u001b[39m\u001b[38;5;132;01m}\u001b[39;00m\u001b[38;5;124m\"\u001b[39m\n\u001b[0;32m    410\u001b[0m visitor \u001b[38;5;241m=\u001b[39m \u001b[38;5;28mgetattr\u001b[39m(\u001b[38;5;28mself\u001b[39m, method)\n\u001b[1;32m--> 411\u001b[0m \u001b[38;5;28;01mreturn\u001b[39;00m \u001b[43mvisitor\u001b[49m\u001b[43m(\u001b[49m\u001b[43mnode\u001b[49m\u001b[43m,\u001b[49m\u001b[43m \u001b[49m\u001b[38;5;241;43m*\u001b[39;49m\u001b[38;5;241;43m*\u001b[39;49m\u001b[43mkwargs\u001b[49m\u001b[43m)\u001b[49m\n",
      "File \u001b[1;32m~\\AppData\\Local\\Packages\\PythonSoftwareFoundation.Python.3.11_qbz5n2kfra8p0\\LocalCache\\local-packages\\Python311\\site-packages\\pandas\\core\\computation\\expr.py:417\u001b[0m, in \u001b[0;36mBaseExprVisitor.visit_Module\u001b[1;34m(self, node, **kwargs)\u001b[0m\n\u001b[0;32m    415\u001b[0m     \u001b[38;5;28;01mraise\u001b[39;00m \u001b[38;5;167;01mSyntaxError\u001b[39;00m(\u001b[38;5;124m\"\u001b[39m\u001b[38;5;124monly a single expression is allowed\u001b[39m\u001b[38;5;124m\"\u001b[39m)\n\u001b[0;32m    416\u001b[0m expr \u001b[38;5;241m=\u001b[39m node\u001b[38;5;241m.\u001b[39mbody[\u001b[38;5;241m0\u001b[39m]\n\u001b[1;32m--> 417\u001b[0m \u001b[38;5;28;01mreturn\u001b[39;00m \u001b[38;5;28;43mself\u001b[39;49m\u001b[38;5;241;43m.\u001b[39;49m\u001b[43mvisit\u001b[49m\u001b[43m(\u001b[49m\u001b[43mexpr\u001b[49m\u001b[43m,\u001b[49m\u001b[43m \u001b[49m\u001b[38;5;241;43m*\u001b[39;49m\u001b[38;5;241;43m*\u001b[39;49m\u001b[43mkwargs\u001b[49m\u001b[43m)\u001b[49m\n",
      "File \u001b[1;32m~\\AppData\\Local\\Packages\\PythonSoftwareFoundation.Python.3.11_qbz5n2kfra8p0\\LocalCache\\local-packages\\Python311\\site-packages\\pandas\\core\\computation\\expr.py:411\u001b[0m, in \u001b[0;36mBaseExprVisitor.visit\u001b[1;34m(self, node, **kwargs)\u001b[0m\n\u001b[0;32m    409\u001b[0m method \u001b[38;5;241m=\u001b[39m \u001b[38;5;124mf\u001b[39m\u001b[38;5;124m\"\u001b[39m\u001b[38;5;124mvisit_\u001b[39m\u001b[38;5;132;01m{\u001b[39;00m\u001b[38;5;28mtype\u001b[39m(node)\u001b[38;5;241m.\u001b[39m\u001b[38;5;18m__name__\u001b[39m\u001b[38;5;132;01m}\u001b[39;00m\u001b[38;5;124m\"\u001b[39m\n\u001b[0;32m    410\u001b[0m visitor \u001b[38;5;241m=\u001b[39m \u001b[38;5;28mgetattr\u001b[39m(\u001b[38;5;28mself\u001b[39m, method)\n\u001b[1;32m--> 411\u001b[0m \u001b[38;5;28;01mreturn\u001b[39;00m \u001b[43mvisitor\u001b[49m\u001b[43m(\u001b[49m\u001b[43mnode\u001b[49m\u001b[43m,\u001b[49m\u001b[43m \u001b[49m\u001b[38;5;241;43m*\u001b[39;49m\u001b[38;5;241;43m*\u001b[39;49m\u001b[43mkwargs\u001b[49m\u001b[43m)\u001b[49m\n",
      "File \u001b[1;32m~\\AppData\\Local\\Packages\\PythonSoftwareFoundation.Python.3.11_qbz5n2kfra8p0\\LocalCache\\local-packages\\Python311\\site-packages\\pandas\\core\\computation\\expr.py:420\u001b[0m, in \u001b[0;36mBaseExprVisitor.visit_Expr\u001b[1;34m(self, node, **kwargs)\u001b[0m\n\u001b[0;32m    419\u001b[0m \u001b[38;5;28;01mdef\u001b[39;00m \u001b[38;5;21mvisit_Expr\u001b[39m(\u001b[38;5;28mself\u001b[39m, node, \u001b[38;5;241m*\u001b[39m\u001b[38;5;241m*\u001b[39mkwargs):\n\u001b[1;32m--> 420\u001b[0m     \u001b[38;5;28;01mreturn\u001b[39;00m \u001b[38;5;28;43mself\u001b[39;49m\u001b[38;5;241;43m.\u001b[39;49m\u001b[43mvisit\u001b[49m\u001b[43m(\u001b[49m\u001b[43mnode\u001b[49m\u001b[38;5;241;43m.\u001b[39;49m\u001b[43mvalue\u001b[49m\u001b[43m,\u001b[49m\u001b[43m \u001b[49m\u001b[38;5;241;43m*\u001b[39;49m\u001b[38;5;241;43m*\u001b[39;49m\u001b[43mkwargs\u001b[49m\u001b[43m)\u001b[49m\n",
      "File \u001b[1;32m~\\AppData\\Local\\Packages\\PythonSoftwareFoundation.Python.3.11_qbz5n2kfra8p0\\LocalCache\\local-packages\\Python311\\site-packages\\pandas\\core\\computation\\expr.py:411\u001b[0m, in \u001b[0;36mBaseExprVisitor.visit\u001b[1;34m(self, node, **kwargs)\u001b[0m\n\u001b[0;32m    409\u001b[0m method \u001b[38;5;241m=\u001b[39m \u001b[38;5;124mf\u001b[39m\u001b[38;5;124m\"\u001b[39m\u001b[38;5;124mvisit_\u001b[39m\u001b[38;5;132;01m{\u001b[39;00m\u001b[38;5;28mtype\u001b[39m(node)\u001b[38;5;241m.\u001b[39m\u001b[38;5;18m__name__\u001b[39m\u001b[38;5;132;01m}\u001b[39;00m\u001b[38;5;124m\"\u001b[39m\n\u001b[0;32m    410\u001b[0m visitor \u001b[38;5;241m=\u001b[39m \u001b[38;5;28mgetattr\u001b[39m(\u001b[38;5;28mself\u001b[39m, method)\n\u001b[1;32m--> 411\u001b[0m \u001b[38;5;28;01mreturn\u001b[39;00m \u001b[43mvisitor\u001b[49m\u001b[43m(\u001b[49m\u001b[43mnode\u001b[49m\u001b[43m,\u001b[49m\u001b[43m \u001b[49m\u001b[38;5;241;43m*\u001b[39;49m\u001b[38;5;241;43m*\u001b[39;49m\u001b[43mkwargs\u001b[49m\u001b[43m)\u001b[49m\n",
      "File \u001b[1;32m~\\AppData\\Local\\Packages\\PythonSoftwareFoundation.Python.3.11_qbz5n2kfra8p0\\LocalCache\\local-packages\\Python311\\site-packages\\pandas\\core\\computation\\expr.py:745\u001b[0m, in \u001b[0;36mBaseExprVisitor.visit_BoolOp\u001b[1;34m(self, node, **kwargs)\u001b[0m\n\u001b[0;32m    742\u001b[0m     \u001b[38;5;28;01mreturn\u001b[39;00m \u001b[38;5;28mself\u001b[39m\u001b[38;5;241m.\u001b[39m_maybe_evaluate_binop(op, node\u001b[38;5;241m.\u001b[39mop, lhs, rhs)\n\u001b[0;32m    744\u001b[0m operands \u001b[38;5;241m=\u001b[39m node\u001b[38;5;241m.\u001b[39mvalues\n\u001b[1;32m--> 745\u001b[0m \u001b[38;5;28;01mreturn\u001b[39;00m \u001b[43mreduce\u001b[49m\u001b[43m(\u001b[49m\u001b[43mvisitor\u001b[49m\u001b[43m,\u001b[49m\u001b[43m \u001b[49m\u001b[43moperands\u001b[49m\u001b[43m)\u001b[49m\n",
      "File \u001b[1;32m~\\AppData\\Local\\Packages\\PythonSoftwareFoundation.Python.3.11_qbz5n2kfra8p0\\LocalCache\\local-packages\\Python311\\site-packages\\pandas\\core\\computation\\expr.py:739\u001b[0m, in \u001b[0;36mBaseExprVisitor.visit_BoolOp.<locals>.visitor\u001b[1;34m(x, y)\u001b[0m\n\u001b[0;32m    737\u001b[0m \u001b[38;5;28;01mdef\u001b[39;00m \u001b[38;5;21mvisitor\u001b[39m(x, y):\n\u001b[0;32m    738\u001b[0m     lhs \u001b[38;5;241m=\u001b[39m \u001b[38;5;28mself\u001b[39m\u001b[38;5;241m.\u001b[39m_try_visit_binop(x)\n\u001b[1;32m--> 739\u001b[0m     rhs \u001b[38;5;241m=\u001b[39m \u001b[38;5;28;43mself\u001b[39;49m\u001b[38;5;241;43m.\u001b[39;49m\u001b[43m_try_visit_binop\u001b[49m\u001b[43m(\u001b[49m\u001b[43my\u001b[49m\u001b[43m)\u001b[49m\n\u001b[0;32m    741\u001b[0m     op, op_class, lhs, rhs \u001b[38;5;241m=\u001b[39m \u001b[38;5;28mself\u001b[39m\u001b[38;5;241m.\u001b[39m_maybe_transform_eq_ne(node, lhs, rhs)\n\u001b[0;32m    742\u001b[0m     \u001b[38;5;28;01mreturn\u001b[39;00m \u001b[38;5;28mself\u001b[39m\u001b[38;5;241m.\u001b[39m_maybe_evaluate_binop(op, node\u001b[38;5;241m.\u001b[39mop, lhs, rhs)\n",
      "File \u001b[1;32m~\\AppData\\Local\\Packages\\PythonSoftwareFoundation.Python.3.11_qbz5n2kfra8p0\\LocalCache\\local-packages\\Python311\\site-packages\\pandas\\core\\computation\\expr.py:734\u001b[0m, in \u001b[0;36mBaseExprVisitor._try_visit_binop\u001b[1;34m(self, bop)\u001b[0m\n\u001b[0;32m    732\u001b[0m \u001b[38;5;28;01mif\u001b[39;00m \u001b[38;5;28misinstance\u001b[39m(bop, (Op, Term)):\n\u001b[0;32m    733\u001b[0m     \u001b[38;5;28;01mreturn\u001b[39;00m bop\n\u001b[1;32m--> 734\u001b[0m \u001b[38;5;28;01mreturn\u001b[39;00m \u001b[38;5;28;43mself\u001b[39;49m\u001b[38;5;241;43m.\u001b[39;49m\u001b[43mvisit\u001b[49m\u001b[43m(\u001b[49m\u001b[43mbop\u001b[49m\u001b[43m)\u001b[49m\n",
      "File \u001b[1;32m~\\AppData\\Local\\Packages\\PythonSoftwareFoundation.Python.3.11_qbz5n2kfra8p0\\LocalCache\\local-packages\\Python311\\site-packages\\pandas\\core\\computation\\expr.py:411\u001b[0m, in \u001b[0;36mBaseExprVisitor.visit\u001b[1;34m(self, node, **kwargs)\u001b[0m\n\u001b[0;32m    409\u001b[0m method \u001b[38;5;241m=\u001b[39m \u001b[38;5;124mf\u001b[39m\u001b[38;5;124m\"\u001b[39m\u001b[38;5;124mvisit_\u001b[39m\u001b[38;5;132;01m{\u001b[39;00m\u001b[38;5;28mtype\u001b[39m(node)\u001b[38;5;241m.\u001b[39m\u001b[38;5;18m__name__\u001b[39m\u001b[38;5;132;01m}\u001b[39;00m\u001b[38;5;124m\"\u001b[39m\n\u001b[0;32m    410\u001b[0m visitor \u001b[38;5;241m=\u001b[39m \u001b[38;5;28mgetattr\u001b[39m(\u001b[38;5;28mself\u001b[39m, method)\n\u001b[1;32m--> 411\u001b[0m \u001b[38;5;28;01mreturn\u001b[39;00m \u001b[43mvisitor\u001b[49m\u001b[43m(\u001b[49m\u001b[43mnode\u001b[49m\u001b[43m,\u001b[49m\u001b[43m \u001b[49m\u001b[38;5;241;43m*\u001b[39;49m\u001b[38;5;241;43m*\u001b[39;49m\u001b[43mkwargs\u001b[49m\u001b[43m)\u001b[49m\n",
      "File \u001b[1;32m~\\AppData\\Local\\Packages\\PythonSoftwareFoundation.Python.3.11_qbz5n2kfra8p0\\LocalCache\\local-packages\\Python311\\site-packages\\pandas\\core\\computation\\expr.py:718\u001b[0m, in \u001b[0;36mBaseExprVisitor.visit_Compare\u001b[1;34m(self, node, **kwargs)\u001b[0m\n\u001b[0;32m    716\u001b[0m     op \u001b[38;5;241m=\u001b[39m \u001b[38;5;28mself\u001b[39m\u001b[38;5;241m.\u001b[39mtranslate_In(ops[\u001b[38;5;241m0\u001b[39m])\n\u001b[0;32m    717\u001b[0m     binop \u001b[38;5;241m=\u001b[39m ast\u001b[38;5;241m.\u001b[39mBinOp(op\u001b[38;5;241m=\u001b[39mop, left\u001b[38;5;241m=\u001b[39mnode\u001b[38;5;241m.\u001b[39mleft, right\u001b[38;5;241m=\u001b[39mcomps[\u001b[38;5;241m0\u001b[39m])\n\u001b[1;32m--> 718\u001b[0m     \u001b[38;5;28;01mreturn\u001b[39;00m \u001b[38;5;28;43mself\u001b[39;49m\u001b[38;5;241;43m.\u001b[39;49m\u001b[43mvisit\u001b[49m\u001b[43m(\u001b[49m\u001b[43mbinop\u001b[49m\u001b[43m)\u001b[49m\n\u001b[0;32m    720\u001b[0m \u001b[38;5;66;03m# recursive case: we have a chained comparison, a CMP b CMP c, etc.\u001b[39;00m\n\u001b[0;32m    721\u001b[0m left \u001b[38;5;241m=\u001b[39m node\u001b[38;5;241m.\u001b[39mleft\n",
      "File \u001b[1;32m~\\AppData\\Local\\Packages\\PythonSoftwareFoundation.Python.3.11_qbz5n2kfra8p0\\LocalCache\\local-packages\\Python311\\site-packages\\pandas\\core\\computation\\expr.py:411\u001b[0m, in \u001b[0;36mBaseExprVisitor.visit\u001b[1;34m(self, node, **kwargs)\u001b[0m\n\u001b[0;32m    409\u001b[0m method \u001b[38;5;241m=\u001b[39m \u001b[38;5;124mf\u001b[39m\u001b[38;5;124m\"\u001b[39m\u001b[38;5;124mvisit_\u001b[39m\u001b[38;5;132;01m{\u001b[39;00m\u001b[38;5;28mtype\u001b[39m(node)\u001b[38;5;241m.\u001b[39m\u001b[38;5;18m__name__\u001b[39m\u001b[38;5;132;01m}\u001b[39;00m\u001b[38;5;124m\"\u001b[39m\n\u001b[0;32m    410\u001b[0m visitor \u001b[38;5;241m=\u001b[39m \u001b[38;5;28mgetattr\u001b[39m(\u001b[38;5;28mself\u001b[39m, method)\n\u001b[1;32m--> 411\u001b[0m \u001b[38;5;28;01mreturn\u001b[39;00m \u001b[43mvisitor\u001b[49m\u001b[43m(\u001b[49m\u001b[43mnode\u001b[49m\u001b[43m,\u001b[49m\u001b[43m \u001b[49m\u001b[38;5;241;43m*\u001b[39;49m\u001b[38;5;241;43m*\u001b[39;49m\u001b[43mkwargs\u001b[49m\u001b[43m)\u001b[49m\n",
      "File \u001b[1;32m~\\AppData\\Local\\Packages\\PythonSoftwareFoundation.Python.3.11_qbz5n2kfra8p0\\LocalCache\\local-packages\\Python311\\site-packages\\pandas\\core\\computation\\expr.py:533\u001b[0m, in \u001b[0;36mBaseExprVisitor.visit_BinOp\u001b[1;34m(self, node, **kwargs)\u001b[0m\n\u001b[0;32m    531\u001b[0m op, op_class, left, right \u001b[38;5;241m=\u001b[39m \u001b[38;5;28mself\u001b[39m\u001b[38;5;241m.\u001b[39m_maybe_transform_eq_ne(node)\n\u001b[0;32m    532\u001b[0m left, right \u001b[38;5;241m=\u001b[39m \u001b[38;5;28mself\u001b[39m\u001b[38;5;241m.\u001b[39m_maybe_downcast_constants(left, right)\n\u001b[1;32m--> 533\u001b[0m \u001b[38;5;28;01mreturn\u001b[39;00m \u001b[38;5;28;43mself\u001b[39;49m\u001b[38;5;241;43m.\u001b[39;49m\u001b[43m_maybe_evaluate_binop\u001b[49m\u001b[43m(\u001b[49m\u001b[43mop\u001b[49m\u001b[43m,\u001b[49m\u001b[43m \u001b[49m\u001b[43mop_class\u001b[49m\u001b[43m,\u001b[49m\u001b[43m \u001b[49m\u001b[43mleft\u001b[49m\u001b[43m,\u001b[49m\u001b[43m \u001b[49m\u001b[43mright\u001b[49m\u001b[43m)\u001b[49m\n",
      "File \u001b[1;32m~\\AppData\\Local\\Packages\\PythonSoftwareFoundation.Python.3.11_qbz5n2kfra8p0\\LocalCache\\local-packages\\Python311\\site-packages\\pandas\\core\\computation\\expr.py:519\u001b[0m, in \u001b[0;36mBaseExprVisitor._maybe_evaluate_binop\u001b[1;34m(self, op, op_class, lhs, rhs, eval_in_python, maybe_eval_in_python)\u001b[0m\n\u001b[0;32m    515\u001b[0m     \u001b[38;5;28;01mreturn\u001b[39;00m \u001b[38;5;28mself\u001b[39m\u001b[38;5;241m.\u001b[39m_maybe_eval(res, \u001b[38;5;28mself\u001b[39m\u001b[38;5;241m.\u001b[39mbinary_ops)\n\u001b[0;32m    517\u001b[0m \u001b[38;5;28;01mif\u001b[39;00m res\u001b[38;5;241m.\u001b[39mop \u001b[38;5;129;01min\u001b[39;00m eval_in_python:\n\u001b[0;32m    518\u001b[0m     \u001b[38;5;66;03m# \"in\"/\"not in\" ops are always evaluated in python\u001b[39;00m\n\u001b[1;32m--> 519\u001b[0m     \u001b[38;5;28;01mreturn\u001b[39;00m \u001b[38;5;28;43mself\u001b[39;49m\u001b[38;5;241;43m.\u001b[39;49m\u001b[43m_maybe_eval\u001b[49m\u001b[43m(\u001b[49m\u001b[43mres\u001b[49m\u001b[43m,\u001b[49m\u001b[43m \u001b[49m\u001b[43meval_in_python\u001b[49m\u001b[43m)\u001b[49m\n\u001b[0;32m    520\u001b[0m \u001b[38;5;28;01melif\u001b[39;00m \u001b[38;5;28mself\u001b[39m\u001b[38;5;241m.\u001b[39mengine \u001b[38;5;241m!=\u001b[39m \u001b[38;5;124m\"\u001b[39m\u001b[38;5;124mpytables\u001b[39m\u001b[38;5;124m\"\u001b[39m:\n\u001b[0;32m    521\u001b[0m     \u001b[38;5;28;01mif\u001b[39;00m (\n\u001b[0;32m    522\u001b[0m         \u001b[38;5;28mgetattr\u001b[39m(lhs, \u001b[38;5;124m\"\u001b[39m\u001b[38;5;124mreturn_type\u001b[39m\u001b[38;5;124m\"\u001b[39m, \u001b[38;5;28;01mNone\u001b[39;00m) \u001b[38;5;241m==\u001b[39m \u001b[38;5;28mobject\u001b[39m\n\u001b[0;32m    523\u001b[0m         \u001b[38;5;129;01mor\u001b[39;00m \u001b[38;5;28mgetattr\u001b[39m(rhs, \u001b[38;5;124m\"\u001b[39m\u001b[38;5;124mreturn_type\u001b[39m\u001b[38;5;124m\"\u001b[39m, \u001b[38;5;28;01mNone\u001b[39;00m) \u001b[38;5;241m==\u001b[39m \u001b[38;5;28mobject\u001b[39m\n\u001b[0;32m    524\u001b[0m     ):\n\u001b[0;32m    525\u001b[0m         \u001b[38;5;66;03m# evaluate \"==\" and \"!=\" in python if either of our operands\u001b[39;00m\n\u001b[0;32m    526\u001b[0m         \u001b[38;5;66;03m# has an object return type\u001b[39;00m\n",
      "File \u001b[1;32m~\\AppData\\Local\\Packages\\PythonSoftwareFoundation.Python.3.11_qbz5n2kfra8p0\\LocalCache\\local-packages\\Python311\\site-packages\\pandas\\core\\computation\\expr.py:487\u001b[0m, in \u001b[0;36mBaseExprVisitor._maybe_eval\u001b[1;34m(self, binop, eval_in_python)\u001b[0m\n\u001b[0;32m    480\u001b[0m \u001b[38;5;28;01mdef\u001b[39;00m \u001b[38;5;21m_maybe_eval\u001b[39m(\u001b[38;5;28mself\u001b[39m, binop, eval_in_python):\n\u001b[0;32m    481\u001b[0m     \u001b[38;5;66;03m# eval `in` and `not in` (for now) in \"partial\" python space\u001b[39;00m\n\u001b[0;32m    482\u001b[0m     \u001b[38;5;66;03m# things that can be evaluated in \"eval\" space will be turned into\u001b[39;00m\n\u001b[1;32m   (...)\u001b[0m\n\u001b[0;32m    485\u001b[0m     \u001b[38;5;66;03m# in that case a + 2 * b will be evaluated using numexpr, and the \"in\"\u001b[39;00m\n\u001b[0;32m    486\u001b[0m     \u001b[38;5;66;03m# call will be evaluated using isin (in python space)\u001b[39;00m\n\u001b[1;32m--> 487\u001b[0m     \u001b[38;5;28;01mreturn\u001b[39;00m \u001b[43mbinop\u001b[49m\u001b[38;5;241;43m.\u001b[39;49m\u001b[43mevaluate\u001b[49m\u001b[43m(\u001b[49m\n\u001b[0;32m    488\u001b[0m \u001b[43m        \u001b[49m\u001b[38;5;28;43mself\u001b[39;49m\u001b[38;5;241;43m.\u001b[39;49m\u001b[43menv\u001b[49m\u001b[43m,\u001b[49m\u001b[43m \u001b[49m\u001b[38;5;28;43mself\u001b[39;49m\u001b[38;5;241;43m.\u001b[39;49m\u001b[43mengine\u001b[49m\u001b[43m,\u001b[49m\u001b[43m \u001b[49m\u001b[38;5;28;43mself\u001b[39;49m\u001b[38;5;241;43m.\u001b[39;49m\u001b[43mparser\u001b[49m\u001b[43m,\u001b[49m\u001b[43m \u001b[49m\u001b[38;5;28;43mself\u001b[39;49m\u001b[38;5;241;43m.\u001b[39;49m\u001b[43mterm_type\u001b[49m\u001b[43m,\u001b[49m\u001b[43m \u001b[49m\u001b[43meval_in_python\u001b[49m\n\u001b[0;32m    489\u001b[0m \u001b[43m    \u001b[49m\u001b[43m)\u001b[49m\n",
      "File \u001b[1;32m~\\AppData\\Local\\Packages\\PythonSoftwareFoundation.Python.3.11_qbz5n2kfra8p0\\LocalCache\\local-packages\\Python311\\site-packages\\pandas\\core\\computation\\ops.py:430\u001b[0m, in \u001b[0;36mBinOp.evaluate\u001b[1;34m(self, env, engine, parser, term_type, eval_in_python)\u001b[0m\n\u001b[0;32m    413\u001b[0m \u001b[38;5;250m\u001b[39m\u001b[38;5;124;03m\"\"\"\u001b[39;00m\n\u001b[0;32m    414\u001b[0m \u001b[38;5;124;03mEvaluate a binary operation *before* being passed to the engine.\u001b[39;00m\n\u001b[0;32m    415\u001b[0m \n\u001b[1;32m   (...)\u001b[0m\n\u001b[0;32m    427\u001b[0m \u001b[38;5;124;03m    The \"pre-evaluated\" expression as an instance of ``term_type``\u001b[39;00m\n\u001b[0;32m    428\u001b[0m \u001b[38;5;124;03m\"\"\"\u001b[39;00m\n\u001b[0;32m    429\u001b[0m \u001b[38;5;28;01mif\u001b[39;00m engine \u001b[38;5;241m==\u001b[39m \u001b[38;5;124m\"\u001b[39m\u001b[38;5;124mpython\u001b[39m\u001b[38;5;124m\"\u001b[39m:\n\u001b[1;32m--> 430\u001b[0m     res \u001b[38;5;241m=\u001b[39m \u001b[38;5;28;43mself\u001b[39;49m\u001b[43m(\u001b[49m\u001b[43menv\u001b[49m\u001b[43m)\u001b[49m\n\u001b[0;32m    431\u001b[0m \u001b[38;5;28;01melse\u001b[39;00m:\n\u001b[0;32m    432\u001b[0m     \u001b[38;5;66;03m# recurse over the left/right nodes\u001b[39;00m\n\u001b[0;32m    434\u001b[0m     left \u001b[38;5;241m=\u001b[39m \u001b[38;5;28mself\u001b[39m\u001b[38;5;241m.\u001b[39mlhs\u001b[38;5;241m.\u001b[39mevaluate(\n\u001b[0;32m    435\u001b[0m         env,\n\u001b[0;32m    436\u001b[0m         engine\u001b[38;5;241m=\u001b[39mengine,\n\u001b[1;32m   (...)\u001b[0m\n\u001b[0;32m    439\u001b[0m         eval_in_python\u001b[38;5;241m=\u001b[39meval_in_python,\n\u001b[0;32m    440\u001b[0m     )\n",
      "File \u001b[1;32m~\\AppData\\Local\\Packages\\PythonSoftwareFoundation.Python.3.11_qbz5n2kfra8p0\\LocalCache\\local-packages\\Python311\\site-packages\\pandas\\core\\computation\\ops.py:410\u001b[0m, in \u001b[0;36mBinOp.__call__\u001b[1;34m(self, env)\u001b[0m\n\u001b[0;32m    407\u001b[0m left \u001b[38;5;241m=\u001b[39m \u001b[38;5;28mself\u001b[39m\u001b[38;5;241m.\u001b[39mlhs(env)\n\u001b[0;32m    408\u001b[0m right \u001b[38;5;241m=\u001b[39m \u001b[38;5;28mself\u001b[39m\u001b[38;5;241m.\u001b[39mrhs(env)\n\u001b[1;32m--> 410\u001b[0m \u001b[38;5;28;01mreturn\u001b[39;00m \u001b[38;5;28;43mself\u001b[39;49m\u001b[38;5;241;43m.\u001b[39;49m\u001b[43mfunc\u001b[49m\u001b[43m(\u001b[49m\u001b[43mleft\u001b[49m\u001b[43m,\u001b[49m\u001b[43m \u001b[49m\u001b[43mright\u001b[49m\u001b[43m)\u001b[49m\n",
      "File \u001b[1;32m~\\AppData\\Local\\Packages\\PythonSoftwareFoundation.Python.3.11_qbz5n2kfra8p0\\LocalCache\\local-packages\\Python311\\site-packages\\pandas\\core\\computation\\ops.py:268\u001b[0m, in \u001b[0;36m_in\u001b[1;34m(x, y)\u001b[0m\n\u001b[0;32m    263\u001b[0m \u001b[38;5;250m\u001b[39m\u001b[38;5;124;03m\"\"\"\u001b[39;00m\n\u001b[0;32m    264\u001b[0m \u001b[38;5;124;03mCompute the vectorized membership of ``x in y`` if possible, otherwise\u001b[39;00m\n\u001b[0;32m    265\u001b[0m \u001b[38;5;124;03muse Python.\u001b[39;00m\n\u001b[0;32m    266\u001b[0m \u001b[38;5;124;03m\"\"\"\u001b[39;00m\n\u001b[0;32m    267\u001b[0m \u001b[38;5;28;01mtry\u001b[39;00m:\n\u001b[1;32m--> 268\u001b[0m     \u001b[38;5;28;01mreturn\u001b[39;00m \u001b[43mx\u001b[49m\u001b[38;5;241;43m.\u001b[39;49m\u001b[43misin\u001b[49m\u001b[43m(\u001b[49m\u001b[43my\u001b[49m\u001b[43m)\u001b[49m\n\u001b[0;32m    269\u001b[0m \u001b[38;5;28;01mexcept\u001b[39;00m \u001b[38;5;167;01mAttributeError\u001b[39;00m:\n\u001b[0;32m    270\u001b[0m     \u001b[38;5;28;01mif\u001b[39;00m is_list_like(x):\n",
      "File \u001b[1;32m~\\AppData\\Local\\Packages\\PythonSoftwareFoundation.Python.3.11_qbz5n2kfra8p0\\LocalCache\\local-packages\\Python311\\site-packages\\pandas\\core\\series.py:5347\u001b[0m, in \u001b[0;36mSeries.isin\u001b[1;34m(self, values)\u001b[0m\n\u001b[0;32m   5274\u001b[0m \u001b[38;5;250m\u001b[39m\u001b[38;5;124;03m\"\"\"\u001b[39;00m\n\u001b[0;32m   5275\u001b[0m \u001b[38;5;124;03mWhether elements in Series are contained in `values`.\u001b[39;00m\n\u001b[0;32m   5276\u001b[0m \n\u001b[1;32m   (...)\u001b[0m\n\u001b[0;32m   5344\u001b[0m \u001b[38;5;124;03mdtype: bool\u001b[39;00m\n\u001b[0;32m   5345\u001b[0m \u001b[38;5;124;03m\"\"\"\u001b[39;00m\n\u001b[0;32m   5346\u001b[0m result \u001b[38;5;241m=\u001b[39m algorithms\u001b[38;5;241m.\u001b[39misin(\u001b[38;5;28mself\u001b[39m\u001b[38;5;241m.\u001b[39m_values, values)\n\u001b[1;32m-> 5347\u001b[0m \u001b[38;5;28;01mreturn\u001b[39;00m \u001b[38;5;28;43mself\u001b[39;49m\u001b[38;5;241;43m.\u001b[39;49m\u001b[43m_constructor\u001b[49m(result, index\u001b[38;5;241m=\u001b[39m\u001b[38;5;28mself\u001b[39m\u001b[38;5;241m.\u001b[39mindex, copy\u001b[38;5;241m=\u001b[39m\u001b[38;5;28;01mFalse\u001b[39;00m)\u001b[38;5;241m.\u001b[39m__finalize__(\n\u001b[0;32m   5348\u001b[0m     \u001b[38;5;28mself\u001b[39m, method\u001b[38;5;241m=\u001b[39m\u001b[38;5;124m\"\u001b[39m\u001b[38;5;124misin\u001b[39m\u001b[38;5;124m\"\u001b[39m\n\u001b[0;32m   5349\u001b[0m )\n",
      "File \u001b[1;32m~\\AppData\\Local\\Packages\\PythonSoftwareFoundation.Python.3.11_qbz5n2kfra8p0\\LocalCache\\local-packages\\Python311\\site-packages\\pandas\\core\\series.py:577\u001b[0m, in \u001b[0;36mSeries._constructor\u001b[1;34m(self)\u001b[0m\n\u001b[0;32m    573\u001b[0m     \u001b[38;5;28;01mreturn\u001b[39;00m s\u001b[38;5;241m.\u001b[39m_mgr, s\u001b[38;5;241m.\u001b[39mindex\n\u001b[0;32m    575\u001b[0m \u001b[38;5;66;03m# ----------------------------------------------------------------------\u001b[39;00m\n\u001b[1;32m--> 577\u001b[0m \u001b[38;5;129m@property\u001b[39m\n\u001b[0;32m    578\u001b[0m \u001b[38;5;28;01mdef\u001b[39;00m \u001b[38;5;21m_constructor\u001b[39m(\u001b[38;5;28mself\u001b[39m) \u001b[38;5;241m-\u001b[39m\u001b[38;5;241m>\u001b[39m Callable[\u001b[38;5;241m.\u001b[39m\u001b[38;5;241m.\u001b[39m\u001b[38;5;241m.\u001b[39m, Series]:\n\u001b[0;32m    579\u001b[0m     \u001b[38;5;28;01mreturn\u001b[39;00m Series\n\u001b[0;32m    581\u001b[0m \u001b[38;5;28;01mdef\u001b[39;00m \u001b[38;5;21m_constructor_from_mgr\u001b[39m(\u001b[38;5;28mself\u001b[39m, mgr, axes):\n",
      "\u001b[1;31mKeyboardInterrupt\u001b[0m: "
     ]
    }
   ],
   "source": [
    "# Loading breweries to get the country of each beer\n",
    "breweries_ba = pd.read_csv(\"./data/BeerAdvocate/breweries.csv\")[['id', 'name', 'location']]\n",
    "breweries_ba['id'] = add_prefix_to_val(breweries_ba['id'], 'ba_')\n",
    "\n",
    "breweries_rb = pd.read_csv(\"./data/RateBeer/breweries.csv\")[['id', 'name', 'location']]\n",
    "breweries_rb['id'] = add_prefix_to_val(breweries_rb['id'], 'rb_')\n",
    "\n",
    "# Merging breweries infos\n",
    "breweries_df = pd.merge(\n",
    "    left=breweries_ba,\n",
    "    right=breweries_rb,\n",
    "    how='outer',\n",
    "    left_on=['name', 'location'],\n",
    "    right_on=['name', 'location'],\n",
    "    suffixes=('_ba', '_rb')\n",
    ")\n",
    "\n",
    "# Getting the continent of each brewery\n",
    "breweries_df['eu_na'] = breweries_df.apply(get_na_or_eu, axis=1)\n",
    "\n",
    "# Dropping breweries that are not in EU or NA\n",
    "breweries_df = breweries_df.query(\"eu_na != 'Other'\").reset_index(drop=True)\n",
    "\n",
    "# Getting the continent of each beer\n",
    "european_breweries = breweries_df.query(\"eu_na == 'Europe'\").reset_index(drop=True)\n",
    "american_breweries = breweries_df.query(\"eu_na == 'North America'\").reset_index(drop=True)\n",
    "european_beers = beers_df.query(\"(ba_brewery_id in @european_breweries['id_ba']) | (rb_brewery_id in @european_breweries['id_rb'])\").reset_index(drop=True)\n",
    "american_beers = beers_df.query(\"(ba_brewery_id in @american_breweries['id_ba']) | (rb_brewery_id in @american_breweries['id_rb'])\").reset_index(drop=True)\n",
    "reviews_of_european_beers = ratings_df.query(\"(beer_id in @european_beers['ba_beer_id']) | (beer_id in @european_beers['rb_beer_id'])\").reset_index(drop=True)\n",
    "reviews_of_american_beers = ratings_df.query(\"(beer_id in @american_beers['ba_beer_id']) | (beer_id in @american_beers['rb_beer_id'])\").reset_index(drop=True)\n",
    "reviews_of_european_beers['beer_eu_na'] = 'Europe'\n",
    "reviews_of_american_beers['beer_eu_na'] = 'North America'\n",
    "ratings_df_with_beer_continent = pd.concat([reviews_of_european_beers, reviews_of_american_beers])\n",
    "\n",
    "matched_ratings_df =  ratings_df_with_beer_continent \\\n",
    "    .groupby(['beer_id']) \\\n",
    "    .filter(lambda x: 'North America' in x['eu_na'].values and 'Europe' in x['eu_na'].values) \\\n",
    "    .groupby(['beer_id', 'eu_na']) \\\n",
    "    .first() \\\n",
    "    .sort_values(by=['beer_id'])\n",
    "\n",
    "display(matched_ratings_df.head(10))\n",
    "\n",
    "print(len(matched_ratings_df.query(\"eu_na == 'Europe'\")), len(x.query(\"eu_na == 'North America'\")))\n"
   ]
  },
  {
   "cell_type": "markdown",
   "id": "34110a34da1d699",
   "metadata": {
    "collapsed": false
   },
   "source": [
    "### 4.2 Beer styles\n",
    "\n",
    "To try to explain the plots above, let's take a look at the different beer styles and their average ABV, as well as their average ratings.\n",
    "First the average ratings per style:"
   ]
  },
  {
   "cell_type": "code",
   "execution_count": null,
   "id": "999b1d43cbde3ee",
   "metadata": {
    "ExecuteTime": {
     "end_time": "2023-12-20T01:50:22.725163300Z",
     "start_time": "2023-12-20T01:44:44.702114900Z"
    },
    "collapsed": false
   },
   "outputs": [],
   "source": [
    "plt.figure(figsize=(10, 6))\n",
    "ax = sns.barplot(data=ratings_df, x='rating', y='style', hue='eu_na', hue_order=hue_order)\n",
    "\n",
    "ax.get_legend().set_title(None)\n",
    "ax.set(title='Average ratings by beer style', \n",
    "       xlim=(2, 4.5),\n",
    "       xlabel='Average Rating',\n",
    "       ylabel='Beer Style'\n",
    ")\n",
    "ax.legend(loc='upper right')"
   ]
  },
  {
   "cell_type": "markdown",
   "id": "89e653b95a6e4121",
   "metadata": {
    "collapsed": false
   },
   "source": [
    "And now ABV per style:"
   ]
  },
  {
   "cell_type": "code",
   "execution_count": null,
   "id": "3eca6605197ec0dd",
   "metadata": {
    "ExecuteTime": {
     "end_time": "2023-12-20T01:50:29.564996100Z",
     "start_time": "2023-12-20T01:50:22.725163300Z"
    },
    "collapsed": false
   },
   "outputs": [],
   "source": [
    "plt.figure(figsize=(10, 6))\n",
    "ax = sns.barplot(data=beers_df, x='abv', y='style', palette=palette)\n",
    "ax.set(title='Average ABV of each beer style',\n",
    "       xlabel='ABV [%]',\n",
    "       ylabel='Beer Style')\n"
   ]
  },
  {
   "cell_type": "markdown",
   "id": "5e2507dccf9f1c8e",
   "metadata": {
    "collapsed": false
   },
   "source": [
    "#### Observations:\n",
    "We see that some beer styles are significantly stronger than others. If these styles are consumed more frequently on one of the two continents compared to the other, then this could explain some differences in the way ratings are correlated with ABV."
   ]
  },
  {
   "cell_type": "markdown",
   "id": "ab56b296e0739c78",
   "metadata": {
    "collapsed": false
   },
   "source": [
    "Now let's look at the number of ratings per beer style:"
   ]
  },
  {
   "cell_type": "code",
   "execution_count": null,
   "id": "289f2fd0a9fff1e3",
   "metadata": {
    "ExecuteTime": {
     "end_time": "2023-12-20T01:57:31.790130900Z",
     "start_time": "2023-12-20T01:57:03.075365900Z"
    },
    "collapsed": false
   },
   "outputs": [],
   "source": [
    "plt.figure(figsize=(10, 6))\n",
    "ax = sns.countplot(data=ratings_df, y='style', hue='eu_na', hue_order=hue_order)\n",
    "ax.get_legend().set_title(None)\n",
    "ax.legend(loc='upper right')\n",
    "ax.set(title='Number of ratings per beer style',\n",
    "       xlabel='Number of ratings',\n",
    "       ylabel='Beer Style'\n",
    ")"
   ]
  },
  {
   "cell_type": "markdown",
   "id": "e3832bbff5a4f977",
   "metadata": {
    "collapsed": false
   },
   "source": [
    "#### Observations:\n",
    "TODOOOOOO"
   ]
  },
  {
   "cell_type": "markdown",
   "id": "dc595dcedd516f40",
   "metadata": {
    "collapsed": false
   },
   "source": [
    "### 4.3 Evolution over time\n",
    "\n",
    "In the following part, we compare the monthly average ratings of EU and NA users:"
   ]
  },
  {
   "cell_type": "code",
   "execution_count": null,
   "id": "feb048019a649fc6",
   "metadata": {
    "ExecuteTime": {
     "end_time": "2023-12-20T02:02:31.137420600Z",
     "start_time": "2023-12-20T01:59:53.401593700Z"
    },
    "collapsed": false
   },
   "outputs": [],
   "source": [
    "plt.figure(figsize=(10, 6))\n",
    "\n",
    "ax = sns.lineplot(data=ratings_df, x='date', y='rating', hue='eu_na', hue_order=hue_order)\n",
    "ax.set(title='Monthly average ratings of Europeans and North Americans',\n",
    "       xlabel='Date',\n",
    "       ylabel='Average Rating' \n",
    ")"
   ]
  },
  {
   "cell_type": "markdown",
   "id": "6b3012d0d6be7373",
   "metadata": {},
   "source": [
    "#### Observations:\n",
    "TODOOOOO\n"
   ]
  },
  {
   "cell_type": "code",
   "execution_count": null,
   "id": "7d3d42bb366e3b35",
   "metadata": {
    "ExecuteTime": {
     "end_time": "2023-12-20T02:05:12.445833100Z",
     "start_time": "2023-12-20T02:02:31.124924900Z"
    }
   },
   "outputs": [],
   "source": [
    "plt.figure(figsize=(10, 6))\n",
    "\n",
    "ax = sns.lineplot(data=ratings_df, x='date', y='abv', hue='eu_na', hue_order=hue_order)\n",
    "\n",
    "ax.set(xlabel=\"Date\",\n",
    "       ylabel=\"Alcohol by volume [%]\",\n",
    "       title=\"Monthly average of the ratings' ABV between Europeans and North Americans\",\n",
    "       #xlim=(pd.Timestamp('2000-01-01'), pd.Timestamp('2018-01-01')),\n",
    "       ylim=(3.5, 10)\n",
    "       )"
   ]
  },
  {
   "cell_type": "markdown",
   "id": "c27468bcac14319a",
   "metadata": {},
   "source": [
    "### Notes\n",
    "This plot is very interesting, because it indicates a few things:\n",
    "- We see trends for Europe as well as North America that shows increase in ABV over time.\n",
    "- There also seems an aspect of seasonality which looks like ABV has peaks every start of a new year and a low each summer in both continents\n",
    "- North American consumers seem to on average drink stronger beers than Europeans overall\n",
    "- The ABV increases over time, for Northern Americans it increased more initially and started flattening down in mid 2010s\n",
    "- The data seems to be noisier overall in Europe, in North America the seasonality pattern seems quite clear? Initial thoughts on this are that maybe European events such as Oktoberfest and St. Patricksday may actually have a big impact on this seasonality pattern\n",
    "- There is a lot of noise in the first few years, which is why we'll likely remove them later for doing time series analysis\n",
    "\n",
    "We'll use this plot as basis for a more indepth analysis on seasonality and trend. Let's first take a brief look on how ABV time series looks like for all individual beer styles to see if we can already narrow down some details"
   ]
  },
  {
   "cell_type": "code",
   "execution_count": null,
   "id": "9a7e56af36f91fad",
   "metadata": {
    "ExecuteTime": {
     "end_time": "2023-12-20T02:10:21.982867200Z",
     "start_time": "2023-12-20T02:06:29.891154800Z"
    }
   },
   "outputs": [],
   "source": [
    "# plotting ABV by Style for each continent\n",
    "fig, axes = plt.subplots(2, 1, figsize=(16, 20))\n",
    "\n",
    "sns.lineplot(data=ratings_df.query(\"eu_na == 'North America'\"), x='date', y='abv', hue='style',\n",
    "             hue_order=hue_order_styles, ax=axes[0], palette='tab20')\n",
    "sns.lineplot(data=ratings_df.query(\"eu_na == 'Europe'\"), x='date', y='abv', hue='style',\n",
    "             hue_order=hue_order_styles, ax=axes[1], palette='tab20')\n",
    "axes[0].set(xlabel=\"Date\",\n",
    "            ylabel=\"Alcohol by volume [%]\",\n",
    "            title=\"North America\",\n",
    "            xlim=(pd.Timestamp('2000-01-01'), pd.Timestamp('2018-01-01')),\n",
    "            ylim=(2, 14))\n",
    "\n",
    "axes[1].set(xlabel=\"Date\",\n",
    "            ylabel=\"Alcohol by volume [%]\",\n",
    "            title=\"Europe\",\n",
    "            xlim=(pd.Timestamp('2000-01-01'), pd.Timestamp('2018-01-01')),\n",
    "            ylim=(2, 14))"
   ]
  },
  {
   "cell_type": "markdown",
   "id": "414bec75f723e7c",
   "metadata": {
    "collapsed": false
   },
   "source": [
    "#### Observations:\n",
    "When considering all the beer styles within the data, one observes seasonality within some styles such as Specialty beer or Dark ales. It is also apparent that some beer styles such as Stouts increased drastically in average ABV over time. \n",
    "We also notice that some styles seem to differ in ABV on average in both continents."
   ]
  },
  {
   "cell_type": "markdown",
   "id": "713ff45737610c61",
   "metadata": {
    "collapsed": false
   },
   "source": [
    "## Potential issues:\n",
    "- Larger beer styles might not be 100% correct.\n",
    "- BeerAdvocate ratings shifting may not be the most accurate (but seems good enough).\n",
    "- ..."
   ]
  },
  {
   "cell_type": "markdown",
   "id": "79bcbf12",
   "metadata": {},
   "source": [
    "## 5. Seasonality and Trend\n",
    "The main idea of this section is to decompose the time series for each region into seasonality and trend, and take a more in-depth look at the patterns and what might be causing them.\\\n",
    "In a first step we use statsmodels seasonal decomposition function to separate seasonality from trend\n"
   ]
  },
  {
   "cell_type": "code",
   "execution_count": null,
   "id": "15e3c470",
   "metadata": {},
   "outputs": [],
   "source": [
    "import statsmodels.api as sm"
   ]
  },
  {
   "cell_type": "code",
   "execution_count": null,
   "id": "5565b741",
   "metadata": {},
   "outputs": [],
   "source": [
    "# define df's for Europe and North America\n",
    "df_EU = ratings_df[ratings_df['eu_na'] == 'Europe']\n",
    "df_NA = ratings_df[ratings_df['eu_na'] == 'North America']\n",
    "\n",
    "# define a function that groups abv data by the month, removes NaN from abv \n",
    "def abv_by_month(df):\n",
    "    \"\"\"\n",
    "    Groups the dataframe by month and returns a new dataframe with the average abv for each month with date as index\n",
    "\n",
    "    :param df: pandas.Dataframe with a column \"date\" and a column \"abv\".\n",
    "    :return: pandas.Dataframe with column \"abv\" and index date. seasonal decomposition by statsmodels requires a datetime index\n",
    "    \"\"\"\n",
    "    df = df[(df['date'] > '2003-01-01') & (df['date'] < '2017-01-01')] # NOTE: CONSIDER SPECIFYING DATE RANGE\n",
    "    df_new = df[['date','abv']].dropna(subset=['abv']).groupby(pd.Grouper(key='date', freq='M')).mean().sort_values(by='date') \n",
    "    df_new.index = df_new.index.strftime('%Y-%m')\n",
    "    df_new.index = pd.to_datetime(df_new.index)\n",
    "    return df_new\n",
    "\n",
    "# create new df's with abv grouped by month for Europe and North America\n",
    "EU_monthly = abv_by_month(df_EU)\n",
    "NA_monthly = abv_by_month(df_NA)\n",
    "\n",
    "display(EU_monthly)"
   ]
  },
  {
   "cell_type": "code",
   "execution_count": null,
   "id": "bb6090b2",
   "metadata": {},
   "outputs": [],
   "source": [
    "# Decompose the time series into trend, seasonality and residuals\n",
    "res_EU = sm.tsa.seasonal_decompose(EU_monthly['abv'])\n",
    "res_NA = sm.tsa.seasonal_decompose(NA_monthly['abv'])\n",
    "def plotseasonal(res, axes, color, title):\n",
    "    \"\"\"\"\"\n",
    "    Plot the seasonal component of the decomposition manually because res.plot() does not have a subplots option.\n",
    "    :param res: statsmodels.tsa.seasonal.DecomposeResult\n",
    "    :param axes: list of matplotlib.axes.Axes\n",
    "    :param color: color string\n",
    "    :return: None\n",
    "    \"\"\"\"\"\n",
    "    res.observed.plot(ax=axes[0], legend=False, color=color)\n",
    "    axes[0].set_ylabel('Observed')\n",
    "    axes[0].set_title(title, fontsize=14)\n",
    "    res.trend.plot(ax=axes[1], legend=False, color=color)\n",
    "    axes[1].set_ylabel('Trend')\n",
    "    res.seasonal.plot(ax=axes[2], legend=False, color=color)\n",
    "    axes[2].set_ylabel('Seasonal')\n",
    "    res.resid.plot(ax=axes[3], legend=False, color=color)\n",
    "    axes[3].set_ylabel('Residual')\n",
    "\n",
    "fig, axes = plt.subplots(4, 2, sharex=True, figsize=(16, 10))\n",
    "plotseasonal(res_NA, axes[:,0], color='tab:blue', title='North America')\n",
    "plotseasonal(res_EU, axes[:,1], color='tab:orange', title='Europe')\n",
    "\n"
   ]
  },
  {
   "cell_type": "markdown",
   "id": "af5bd796",
   "metadata": {},
   "source": [
    "The decomposition shows:\n",
    "- to a very rough approximation a linearöy increasing trend in both regions, although at around 2014 onwards we face a plateu in the North American trend\n",
    "- Very clear seasonality pattern in North America, in Europe much more noise is involved, also Europe shows a second peak that seems to be located in Spring. What could cause this?\n",
    "- The residuals does not seem to be rid of seasonal variation in total, which motivates us to keep them together with the seasonal pattern when analysing seasonality\n",
    "\n",
    "Let's keep only Trend and seasonality (including residuals) for now:"
   ]
  },
  {
   "cell_type": "code",
   "execution_count": null,
   "id": "46cc7fd1",
   "metadata": {},
   "outputs": [],
   "source": [
    "# convert res to a dataframe for future modifications\n",
    "def res_to_df(res):\n",
    "    \"\"\"\n",
    "    Converts the result of seasonal_decompose to a pandas.Dataframe. We keep the residuals together with seasonality extracted from statsmodels,\n",
    "    since we only want to filter out the trend component. The trend is kept only to display later and not used any further.\n",
    "    \n",
    "    :param res: result of seasonal_decompose.\n",
    "    :return: pandas.Dataframe with columns \"observed\", \"trend\", \"seasonal\" .\n",
    "    \"\"\"\n",
    "    res_df = pd.DataFrame(res.observed)\n",
    "    res_df['trend'] = res.trend\n",
    "    res_df['seasonal'] = res.observed - res.trend\n",
    "    res_df.reset_index(inplace=True)\n",
    "    return res_df.dropna()\n",
    "\n",
    "EU_time = res_to_df(res_EU)\n",
    "NA_time = res_to_df(res_NA)\n",
    "\n",
    "\n",
    "# Plot seasonality and trend for EU and NA\n",
    "fig, axes = plt.subplots(2,1, figsize=(15,7))\n",
    "\n",
    "sns.lineplot(data=EU_time, x='date', y='seasonal', ax=axes[0], label='EU')\n",
    "sns.lineplot(data=NA_time, x='date', y='seasonal', ax=axes[0], label='NA')\n",
    "sns.lineplot(data=EU_time, x='date', y='trend', ax=axes[1])\n",
    "sns.lineplot(data=NA_time, x='date', y='trend', ax=axes[1])\n",
    "axes[0].set(title='Seasonal component of ABV in EU and NA')\n",
    "axes[1].set(title='Trend component of ABV in EU and NA')\n",
    "\n",
    "fig.tight_layout()\n",
    "plt.show()"
   ]
  },
  {
   "cell_type": "markdown",
   "id": "7d53ffe1",
   "metadata": {},
   "source": [
    "When keeping the residuals, the second peak in Europe looks more like a plateau, where North America seems to drop more quickly\n",
    "\n",
    "We will come back at the trend later; For now we keep in mind that:\n",
    "\n",
    "- North America shows a higher intercept than Europe\n",
    "- Both look similar to a linear increase which motivates a linear regression w.r.t. time to investigate intercept, slope and offset between regions."
   ]
  },
  {
   "cell_type": "markdown",
   "id": "0a6ca6b5",
   "metadata": {},
   "source": [
    "### 5.1 Seasonality with Fourier Analysis\n",
    "\n",
    "Especially the seasonal component is of interest. To analyse contributions and phases of this seasonality pattern we use a Fourier Analysis. In a first step we implement a Fourier transform to extract the mode corresponding to annual cycle, which given that the data is in distance of months will correspond to a periodicity of 12 months (after transforming from frequency). Together with the phases and all beer styles we should be able to evaluate which beer style contribute to seasonality and with which phase (= time of the year)"
   ]
  },
  {
   "cell_type": "code",
   "execution_count": null,
   "id": "bbfb3b82",
   "metadata": {},
   "outputs": [],
   "source": [
    "# perform a fourier transform on the seasonal component to find the dominant frequencies\n",
    "import numpy as np\n",
    "from scipy.fft import fft, fftfreq, fftshift\n",
    "\n",
    "def fourier_transform(list_df, names_list):\n",
    "    \"\"\"\n",
    "    Performs a fourier transform on the seasonal component of the dataframe and plots it on a list of df's\n",
    "    :param list_df: list of pandas.Dataframe with a column \"seasonal\".\n",
    "    :param names_list: list of names for the legend\n",
    "    plot normalised fourier transform of the seasonal component with monthly contributions\n",
    "    :return: dict with all created ffts saved as df's as df_name \n",
    "    \"\"\"\n",
    "    # set palette depending on number of df's, we assume using North America / Europe if less than 2 \n",
    "    # and all beer styles if more than 2\n",
    "    if len(list_df) > 2:\n",
    "        palette = sns.color_palette(\"tab20\")\n",
    "    else:\n",
    "        palette = sns.color_palette(\"tab10\")\n",
    "    fft_dict = {} # initialise dict to save all fft's\n",
    "    fig, ax = plt.subplots(figsize=(12,6))\n",
    "    for val, df in enumerate(list_df):\n",
    "        series = df['seasonal']\n",
    "        N = len(series)\n",
    "        T = 1 / 12\n",
    "        yf = np.abs(fft(series.to_numpy())) # perform fft\n",
    "        xf = fftfreq(N, T) # get and transform frequencies to periods of months\n",
    "        xf = fftshift(xf) # shift 0 to center of axis\n",
    "        index = np.where(xf >= 0) # only take positive frequencies\n",
    "\n",
    "        # convert to monthly contributions, shift by 1 (0 -> 1 because 0 frequency has no meaning here) \n",
    "        # and multiply by 2 to account for the negative frequencies\n",
    "        xf =  (xf[index] + 1) * 2 \n",
    "        yf =  yf[index]\n",
    "        # normalise w.r.t. the peak to weaken those with lot of noise throughout the year \n",
    "        # -> highlight those that mainly peak once per year for filtering later\n",
    "        yf_norm = yf / np.sum(yf)\n",
    "        fft_df = pd.DataFrame({'fft': yf, 'time': xf, 'fft_norm': yf_norm}) # add FT and time as df to dict\n",
    "        fft_dict[f\"df_{names_list[val]}\"] = fft_df\n",
    "\n",
    "        sns.lineplot(data=fft_df, x='time', y='fft', label=names_list[val], color=palette[val], ax=ax)\n",
    "    ax.set(xlabel='periods [months]', \n",
    "            ylabel='Amplitude',\n",
    "            title='Fourier transform of the seasonal component of ABV')\n",
    "    if len(list_df) > 2:\n",
    "        ax.legend(loc='center left', bbox_to_anchor=(1, 0.5))\n",
    "    return fft_dict\n",
    "\n",
    "# test function on\n",
    "fft_dict = fourier_transform([NA_time, EU_time],['North America', 'Europe'])"
   ]
  },
  {
   "cell_type": "markdown",
   "id": "68c48b6e",
   "metadata": {},
   "source": [
    "- The main mode is as expected at 12 months, which corresponds to annual seasonality, which is our key mode of interest for seasonality\n",
    "- Additional modes contribute to the shaping of the oscillations\n",
    "- Due to normalisation of the FFT, NA has a much higher peak than Europe due to less noise\n",
    "- Some shaping coefficients are seen at every 2month interval, as they can be seen in the purely seasonal data as well\n",
    "- The other contributions are basically noise (residual contribution)"
   ]
  },
  {
   "cell_type": "markdown",
   "id": "477a6aa2",
   "metadata": {},
   "source": [
    "#### In the following part we repeat this procedure, but for every beer style to recognise seasonality contribution of each style"
   ]
  },
  {
   "cell_type": "code",
   "execution_count": null,
   "id": "2d42763d",
   "metadata": {},
   "outputs": [],
   "source": [
    "df_dict_EU = {} # store all dfs in a dictionary to access them later for the FFT \n",
    "df_dict_NA = {}\n",
    "names_list = [] # store style names in a list for FFT function\n",
    "\n",
    "# repeat the whole process we previously did for EU/NA until FT for every beer style\n",
    "phase_EU = []\n",
    "phase_NA = []\n",
    "for style in hue_order_styles: # recall hue_order_styles is an ordered list of all beer styles\n",
    "\n",
    "    # Create dataframe for each style\n",
    "    df1 = df_EU[df_EU['style'] == style]\n",
    "    df2 = df_NA[df_NA['style'] == style]\n",
    "\n",
    "    # month averaging\n",
    "    df1_monthly = abv_by_month(df1)\n",
    "    df2_monthly = abv_by_month(df2)\n",
    "\n",
    "    # seasonal decomposition\n",
    "    df1_monthly = df1_monthly.fillna(method='ffill') # fill missing values with previous month to avoid error\n",
    "    df2_monthly = df2_monthly.fillna(method='ffill')\n",
    "    res_df1 = sm.tsa.seasonal_decompose(df1_monthly['abv'])\n",
    "    res_df2 = sm.tsa.seasonal_decompose(df2_monthly['abv'])\n",
    "\n",
    "    # extract phase by simply taking the month of the maximum of the seasonal component\n",
    "    indx_1 = res_df1.seasonal.idxmax()\n",
    "    phase_EU.append(indx_1.strftime('%B')) # add month as string to list\n",
    "    indx_2 = res_df2.seasonal.idxmax()\n",
    "    phase_NA.append(indx_2.strftime('%B'))\n",
    "    \n",
    "    # convert res to df\n",
    "    df1_time = res_to_df(res_df1)\n",
    "    df2_time = res_to_df(res_df2)\n",
    "\n",
    "    # Store DataFrames in the dictionary\n",
    "    df_dict_EU[f\"df_EU_{style}\"] = df1_time\n",
    "    df_dict_NA[f\"df_NA_{style}\"] = df2_time\n",
    "\n",
    "    names_list.append(style)\n",
    "# extract the dfs from the dictionary and put them in a list\n",
    "df_list_EU = [df_dict_EU[f\"df_EU_{style}\"] for style in hue_order_styles]\n",
    "df_list_NA = [df_dict_NA[f\"df_NA_{style}\"] for style in hue_order_styles]"
   ]
  },
  {
   "cell_type": "markdown",
   "id": "08433b11",
   "metadata": {},
   "source": [
    "#### Now we can plot the Fourier transform for all beer styles"
   ]
  },
  {
   "cell_type": "code",
   "execution_count": null,
   "id": "70ea6fc1",
   "metadata": {},
   "outputs": [],
   "source": [
    "fft_dict_EU = fourier_transform(df_list_EU, names_list)"
   ]
  },
  {
   "cell_type": "code",
   "execution_count": null,
   "id": "5804f6df",
   "metadata": {},
   "outputs": [],
   "source": [
    "fft_dict_NA = fourier_transform(df_list_NA, names_list)"
   ]
  },
  {
   "cell_type": "markdown",
   "id": "4e218096",
   "metadata": {},
   "source": [
    "#### Observations:\n",
    "- EU data is overall much noisier, which we already expected in the initial seasonality plot, this leads (since we normalised to 1) to reduced peaks, which does not matter here, but this normalisation allows to filter the very noisy data out that does not have a main peak in a yearly cycle\n",
    "- We clearly see that only few styles contribute to seasonality, hence this motivates to filter those styles that do not show significant differences at 12 months period\n",
    "- Interestingly, there are beers like e.g. Dark Lagers that show some mode at 10 months but not (or only marginal) at 12 months.\n",
    "\n",
    "It makes sense to filter out all beer styles that do not seem to contribute to annual periodicity in a next step:"
   ]
  },
  {
   "cell_type": "code",
   "execution_count": null,
   "id": "e55b5a66",
   "metadata": {},
   "outputs": [],
   "source": [
    "# filter dicts for styles with specified threshold in the 12-month cycle period to \n",
    "# manually filter out styles with no significant peak at 12 months\n",
    "def filter_dict(fft_dict, threshold):\n",
    "    \"\"\"\n",
    "    Filters the dictionary of ffts for styles with a maximum fft around the 12-month cycle value above a threshold.\n",
    "    \n",
    "    :param fft_dict: dict with ffts.\n",
    "    :param threshold: float, minimum threshold for the maximum fft value.\n",
    "    :return: dict with ffts and list of index of the styles with a maximum fft above the threshold to track phase and color for each style\n",
    "    \"\"\"\n",
    "    filtered_dict = {}\n",
    "    index = [] # index for colors and phases\n",
    "    keys_list = list(fft_dict.keys())\n",
    "    for key, df in fft_dict.items():\n",
    "        if df[(df['time'] > 11.7) & (df['time'] < 12.3)]['fft_norm'].max() > threshold: # manual testing showed [11.7, 12.3] to be decent\n",
    "            filtered_dict[key] = df\n",
    "            index.append(keys_list.index(key))\n",
    "\n",
    "    return filtered_dict, index\n",
    "\n",
    "# NOTE: The threshold values were chosen by looking at the plots and finding the lowest max such that the peaks \n",
    "# of all styles considered are around the 12 month cycle. The thresholds are based on the normalised FT, since we want to\n",
    "# consider relative peaks at 12 month compared to other modes / noise\n",
    "fft_dict_EU_filtered, colors_EU = filter_dict(fft_dict_EU, 0.035)\n",
    "fft_dict_NA_filtered, colors_NA = filter_dict(fft_dict_NA, 0.045) "
   ]
  },
  {
   "cell_type": "code",
   "execution_count": null,
   "id": "8311a85e",
   "metadata": {},
   "outputs": [],
   "source": [
    "# plot the filtered dicts\n",
    "fig, axes = plt.subplots(2,1, figsize=(14,9))\n",
    "for val, (key, df) in enumerate(fft_dict_EU_filtered.items()):\n",
    "    sns.lineplot(data=df, x='time', y='fft_norm', label=key[3:], ax=axes[0], color=palette[colors_EU[val]])\n",
    "axes[0].set(xlabel='Contribution per monthly cycle', \n",
    "            ylabel='Amplitude',\n",
    "            title='normalised Fourier transform of filtered style components of ABV in EU')\n",
    "axes[0].legend(loc='center left', bbox_to_anchor=(1, 0.5))\n",
    "for val, (key, df) in enumerate(fft_dict_NA_filtered.items()):\n",
    "    sns.lineplot(data=df, x='time', y='fft_norm', label=key[3:], ax=axes[1], color=palette[colors_NA[val]])\n",
    "axes[1].set(xlabel='Contribution per monthly cycle', \n",
    "            ylabel='Amplitude',\n",
    "            title='normalised Fourier transform of filtered style components of ABV in NA')\n",
    "axes[1].legend(loc='center left', bbox_to_anchor=(1, 0.5))\n",
    "plt.tight_layout()\n",
    "plt.show()"
   ]
  },
  {
   "cell_type": "markdown",
   "id": "1973db04",
   "metadata": {},
   "source": [
    "The FT-plots look much cleaner already now that only significant contributors to annual periodicity remain:\n",
    "- We still see some additional modes, that we do not further investigate here (because we are mainly interested in annual cycle), notably in Northern America with Dark Lagers at 8-, and 10-month cycles.\n",
    "- There seem to be more beers in NA with significant seasonality than EU\n",
    "- Considering the normalised FT values allowed us to consider e.g. Pale Lagers as well, even though the amplitude is small at 12 months, it stands out significantly compared to any other mode due to very low noise in the data\n",
    "\n",
    "In a next step we want to properly summarise and display our findings, also combining the phase information as well. We start by creating new df's that contain all fft datapoints of all styles for Europe and North America"
   ]
  },
  {
   "cell_type": "code",
   "execution_count": null,
   "id": "ed2ab4c2",
   "metadata": {},
   "outputs": [],
   "source": [
    "# create a new dataframe that contains fft_dict['EU'] 'fft' and 'time' as well as all df's stored in df_dict_EU\n",
    "fft_df_EU = fft_dict['df_Europe']\n",
    "fft_df_EU = fft_df_EU[['time', 'fft']]\n",
    "fft_df_EU = fft_df_EU.rename(columns={'fft': 'fft_tot'})\n",
    "\n",
    "# we merge closest on time in case the time index is not exactly the same for all df's\n",
    "for key, df in fft_dict_EU_filtered.items():\n",
    "        fft_df_EU = pd.merge_asof(fft_df_EU, fft_dict_EU[key][['time','fft']], on='time')\n",
    "        fft_df_EU = fft_df_EU.rename(columns={'fft': f'{key[3:]}'}) # keep only beer style name, remove EU_ / NA_ prefix -> 3:\n",
    "\n",
    "# repeat for NA\n",
    "fft_df_NA = fft_dict['df_North America']\n",
    "fft_df_NA = fft_df_NA[['time', 'fft']]\n",
    "fft_df_NA = fft_df_NA.rename(columns={'fft': 'fft_tot'})\n",
    "\n",
    "for key, df in fft_dict_NA_filtered.items():\n",
    "        fft_df_NA = pd.merge_asof(fft_df_NA, fft_dict_NA[key][['time','fft']], on='time')\n",
    "        fft_df_NA = fft_df_NA.rename(columns={'fft': f'{key[3:]}'})\n",
    "\n",
    "# only keep values betweeen 11.5 and 12.5\n",
    "display(fft_df_NA)"
   ]
  },
  {
   "cell_type": "markdown",
   "id": "05f35e59",
   "metadata": {},
   "source": [
    "We further transform to a new df to only keep important information for each beer style; Namely the value and position of the normalised maximum peak, the phase, the corresponding color "
   ]
  },
  {
   "cell_type": "code",
   "execution_count": null,
   "id": "ac563a59",
   "metadata": {},
   "outputs": [],
   "source": [
    "# take max and index of the max of each column and plot them as scatter, under constraint that the peak is in a neighborhood of 12 months -> seasonality component\n",
    "fft_df_EU = fft_df_EU[(fft_df_EU['time'] > 11.7) & (fft_df_EU['time'] < 12.3)]\n",
    "fft_df_NA = fft_df_NA[(fft_df_NA['time'] > 11.7) & (fft_df_NA['time'] < 12.3)]\n",
    "\n",
    "# create new df that contains the peak for each style -> index is to keep track of where each max comes from -> 65 corresponds to 12 exact months cycles\n",
    "max_df_EU = pd.DataFrame({'max': fft_df_EU.iloc[:, 2:].max(), 'index': fft_df_EU.iloc[:, 2:].idxmax()})\n",
    "max_df_NA = pd.DataFrame({'max': fft_df_NA.iloc[:, 2:].max(), 'index': fft_df_NA.iloc[:, 2:].idxmax()})\n",
    "\n",
    "# link the colors to styles by saving them as column\n",
    "cols_EU = [palette[x] for x in colors_EU]\n",
    "max_df_EU['color'] = cols_EU # to maintain same colors for each style\n",
    "phases_EU = [phase_EU[x] for x in colors_EU] #  colors_EU contains index of corresponding style only \n",
    "max_df_EU['phase'] = phases_EU \n",
    "\n",
    "cols_NA = [palette[x] for x in colors_NA]\n",
    "max_df_NA['color'] = cols_NA \n",
    "phases_NA = [phase_NA[x] for x in colors_NA]\n",
    "max_df_NA['phase'] = phases_NA\n",
    "\n",
    "# reset index and sort\n",
    "max_df_EU = max_df_EU.reset_index().rename(columns={'level_0': 'style'})\n",
    "max_df_NA = max_df_NA.reset_index().rename(columns={'level_0': 'style'})\n",
    "\n",
    "# additionally consider the weighting from amount of reviews\n",
    "# get number of reviews per style\n",
    "count_EU = df_EU.groupby('style')['abv'].count().reset_index()\n",
    "count_NA = df_NA.groupby('style')['abv'].count().reset_index()\n",
    "\n",
    "count_EU = count_EU.rename(columns={'abv': 'count'})\n",
    "count_NA = count_NA.rename(columns={'abv': 'count'})\n",
    "\n",
    "# merge with max_df to get the number of reviews for each style\n",
    "max_df_EU = max_df_EU.merge(count_EU, on='style')\n",
    "max_df_NA = max_df_NA.merge(count_NA, on='style')\n",
    "\n",
    "# yields weight factor by normalising the number of reviews vs. total count\n",
    "#NOTE: If we only normalise w.r.t. the styles we use here we do not accurately represent for the distribution of reviews\n",
    "max_df_EU['weight'] = max_df_EU['count'] / count_EU['count'].sum()\n",
    "max_df_NA['weight'] = max_df_NA['count'] / count_NA['count'].sum()\n",
    "\n",
    "# save normalised max w.r.t. to all styles to get fractional contribution to seasonality\n",
    "max_df_EU['normalized_max'] = max_df_EU['max'] * max_df_EU['weight']\n",
    "max_df_NA['normalized_max'] = max_df_NA['max'] * max_df_NA['weight']\n",
    "\n",
    "# normalise the peaks to 1 in total, assuming we have +/- all styles that contribute to seasonality\n",
    "max_df_EU['normalized_max'] /= max_df_EU['normalized_max'].sum()\n",
    "max_df_NA['normalized_max'] /= max_df_NA['normalized_max'].sum()\n",
    "\n",
    "# sort by normalised max\n",
    "max_df_EU = max_df_EU.sort_values(by='normalized_max', ascending=False)\n",
    "max_df_NA = max_df_NA.sort_values(by='normalized_max', ascending=False)\n",
    "\n",
    "display(max_df_EU)"
   ]
  },
  {
   "cell_type": "code",
   "execution_count": null,
   "id": "aea1eacd",
   "metadata": {},
   "outputs": [],
   "source": [
    "# plot the max values as barplot\n",
    "fig, ax = plt.subplots(2,1, figsize=(12,6))\n",
    "sns.barplot(data=max_df_EU, y='style', x='normalized_max', ax=ax[0], palette=max_df_EU['color'])\n",
    "ax[0].set(xlabel='normalised frequency peak at 12 months period', ylabel='Styles', \n",
    "        title='contribution of the dominant frequency to the seasonal component of ABV in EU')\n",
    "sns.barplot(data=max_df_NA, y='style', x='normalized_max', ax=ax[1], palette=max_df_NA['color'])\n",
    "ax[1].set(xlabel='normalised frequency peak at 12 months period', ylabel='Styles', \n",
    "        title='contribution of the dominant frequency to the seasonal component of ABV in NA')\n",
    "\n",
    "plt.legend(loc='center left', bbox_to_anchor=(1, 0.5))\n",
    "plt.tight_layout()\n",
    "plt.show()"
   ]
  },
  {
   "cell_type": "markdown",
   "id": "3fc6af59",
   "metadata": {},
   "source": [
    "This is already quite interesting - note though that we did the approximation that only the here considered beer styles contribute to seasonality at all (which is reasonable though when we consider the peaks below the chosen threshold as residual noise)!\n",
    "\n",
    "- Specialty beer contributes the most to seasonality, due to it's huge seasonal effect\n",
    "- Beers such as IPA show remarkable contribution to seasonality in North America, even though they do not show a very high seasonal mode, but the huge weight due to its popularity (reflected in # of reviews) even a marginal seasonality can contribute a lot to the total (we observe similar effectsin Pale Lagers f.e.)\n",
    "- We observe that it's similar styles contribute to seasonality in EU and NA, even though fewer in EU overall\n",
    "- Also it's not the same order of contribution in EU and NA, wheat beers or Hybrids contribute much more in EU than in NA for example\n",
    "An important factor is missing here: The phase. We do not see yet which contribution peaks in ABV at what time of year!\n",
    "\n",
    "To present the final result of seasonality, we intend to use plotly to summarise all findings in one plot. A few steps are needed to achieve this:\n",
    "\n",
    "- colors have to be transformed to hexadecimal code to be recognised by plotly with ease\n",
    "- If we sort by contribution, the biggest contributors will be displayed as outermost bar for better readability\n",
    "- The peak values should be normalised w.r.t it's total sum, such that the bars display a fraction of the total seasonality contribution, which makes different contributions much more intuitive"
   ]
  },
  {
   "cell_type": "code",
   "execution_count": null,
   "id": "1250236f",
   "metadata": {},
   "outputs": [],
   "source": [
    "# Define a function to convert RGB to HEX\n",
    "def rgb_to_hex(rgb):\n",
    "    # Scale and convert float values to integers\n",
    "    scaled_rgb = tuple(int(value * 255) for value in rgb)\n",
    "    \n",
    "    # Format as hexadecimal color code\n",
    "    hex_value = \"#{:02X}{:02X}{:02X}\".format(*scaled_rgb)\n",
    "    \n",
    "    return hex_value\n",
    "\n",
    "# Apply the function to create a new 'hex_color' column\n",
    "max_df_EU['hex_color'] = max_df_EU['color'].apply(rgb_to_hex)\n",
    "max_df_NA['hex_color'] = max_df_NA['color'].apply(rgb_to_hex)\n",
    "\n",
    "display(max_df_EU)"
   ]
  },
  {
   "cell_type": "code",
   "execution_count": null,
   "id": "4dd2a423",
   "metadata": {},
   "outputs": [],
   "source": [
    "import plotly.graph_objects as go\n",
    "from plotly.subplots import make_subplots\n",
    "\n",
    "# Create a dictionary to map month names to corresponding angles\n",
    "month_angles = {\n",
    "    'January': 60,\n",
    "    'February': 30,\n",
    "    'March': 0,\n",
    "    'April': 330,\n",
    "    'May': 300,\n",
    "    'June': 270,\n",
    "    'July': 240,\n",
    "    'August': 210,\n",
    "    'September': 180,\n",
    "    'October': 150,\n",
    "    'November': 120,\n",
    "    'December': 90\n",
    "}\n",
    "\n",
    "# Create traces for EU and NA for each style\n",
    "traces_EU = []\n",
    "for val, style in enumerate(max_df_EU['style']):\n",
    "    trace = go.Barpolar(\n",
    "        r=max_df_EU[max_df_EU['style'] == style]['normalized_max'],\n",
    "        theta=[month_angles[month] for month in max_df_EU[max_df_EU['style'] == style]['phase']], \n",
    "        text=max_df_EU[max_df_EU['style'] == style]['style'],\n",
    "        name=style,\n",
    "        marker_color=max_df_EU[max_df_EU['style'] == style]['hex_color'], \n",
    "        marker_line_color=\"white\",\n",
    "        marker_line_width=1.3,\n",
    "        opacity=0.8,\n",
    "        legendgroup=style, # group styles together in legend for both subplots to link the legend with both subplots for interaction\n",
    "        showlegend=False, # only show legend for NA, since it covers all styles in EU as well\n",
    "        width=30-val # reduce the width slightly per iteration to narrow it down a bit for the stacked bars\n",
    "    )\n",
    "    traces_EU.append(trace)\n",
    "\n",
    "traces_NA = []\n",
    "for val, style in enumerate(max_df_NA['style']):\n",
    "    trace = go.Barpolar(\n",
    "        r=max_df_NA[max_df_NA['style'] == style]['normalized_max'],\n",
    "        theta=[month_angles[month] for month in max_df_NA[max_df_NA['style'] == style]['phase']],\n",
    "        text=max_df_NA[max_df_NA['style'] == style]['style'],\n",
    "        name=style,\n",
    "        marker_color=max_df_NA[max_df_NA['style'] == style]['hex_color'],\n",
    "        marker_line_color=\"white\",\n",
    "        marker_line_width=1.3,\n",
    "        opacity=0.8,\n",
    "        legendgroup=style,\n",
    "        width=30-val\n",
    "    )\n",
    "    traces_NA.append(trace)\n",
    "\n",
    "# create two subplots for EU and NA using make_subplots\n",
    "fig = make_subplots(\n",
    "    rows=1, cols=2,\n",
    "    specs=[[{\"type\": \"polar\"}, {\"type\": \"polar\"}]]\n",
    ")\n",
    "for trace in traces_EU:\n",
    "    fig.add_trace(trace, row=1, col=1)\n",
    "for trace in traces_NA:\n",
    "    fig.add_trace(trace, row=1, col=2)\n",
    "\n",
    "# Update layout for EU and NA\n",
    "fig.update_layout(\n",
    "    template='plotly_dark',\n",
    "    polar1=dict(\n",
    "        radialaxis=dict(range=[0, max_df_EU[max_df_EU['phase'] == 'December'].sum()], tick0=0, dtick=0.1, tickangle=270, angle=270, \n",
    "                        tickformat='.0%', hoverformat='.2%'), \n",
    "        # NOTE: tick format for better readability, hover format for higher accuracy when hovering over the bars, also tick in -y direction to not obscure any bars\n",
    "        angularaxis=dict(showticklabels=True, ticks='outside', tickvals=list(month_angles.values()), ticktext=list(month_angles.keys()))\n",
    "    ),\n",
    "    polar2=dict(\n",
    "        radialaxis=dict(range=[0, max_df_NA[max_df_NA['phase'] == 'December'].sum()], tick0=0, dtick=0.1, tickangle=270, angle=270, \n",
    "                        tickformat='.0%', hoverformat='.2%'),\n",
    "        angularaxis=dict(showticklabels=True, ticks='outside', tickvals=list(month_angles.values()), ticktext=list(month_angles.keys()))\n",
    "    ),\n",
    "    # subplot titles unsuited for this, because of spacing issue due to printing the months outside the plot\n",
    "    title_text='Peak saisonality contribution [in %] in ABV of beer styles in EU (left) and NA (right)', \n",
    "    barmode='stack', # stacked barplot \n",
    "    legend_title=\"Beer Styles\",\n",
    "    legend_tracegroupgap=0 # minimise gap between legend entries which is by default increased due to grouping\n",
    ")\n",
    "\n",
    "fig.show()"
   ]
  },
  {
   "cell_type": "markdown",
   "id": "06aed602",
   "metadata": {},
   "source": [
    "Now we have the seasonality summarised in those two plots:\n",
    "\n",
    "- $\\approx$ 80% of the seasonal contribution in North America are peaking in the winter months (Dec.-Feb.), in the EU it's only around 65%. As we see, North America in most years has a higher winterly peak than Europe and does not flatten down as quickly as Europe, since we multiple styles contributing to higher ABV until February\n",
    "- We observe the effect of Octoberfest! Each year in October we see a peak contribution from Dark Lagers, which contain typical Octoberfest beers such as Märzen. This however is hardly visible in the annual pattern because we're in transition from lower summer ABV towards higher Winter, and the contribution is only $\\approx 5$%\n",
    "- Europe has a second peak in May, where we see sort of a second small peaking or sort of a Plateau that we do not observe in North America. This seems to be due to Porters and Strong Ales contributing $\\approx$ 28% of EU's seasonality, whereas this effect is marginal in North America with 13% from stouts in May and Porters in June\n",
    "- It seems this is the main culprit that acounts for the quite different seasonality pattern in Europe"
   ]
  },
  {
   "cell_type": "markdown",
   "id": "3231c8ab",
   "metadata": {},
   "source": [
    "To recall the initial seasonality we plot it once more here and highlight the off-peak contributions from Porters (EU only) and Dark Lagers\n"
   ]
  },
  {
   "cell_type": "code",
   "execution_count": null,
   "id": "95b5880c",
   "metadata": {},
   "outputs": [],
   "source": [
    "# Reuse the plot at the beginning of the chapter but add lines in May and October due to the observed peaks\n",
    "may_list = [pd.Timestamp(year=2003, month=5, day=1) + pd.DateOffset(years=x) for x in range(0, 14)]\n",
    "oct_list = [pd.Timestamp(year=2003, month=10, day=1) + pd.DateOffset(years=x) for x in range(0, 14)]\n",
    "fig, ax = plt.subplots(figsize=(10,4))\n",
    "sns.lineplot(data=EU_time, x='date', y='seasonal', ax=ax, label='Europe')\n",
    "sns.lineplot(data=NA_time, x='date', y='seasonal', ax=ax, label='North America')\n",
    "ax.set(title='Seasonality of EU and NA with May and October highlighted')\n",
    "for oct in oct_list:\n",
    "    if oct == oct_list[0]:\n",
    "        ax.axvline(x=oct, color=max_df_NA.query(\"style =='Dark Lagers'\").color.iloc[0], linestyle='--', alpha=0.4, label='October')\n",
    "    else:\n",
    "        ax.axvline(x=oct, color=max_df_EU.query(\"style =='Dark Lagers'\").color.iloc[0], linestyle='--', alpha=0.4)\n",
    "for may in may_list:\n",
    "    if may == may_list[0]:\n",
    "        ax.axvline(x=may, color=max_df_NA.query(\"style =='Porters'\").color.iloc[0], linestyle='--', alpha=0.4, label='May')\n",
    "    else:\n",
    "        ax.axvline(x=may, color=max_df_EU.query(\"style =='Porters'\").color.iloc[0], linestyle='--', alpha=0.4)\n",
    "\n",
    "plt.legend(loc='lower left')\n",
    "plt.tight_layout()\n",
    "plt.show()"
   ]
  },
  {
   "cell_type": "markdown",
   "id": "7f753375",
   "metadata": {},
   "source": [
    "To show again:\n",
    "- EU shows a clear plateau each May\n",
    "- Octoberfest is barely noticeable here\n",
    "- North America often holds the peak value longer, due to styles peaking their contribution in February as well"
   ]
  },
  {
   "cell_type": "markdown",
   "id": "6c66c984",
   "metadata": {},
   "source": [
    "## 5.2 Trend Analysis with regression\n",
    "- We infer if the trends between EU and NA are significantly different\n",
    "- We infer whose style contributions are significant for determining the trend using probably linear-mixed effects model"
   ]
  },
  {
   "cell_type": "code",
   "execution_count": null,
   "id": "805357f7",
   "metadata": {},
   "outputs": [],
   "source": [
    "# create trend_dfs for EU and NA \n",
    "def create_trends_df(df_dict):\n",
    "    df_trend = pd.DataFrame(list(df_dict_EU.values())[0].date)\n",
    "    for key, df in df_dict.items():\n",
    "            df_trend[key[6:]] = df.trend\n",
    "    return df_trend\n",
    "\n",
    "trend_EU = create_trends_df(df_dict_EU)\n",
    "trend_NA = create_trends_df(df_dict_NA)\n",
    "\n",
    "# add the total trend \n",
    "trend_EU['EU_tot'] = EU_time.trend\n",
    "trend_NA['NA_tot'] = NA_time.trend"
   ]
  },
  {
   "cell_type": "code",
   "execution_count": null,
   "id": "9a2e99f1",
   "metadata": {},
   "outputs": [],
   "source": [
    "# test significance of EU and NA trend time series\n",
    "\n",
    "df_monthly = abv_by_month(ratings_df)\n",
    "df_tot_res = sm.tsa.seasonal_decompose(df_monthly['abv'])\n",
    "df_tot = res_to_df(df_tot_res)\n",
    "display(df_tot)"
   ]
  },
  {
   "cell_type": "markdown",
   "id": "2e3f4bd2",
   "metadata": {},
   "source": [
    "To recall the initial Trend we observed at the beginning of the chapter:\n",
    "\n",
    "- The Trendline seems not too far off of a linear increase, even though we face a sort of plateau effect, we aim to model a linear fit to our data with time as covariate"
   ]
  },
  {
   "cell_type": "code",
   "execution_count": null,
   "id": "95072eb7",
   "metadata": {},
   "outputs": [],
   "source": [
    "from statsmodels import api as sm\n",
    "from statsmodels.iolib.summary2 import summary_col\n",
    "\n",
    "# create copys and reset date index\n",
    "EU_trend = EU_monthly.copy()\n",
    "NA_trend = NA_monthly.copy()\n",
    "\n",
    "EU_trend.reset_index(inplace=True)\n",
    "NA_trend.reset_index(inplace=True)\n",
    "\n",
    "# Use count of months since the first data point that we consider for the time series\n",
    "reference_date = pd.Timestamp('2003-02-01')\n",
    "EU_trend['months'] = ((EU_trend['date'] - reference_date) / np.timedelta64(1, 'M')).astype(int)\n",
    "NA_trend['months'] = ((NA_trend['date'] - reference_date) / np.timedelta64(1, 'M')).astype(int)\n",
    "\n",
    "\n",
    "# Linear regression for EU and NA based on time\n",
    "X_EU = sm.add_constant(EU_trend['months'])\n",
    "X_NA = sm.add_constant(NA_trend['months'])\n",
    "y_EU = EU_trend['abv']\n",
    "y_NA = NA_trend['abv']\n",
    "\n",
    "model_EU = sm.OLS(y_EU, X_EU)\n",
    "model_NA = sm.OLS(y_NA, X_NA)\n",
    "\n",
    "results_EU = model_EU.fit()\n",
    "results_NA = model_NA.fit()\n",
    "\n",
    "offset_initial = results_NA.params.const - results_EU.params.const\n",
    "offset_recent = results_NA.params.const + (results_NA.params.months * 165) - results_EU.params.const - (results_EU.params.months * 165)\n",
    "\n",
    "print(summary_col([results_EU, results_NA], stars=True, float_format='%0.4f', model_names=['EU', 'NA']))\n",
    "print('----------------------------------')\n",
    "print(f'Duration over {int(max(EU_trend[\"months\"]))} months')\n",
    "print(f'initial offset ({reference_date}) is {offset_initial:.2f}')\n",
    "print(f'predicted offset after 165 months (13 years and 9 months) is {offset_recent:.2f}')\n",
    "print(f'actual offset after 165 months (13 years and 9 months) is {NA_trend[\"abv\"].iloc[-1] - EU_trend[\"abv\"].iloc[-1]:.2f}')"
   ]
  },
  {
   "cell_type": "markdown",
   "id": "0afd80f0",
   "metadata": {},
   "source": [
    "We observe the following from this:\n",
    "- There is a statistically significant increasing trend in abv over the years in both regions as shown by the low p-values (p<.01)\n",
    "The linear model explains $\\approx 0.75$ of the trend for North America and $\\approx 79$, which justifies a linear approximation, although one has to be cautious that it's not too accurate still, it is better for Europe though, since here the increase remains more or less the same with fluctuations\n",
    "- We observe an average increase of $+0.09$% ABV per year in Northern America and \n",
    " $+0.064$% in Europe based on the monthly averaged abv's. This is remarkable considering that we see a plateauing in the Northern American trend since 2014!\n",
    "- The prediction is $\\approx$ 10% off, which is remarkable, considering that the trend for North America is not linear all the way through\n",
    "\n",
    "Let's plot the regression to visualize the errors:"
   ]
  },
  {
   "cell_type": "code",
   "execution_count": null,
   "id": "4a9772ed",
   "metadata": {},
   "outputs": [],
   "source": [
    "fig, ax = plt.subplots(figsize=(10, 6))\n",
    "sns.regplot(data=NA_trend, x='months', y='abv', ax=ax, label='North America', color='tab:blue')\n",
    "sns.regplot(data=EU_trend, x='months', y='abv', ax=ax, label='Europe', color='tab:orange')\n",
    "ax.set(title='Linear regression of ABV over time', xlabel='Months since 2003-02-01', ylabel='ABV [%]')\n",
    "\n",
    "plt.legend()\n",
    "plt.tight_layout()\n",
    "plt.show()"
   ]
  },
  {
   "cell_type": "markdown",
   "id": "399522ab",
   "metadata": {},
   "source": [
    "When considering monthly averaged abv we can clearly distinguish North America and Europe!\n",
    "- Even though there is noise, the linear approximation is justified"
   ]
  },
  {
   "cell_type": "markdown",
   "id": "1a6efc56",
   "metadata": {},
   "source": [
    "## Not sure if we should keep those below"
   ]
  },
  {
   "cell_type": "code",
   "execution_count": null,
   "id": "61796bd9",
   "metadata": {},
   "outputs": [],
   "source": [
    "trends_df = ratings_df.copy()\n",
    "trends_df['months'] = ((trends_df['date'] - reference_date) / np.timedelta64(1, 'M')).astype(int)\n",
    "# set Europe to 1 and North America to 0\n",
    "trends_df['Europe'] = trends_df['eu_na'].apply(lambda x: 1 if x == 'Europe' else 0)\n",
    "\n",
    "trends_df.dropna(subset=['abv'], inplace=True)\n",
    "trends_df.drop(columns=['date', 'eu_na', 'beer_id'], inplace=True)\n",
    "\n",
    "# one hot encode style\n",
    "trends_df = pd.get_dummies(trends_df, columns=['style'])\n",
    "\n",
    "display(trends_df)"
   ]
  },
  {
   "cell_type": "code",
   "execution_count": null,
   "id": "8d232dc0",
   "metadata": {},
   "outputs": [],
   "source": [
    "res1 = sm.Logit(trends_df['Europe'], trends_df[['abv', 'months']]).fit()\n",
    "print(res1.summary())"
   ]
  },
  {
   "cell_type": "code",
   "execution_count": null,
   "id": "4f55d169",
   "metadata": {},
   "outputs": [],
   "source": [
    "X = trends_df.drop(columns=['Europe'])\n",
    "res2 = sm.Logit(trends_df['Europe'], X).fit()\n",
    "res2.summary()"
   ]
  },
  {
   "cell_type": "markdown",
   "id": "3e4b04bd",
   "metadata": {},
   "source": []
  },
  {
   "cell_type": "code",
   "execution_count": null,
   "id": "9235fdee",
   "metadata": {},
   "outputs": [],
   "source": [
    "res2.summary()"
   ]
  },
  {
   "cell_type": "markdown",
   "id": "8b331abc",
   "metadata": {},
   "source": [
    "Could be interesting, since we see that beers like Hybrids and Strong Ales are high indicators for EU -> more famous in EU, in opposition the same with Dark Ales in NA"
   ]
  }
 ],
 "metadata": {
  "kernelspec": {
   "display_name": "Python 3",
   "language": "python",
   "name": "python3"
  },
  "language_info": {
   "codemirror_mode": {
    "name": "ipython",
    "version": 3
   },
   "file_extension": ".py",
   "mimetype": "text/x-python",
   "name": "python",
   "nbconvert_exporter": "python",
   "pygments_lexer": "ipython3",
   "version": "3.11.7"
  }
 },
 "nbformat": 4,
 "nbformat_minor": 5
}
