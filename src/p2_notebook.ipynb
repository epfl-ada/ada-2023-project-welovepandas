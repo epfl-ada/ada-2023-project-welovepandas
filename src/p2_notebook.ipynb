{
 "cells": [
  {
   "cell_type": "markdown",
   "source": [
    "# Project Milestone 2 Notebook\n",
    "## Evolution of beer preferences between 2001 and 2017.\n",
    "## Have beer style preferences evolved similarly across different cultures and countries?\n",
    "### Sub Questions:\n",
    "- Have Americans faced the same preference evolution as Europeans?\n",
    "- What are the major trends in beer preferences over the last 17 years?\n",
    "- How have sensory attributes (appearance, aroma, palate) of beers influenced user ratings and preferences over time?\n",
    "- Can we see an evolution linked to the ABV?"
   ],
   "metadata": {
    "collapsed": false
   },
   "id": "c633bbc9eed26334"
  },
  {
   "cell_type": "code",
   "execution_count": null,
   "outputs": [],
   "source": [],
   "metadata": {
    "collapsed": false
   },
   "id": "fc3b162f756d2ae9"
  }
 ],
 "metadata": {
  "kernelspec": {
   "display_name": "Python 3",
   "language": "python",
   "name": "python3"
  },
  "language_info": {
   "codemirror_mode": {
    "name": "ipython",
    "version": 2
   },
   "file_extension": ".py",
   "mimetype": "text/x-python",
   "name": "python",
   "nbconvert_exporter": "python",
   "pygments_lexer": "ipython2",
   "version": "2.7.6"
  }
 },
 "nbformat": 4,
 "nbformat_minor": 5
}
